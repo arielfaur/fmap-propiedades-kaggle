{
  "nbformat": 4,
  "nbformat_minor": 0,
  "metadata": {
    "orig_nbformat": 2,
    "kernelspec": {
      "name": "python3",
      "display_name": "Python 3"
    },
    "colab": {
      "name": "precio_propiedades_regresion.ipynb",
      "provenance": []
    },
    "accelerator": "TPU"
  },
  "cells": [
    {
      "cell_type": "code",
      "metadata": {
        "id": "RRt0_GO3J38z",
        "colab_type": "code",
        "colab": {
          "base_uri": "https://localhost:8080/",
          "height": 34
        },
        "outputId": "2d0c4d75-d1d8-4d92-d300-0f2741174e57"
      },
      "source": [
        "!pip install -q git+https://github.com/tensorflow/docs"
      ],
      "execution_count": 17,
      "outputs": [
        {
          "output_type": "stream",
          "text": [
            "  Building wheel for tensorflow-docs (setup.py) ... \u001b[?25l\u001b[?25hdone\n"
          ],
          "name": "stdout"
        }
      ]
    },
    {
      "cell_type": "code",
      "metadata": {
        "id": "_alVaAe-c4fo",
        "colab_type": "code",
        "colab": {
          "base_uri": "https://localhost:8080/",
          "height": 34
        },
        "outputId": "8e842d86-767d-424c-ceef-316b74b07a81"
      },
      "source": [
        "import tensorflow as tf\n",
        "print(tf.__version__)"
      ],
      "execution_count": 2,
      "outputs": [
        {
          "output_type": "stream",
          "text": [
            "2.4.0-dev20200725\n"
          ],
          "name": "stdout"
        }
      ]
    },
    {
      "cell_type": "code",
      "metadata": {
        "id": "R72C2qvtj8fJ",
        "colab_type": "code",
        "tags": [],
        "colab": {}
      },
      "source": [
        "import sys\n",
        "import pandas as pd \n",
        "import numpy as np\n",
        "import matplotlib.pyplot as plt \n",
        "import seaborn as sns \n",
        "import tensorflow_docs as tfdocs\n",
        "import tensorflow_docs.plots\n",
        "import tensorflow_docs.modeling\n",
        "# %matplotlib inline\n",
        "\n",
        "from urllib.parse import urljoin\n",
        "from sklearn.feature_extraction.text import CountVectorizer\n",
        "from sklearn.pipeline import make_pipeline, Pipeline\n",
        "from sklearn.preprocessing import StandardScaler, OneHotEncoder\n",
        "from sklearn.compose import ColumnTransformer, make_column_transformer, TransformedTargetRegressor\n",
        "from sklearn.impute import SimpleImputer, KNNImputer\n",
        "\n",
        "from sklearn.ensemble import RandomForestRegressor, GradientBoostingRegressor, VotingRegressor\n",
        "from sklearn.linear_model import LinearRegression\n",
        "from sklearn.svm import SVR\n",
        "from sklearn.model_selection import GridSearchCV, cross_validate, cross_val_score, cross_val_predict, KFold, train_test_split\n",
        "# from sklearn.decomposition import PCA\n",
        "\n",
        "from tensorflow import keras\n",
        "from tensorflow.keras import layers\n",
        "\n",
        "IS_COLAB = 'google.colab' in sys.modules\n",
        "\n",
        "# palabras a buscar en columna descripción\n",
        "text_mining_keywords = ['cochera', 'sum', 'parrilla', 'pileta']\n",
        "\n",
        "# url repositorio\n",
        "github_repo_url = 'https://github.com/arielfaur/prediccion-precio-propiedades-fmap-2020/raw/master/'\n",
        "base_url = github_repo_url if IS_COLAB else ''\n",
        "\n",
        "## Buscar palabras clave en texto descripción y vectorizar resultados en columnas binarias\n",
        "def vectorize_descripcion(df: pd.DataFrame):\n",
        "    descripcion = df['descripcion']\n",
        "    descripcion[descripcion.isna()] = ''\n",
        "\n",
        "    \n",
        "    # entrenamos el modelo para buscar las keywords\n",
        "    vectorizer = CountVectorizer(binary=True)  \n",
        "    vectorizer.fit(text_mining_keywords)\n",
        "\n",
        "    # hot encoding de los resultados\n",
        "    df_countvectorizer = vectorizer.transform(descripcion)\n",
        "\n",
        "    desc = pd.DataFrame(df_countvectorizer.toarray())\n",
        "    desc.columns = text_mining_keywords\n",
        "    \n",
        "    df.drop(['descripcion'], axis=1, inplace=True)\n",
        "    return(pd.concat([df, desc], axis=1))\n",
        "    \n",
        "\n",
        "## Preprocesamiento - Eliminar algunas variables del modelo\n",
        "def preprocessing(df: pd.DataFrame):\n",
        "    # guardar los id\n",
        "    ids = df['id']\n",
        "\n",
        "    # eliminar columnas innecesarias del modelo\n",
        "    df.drop(['id', 'pub_inicio', 'pub_fin', 'pub_creada', 'subbarrio', 'titulo'],axis=1, inplace=True)\n",
        "\n",
        "    df = vectorize_descripcion(df)\n",
        "\n",
        "    return ids, df\n",
        "\n",
        "\n",
        "## Partir el set de datos y la variable target\n",
        "def split_data(df: pd.DataFrame, test_size = 0.05):\n",
        "    y = df['precio']\n",
        "    X = df.drop(['precio'], axis=1)\n",
        "\n",
        "    X_train, X_test, y_train, y_test = train_test_split(X, y, test_size = test_size, random_state=5)\n",
        "    return X_train, X_test, y_train, y_test\n",
        "\n",
        "## Obtener un subconjunto de los datos de entrenamiento para Grid Search\n",
        "def get_sample(X: pd.DataFrame, y: pd.DataFrame, sample_size = 0.1):\n",
        "    size = round(len(X)*sample_size)\n",
        "    \n",
        "    idx = np.arange(0, len(X))\n",
        "    rand_idx = np.random.choice(idx, size, replace=False)\n",
        "    \n",
        "    X_sample = X.iloc[rand_idx]\n",
        "    y_sample = y.iloc[rand_idx]\n",
        "    return X_sample, y_sample\n",
        "\n",
        "## Crear pipeline preprocesamiento de los features: imputación, estandarización, one-hot encoding\n",
        "def make_transformer_pipeline():\n",
        "    numeric_features = ['lat', 'lon', 'habitaciones', 'dormitorios', 'banios',\n",
        "       'sup_total', 'sup_cubierta', 'cochera', 'sum', 'parrilla',\n",
        "       'pileta']\n",
        "    numeric_transformer = make_pipeline( \n",
        "        SimpleImputer(missing_values = np.nan, strategy='mean'),\n",
        "        StandardScaler(),\n",
        "    )\n",
        "\n",
        "    categorical_features = ['barrio']\n",
        "    categorical_transformer = make_pipeline(\n",
        "        SimpleImputer(strategy='constant', fill_value='missing'),\n",
        "        #SimpleImputer(strategy=\"most_frequent\"),\n",
        "        #KNNImputer(n_neighbors=3, weights=\"uniform\"),     # KNNImputer tarda una eternidad...\n",
        "        OneHotEncoder(handle_unknown='ignore')\n",
        "    )\n",
        "\n",
        "    return make_column_transformer(\n",
        "        (numeric_transformer, numeric_features),\n",
        "        (categorical_transformer, categorical_features)\n",
        "    )    \n",
        "\n",
        "## Crear modelo RandomForestRegressor\n",
        "def create_train_rfr_model():\n",
        "    transformer = make_transformer_pipeline()\n",
        "\n",
        "    pipeline = Pipeline([\n",
        "        ('preprocessing', transformer),\n",
        "        ('model', TransformedTargetRegressor(RandomForestRegressor(random_state=5), transformer=StandardScaler()))\n",
        "    ])\n",
        "    return pipeline\n",
        "\n",
        "## Crear modelo SVR\n",
        "def create_train_svr_model():\n",
        "    transformer = make_transformer_pipeline()\n",
        "    \n",
        "    pipeline = Pipeline([\n",
        "        ('preprocessing', transformer),\n",
        "        ('model', TransformedTargetRegressor(SVR(cache_size=1000), transformer=StandardScaler()))\n",
        "    ])\n",
        "    return pipeline\n",
        "\n",
        "## Crear modelo LinearRegression\n",
        "def create_train_lr_model():\n",
        "    transformer = make_transformer_pipeline()\n",
        "    lr = LinearRegression()\n",
        "\n",
        "    pipeline = make_pipeline(transformer, lr)\n",
        "    model = TransformedTargetRegressor(regressor=pipeline, transformer=StandardScaler())\n",
        "\n",
        "    return model    \n",
        "\n",
        "## Crear modelo red neuronal Keras\n",
        "def build_keras_model(input_dim):\n",
        "    # crear modelo\n",
        "    # model = Sequential()\n",
        "    # model.add(Dense(64, kernel_initializer='normal', activation='relu'))\n",
        "    # model.add(Dense(1, kernel_initializer='normal'))\n",
        "\n",
        "    model = keras.Sequential()\n",
        "    model.add(layers.Dense(64, activation='relu', input_dim=input_dim))\n",
        "    model.add(layers.Dense(64, activation='relu'))\n",
        "    model.add(layers.Dense(1))\n",
        "\n",
        "    # optimizer = tf.keras.optimizers.RMSprop(0.001)\n",
        "\n",
        "    # compilar modelo\n",
        "    model.compile(loss='mean_squared_error', optimizer='adam', metrics=['mae', 'mse'])\n",
        "    return model\n",
        "\n",
        "## Pipeline preprocesamiento para red neuronal\n",
        "def create_keras_pipeline():\n",
        "    transformer = make_transformer_pipeline()\n",
        "    pipeline = Pipeline([\n",
        "        ('preprocessing', transformer)\n",
        "    ])\n",
        "    return pipeline\n",
        "    \n",
        "## Graficar predicción vs real\n",
        "def plot_test_predictions(y_test, y_pred):\n",
        "    # graficar predicciones contra datos actuales\n",
        "    plt.figure(figsize = (18,10))\n",
        "    plot_k = sns.scatterplot(y_test, y_pred)\n",
        "    plot_k.set(xlabel='Precio test', ylabel='Precio predicción')\n",
        "    # graficar la identidad\n",
        "    x_plot = np.linspace(0,np.max(y_test),1000)\n",
        "    y_plot = x_plot\n",
        "    plt.plot(x_plot, y_plot, color='r')\n",
        "\n"
      ],
      "execution_count": 62,
      "outputs": []
    },
    {
      "cell_type": "code",
      "metadata": {
        "id": "MVytEtsH5bKF",
        "colab_type": "code",
        "colab": {
          "base_uri": "https://localhost:8080/",
          "height": 547
        },
        "outputId": "3c9eebe2-e6a3-416d-dd43-210cdcf4e0fd"
      },
      "source": [
        "df_train = pd.read_excel(urljoin(base_url, 'propiedades_entrenamiento.xlsx'))\n",
        "df_train.head()"
      ],
      "execution_count": 63,
      "outputs": [
        {
          "output_type": "execute_result",
          "data": {
            "text/html": [
              "<div>\n",
              "<style scoped>\n",
              "    .dataframe tbody tr th:only-of-type {\n",
              "        vertical-align: middle;\n",
              "    }\n",
              "\n",
              "    .dataframe tbody tr th {\n",
              "        vertical-align: top;\n",
              "    }\n",
              "\n",
              "    .dataframe thead th {\n",
              "        text-align: right;\n",
              "    }\n",
              "</style>\n",
              "<table border=\"1\" class=\"dataframe\">\n",
              "  <thead>\n",
              "    <tr style=\"text-align: right;\">\n",
              "      <th></th>\n",
              "      <th>id</th>\n",
              "      <th>pub_inicio</th>\n",
              "      <th>pub_fin</th>\n",
              "      <th>pub_creada</th>\n",
              "      <th>lat</th>\n",
              "      <th>lon</th>\n",
              "      <th>barrio</th>\n",
              "      <th>subbarrio</th>\n",
              "      <th>habitaciones</th>\n",
              "      <th>dormitorios</th>\n",
              "      <th>banios</th>\n",
              "      <th>sup_total</th>\n",
              "      <th>sup_cubierta</th>\n",
              "      <th>titulo</th>\n",
              "      <th>descripcion</th>\n",
              "      <th>precio</th>\n",
              "    </tr>\n",
              "  </thead>\n",
              "  <tbody>\n",
              "    <tr>\n",
              "      <th>0</th>\n",
              "      <td>1</td>\n",
              "      <td>2019-11-20</td>\n",
              "      <td>9999-12-31</td>\n",
              "      <td>2019-11-20</td>\n",
              "      <td>-34.606891</td>\n",
              "      <td>-58.409890</td>\n",
              "      <td>Almagro</td>\n",
              "      <td>NaN</td>\n",
              "      <td>3.0</td>\n",
              "      <td>NaN</td>\n",
              "      <td>2.0</td>\n",
              "      <td>108.0</td>\n",
              "      <td>108.0</td>\n",
              "      <td>PISO EN VENTA 3 AMB C/ ESC. Y DEP. EN ALMAGRO</td>\n",
              "      <td>Piso en Venta 3 ambientes c/ Escritorio y Depe...</td>\n",
              "      <td>150000</td>\n",
              "    </tr>\n",
              "    <tr>\n",
              "      <th>1</th>\n",
              "      <td>3</td>\n",
              "      <td>2019-11-19</td>\n",
              "      <td>2020-02-22</td>\n",
              "      <td>2019-11-19</td>\n",
              "      <td>-34.604912</td>\n",
              "      <td>-58.417065</td>\n",
              "      <td>Almagro</td>\n",
              "      <td>NaN</td>\n",
              "      <td>3.0</td>\n",
              "      <td>1.0</td>\n",
              "      <td>2.0</td>\n",
              "      <td>72.0</td>\n",
              "      <td>63.0</td>\n",
              "      <td>Venta Departamento en Almagro Capital Federal ...</td>\n",
              "      <td>Departamento en Venta, 3 AMBIENTES + COCHERA E...</td>\n",
              "      <td>144000</td>\n",
              "    </tr>\n",
              "    <tr>\n",
              "      <th>2</th>\n",
              "      <td>4</td>\n",
              "      <td>2019-05-21</td>\n",
              "      <td>2019-07-03</td>\n",
              "      <td>2019-05-21</td>\n",
              "      <td>-34.600886</td>\n",
              "      <td>-58.431204</td>\n",
              "      <td>Villa Crespo</td>\n",
              "      <td>NaN</td>\n",
              "      <td>3.0</td>\n",
              "      <td>2.0</td>\n",
              "      <td>1.0</td>\n",
              "      <td>57.0</td>\n",
              "      <td>57.0</td>\n",
              "      <td>DEPARTAMENTO EN VENTA</td>\n",
              "      <td>Xintel (GOP-GOP-8943) Venta de Departamento 3 ...</td>\n",
              "      <td>145000</td>\n",
              "    </tr>\n",
              "    <tr>\n",
              "      <th>3</th>\n",
              "      <td>5</td>\n",
              "      <td>2019-05-21</td>\n",
              "      <td>2020-05-22</td>\n",
              "      <td>2019-05-21</td>\n",
              "      <td>-34.628760</td>\n",
              "      <td>-58.453224</td>\n",
              "      <td>Flores</td>\n",
              "      <td>NaN</td>\n",
              "      <td>4.0</td>\n",
              "      <td>3.0</td>\n",
              "      <td>3.0</td>\n",
              "      <td>128.0</td>\n",
              "      <td>117.0</td>\n",
              "      <td>DEPARTAMENTO EN VENTA</td>\n",
              "      <td>Xintel (AGU-AGU-3167)  Hermoso 3 ambientes al ...</td>\n",
              "      <td>585000</td>\n",
              "    </tr>\n",
              "    <tr>\n",
              "      <th>4</th>\n",
              "      <td>6</td>\n",
              "      <td>2019-07-15</td>\n",
              "      <td>2020-02-13</td>\n",
              "      <td>2019-07-15</td>\n",
              "      <td>-34.572144</td>\n",
              "      <td>-58.480173</td>\n",
              "      <td>Villa Urquiza</td>\n",
              "      <td>NaN</td>\n",
              "      <td>3.0</td>\n",
              "      <td>NaN</td>\n",
              "      <td>2.0</td>\n",
              "      <td>NaN</td>\n",
              "      <td>60.0</td>\n",
              "      <td>Departamento en Venta ubicado en Villa Urquiza R</td>\n",
              "      <td>Venta - Departamento - Argentina, Buenos Aires...</td>\n",
              "      <td>237000</td>\n",
              "    </tr>\n",
              "  </tbody>\n",
              "</table>\n",
              "</div>"
            ],
            "text/plain": [
              "   id  pub_inicio  ...                                        descripcion  precio\n",
              "0   1  2019-11-20  ...  Piso en Venta 3 ambientes c/ Escritorio y Depe...  150000\n",
              "1   3  2019-11-19  ...  Departamento en Venta, 3 AMBIENTES + COCHERA E...  144000\n",
              "2   4  2019-05-21  ...  Xintel (GOP-GOP-8943) Venta de Departamento 3 ...  145000\n",
              "3   5  2019-05-21  ...  Xintel (AGU-AGU-3167)  Hermoso 3 ambientes al ...  585000\n",
              "4   6  2019-07-15  ...  Venta - Departamento - Argentina, Buenos Aires...  237000\n",
              "\n",
              "[5 rows x 16 columns]"
            ]
          },
          "metadata": {
            "tags": []
          },
          "execution_count": 63
        }
      ]
    },
    {
      "cell_type": "code",
      "metadata": {
        "id": "PeqQY-K87TXI",
        "colab_type": "code",
        "colab": {
          "base_uri": "https://localhost:8080/",
          "height": 85
        },
        "outputId": "887eac8f-7d5b-48ab-ee83-71dfa6266857"
      },
      "source": [
        "ids, df_train = preprocessing(df_train)"
      ],
      "execution_count": 64,
      "outputs": [
        {
          "output_type": "stream",
          "text": [
            "/usr/local/lib/python3.6/dist-packages/ipykernel_launcher.py:39: SettingWithCopyWarning: \n",
            "A value is trying to be set on a copy of a slice from a DataFrame\n",
            "\n",
            "See the caveats in the documentation: https://pandas.pydata.org/pandas-docs/stable/user_guide/indexing.html#returning-a-view-versus-a-copy\n"
          ],
          "name": "stderr"
        }
      ]
    },
    {
      "cell_type": "code",
      "metadata": {
        "id": "Qoqn6DWhNdxc",
        "colab_type": "code",
        "colab": {}
      },
      "source": [
        "X_train, X_test, y_train, y_test = split_data(df_train)"
      ],
      "execution_count": 65,
      "outputs": []
    },
    {
      "cell_type": "code",
      "metadata": {
        "id": "4bXRrq6ob-pB",
        "colab_type": "code",
        "colab": {
          "base_uri": "https://localhost:8080/",
          "height": 34
        },
        "outputId": "77042dc8-9871-4112-f2ab-c99c4b1b20f2"
      },
      "source": [
        "X_train.shape"
      ],
      "execution_count": 66,
      "outputs": [
        {
          "output_type": "execute_result",
          "data": {
            "text/plain": [
              "(48211, 12)"
            ]
          },
          "metadata": {
            "tags": []
          },
          "execution_count": 66
        }
      ]
    },
    {
      "cell_type": "code",
      "metadata": {
        "id": "Pb6Vp5_ocBwm",
        "colab_type": "code",
        "colab": {
          "base_uri": "https://localhost:8080/",
          "height": 34
        },
        "outputId": "732bdbe8-ba19-4c3c-f4c6-7703054239ad"
      },
      "source": [
        "X_test.shape"
      ],
      "execution_count": 67,
      "outputs": [
        {
          "output_type": "execute_result",
          "data": {
            "text/plain": [
              "(2538, 12)"
            ]
          },
          "metadata": {
            "tags": []
          },
          "execution_count": 67
        }
      ]
    },
    {
      "cell_type": "markdown",
      "metadata": {
        "id": "rdVAnt5eMAUW",
        "colab_type": "text"
      },
      "source": [
        "# Prueba con modelo deep learning de Keras"
      ]
    },
    {
      "cell_type": "code",
      "metadata": {
        "id": "sabHL1ZKfa7O",
        "colab_type": "code",
        "colab": {}
      },
      "source": [
        "# Preprocesamiento de conjunto entrenamiento\n",
        "pipe = create_keras_pipeline()\n",
        "X_train_transformed = pipe.fit_transform(X_train)\n",
        "X_train_transformed = X_train_transformed.toarray()"
      ],
      "execution_count": 68,
      "outputs": []
    },
    {
      "cell_type": "code",
      "metadata": {
        "id": "1s0ldd7Hg6g5",
        "colab_type": "code",
        "colab": {
          "base_uri": "https://localhost:8080/",
          "height": 34
        },
        "outputId": "e486dc02-a3b8-4e54-b241-2b9343c3ca74"
      },
      "source": [
        "# El input shape (= nro de features)\n",
        "X_train_transformed.shape[1]"
      ],
      "execution_count": 69,
      "outputs": [
        {
          "output_type": "execute_result",
          "data": {
            "text/plain": [
              "69"
            ]
          },
          "metadata": {
            "tags": []
          },
          "execution_count": 69
        }
      ]
    },
    {
      "cell_type": "markdown",
      "metadata": {
        "id": "LM8MfQHA6O_z",
        "colab_type": "text"
      },
      "source": [
        "## Crear modelo y entrenar con early stop"
      ]
    },
    {
      "cell_type": "code",
      "metadata": {
        "id": "FrkW83RLGDKQ",
        "colab_type": "code",
        "colab": {
          "base_uri": "https://localhost:8080/",
          "height": 340
        },
        "outputId": "a8c60d68-e2e2-4a2d-8f63-8c334ed747af"
      },
      "source": [
        "model = build_keras_model(X_train_transformed.shape[1]) # El input shape es opcional\n",
        "\n",
        "EPOCHS = 5000\n",
        "\n",
        "# The patience parameter is the amount of epochs to check for improvement\n",
        "early_stop = keras.callbacks.EarlyStopping(monitor='val_loss', patience=100)\n",
        "\n",
        "history = model.fit(X_train_transformed, y_train, \n",
        "                    epochs=EPOCHS, validation_split = 0.05, verbose=0, \n",
        "                    callbacks=[early_stop, tfdocs.modeling.EpochDots()])"
      ],
      "execution_count": 70,
      "outputs": [
        {
          "output_type": "stream",
          "text": [
            "\n",
            "Epoch: 0, loss:124556574720.0000,  mae:219714.2031,  mse:124556574720.0000,  val_loss:97799913472.0000,  val_mae:179722.9688,  val_mse:97799913472.0000,  \n",
            "....................................................................................................\n",
            "Epoch: 100, loss:33058410496.0000,  mae:71319.6328,  mse:33058410496.0000,  val_loss:40459988992.0000,  val_mae:69192.0078,  val_mse:40459988992.0000,  \n",
            "....................................................................................................\n",
            "Epoch: 200, loss:32281268224.0000,  mae:69718.0469,  mse:32281268224.0000,  val_loss:39990755328.0000,  val_mae:68394.5312,  val_mse:39990755328.0000,  \n",
            "....................................................................................................\n",
            "Epoch: 300, loss:31862743040.0000,  mae:69295.2734,  mse:31862743040.0000,  val_loss:39408611328.0000,  val_mae:67500.4531,  val_mse:39408611328.0000,  \n",
            "....................................................................................................\n",
            "Epoch: 400, loss:31072757760.0000,  mae:67968.2734,  mse:31072757760.0000,  val_loss:38801039360.0000,  val_mae:66618.0625,  val_mse:38801039360.0000,  \n",
            "....................................................................................................\n",
            "Epoch: 500, loss:24103380992.0000,  mae:58198.1914,  mse:24103380992.0000,  val_loss:35166855168.0000,  val_mae:58104.1680,  val_mse:35166855168.0000,  \n",
            "....................................................................................................\n",
            "Epoch: 600, loss:20241864704.0000,  mae:53664.2344,  mse:20241864704.0000,  val_loss:32473919488.0000,  val_mae:53465.9727,  val_mse:32473919488.0000,  \n",
            "....................................................................................................\n",
            "Epoch: 700, loss:18713401344.0000,  mae:51569.3906,  mse:18713401344.0000,  val_loss:31543240704.0000,  val_mae:51228.1016,  val_mse:31543240704.0000,  \n",
            "....................................................................................................\n",
            "Epoch: 800, loss:17836267520.0000,  mae:50567.5391,  mse:17836267520.0000,  val_loss:32295114752.0000,  val_mae:51191.4766,  val_mse:32295114752.0000,  \n",
            ".................................................................................."
          ],
          "name": "stdout"
        }
      ]
    },
    {
      "cell_type": "code",
      "metadata": {
        "id": "jPgo1JIeEIyP",
        "colab_type": "code",
        "colab": {
          "base_uri": "https://localhost:8080/",
          "height": 204
        },
        "outputId": "5564e336-82fa-4c9a-d2ea-fa548e2e7846"
      },
      "source": [
        "hist = pd.DataFrame(history.history)\n",
        "hist['epoch'] = history.epoch\n",
        "hist.tail()"
      ],
      "execution_count": 71,
      "outputs": [
        {
          "output_type": "execute_result",
          "data": {
            "text/html": [
              "<div>\n",
              "<style scoped>\n",
              "    .dataframe tbody tr th:only-of-type {\n",
              "        vertical-align: middle;\n",
              "    }\n",
              "\n",
              "    .dataframe tbody tr th {\n",
              "        vertical-align: top;\n",
              "    }\n",
              "\n",
              "    .dataframe thead th {\n",
              "        text-align: right;\n",
              "    }\n",
              "</style>\n",
              "<table border=\"1\" class=\"dataframe\">\n",
              "  <thead>\n",
              "    <tr style=\"text-align: right;\">\n",
              "      <th></th>\n",
              "      <th>loss</th>\n",
              "      <th>mae</th>\n",
              "      <th>mse</th>\n",
              "      <th>val_loss</th>\n",
              "      <th>val_mae</th>\n",
              "      <th>val_mse</th>\n",
              "      <th>epoch</th>\n",
              "    </tr>\n",
              "  </thead>\n",
              "  <tbody>\n",
              "    <tr>\n",
              "      <th>877</th>\n",
              "      <td>1.742351e+10</td>\n",
              "      <td>50219.976562</td>\n",
              "      <td>1.742351e+10</td>\n",
              "      <td>3.239443e+10</td>\n",
              "      <td>51383.667969</td>\n",
              "      <td>3.239443e+10</td>\n",
              "      <td>877</td>\n",
              "    </tr>\n",
              "    <tr>\n",
              "      <th>878</th>\n",
              "      <td>1.741437e+10</td>\n",
              "      <td>50213.019531</td>\n",
              "      <td>1.741437e+10</td>\n",
              "      <td>3.232293e+10</td>\n",
              "      <td>51224.941406</td>\n",
              "      <td>3.232293e+10</td>\n",
              "      <td>878</td>\n",
              "    </tr>\n",
              "    <tr>\n",
              "      <th>879</th>\n",
              "      <td>1.739872e+10</td>\n",
              "      <td>50190.539062</td>\n",
              "      <td>1.739872e+10</td>\n",
              "      <td>3.308683e+10</td>\n",
              "      <td>51662.449219</td>\n",
              "      <td>3.308683e+10</td>\n",
              "      <td>879</td>\n",
              "    </tr>\n",
              "    <tr>\n",
              "      <th>880</th>\n",
              "      <td>1.742256e+10</td>\n",
              "      <td>50276.863281</td>\n",
              "      <td>1.742256e+10</td>\n",
              "      <td>3.352108e+10</td>\n",
              "      <td>51571.167969</td>\n",
              "      <td>3.352108e+10</td>\n",
              "      <td>880</td>\n",
              "    </tr>\n",
              "    <tr>\n",
              "      <th>881</th>\n",
              "      <td>1.739570e+10</td>\n",
              "      <td>50166.789062</td>\n",
              "      <td>1.739570e+10</td>\n",
              "      <td>3.285358e+10</td>\n",
              "      <td>51558.914062</td>\n",
              "      <td>3.285358e+10</td>\n",
              "      <td>881</td>\n",
              "    </tr>\n",
              "  </tbody>\n",
              "</table>\n",
              "</div>"
            ],
            "text/plain": [
              "             loss           mae  ...       val_mse  epoch\n",
              "877  1.742351e+10  50219.976562  ...  3.239443e+10    877\n",
              "878  1.741437e+10  50213.019531  ...  3.232293e+10    878\n",
              "879  1.739872e+10  50190.539062  ...  3.308683e+10    879\n",
              "880  1.742256e+10  50276.863281  ...  3.352108e+10    880\n",
              "881  1.739570e+10  50166.789062  ...  3.285358e+10    881\n",
              "\n",
              "[5 rows x 7 columns]"
            ]
          },
          "metadata": {
            "tags": []
          },
          "execution_count": 71
        }
      ]
    },
    {
      "cell_type": "code",
      "metadata": {
        "id": "89uLKFzHwBnA",
        "colab_type": "code",
        "colab": {
          "base_uri": "https://localhost:8080/",
          "height": 34
        },
        "outputId": "7948ffa2-22c0-4f4a-a294-f242903fe2f6"
      },
      "source": [
        "len(history.history['loss'])"
      ],
      "execution_count": 72,
      "outputs": [
        {
          "output_type": "execute_result",
          "data": {
            "text/plain": [
              "882"
            ]
          },
          "metadata": {
            "tags": []
          },
          "execution_count": 72
        }
      ]
    },
    {
      "cell_type": "code",
      "metadata": {
        "id": "FOQdon3yK-HH",
        "colab_type": "code",
        "colab": {}
      },
      "source": [
        "plotter = tfdocs.plots.HistoryPlotter(smoothing_std=2)"
      ],
      "execution_count": 73,
      "outputs": []
    },
    {
      "cell_type": "code",
      "metadata": {
        "id": "K-zan_g-3wkb",
        "colab_type": "code",
        "colab": {
          "base_uri": "https://localhost:8080/",
          "height": 296
        },
        "outputId": "62909c5f-01c2-4e37-86a3-973dde7ec6f3"
      },
      "source": [
        "plotter.plot({'Early Stopping': history}, metric = \"mae\")\n",
        "plt.ylabel('MAE [Precio]')"
      ],
      "execution_count": 74,
      "outputs": [
        {
          "output_type": "execute_result",
          "data": {
            "text/plain": [
              "Text(0, 0.5, 'MAE [Precio]')"
            ]
          },
          "metadata": {
            "tags": []
          },
          "execution_count": 74
        },
        {
          "output_type": "display_data",
          "data": {
            "image/png": "[encoded data removed]",
            "text/plain": [
              "<Figure size 432x288 with 1 Axes>"
            ]
          },
          "metadata": {
            "tags": [],
            "needs_background": "light"
          }
        }
      ]
    },
    {
      "cell_type": "code",
      "metadata": {
        "id": "EJNs1CYSLREo",
        "colab_type": "code",
        "colab": {
          "base_uri": "https://localhost:8080/",
          "height": 307
        },
        "outputId": "a86883d2-bbcd-424b-b1f0-0bb1926b7503"
      },
      "source": [
        "plotter.plot({'Early Stopping': history}, metric = \"mse\")\n",
        "plt.ylabel('MSE [Precio^2]')"
      ],
      "execution_count": 75,
      "outputs": [
        {
          "output_type": "execute_result",
          "data": {
            "text/plain": [
              "Text(0, 0.5, 'MSE [Precio^2]')"
            ]
          },
          "metadata": {
            "tags": []
          },
          "execution_count": 75
        },
        {
          "output_type": "display_data",
          "data": {
            "image/png": "[encoded data removed]",
            "text/plain": [
              "<Figure size 432x288 with 1 Axes>"
            ]
          },
          "metadata": {
            "tags": [],
            "needs_background": "light"
          }
        }
      ]
    },
    {
      "cell_type": "markdown",
      "metadata": {
        "id": "6M1PA-iwLuAy",
        "colab_type": "text"
      },
      "source": [
        "# Ver como generaliza el modelo en el test set"
      ]
    },
    {
      "cell_type": "code",
      "metadata": {
        "id": "CFn5zt0RjIKa",
        "colab_type": "code",
        "colab": {}
      },
      "source": [
        ""
      ],
      "execution_count": null,
      "outputs": []
    },
    {
      "cell_type": "code",
      "metadata": {
        "id": "XHvn-3LgLsr0",
        "colab_type": "code",
        "colab": {
          "base_uri": "https://localhost:8080/",
          "height": 34
        },
        "outputId": "be33ead1-4059-4030-b332-6121da9f16c5"
      },
      "source": [
        "X_test_transformed = pipe.transform(X_test)\n",
        "X_test_transformed = X_test_transformed.toarray()\n",
        "X_test_transformed.shape"
      ],
      "execution_count": 76,
      "outputs": [
        {
          "output_type": "execute_result",
          "data": {
            "text/plain": [
              "(2538, 69)"
            ]
          },
          "metadata": {
            "tags": []
          },
          "execution_count": 76
        }
      ]
    },
    {
      "cell_type": "code",
      "metadata": {
        "id": "Ie5vLJPhL5P6",
        "colab_type": "code",
        "colab": {
          "base_uri": "https://localhost:8080/",
          "height": 68
        },
        "outputId": "0d58a244-ec50-474e-fa60-359c328c6289"
      },
      "source": [
        "loss, mae, mse = model.evaluate(X_test_transformed, y_test, verbose=2)\n",
        "\n",
        "print(\"Testing set Mean Abs Error: {:5.2f} Precio\".format(mae))\n",
        "print(\"Testing set MSE: {:5.2f} Precio\".format(mse))"
      ],
      "execution_count": 77,
      "outputs": [
        {
          "output_type": "stream",
          "text": [
            "80/80 - 0s - loss: 13986124800.0000 - mae: 51753.0781 - mse: 13986124800.0000\n",
            "Testing set Mean Abs Error: 51753.08 Precio\n",
            "Testing set MSE: 13986124800.00 Precio\n"
          ],
          "name": "stdout"
        }
      ]
    },
    {
      "cell_type": "code",
      "metadata": {
        "id": "Gu_hzyNbMFnE",
        "colab_type": "code",
        "colab": {
          "base_uri": "https://localhost:8080/",
          "height": 290
        },
        "outputId": "79f4ffad-a2ff-4243-d2d1-07e909d8c3c3"
      },
      "source": [
        "y_test_predictions = model.predict(X_test_transformed).flatten()\n",
        "\n",
        "a = plt.axes(aspect='equal')\n",
        "plt.scatter(y_test, y_test_predictions)\n",
        "plt.xlabel('True Values [Precio]')\n",
        "plt.ylabel('Predictions [Precio]')\n",
        "lims = [0, 4.e+06]\n",
        "plt.xlim(lims)\n",
        "plt.ylim(lims)\n",
        "_ = plt.plot(lims, lims)\n"
      ],
      "execution_count": 78,
      "outputs": [
        {
          "output_type": "display_data",
          "data": {
            "image/png": "[encoded data removed]",
            "text/plain": [
              "<Figure size 432x288 with 1 Axes>"
            ]
          },
          "metadata": {
            "tags": [],
            "needs_background": "light"
          }
        }
      ]
    },
    {
      "cell_type": "code",
      "metadata": {
        "id": "1Q0o15Yj2IPt",
        "colab_type": "code",
        "colab": {
          "base_uri": "https://localhost:8080/",
          "height": 279
        },
        "outputId": "66cc7f94-5dea-4ddc-b863-598b6f93d56b"
      },
      "source": [
        "error = test_predictions - y_test\n",
        "plt.hist(error, bins = 25)\n",
        "plt.xlabel(\"Prediction Error [Precio]\")\n",
        "_ = plt.ylabel(\"Count\")\n"
      ],
      "execution_count": 79,
      "outputs": [
        {
          "output_type": "display_data",
          "data": {
            "image/png": "[encoded data removed]",
            "text/plain": [
              "<Figure size 432x288 with 1 Axes>"
            ]
          },
          "metadata": {
            "tags": [],
            "needs_background": "light"
          }
        }
      ]
    },
    {
      "cell_type": "markdown",
      "metadata": {
        "id": "AOKKYcUnAW0C",
        "colab_type": "text"
      },
      "source": [
        "# Predecir precios utilizando el modelo entrenado en set de prueba"
      ]
    },
    {
      "cell_type": "code",
      "metadata": {
        "id": "e5HknutCAWQi",
        "colab_type": "code",
        "colab": {}
      },
      "source": [
        ""
      ],
      "execution_count": null,
      "outputs": []
    },
    {
      "cell_type": "code",
      "metadata": {
        "id": "dvqysss0j8fW",
        "colab_type": "code",
        "colab": {
          "base_uri": "https://localhost:8080/",
          "height": 493
        },
        "outputId": "77b4cc4c-0144-44a8-9ff7-d736072edb22"
      },
      "source": [
        "df_test = pd.read_excel(urljoin(base_url,'propiedades_prueba.xlsx'))\n",
        "df_test.drop(['precio'], axis=1, inplace=True)\n",
        "df_test.head()"
      ],
      "execution_count": 80,
      "outputs": [
        {
          "output_type": "execute_result",
          "data": {
            "text/html": [
              "<div>\n",
              "<style scoped>\n",
              "    .dataframe tbody tr th:only-of-type {\n",
              "        vertical-align: middle;\n",
              "    }\n",
              "\n",
              "    .dataframe tbody tr th {\n",
              "        vertical-align: top;\n",
              "    }\n",
              "\n",
              "    .dataframe thead th {\n",
              "        text-align: right;\n",
              "    }\n",
              "</style>\n",
              "<table border=\"1\" class=\"dataframe\">\n",
              "  <thead>\n",
              "    <tr style=\"text-align: right;\">\n",
              "      <th></th>\n",
              "      <th>id</th>\n",
              "      <th>pub_inicio</th>\n",
              "      <th>pub_fin</th>\n",
              "      <th>pub_creada</th>\n",
              "      <th>lat</th>\n",
              "      <th>lon</th>\n",
              "      <th>barrio</th>\n",
              "      <th>subbarrio</th>\n",
              "      <th>habitaciones</th>\n",
              "      <th>dormitorios</th>\n",
              "      <th>banios</th>\n",
              "      <th>sup_total</th>\n",
              "      <th>sup_cubierta</th>\n",
              "      <th>titulo</th>\n",
              "      <th>descripcion</th>\n",
              "    </tr>\n",
              "  </thead>\n",
              "  <tbody>\n",
              "    <tr>\n",
              "      <th>0</th>\n",
              "      <td>2</td>\n",
              "      <td>2019-10-23</td>\n",
              "      <td>9999-12-31</td>\n",
              "      <td>2019-10-23</td>\n",
              "      <td>-34.586330</td>\n",
              "      <td>-58.508957</td>\n",
              "      <td>Villa Devoto</td>\n",
              "      <td>NaN</td>\n",
              "      <td>1.0</td>\n",
              "      <td>NaN</td>\n",
              "      <td>NaN</td>\n",
              "      <td>45</td>\n",
              "      <td>37</td>\n",
              "      <td>Ladines  3200 pb - U$D 124.000 - Departamento ...</td>\n",
              "      <td>Impecable 2 ambientes con patio cubierto con t...</td>\n",
              "    </tr>\n",
              "    <tr>\n",
              "      <th>1</th>\n",
              "      <td>34</td>\n",
              "      <td>2019-05-07</td>\n",
              "      <td>2019-06-23</td>\n",
              "      <td>2019-05-07</td>\n",
              "      <td>-34.581699</td>\n",
              "      <td>-58.433547</td>\n",
              "      <td>Palermo</td>\n",
              "      <td>Palermo Hollywood</td>\n",
              "      <td>1.0</td>\n",
              "      <td>1.0</td>\n",
              "      <td>1.0</td>\n",
              "      <td>53</td>\n",
              "      <td>40</td>\n",
              "      <td>VENTA MONOAMBIENTE ESPECTACULAR EN COLEGIALES</td>\n",
              "      <td>Monoambiente impecable divisible a dos ambient...</td>\n",
              "    </tr>\n",
              "    <tr>\n",
              "      <th>2</th>\n",
              "      <td>54</td>\n",
              "      <td>2019-10-13</td>\n",
              "      <td>2019-12-23</td>\n",
              "      <td>2019-10-13</td>\n",
              "      <td>-34.628187</td>\n",
              "      <td>-58.429586</td>\n",
              "      <td>Caballito</td>\n",
              "      <td>NaN</td>\n",
              "      <td>2.0</td>\n",
              "      <td>1.0</td>\n",
              "      <td>1.0</td>\n",
              "      <td>42</td>\n",
              "      <td>38</td>\n",
              "      <td>2 ambientes divisibles a estrenar en Palmera C...</td>\n",
              "      <td>Palmera Caballito: Torre con amenities de gran...</td>\n",
              "    </tr>\n",
              "    <tr>\n",
              "      <th>3</th>\n",
              "      <td>101</td>\n",
              "      <td>2019-08-25</td>\n",
              "      <td>2019-09-14</td>\n",
              "      <td>2019-08-25</td>\n",
              "      <td>-34.593716</td>\n",
              "      <td>-58.440695</td>\n",
              "      <td>Palermo</td>\n",
              "      <td>NaN</td>\n",
              "      <td>2.0</td>\n",
              "      <td>1.0</td>\n",
              "      <td>1.0</td>\n",
              "      <td>62</td>\n",
              "      <td>38</td>\n",
              "      <td>Depto 2 amb c/terraza prpia Palermo Queens out...</td>\n",
              "      <td>Corredor Responsable: Ariel Champanier - CUCIC...</td>\n",
              "    </tr>\n",
              "    <tr>\n",
              "      <th>4</th>\n",
              "      <td>103</td>\n",
              "      <td>2019-10-23</td>\n",
              "      <td>2019-11-09</td>\n",
              "      <td>2019-10-23</td>\n",
              "      <td>-34.591336</td>\n",
              "      <td>-58.447218</td>\n",
              "      <td>Villa Crespo</td>\n",
              "      <td>NaN</td>\n",
              "      <td>2.0</td>\n",
              "      <td>1.0</td>\n",
              "      <td>1.0</td>\n",
              "      <td>44</td>\n",
              "      <td>40</td>\n",
              "      <td>Departamento de dos ambientes con cochera en v...</td>\n",
              "      <td>Departamento de 2 ambientes con cochera ubicad...</td>\n",
              "    </tr>\n",
              "  </tbody>\n",
              "</table>\n",
              "</div>"
            ],
            "text/plain": [
              "    id  ...                                        descripcion\n",
              "0    2  ...  Impecable 2 ambientes con patio cubierto con t...\n",
              "1   34  ...  Monoambiente impecable divisible a dos ambient...\n",
              "2   54  ...  Palmera Caballito: Torre con amenities de gran...\n",
              "3  101  ...  Corredor Responsable: Ariel Champanier - CUCIC...\n",
              "4  103  ...  Departamento de 2 ambientes con cochera ubicad...\n",
              "\n",
              "[5 rows x 15 columns]"
            ]
          },
          "metadata": {
            "tags": []
          },
          "execution_count": 80
        }
      ]
    },
    {
      "cell_type": "code",
      "metadata": {
        "id": "xPER5ompNBVX",
        "colab_type": "code",
        "colab": {
          "base_uri": "https://localhost:8080/",
          "height": 85
        },
        "outputId": "2316438e-68b8-4d7e-c2bb-e2f4a262f0ec"
      },
      "source": [
        "ids, df_test = preprocessing(df_test)"
      ],
      "execution_count": 81,
      "outputs": [
        {
          "output_type": "stream",
          "text": [
            "/usr/local/lib/python3.6/dist-packages/ipykernel_launcher.py:39: SettingWithCopyWarning: \n",
            "A value is trying to be set on a copy of a slice from a DataFrame\n",
            "\n",
            "See the caveats in the documentation: https://pandas.pydata.org/pandas-docs/stable/user_guide/indexing.html#returning-a-view-versus-a-copy\n"
          ],
          "name": "stderr"
        }
      ]
    },
    {
      "cell_type": "code",
      "metadata": {
        "id": "HW0_OgX4BIMV",
        "colab_type": "code",
        "colab": {
          "base_uri": "https://localhost:8080/",
          "height": 204
        },
        "outputId": "2119aa88-9825-4d7f-f850-2d776b6d68f2"
      },
      "source": [
        "df_test.head()"
      ],
      "execution_count": 82,
      "outputs": [
        {
          "output_type": "execute_result",
          "data": {
            "text/html": [
              "<div>\n",
              "<style scoped>\n",
              "    .dataframe tbody tr th:only-of-type {\n",
              "        vertical-align: middle;\n",
              "    }\n",
              "\n",
              "    .dataframe tbody tr th {\n",
              "        vertical-align: top;\n",
              "    }\n",
              "\n",
              "    .dataframe thead th {\n",
              "        text-align: right;\n",
              "    }\n",
              "</style>\n",
              "<table border=\"1\" class=\"dataframe\">\n",
              "  <thead>\n",
              "    <tr style=\"text-align: right;\">\n",
              "      <th></th>\n",
              "      <th>lat</th>\n",
              "      <th>lon</th>\n",
              "      <th>barrio</th>\n",
              "      <th>habitaciones</th>\n",
              "      <th>dormitorios</th>\n",
              "      <th>banios</th>\n",
              "      <th>sup_total</th>\n",
              "      <th>sup_cubierta</th>\n",
              "      <th>cochera</th>\n",
              "      <th>sum</th>\n",
              "      <th>parrilla</th>\n",
              "      <th>pileta</th>\n",
              "    </tr>\n",
              "  </thead>\n",
              "  <tbody>\n",
              "    <tr>\n",
              "      <th>0</th>\n",
              "      <td>-34.586330</td>\n",
              "      <td>-58.508957</td>\n",
              "      <td>Villa Devoto</td>\n",
              "      <td>1.0</td>\n",
              "      <td>NaN</td>\n",
              "      <td>NaN</td>\n",
              "      <td>45</td>\n",
              "      <td>37</td>\n",
              "      <td>0</td>\n",
              "      <td>0</td>\n",
              "      <td>0</td>\n",
              "      <td>0</td>\n",
              "    </tr>\n",
              "    <tr>\n",
              "      <th>1</th>\n",
              "      <td>-34.581699</td>\n",
              "      <td>-58.433547</td>\n",
              "      <td>Palermo</td>\n",
              "      <td>1.0</td>\n",
              "      <td>1.0</td>\n",
              "      <td>1.0</td>\n",
              "      <td>53</td>\n",
              "      <td>40</td>\n",
              "      <td>1</td>\n",
              "      <td>0</td>\n",
              "      <td>0</td>\n",
              "      <td>0</td>\n",
              "    </tr>\n",
              "    <tr>\n",
              "      <th>2</th>\n",
              "      <td>-34.628187</td>\n",
              "      <td>-58.429586</td>\n",
              "      <td>Caballito</td>\n",
              "      <td>2.0</td>\n",
              "      <td>1.0</td>\n",
              "      <td>1.0</td>\n",
              "      <td>42</td>\n",
              "      <td>38</td>\n",
              "      <td>0</td>\n",
              "      <td>1</td>\n",
              "      <td>0</td>\n",
              "      <td>0</td>\n",
              "    </tr>\n",
              "    <tr>\n",
              "      <th>3</th>\n",
              "      <td>-34.593716</td>\n",
              "      <td>-58.440695</td>\n",
              "      <td>Palermo</td>\n",
              "      <td>2.0</td>\n",
              "      <td>1.0</td>\n",
              "      <td>1.0</td>\n",
              "      <td>62</td>\n",
              "      <td>38</td>\n",
              "      <td>0</td>\n",
              "      <td>0</td>\n",
              "      <td>0</td>\n",
              "      <td>0</td>\n",
              "    </tr>\n",
              "    <tr>\n",
              "      <th>4</th>\n",
              "      <td>-34.591336</td>\n",
              "      <td>-58.447218</td>\n",
              "      <td>Villa Crespo</td>\n",
              "      <td>2.0</td>\n",
              "      <td>1.0</td>\n",
              "      <td>1.0</td>\n",
              "      <td>44</td>\n",
              "      <td>40</td>\n",
              "      <td>1</td>\n",
              "      <td>0</td>\n",
              "      <td>0</td>\n",
              "      <td>0</td>\n",
              "    </tr>\n",
              "  </tbody>\n",
              "</table>\n",
              "</div>"
            ],
            "text/plain": [
              "         lat        lon        barrio  ...  sum  parrilla  pileta\n",
              "0 -34.586330 -58.508957  Villa Devoto  ...    0         0       0\n",
              "1 -34.581699 -58.433547       Palermo  ...    0         0       0\n",
              "2 -34.628187 -58.429586     Caballito  ...    1         0       0\n",
              "3 -34.593716 -58.440695       Palermo  ...    0         0       0\n",
              "4 -34.591336 -58.447218  Villa Crespo  ...    0         0       0\n",
              "\n",
              "[5 rows x 12 columns]"
            ]
          },
          "metadata": {
            "tags": []
          },
          "execution_count": 82
        }
      ]
    },
    {
      "cell_type": "code",
      "metadata": {
        "id": "R7MW0Ks7rksq",
        "colab_type": "code",
        "colab": {
          "base_uri": "https://localhost:8080/",
          "height": 34
        },
        "outputId": "45903d1f-ba52-4188-e8c7-6cbb71af3b89"
      },
      "source": [
        "X = pipe.transform(df_test)\n",
        "X = X.toarray()\n",
        "X.shape"
      ],
      "execution_count": 84,
      "outputs": [
        {
          "output_type": "execute_result",
          "data": {
            "text/plain": [
              "(2500, 69)"
            ]
          },
          "metadata": {
            "tags": []
          },
          "execution_count": 84
        }
      ]
    },
    {
      "cell_type": "code",
      "metadata": {
        "id": "yg2xDHQhB_e0",
        "colab_type": "code",
        "colab": {
          "base_uri": "https://localhost:8080/",
          "height": 51
        },
        "outputId": "ff763694-164a-4760-8740-b2b8d36642ce"
      },
      "source": [
        "y_pred = model.predict(X).flatten()\n",
        "y_pred"
      ],
      "execution_count": 85,
      "outputs": [
        {
          "output_type": "execute_result",
          "data": {
            "text/plain": [
              "array([138717.53 , 161609.19 , 121519.734, ..., 134149.67 , 148456.94 ,\n",
              "       139222.3  ], dtype=float32)"
            ]
          },
          "metadata": {
            "tags": []
          },
          "execution_count": 85
        }
      ]
    },
    {
      "cell_type": "code",
      "metadata": {
        "id": "hs1dIzoIj8fa",
        "colab_type": "code",
        "colab": {}
      },
      "source": [
        "data = pd.DataFrame(data={'id' : ids.values, 'precio': np.round(y_pred).astype(int) })"
      ],
      "execution_count": 89,
      "outputs": []
    },
    {
      "cell_type": "code",
      "metadata": {
        "id": "y3jb4Xb4j8fe",
        "colab_type": "code",
        "colab": {
          "base_uri": "https://localhost:8080/",
          "height": 419
        },
        "outputId": "496a61ec-f1db-44ed-8f86-20747e1180f8"
      },
      "source": [
        "data"
      ],
      "execution_count": 90,
      "outputs": [
        {
          "output_type": "execute_result",
          "data": {
            "text/html": [
              "<div>\n",
              "<style scoped>\n",
              "    .dataframe tbody tr th:only-of-type {\n",
              "        vertical-align: middle;\n",
              "    }\n",
              "\n",
              "    .dataframe tbody tr th {\n",
              "        vertical-align: top;\n",
              "    }\n",
              "\n",
              "    .dataframe thead th {\n",
              "        text-align: right;\n",
              "    }\n",
              "</style>\n",
              "<table border=\"1\" class=\"dataframe\">\n",
              "  <thead>\n",
              "    <tr style=\"text-align: right;\">\n",
              "      <th></th>\n",
              "      <th>id</th>\n",
              "      <th>precio</th>\n",
              "    </tr>\n",
              "  </thead>\n",
              "  <tbody>\n",
              "    <tr>\n",
              "      <th>0</th>\n",
              "      <td>2</td>\n",
              "      <td>138718</td>\n",
              "    </tr>\n",
              "    <tr>\n",
              "      <th>1</th>\n",
              "      <td>34</td>\n",
              "      <td>161609</td>\n",
              "    </tr>\n",
              "    <tr>\n",
              "      <th>2</th>\n",
              "      <td>54</td>\n",
              "      <td>121520</td>\n",
              "    </tr>\n",
              "    <tr>\n",
              "      <th>3</th>\n",
              "      <td>101</td>\n",
              "      <td>99832</td>\n",
              "    </tr>\n",
              "    <tr>\n",
              "      <th>4</th>\n",
              "      <td>103</td>\n",
              "      <td>127329</td>\n",
              "    </tr>\n",
              "    <tr>\n",
              "      <th>...</th>\n",
              "      <td>...</td>\n",
              "      <td>...</td>\n",
              "    </tr>\n",
              "    <tr>\n",
              "      <th>2495</th>\n",
              "      <td>53190</td>\n",
              "      <td>118116</td>\n",
              "    </tr>\n",
              "    <tr>\n",
              "      <th>2496</th>\n",
              "      <td>53221</td>\n",
              "      <td>250270</td>\n",
              "    </tr>\n",
              "    <tr>\n",
              "      <th>2497</th>\n",
              "      <td>53233</td>\n",
              "      <td>134150</td>\n",
              "    </tr>\n",
              "    <tr>\n",
              "      <th>2498</th>\n",
              "      <td>53243</td>\n",
              "      <td>148457</td>\n",
              "    </tr>\n",
              "    <tr>\n",
              "      <th>2499</th>\n",
              "      <td>53244</td>\n",
              "      <td>139222</td>\n",
              "    </tr>\n",
              "  </tbody>\n",
              "</table>\n",
              "<p>2500 rows × 2 columns</p>\n",
              "</div>"
            ],
            "text/plain": [
              "         id  precio\n",
              "0         2  138718\n",
              "1        34  161609\n",
              "2        54  121520\n",
              "3       101   99832\n",
              "4       103  127329\n",
              "...     ...     ...\n",
              "2495  53190  118116\n",
              "2496  53221  250270\n",
              "2497  53233  134150\n",
              "2498  53243  148457\n",
              "2499  53244  139222\n",
              "\n",
              "[2500 rows x 2 columns]"
            ]
          },
          "metadata": {
            "tags": []
          },
          "execution_count": 90
        }
      ]
    },
    {
      "cell_type": "code",
      "metadata": {
        "id": "JjGeJ_eHj8fg",
        "colab_type": "code",
        "colab": {
          "base_uri": "https://localhost:8080/",
          "height": 17
        },
        "outputId": "9c41547c-65a4-4a55-917a-242c02510928"
      },
      "source": [
        "filename = 'propiedades_prediccion.csv'\n",
        "if IS_COLAB:\n",
        "  from google.colab import files\n",
        "  data.to_csv(filename, index=False)\n",
        "  files.download(filename)\n",
        "else:\n",
        "  data.to_csv(filename, index=False)"
      ],
      "execution_count": 91,
      "outputs": [
        {
          "output_type": "display_data",
          "data": {
            "application/javascript": [
              "\n",
              "    async function download(id, filename, size) {\n",
              "      if (!google.colab.kernel.accessAllowed) {\n",
              "        return;\n",
              "      }\n",
              "      const div = document.createElement('div');\n",
              "      const label = document.createElement('label');\n",
              "      label.textContent = `Downloading \"${filename}\": `;\n",
              "      div.appendChild(label);\n",
              "      const progress = document.createElement('progress');\n",
              "      progress.max = size;\n",
              "      div.appendChild(progress);\n",
              "      document.body.appendChild(div);\n",
              "\n",
              "      const buffers = [];\n",
              "      let downloaded = 0;\n",
              "\n",
              "      const channel = await google.colab.kernel.comms.open(id);\n",
              "      // Send a message to notify the kernel that we're ready.\n",
              "      channel.send({})\n",
              "\n",
              "      for await (const message of channel.messages) {\n",
              "        // Send a message to notify the kernel that we're ready.\n",
              "        channel.send({})\n",
              "        if (message.buffers) {\n",
              "          for (const buffer of message.buffers) {\n",
              "            buffers.push(buffer);\n",
              "            downloaded += buffer.byteLength;\n",
              "            progress.value = downloaded;\n",
              "          }\n",
              "        }\n",
              "      }\n",
              "      const blob = new Blob(buffers, {type: 'application/binary'});\n",
              "      const a = document.createElement('a');\n",
              "      a.href = window.URL.createObjectURL(blob);\n",
              "      a.download = filename;\n",
              "      div.appendChild(a);\n",
              "      a.click();\n",
              "      div.remove();\n",
              "    }\n",
              "  "
            ],
            "text/plain": [
              "<IPython.core.display.Javascript object>"
            ]
          },
          "metadata": {
            "tags": []
          }
        },
        {
          "output_type": "display_data",
          "data": {
            "application/javascript": [
              "download(\"download_e94a8d72-8b15-46dd-9e4b-ecbe67771b49\", \"propiedades_prediccion.csv\", 31621)"
            ],
            "text/plain": [
              "<IPython.core.display.Javascript object>"
            ]
          },
          "metadata": {
            "tags": []
          }
        }
      ]
    },
    {
      "cell_type": "code",
      "metadata": {
        "id": "P7YGp2jhj8fi",
        "colab_type": "code",
        "colab": {}
      },
      "source": [
        ""
      ],
      "execution_count": null,
      "outputs": []
    }
  ]
}