{
  "nbformat": 4,
  "nbformat_minor": 0,
  "metadata": {
    "orig_nbformat": 2,
    "kernelspec": {
      "name": "python3",
      "display_name": "Python 3"
    },
    "colab": {
      "name": "precio_propiedades_regresion.ipynb",
      "provenance": []
    },
    "accelerator": "TPU"
  },
  "cells": [
    {
      "cell_type": "code",
      "metadata": {
        "id": "R72C2qvtj8fJ",
        "colab_type": "code",
        "colab": {}
      },
      "source": [
        "# import libraries \n",
        "import pandas as pd \n",
        "import numpy as np\n",
        "import matplotlib.pyplot as plt \n",
        "import seaborn as sns \n",
        "# %matplotlib inline\n",
        "\n",
        "from sklearn.feature_extraction.text import CountVectorizer\n",
        "from sklearn.pipeline import make_pipeline, Pipeline\n",
        "from sklearn.preprocessing import StandardScaler, OneHotEncoder\n",
        "from sklearn.compose import ColumnTransformer, make_column_transformer, TransformedTargetRegressor\n",
        "from sklearn.impute import SimpleImputer, KNNImputer\n",
        "\n",
        "from sklearn.ensemble import RandomForestRegressor, GradientBoostingRegressor, VotingRegressor\n",
        "from sklearn.linear_model import LinearRegression\n",
        "from sklearn.svm import SVR\n",
        "from sklearn.model_selection import GridSearchCV, cross_validate, cross_val_predict, train_test_split\n",
        "\n",
        "text_mining_keywords = ['cochera', 'sum', 'parrilla', 'pileta']\n",
        "\n",
        "\n",
        "def vectorize_descripcion(df: pd.DataFrame):\n",
        "    descripcion = df['descripcion']\n",
        "    descripcion[descripcion.isna()] = ''\n",
        "\n",
        "    \n",
        "    # entrenamos el modelo para buscar las keywords\n",
        "    vectorizer = CountVectorizer(binary=True)  \n",
        "    vectorizer.fit(text_mining_keywords)\n",
        "\n",
        "    # hot encoding de los resultados\n",
        "    df_countvectorizer = vectorizer.transform(descripcion)\n",
        "\n",
        "    desc = pd.DataFrame(df_countvectorizer.toarray())\n",
        "    desc.columns = text_mining_keywords\n",
        "    \n",
        "    df.drop(['descripcion'], axis=1, inplace=True)\n",
        "    return(pd.concat([df, desc], axis=1))\n",
        "    \n",
        "\n",
        "def preprocessing(df: pd.DataFrame):\n",
        "    # guardar los id\n",
        "    ids = df['id']\n",
        "\n",
        "    # eliminar columnas innecesarias del modelo\n",
        "    df.drop(['id', 'pub_inicio', 'pub_fin', 'pub_creada', 'subbarrio', 'titulo'],axis=1, inplace=True)\n",
        "\n",
        "    df = vectorize_descripcion(df)\n",
        "\n",
        "    return ids, df\n",
        "\n",
        "\n",
        "def split_data(df: pd.DataFrame, test_size = 0.05):\n",
        "    y = df['precio']\n",
        "    X = df.drop(['precio'], axis=1)\n",
        "\n",
        "    X_train, X_test, y_train, y_test = train_test_split(X, y, test_size = test_size, random_state=5)\n",
        "    return X_train, X_test, y_train, y_test\n",
        "\n",
        "def get_sample(X: pd.DataFrame, y: pd.DataFrame, sample_size = 0.1):\n",
        "    size = round(len(X)*sample_size)\n",
        "    \n",
        "    idx = np.arange(0, len(X))\n",
        "    rand_idx = np.random.choice(idx, size, replace=False)\n",
        "    \n",
        "    X_sample = X.iloc[rand_idx]\n",
        "    y_sample = y.iloc[rand_idx]\n",
        "    return X_sample, y_sample\n",
        "\n",
        "## Preprocesamiento de los features: imputación, estandarización, one-hot encoding\n",
        "def make_transformer_pipeline():\n",
        "    numeric_features = ['lat', 'lon', 'habitaciones', 'dormitorios', 'banios',\n",
        "       'sup_total', 'sup_cubierta', 'cochera', 'sum', 'parrilla',\n",
        "       'pileta']\n",
        "    numeric_transformer = make_pipeline( \n",
        "        SimpleImputer(missing_values = np.nan, strategy='mean'),\n",
        "        StandardScaler(),\n",
        "    )\n",
        "\n",
        "    categorical_features = ['barrio']\n",
        "    categorical_transformer = make_pipeline(\n",
        "        SimpleImputer(strategy='constant', fill_value='missing'),\n",
        "        #SimpleImputer(strategy=\"most_frequent\"),\n",
        "        #KNNImputer(n_neighbors=3, weights=\"uniform\"),     # KNNImputer tarda una eternidad...\n",
        "        OneHotEncoder(handle_unknown='ignore')\n",
        "    )\n",
        "\n",
        "    return make_column_transformer(\n",
        "        (numeric_transformer, numeric_features),\n",
        "        (categorical_transformer, categorical_features)\n",
        "    )    \n",
        "\n",
        "## Crear modelo RandomForestRegressor\n",
        "def create_train_rgr_model(df: pd.DataFrame):\n",
        "    transformer = make_transformer_pipeline()\n",
        "\n",
        "    pipeline = Pipeline([\n",
        "        ('preprocessing', transformer),\n",
        "        ('model', TransformedTargetRegressor(RandomForestRegressor(random_state=5), transformer=StandardScaler()))\n",
        "    ])\n",
        "    return pipeline\n",
        "\n",
        "## Crear modelo SVR\n",
        "def create_train_svr_model(df: pd.DataFrame):\n",
        "    transformer = make_transformer_pipeline()\n",
        "    \n",
        "    pipeline = Pipeline([\n",
        "        ('preprocessing', transformer),\n",
        "        ('model', TransformedTargetRegressor(SVR(cache_size=1000), transformer=StandardScaler()))\n",
        "    ])\n",
        "    return pipeline\n",
        "\n",
        "## Crear modelo LinearRegression\n",
        "def create_train_lr_model(df: pd.DataFrame):\n",
        "    transformer = make_transformer_pipeline()\n",
        "    lr = LinearRegression()\n",
        "\n",
        "    pipeline = make_pipeline(transformer, lr)\n",
        "    model = TransformedTargetRegressor(regressor=pipeline, transformer=StandardScaler())\n",
        "\n",
        "    return model    \n",
        "\n",
        "def plot_test_predictions(y_test, y_pred):\n",
        "    # graficar predicciones contra datos actuales\n",
        "    plt.figure(figsize = (18,10))\n",
        "    plot_k = sns.scatterplot(y_test, y_pred)\n",
        "    plot_k.set(xlabel='Precio test', ylabel='Precio predicción')\n",
        "    # graficar la identidad\n",
        "    x_plot = np.linspace(0,np.max(y_test),1000)\n",
        "    y_plot = x_plot\n",
        "    plt.plot(x_plot, y_plot, color='r')\n",
        "\n"
      ],
      "execution_count": 53,
      "outputs": []
    },
    {
      "cell_type": "code",
      "metadata": {
        "id": "MVytEtsH5bKF",
        "colab_type": "code",
        "colab": {
          "base_uri": "https://localhost:8080/",
          "height": 547
        },
        "outputId": "8bd2408a-6bac-44db-aae2-0fb81466b8b2"
      },
      "source": [
        "df_train = pd.read_excel('propiedades_entrenamiento.xlsx')\n",
        "df_train.head()"
      ],
      "execution_count": 54,
      "outputs": [
        {
          "output_type": "execute_result",
          "data": {
            "text/plain": "   id  pub_inicio     pub_fin  pub_creada        lat        lon  \\\n0   1  2019-11-20  9999-12-31  2019-11-20 -34.606891 -58.409890   \n1   3  2019-11-19  2020-02-22  2019-11-19 -34.604912 -58.417065   \n2   4  2019-05-21  2019-07-03  2019-05-21 -34.600886 -58.431204   \n3   5  2019-05-21  2020-05-22  2019-05-21 -34.628760 -58.453224   \n4   6  2019-07-15  2020-02-13  2019-07-15 -34.572144 -58.480173   \n\n          barrio subbarrio  habitaciones  dormitorios  banios  sup_total  \\\n0        Almagro       NaN           3.0          NaN     2.0      108.0   \n1        Almagro       NaN           3.0          1.0     2.0       72.0   \n2   Villa Crespo       NaN           3.0          2.0     1.0       57.0   \n3         Flores       NaN           4.0          3.0     3.0      128.0   \n4  Villa Urquiza       NaN           3.0          NaN     2.0        NaN   \n\n   sup_cubierta                                             titulo  \\\n0         108.0      PISO EN VENTA 3 AMB C/ ESC. Y DEP. EN ALMAGRO   \n1          63.0  Venta Departamento en Almagro Capital Federal ...   \n2          57.0                              DEPARTAMENTO EN VENTA   \n3         117.0                              DEPARTAMENTO EN VENTA   \n4          60.0   Departamento en Venta ubicado en Villa Urquiza R   \n\n                                         descripcion  precio  \n0  Piso en Venta 3 ambientes c/ Escritorio y Depe...  150000  \n1  Departamento en Venta, 3 AMBIENTES + COCHERA E...  144000  \n2  Xintel (GOP-GOP-8943) Venta de Departamento 3 ...  145000  \n3  Xintel (AGU-AGU-3167)  Hermoso 3 ambientes al ...  585000  \n4  Venta - Departamento - Argentina, Buenos Aires...  237000  ",
            "text/html": "<div>\n<style scoped>\n    .dataframe tbody tr th:only-of-type {\n        vertical-align: middle;\n    }\n\n    .dataframe tbody tr th {\n        vertical-align: top;\n    }\n\n    .dataframe thead th {\n        text-align: right;\n    }\n</style>\n<table border=\"1\" class=\"dataframe\">\n  <thead>\n    <tr style=\"text-align: right;\">\n      <th></th>\n      <th>id</th>\n      <th>pub_inicio</th>\n      <th>pub_fin</th>\n      <th>pub_creada</th>\n      <th>lat</th>\n      <th>lon</th>\n      <th>barrio</th>\n      <th>subbarrio</th>\n      <th>habitaciones</th>\n      <th>dormitorios</th>\n      <th>banios</th>\n      <th>sup_total</th>\n      <th>sup_cubierta</th>\n      <th>titulo</th>\n      <th>descripcion</th>\n      <th>precio</th>\n    </tr>\n  </thead>\n  <tbody>\n    <tr>\n      <th>0</th>\n      <td>1</td>\n      <td>2019-11-20</td>\n      <td>9999-12-31</td>\n      <td>2019-11-20</td>\n      <td>-34.606891</td>\n      <td>-58.409890</td>\n      <td>Almagro</td>\n      <td>NaN</td>\n      <td>3.0</td>\n      <td>NaN</td>\n      <td>2.0</td>\n      <td>108.0</td>\n      <td>108.0</td>\n      <td>PISO EN VENTA 3 AMB C/ ESC. Y DEP. EN ALMAGRO</td>\n      <td>Piso en Venta 3 ambientes c/ Escritorio y Depe...</td>\n      <td>150000</td>\n    </tr>\n    <tr>\n      <th>1</th>\n      <td>3</td>\n      <td>2019-11-19</td>\n      <td>2020-02-22</td>\n      <td>2019-11-19</td>\n      <td>-34.604912</td>\n      <td>-58.417065</td>\n      <td>Almagro</td>\n      <td>NaN</td>\n      <td>3.0</td>\n      <td>1.0</td>\n      <td>2.0</td>\n      <td>72.0</td>\n      <td>63.0</td>\n      <td>Venta Departamento en Almagro Capital Federal ...</td>\n      <td>Departamento en Venta, 3 AMBIENTES + COCHERA E...</td>\n      <td>144000</td>\n    </tr>\n    <tr>\n      <th>2</th>\n      <td>4</td>\n      <td>2019-05-21</td>\n      <td>2019-07-03</td>\n      <td>2019-05-21</td>\n      <td>-34.600886</td>\n      <td>-58.431204</td>\n      <td>Villa Crespo</td>\n      <td>NaN</td>\n      <td>3.0</td>\n      <td>2.0</td>\n      <td>1.0</td>\n      <td>57.0</td>\n      <td>57.0</td>\n      <td>DEPARTAMENTO EN VENTA</td>\n      <td>Xintel (GOP-GOP-8943) Venta de Departamento 3 ...</td>\n      <td>145000</td>\n    </tr>\n    <tr>\n      <th>3</th>\n      <td>5</td>\n      <td>2019-05-21</td>\n      <td>2020-05-22</td>\n      <td>2019-05-21</td>\n      <td>-34.628760</td>\n      <td>-58.453224</td>\n      <td>Flores</td>\n      <td>NaN</td>\n      <td>4.0</td>\n      <td>3.0</td>\n      <td>3.0</td>\n      <td>128.0</td>\n      <td>117.0</td>\n      <td>DEPARTAMENTO EN VENTA</td>\n      <td>Xintel (AGU-AGU-3167)  Hermoso 3 ambientes al ...</td>\n      <td>585000</td>\n    </tr>\n    <tr>\n      <th>4</th>\n      <td>6</td>\n      <td>2019-07-15</td>\n      <td>2020-02-13</td>\n      <td>2019-07-15</td>\n      <td>-34.572144</td>\n      <td>-58.480173</td>\n      <td>Villa Urquiza</td>\n      <td>NaN</td>\n      <td>3.0</td>\n      <td>NaN</td>\n      <td>2.0</td>\n      <td>NaN</td>\n      <td>60.0</td>\n      <td>Departamento en Venta ubicado en Villa Urquiza R</td>\n      <td>Venta - Departamento - Argentina, Buenos Aires...</td>\n      <td>237000</td>\n    </tr>\n  </tbody>\n</table>\n</div>"
          },
          "metadata": {},
          "execution_count": 54
        }
      ]
    },
    {
      "cell_type": "code",
      "metadata": {
        "id": "PeqQY-K87TXI",
        "colab_type": "code",
        "colab": {
          "base_uri": "https://localhost:8080/",
          "height": 85
        },
        "outputId": "24e521c1-9584-455b-e654-19be54aead23"
      },
      "source": [
        "ids, df_train = preprocessing(df_train)"
      ],
      "execution_count": 55,
      "outputs": []
    },
    {
      "cell_type": "code",
      "metadata": {
        "id": "Qoqn6DWhNdxc",
        "colab_type": "code",
        "colab": {}
      },
      "source": [
        "X_train, X_test, y_train, y_test = split_data(df_train)"
      ],
      "execution_count": 56,
      "outputs": []
    },
    {
      "cell_type": "markdown",
      "metadata": {},
      "source": [
        "## Búsqueda de hiperparámetros óptimos de SVR"
      ]
    },
    {
      "cell_type": "code",
      "execution_count": 19,
      "metadata": {
        "tags": []
      },
      "outputs": [],
      "source": [
        "# Tomamos muestra para el grid search (búsqueda de hiperparámetros óptimos)\n",
        "X_train_sample, y_train_sample = get_sample(X_train, y_train, sample_size=0.2)\n",
        "X_train_sample.shape, y_train_sample.shape"
      ]
    },
    {
      "cell_type": "code",
      "metadata": {
        "id": "YiagEZc-LsKc",
        "colab_type": "code",
        "colab": {}
      },
      "source": [
        "# Entrenar modelo SVR con búsqueda de hiperparámetros\n",
        "tuned_parameters = [{'model__regressor__kernel': ['rbf'], \n",
        "                    'model__regressor__gamma': np.logspace(-3, 3, 3),\n",
        "                    'model__regressor__C': np.logspace(-3, 3, 4)},\n",
        "                    # {'model__regressor__kernel': ['linear'], \n",
        "                    #  'model__regressor__C': [1, 10, 100, 1000]}\n",
        "                    ]\n",
        "model_svr = create_train_svr_model(df_train)\n",
        "\n",
        "model = GridSearchCV(model_svr, tuned_parameters, n_jobs=2, scoring=('r2', 'neg_root_mean_squared_error'), refit='neg_root_mean_squared_error')\n",
        "model.fit(X_train_sample, y_train_sample)"
      ],
      "execution_count": 23,
      "outputs": [
        {
          "output_type": "execute_result",
          "data": {
            "text/plain": "GridSearchCV(cv=None, error_score=nan,\n             estimator=Pipeline(memory=None,\n                                steps=[('preprocessing',\n                                        ColumnTransformer(n_jobs=None,\n                                                          remainder='drop',\n                                                          sparse_threshold=0.3,\n                                                          transformer_weights=None,\n                                                          transformers=[('pipeline-1',\n                                                                         Pipeline(memory=None,\n                                                                                  steps=[('simpleimputer',\n                                                                                          SimpleImputer(add_indicator=False,\n                                                                                                        copy=True,\n                                                                                                        fill_value=None,\n                                                                                                        missing_values=nan,\n                                                                                                        strategy='mea...\n                                                                                              with_std=True)))],\n                                verbose=False),\n             iid='deprecated', n_jobs=2,\n             param_grid=[{'model__regressor__C': array([1.e-03, 1.e-01, 1.e+01, 1.e+03]),\n                          'model__regressor__gamma': array([1.e-03, 1.e+00, 1.e+03]),\n                          'model__regressor__kernel': ['rbf']}],\n             pre_dispatch='2*n_jobs', refit='neg_root_mean_squared_error',\n             return_train_score=False,\n             scoring=('r2', 'neg_root_mean_squared_error'), verbose=0)"
          },
          "metadata": {},
          "execution_count": 23
        }
      ]
    },
    {
      "cell_type": "code",
      "metadata": {
        "id": "qEhw0gLqMkf_",
        "colab_type": "code",
        "colab": {},
        "tags": []
      },
      "source": [
        "print(\"Mejores parámetros encontrados:\")\n",
        "print()\n",
        "print(model.best_params_)\n",
        "print()\n",
        "print(\"Grid scores:\")\n",
        "df_scores=pd.DataFrame(data=model.cv_results_)\n",
        "df_scores"
      ],
      "execution_count": 25,
      "outputs": [
        {
          "output_type": "stream",
          "name": "stdout",
          "text": "Mejores parámetros encontrados:\n\n{'model__regressor__C': 1000.0, 'model__regressor__gamma': 0.001, 'model__regressor__kernel': 'rbf'}\n\nGrid scores:\n"
        },
        {
          "output_type": "execute_result",
          "data": {
            "text/plain": "    mean_fit_time  std_fit_time  mean_score_time  std_score_time  \\\n0        2.918163      0.219134         0.483093        0.009782   \n1        2.493811      0.041938         0.487898        0.016805   \n2        2.067730      0.129361         0.438728        0.019836   \n3        2.212726      0.068540         0.407634        0.029148   \n4        2.402511      0.021212         0.415643        0.049212   \n5        2.397013      0.124993         0.452278        0.012893   \n6        2.075249      0.124180         0.363523        0.014269   \n7        3.220416      0.132777         0.371372        0.015516   \n8        3.931039      0.114186         0.561106        0.066960   \n9        9.229634      0.379213         0.317460        0.010424   \n10      19.244334      1.127876         0.386306        0.026127   \n11       3.410400      0.224359         0.456013        0.049620   \n\n   param_model__regressor__C param_model__regressor__gamma  \\\n0                      0.001                         0.001   \n1                      0.001                             1   \n2                      0.001                          1000   \n3                        0.1                         0.001   \n4                        0.1                             1   \n5                        0.1                          1000   \n6                         10                         0.001   \n7                         10                             1   \n8                         10                          1000   \n9                       1000                         0.001   \n10                      1000                             1   \n11                      1000                          1000   \n\n   param_model__regressor__kernel  \\\n0                             rbf   \n1                             rbf   \n2                             rbf   \n3                             rbf   \n4                             rbf   \n5                             rbf   \n6                             rbf   \n7                             rbf   \n8                             rbf   \n9                             rbf   \n10                            rbf   \n11                            rbf   \n\n                                               params  split0_test_r2  \\\n0   {'model__regressor__C': 0.001, 'model__regress...       -0.047424   \n1   {'model__regressor__C': 0.001, 'model__regress...       -0.044663   \n2   {'model__regressor__C': 0.001, 'model__regress...       -0.075188   \n3   {'model__regressor__C': 0.1, 'model__regressor...        0.323229   \n4   {'model__regressor__C': 0.1, 'model__regressor...        0.202753   \n5   {'model__regressor__C': 0.1, 'model__regressor...       -0.024252   \n6   {'model__regressor__C': 10.0, 'model__regresso...        0.590947   \n7   {'model__regressor__C': 10.0, 'model__regresso...        0.540016   \n8   {'model__regressor__C': 10.0, 'model__regresso...        0.150526   \n9   {'model__regressor__C': 1000.0, 'model__regres...        0.685938   \n10  {'model__regressor__C': 1000.0, 'model__regres...        0.405900   \n11  {'model__regressor__C': 1000.0, 'model__regres...        0.150584   \n\n    split1_test_r2  ...  std_test_r2  rank_test_r2  \\\n0        -0.044655  ...     0.003736            11   \n1        -0.043662  ...     0.003118            10   \n2        -0.073905  ...     0.006978            12   \n3         0.347595  ...     0.031280             5   \n4         0.196523  ...     0.027862             6   \n5        -0.023397  ...     0.002624             9   \n6         0.529831  ...     0.042437             2   \n7         0.484272  ...     0.064944             3   \n8         0.151786  ...     0.028270             8   \n9         0.744384  ...     0.049947             1   \n10        0.447461  ...     0.044673             4   \n11        0.151865  ...     0.028205             7   \n\n    split0_test_neg_root_mean_squared_error  \\\n0                            -281648.894792   \n1                            -281277.370243   \n2                            -285357.252014   \n3                            -226395.376346   \n4                            -245721.586878   \n5                            -278516.024146   \n6                            -176009.600726   \n7                            -186645.706584   \n8                            -253642.297783   \n9                            -154224.979550   \n10                           -212117.495823   \n11                           -253633.643784   \n\n    split1_test_neg_root_mean_squared_error  \\\n0                            -277940.101335   \n1                            -277807.982556   \n2                            -281804.331787   \n3                            -219646.099168   \n4                            -243753.835462   \n5                            -275097.647954   \n6                            -186462.568534   \n7                            -195287.803646   \n8                            -250448.025874   \n9                            -137486.152583   \n10                           -202137.135128   \n11                           -250436.261052   \n\n    split2_test_neg_root_mean_squared_error  \\\n0                            -316909.833328   \n1                            -316441.886967   \n2                            -319875.645458   \n3                            -266709.106795   \n4                            -285686.716964   \n5                            -314125.386174   \n6                            -227208.342962   \n7                            -246989.997309   \n8                            -295240.303192   \n9                            -188998.745645   \n10                           -254152.143943   \n11                           -295199.731654   \n\n    split3_test_neg_root_mean_squared_error  \\\n0                            -258192.051743   \n1                            -257642.615543   \n2                            -261998.257414   \n3                            -204226.632240   \n4                            -220666.555122   \n5                            -254533.638653   \n6                            -180060.470869   \n7                            -176764.297572   \n8                            -234635.219772   \n9                            -141567.026843   \n10                           -187560.114357   \n11                           -234625.626914   \n\n    split4_test_neg_root_mean_squared_error  \\\n0                            -297849.619197   \n1                            -297774.914699   \n2                            -301423.653404   \n3                            -243889.004756   \n4                            -266059.256973   \n5                            -295533.696482   \n6                            -203095.108546   \n7                            -225735.499566   \n8                            -279938.569648   \n9                            -184847.417176   \n10                           -230999.141141   \n11                           -279911.666306   \n\n    mean_test_neg_root_mean_squared_error  \\\n0                          -286508.100079   \n1                          -286188.954002   \n2                          -290091.828015   \n3                          -232173.243861   \n4                          -252377.590280   \n5                          -283561.278682   \n6                          -194567.218327   \n7                          -206284.660935   \n8                          -262780.883254   \n9                          -161424.864359   \n10                         -217393.206079   \n11                         -262761.385942   \n\n    std_test_neg_root_mean_squared_error  \\\n0                           19757.107644   \n1                           19792.585556   \n2                           19472.203578   \n3                           21453.722708   \n4                           22004.305048   \n5                           20085.790892   \n6                           18754.648331   \n7                           26127.880833   \n8                           21798.126679   \n9                           21578.548993   \n10                          23181.609793   \n11                          21786.342996   \n\n    rank_test_neg_root_mean_squared_error  \n0                                      11  \n1                                      10  \n2                                      12  \n3                                       5  \n4                                       6  \n5                                       9  \n6                                       2  \n7                                       3  \n8                                       8  \n9                                       1  \n10                                      4  \n11                                      7  \n\n[12 rows x 24 columns]",
            "text/html": "<div>\n<style scoped>\n    .dataframe tbody tr th:only-of-type {\n        vertical-align: middle;\n    }\n\n    .dataframe tbody tr th {\n        vertical-align: top;\n    }\n\n    .dataframe thead th {\n        text-align: right;\n    }\n</style>\n<table border=\"1\" class=\"dataframe\">\n  <thead>\n    <tr style=\"text-align: right;\">\n      <th></th>\n      <th>mean_fit_time</th>\n      <th>std_fit_time</th>\n      <th>mean_score_time</th>\n      <th>std_score_time</th>\n      <th>param_model__regressor__C</th>\n      <th>param_model__regressor__gamma</th>\n      <th>param_model__regressor__kernel</th>\n      <th>params</th>\n      <th>split0_test_r2</th>\n      <th>split1_test_r2</th>\n      <th>...</th>\n      <th>std_test_r2</th>\n      <th>rank_test_r2</th>\n      <th>split0_test_neg_root_mean_squared_error</th>\n      <th>split1_test_neg_root_mean_squared_error</th>\n      <th>split2_test_neg_root_mean_squared_error</th>\n      <th>split3_test_neg_root_mean_squared_error</th>\n      <th>split4_test_neg_root_mean_squared_error</th>\n      <th>mean_test_neg_root_mean_squared_error</th>\n      <th>std_test_neg_root_mean_squared_error</th>\n      <th>rank_test_neg_root_mean_squared_error</th>\n    </tr>\n  </thead>\n  <tbody>\n    <tr>\n      <th>0</th>\n      <td>2.918163</td>\n      <td>0.219134</td>\n      <td>0.483093</td>\n      <td>0.009782</td>\n      <td>0.001</td>\n      <td>0.001</td>\n      <td>rbf</td>\n      <td>{'model__regressor__C': 0.001, 'model__regress...</td>\n      <td>-0.047424</td>\n      <td>-0.044655</td>\n      <td>...</td>\n      <td>0.003736</td>\n      <td>11</td>\n      <td>-281648.894792</td>\n      <td>-277940.101335</td>\n      <td>-316909.833328</td>\n      <td>-258192.051743</td>\n      <td>-297849.619197</td>\n      <td>-286508.100079</td>\n      <td>19757.107644</td>\n      <td>11</td>\n    </tr>\n    <tr>\n      <th>1</th>\n      <td>2.493811</td>\n      <td>0.041938</td>\n      <td>0.487898</td>\n      <td>0.016805</td>\n      <td>0.001</td>\n      <td>1</td>\n      <td>rbf</td>\n      <td>{'model__regressor__C': 0.001, 'model__regress...</td>\n      <td>-0.044663</td>\n      <td>-0.043662</td>\n      <td>...</td>\n      <td>0.003118</td>\n      <td>10</td>\n      <td>-281277.370243</td>\n      <td>-277807.982556</td>\n      <td>-316441.886967</td>\n      <td>-257642.615543</td>\n      <td>-297774.914699</td>\n      <td>-286188.954002</td>\n      <td>19792.585556</td>\n      <td>10</td>\n    </tr>\n    <tr>\n      <th>2</th>\n      <td>2.067730</td>\n      <td>0.129361</td>\n      <td>0.438728</td>\n      <td>0.019836</td>\n      <td>0.001</td>\n      <td>1000</td>\n      <td>rbf</td>\n      <td>{'model__regressor__C': 0.001, 'model__regress...</td>\n      <td>-0.075188</td>\n      <td>-0.073905</td>\n      <td>...</td>\n      <td>0.006978</td>\n      <td>12</td>\n      <td>-285357.252014</td>\n      <td>-281804.331787</td>\n      <td>-319875.645458</td>\n      <td>-261998.257414</td>\n      <td>-301423.653404</td>\n      <td>-290091.828015</td>\n      <td>19472.203578</td>\n      <td>12</td>\n    </tr>\n    <tr>\n      <th>3</th>\n      <td>2.212726</td>\n      <td>0.068540</td>\n      <td>0.407634</td>\n      <td>0.029148</td>\n      <td>0.1</td>\n      <td>0.001</td>\n      <td>rbf</td>\n      <td>{'model__regressor__C': 0.1, 'model__regressor...</td>\n      <td>0.323229</td>\n      <td>0.347595</td>\n      <td>...</td>\n      <td>0.031280</td>\n      <td>5</td>\n      <td>-226395.376346</td>\n      <td>-219646.099168</td>\n      <td>-266709.106795</td>\n      <td>-204226.632240</td>\n      <td>-243889.004756</td>\n      <td>-232173.243861</td>\n      <td>21453.722708</td>\n      <td>5</td>\n    </tr>\n    <tr>\n      <th>4</th>\n      <td>2.402511</td>\n      <td>0.021212</td>\n      <td>0.415643</td>\n      <td>0.049212</td>\n      <td>0.1</td>\n      <td>1</td>\n      <td>rbf</td>\n      <td>{'model__regressor__C': 0.1, 'model__regressor...</td>\n      <td>0.202753</td>\n      <td>0.196523</td>\n      <td>...</td>\n      <td>0.027862</td>\n      <td>6</td>\n      <td>-245721.586878</td>\n      <td>-243753.835462</td>\n      <td>-285686.716964</td>\n      <td>-220666.555122</td>\n      <td>-266059.256973</td>\n      <td>-252377.590280</td>\n      <td>22004.305048</td>\n      <td>6</td>\n    </tr>\n    <tr>\n      <th>5</th>\n      <td>2.397013</td>\n      <td>0.124993</td>\n      <td>0.452278</td>\n      <td>0.012893</td>\n      <td>0.1</td>\n      <td>1000</td>\n      <td>rbf</td>\n      <td>{'model__regressor__C': 0.1, 'model__regressor...</td>\n      <td>-0.024252</td>\n      <td>-0.023397</td>\n      <td>...</td>\n      <td>0.002624</td>\n      <td>9</td>\n      <td>-278516.024146</td>\n      <td>-275097.647954</td>\n      <td>-314125.386174</td>\n      <td>-254533.638653</td>\n      <td>-295533.696482</td>\n      <td>-283561.278682</td>\n      <td>20085.790892</td>\n      <td>9</td>\n    </tr>\n    <tr>\n      <th>6</th>\n      <td>2.075249</td>\n      <td>0.124180</td>\n      <td>0.363523</td>\n      <td>0.014269</td>\n      <td>10</td>\n      <td>0.001</td>\n      <td>rbf</td>\n      <td>{'model__regressor__C': 10.0, 'model__regresso...</td>\n      <td>0.590947</td>\n      <td>0.529831</td>\n      <td>...</td>\n      <td>0.042437</td>\n      <td>2</td>\n      <td>-176009.600726</td>\n      <td>-186462.568534</td>\n      <td>-227208.342962</td>\n      <td>-180060.470869</td>\n      <td>-203095.108546</td>\n      <td>-194567.218327</td>\n      <td>18754.648331</td>\n      <td>2</td>\n    </tr>\n    <tr>\n      <th>7</th>\n      <td>3.220416</td>\n      <td>0.132777</td>\n      <td>0.371372</td>\n      <td>0.015516</td>\n      <td>10</td>\n      <td>1</td>\n      <td>rbf</td>\n      <td>{'model__regressor__C': 10.0, 'model__regresso...</td>\n      <td>0.540016</td>\n      <td>0.484272</td>\n      <td>...</td>\n      <td>0.064944</td>\n      <td>3</td>\n      <td>-186645.706584</td>\n      <td>-195287.803646</td>\n      <td>-246989.997309</td>\n      <td>-176764.297572</td>\n      <td>-225735.499566</td>\n      <td>-206284.660935</td>\n      <td>26127.880833</td>\n      <td>3</td>\n    </tr>\n    <tr>\n      <th>8</th>\n      <td>3.931039</td>\n      <td>0.114186</td>\n      <td>0.561106</td>\n      <td>0.066960</td>\n      <td>10</td>\n      <td>1000</td>\n      <td>rbf</td>\n      <td>{'model__regressor__C': 10.0, 'model__regresso...</td>\n      <td>0.150526</td>\n      <td>0.151786</td>\n      <td>...</td>\n      <td>0.028270</td>\n      <td>8</td>\n      <td>-253642.297783</td>\n      <td>-250448.025874</td>\n      <td>-295240.303192</td>\n      <td>-234635.219772</td>\n      <td>-279938.569648</td>\n      <td>-262780.883254</td>\n      <td>21798.126679</td>\n      <td>8</td>\n    </tr>\n    <tr>\n      <th>9</th>\n      <td>9.229634</td>\n      <td>0.379213</td>\n      <td>0.317460</td>\n      <td>0.010424</td>\n      <td>1000</td>\n      <td>0.001</td>\n      <td>rbf</td>\n      <td>{'model__regressor__C': 1000.0, 'model__regres...</td>\n      <td>0.685938</td>\n      <td>0.744384</td>\n      <td>...</td>\n      <td>0.049947</td>\n      <td>1</td>\n      <td>-154224.979550</td>\n      <td>-137486.152583</td>\n      <td>-188998.745645</td>\n      <td>-141567.026843</td>\n      <td>-184847.417176</td>\n      <td>-161424.864359</td>\n      <td>21578.548993</td>\n      <td>1</td>\n    </tr>\n    <tr>\n      <th>10</th>\n      <td>19.244334</td>\n      <td>1.127876</td>\n      <td>0.386306</td>\n      <td>0.026127</td>\n      <td>1000</td>\n      <td>1</td>\n      <td>rbf</td>\n      <td>{'model__regressor__C': 1000.0, 'model__regres...</td>\n      <td>0.405900</td>\n      <td>0.447461</td>\n      <td>...</td>\n      <td>0.044673</td>\n      <td>4</td>\n      <td>-212117.495823</td>\n      <td>-202137.135128</td>\n      <td>-254152.143943</td>\n      <td>-187560.114357</td>\n      <td>-230999.141141</td>\n      <td>-217393.206079</td>\n      <td>23181.609793</td>\n      <td>4</td>\n    </tr>\n    <tr>\n      <th>11</th>\n      <td>3.410400</td>\n      <td>0.224359</td>\n      <td>0.456013</td>\n      <td>0.049620</td>\n      <td>1000</td>\n      <td>1000</td>\n      <td>rbf</td>\n      <td>{'model__regressor__C': 1000.0, 'model__regres...</td>\n      <td>0.150584</td>\n      <td>0.151865</td>\n      <td>...</td>\n      <td>0.028205</td>\n      <td>7</td>\n      <td>-253633.643784</td>\n      <td>-250436.261052</td>\n      <td>-295199.731654</td>\n      <td>-234625.626914</td>\n      <td>-279911.666306</td>\n      <td>-262761.385942</td>\n      <td>21786.342996</td>\n      <td>7</td>\n    </tr>\n  </tbody>\n</table>\n<p>12 rows × 24 columns</p>\n</div>"
          },
          "metadata": {},
          "execution_count": 25
        }
      ]
    },
    {
      "cell_type": "markdown",
      "metadata": {},
      "source": [
        "## Búsqueda de hiperparámetros RandomForestRegressor"
      ]
    },
    {
      "cell_type": "code",
      "execution_count": 60,
      "metadata": {},
      "outputs": [
        {
          "output_type": "execute_result",
          "data": {
            "text/plain": "((9642, 12), (9642,))"
          },
          "metadata": {},
          "execution_count": 60
        }
      ],
      "source": [
        "# Tomamos muestra para el grid search (búsqueda de hiperparámetros óptimos)\n",
        "X_train_sample, y_train_sample = get_sample(X_train, y_train, sample_size=0.2)\n",
        "X_train_sample.shape, y_train_sample.shape"
      ]
    },
    {
      "cell_type": "code",
      "execution_count": 61,
      "metadata": {},
      "outputs": [
        {
          "output_type": "error",
          "ename": "KeyboardInterrupt",
          "evalue": "",
          "traceback": [
            "\u001b[0;31m---------------------------------------------------------------------------\u001b[0m",
            "\u001b[0;31mKeyboardInterrupt\u001b[0m                         Traceback (most recent call last)",
            "\u001b[0;32m<ipython-input-61-b00f36879f43>\u001b[0m in \u001b[0;36m<module>\u001b[0;34m\u001b[0m\n\u001b[1;32m      9\u001b[0m \u001b[0;34m\u001b[0m\u001b[0m\n\u001b[1;32m     10\u001b[0m \u001b[0mmodel\u001b[0m \u001b[0;34m=\u001b[0m \u001b[0mGridSearchCV\u001b[0m\u001b[0;34m(\u001b[0m\u001b[0mmodel_rgr\u001b[0m\u001b[0;34m,\u001b[0m \u001b[0mtuned_parameters\u001b[0m\u001b[0;34m,\u001b[0m \u001b[0mn_jobs\u001b[0m\u001b[0;34m=\u001b[0m\u001b[0;36m2\u001b[0m\u001b[0;34m,\u001b[0m \u001b[0mscoring\u001b[0m\u001b[0;34m=\u001b[0m\u001b[0;34m'neg_root_mean_squared_error'\u001b[0m\u001b[0;34m,\u001b[0m \u001b[0mrefit\u001b[0m\u001b[0;34m=\u001b[0m\u001b[0;34m'neg_root_mean_squared_error'\u001b[0m\u001b[0;34m)\u001b[0m\u001b[0;34m\u001b[0m\u001b[0;34m\u001b[0m\u001b[0m\n\u001b[0;32m---> 11\u001b[0;31m \u001b[0mmodel\u001b[0m\u001b[0;34m.\u001b[0m\u001b[0mfit\u001b[0m\u001b[0;34m(\u001b[0m\u001b[0mX_train_sample\u001b[0m\u001b[0;34m,\u001b[0m \u001b[0my_train_sample\u001b[0m\u001b[0;34m)\u001b[0m\u001b[0;34m\u001b[0m\u001b[0;34m\u001b[0m\u001b[0m\n\u001b[0m",
            "\u001b[0;32m~/opt/miniconda3/envs/posgrado/lib/python3.7/site-packages/sklearn/model_selection/_search.py\u001b[0m in \u001b[0;36mfit\u001b[0;34m(self, X, y, groups, **fit_params)\u001b[0m\n\u001b[1;32m    708\u001b[0m                 \u001b[0;32mreturn\u001b[0m \u001b[0mresults\u001b[0m\u001b[0;34m\u001b[0m\u001b[0;34m\u001b[0m\u001b[0m\n\u001b[1;32m    709\u001b[0m \u001b[0;34m\u001b[0m\u001b[0m\n\u001b[0;32m--> 710\u001b[0;31m             \u001b[0mself\u001b[0m\u001b[0;34m.\u001b[0m\u001b[0m_run_search\u001b[0m\u001b[0;34m(\u001b[0m\u001b[0mevaluate_candidates\u001b[0m\u001b[0;34m)\u001b[0m\u001b[0;34m\u001b[0m\u001b[0;34m\u001b[0m\u001b[0m\n\u001b[0m\u001b[1;32m    711\u001b[0m \u001b[0;34m\u001b[0m\u001b[0m\n\u001b[1;32m    712\u001b[0m         \u001b[0;31m# For multi-metric evaluation, store the best_index_, best_params_ and\u001b[0m\u001b[0;34m\u001b[0m\u001b[0;34m\u001b[0m\u001b[0;34m\u001b[0m\u001b[0m\n",
            "\u001b[0;32m~/opt/miniconda3/envs/posgrado/lib/python3.7/site-packages/sklearn/model_selection/_search.py\u001b[0m in \u001b[0;36m_run_search\u001b[0;34m(self, evaluate_candidates)\u001b[0m\n\u001b[1;32m   1149\u001b[0m     \u001b[0;32mdef\u001b[0m \u001b[0m_run_search\u001b[0m\u001b[0;34m(\u001b[0m\u001b[0mself\u001b[0m\u001b[0;34m,\u001b[0m \u001b[0mevaluate_candidates\u001b[0m\u001b[0;34m)\u001b[0m\u001b[0;34m:\u001b[0m\u001b[0;34m\u001b[0m\u001b[0;34m\u001b[0m\u001b[0m\n\u001b[1;32m   1150\u001b[0m         \u001b[0;34m\"\"\"Search all candidates in param_grid\"\"\"\u001b[0m\u001b[0;34m\u001b[0m\u001b[0;34m\u001b[0m\u001b[0m\n\u001b[0;32m-> 1151\u001b[0;31m         \u001b[0mevaluate_candidates\u001b[0m\u001b[0;34m(\u001b[0m\u001b[0mParameterGrid\u001b[0m\u001b[0;34m(\u001b[0m\u001b[0mself\u001b[0m\u001b[0;34m.\u001b[0m\u001b[0mparam_grid\u001b[0m\u001b[0;34m)\u001b[0m\u001b[0;34m)\u001b[0m\u001b[0;34m\u001b[0m\u001b[0;34m\u001b[0m\u001b[0m\n\u001b[0m\u001b[1;32m   1152\u001b[0m \u001b[0;34m\u001b[0m\u001b[0m\n\u001b[1;32m   1153\u001b[0m \u001b[0;34m\u001b[0m\u001b[0m\n",
            "\u001b[0;32m~/opt/miniconda3/envs/posgrado/lib/python3.7/site-packages/sklearn/model_selection/_search.py\u001b[0m in \u001b[0;36mevaluate_candidates\u001b[0;34m(candidate_params)\u001b[0m\n\u001b[1;32m    687\u001b[0m                                \u001b[0;32mfor\u001b[0m \u001b[0mparameters\u001b[0m\u001b[0;34m,\u001b[0m \u001b[0;34m(\u001b[0m\u001b[0mtrain\u001b[0m\u001b[0;34m,\u001b[0m \u001b[0mtest\u001b[0m\u001b[0;34m)\u001b[0m\u001b[0;34m\u001b[0m\u001b[0;34m\u001b[0m\u001b[0m\n\u001b[1;32m    688\u001b[0m                                in product(candidate_params,\n\u001b[0;32m--> 689\u001b[0;31m                                           cv.split(X, y, groups)))\n\u001b[0m\u001b[1;32m    690\u001b[0m \u001b[0;34m\u001b[0m\u001b[0m\n\u001b[1;32m    691\u001b[0m                 \u001b[0;32mif\u001b[0m \u001b[0mlen\u001b[0m\u001b[0;34m(\u001b[0m\u001b[0mout\u001b[0m\u001b[0;34m)\u001b[0m \u001b[0;34m<\u001b[0m \u001b[0;36m1\u001b[0m\u001b[0;34m:\u001b[0m\u001b[0;34m\u001b[0m\u001b[0;34m\u001b[0m\u001b[0m\n",
            "\u001b[0;32m~/opt/miniconda3/envs/posgrado/lib/python3.7/site-packages/joblib/parallel.py\u001b[0m in \u001b[0;36m__call__\u001b[0;34m(self, iterable)\u001b[0m\n\u001b[1;32m   1015\u001b[0m \u001b[0;34m\u001b[0m\u001b[0m\n\u001b[1;32m   1016\u001b[0m             \u001b[0;32mwith\u001b[0m \u001b[0mself\u001b[0m\u001b[0;34m.\u001b[0m\u001b[0m_backend\u001b[0m\u001b[0;34m.\u001b[0m\u001b[0mretrieval_context\u001b[0m\u001b[0;34m(\u001b[0m\u001b[0;34m)\u001b[0m\u001b[0;34m:\u001b[0m\u001b[0;34m\u001b[0m\u001b[0;34m\u001b[0m\u001b[0m\n\u001b[0;32m-> 1017\u001b[0;31m                 \u001b[0mself\u001b[0m\u001b[0;34m.\u001b[0m\u001b[0mretrieve\u001b[0m\u001b[0;34m(\u001b[0m\u001b[0;34m)\u001b[0m\u001b[0;34m\u001b[0m\u001b[0;34m\u001b[0m\u001b[0m\n\u001b[0m\u001b[1;32m   1018\u001b[0m             \u001b[0;31m# Make sure that we get a last message telling us we are done\u001b[0m\u001b[0;34m\u001b[0m\u001b[0;34m\u001b[0m\u001b[0;34m\u001b[0m\u001b[0m\n\u001b[1;32m   1019\u001b[0m             \u001b[0melapsed_time\u001b[0m \u001b[0;34m=\u001b[0m \u001b[0mtime\u001b[0m\u001b[0;34m.\u001b[0m\u001b[0mtime\u001b[0m\u001b[0;34m(\u001b[0m\u001b[0;34m)\u001b[0m \u001b[0;34m-\u001b[0m \u001b[0mself\u001b[0m\u001b[0;34m.\u001b[0m\u001b[0m_start_time\u001b[0m\u001b[0;34m\u001b[0m\u001b[0;34m\u001b[0m\u001b[0m\n",
            "\u001b[0;32m~/opt/miniconda3/envs/posgrado/lib/python3.7/site-packages/joblib/parallel.py\u001b[0m in \u001b[0;36mretrieve\u001b[0;34m(self)\u001b[0m\n\u001b[1;32m    907\u001b[0m             \u001b[0;32mtry\u001b[0m\u001b[0;34m:\u001b[0m\u001b[0;34m\u001b[0m\u001b[0;34m\u001b[0m\u001b[0m\n\u001b[1;32m    908\u001b[0m                 \u001b[0;32mif\u001b[0m \u001b[0mgetattr\u001b[0m\u001b[0;34m(\u001b[0m\u001b[0mself\u001b[0m\u001b[0;34m.\u001b[0m\u001b[0m_backend\u001b[0m\u001b[0;34m,\u001b[0m \u001b[0;34m'supports_timeout'\u001b[0m\u001b[0;34m,\u001b[0m \u001b[0;32mFalse\u001b[0m\u001b[0;34m)\u001b[0m\u001b[0;34m:\u001b[0m\u001b[0;34m\u001b[0m\u001b[0;34m\u001b[0m\u001b[0m\n\u001b[0;32m--> 909\u001b[0;31m                     \u001b[0mself\u001b[0m\u001b[0;34m.\u001b[0m\u001b[0m_output\u001b[0m\u001b[0;34m.\u001b[0m\u001b[0mextend\u001b[0m\u001b[0;34m(\u001b[0m\u001b[0mjob\u001b[0m\u001b[0;34m.\u001b[0m\u001b[0mget\u001b[0m\u001b[0;34m(\u001b[0m\u001b[0mtimeout\u001b[0m\u001b[0;34m=\u001b[0m\u001b[0mself\u001b[0m\u001b[0;34m.\u001b[0m\u001b[0mtimeout\u001b[0m\u001b[0;34m)\u001b[0m\u001b[0;34m)\u001b[0m\u001b[0;34m\u001b[0m\u001b[0;34m\u001b[0m\u001b[0m\n\u001b[0m\u001b[1;32m    910\u001b[0m                 \u001b[0;32melse\u001b[0m\u001b[0;34m:\u001b[0m\u001b[0;34m\u001b[0m\u001b[0;34m\u001b[0m\u001b[0m\n\u001b[1;32m    911\u001b[0m                     \u001b[0mself\u001b[0m\u001b[0;34m.\u001b[0m\u001b[0m_output\u001b[0m\u001b[0;34m.\u001b[0m\u001b[0mextend\u001b[0m\u001b[0;34m(\u001b[0m\u001b[0mjob\u001b[0m\u001b[0;34m.\u001b[0m\u001b[0mget\u001b[0m\u001b[0;34m(\u001b[0m\u001b[0;34m)\u001b[0m\u001b[0;34m)\u001b[0m\u001b[0;34m\u001b[0m\u001b[0;34m\u001b[0m\u001b[0m\n",
            "\u001b[0;32m~/opt/miniconda3/envs/posgrado/lib/python3.7/site-packages/joblib/_parallel_backends.py\u001b[0m in \u001b[0;36mwrap_future_result\u001b[0;34m(future, timeout)\u001b[0m\n\u001b[1;32m    560\u001b[0m         AsyncResults.get from multiprocessing.\"\"\"\n\u001b[1;32m    561\u001b[0m         \u001b[0;32mtry\u001b[0m\u001b[0;34m:\u001b[0m\u001b[0;34m\u001b[0m\u001b[0;34m\u001b[0m\u001b[0m\n\u001b[0;32m--> 562\u001b[0;31m             \u001b[0;32mreturn\u001b[0m \u001b[0mfuture\u001b[0m\u001b[0;34m.\u001b[0m\u001b[0mresult\u001b[0m\u001b[0;34m(\u001b[0m\u001b[0mtimeout\u001b[0m\u001b[0;34m=\u001b[0m\u001b[0mtimeout\u001b[0m\u001b[0;34m)\u001b[0m\u001b[0;34m\u001b[0m\u001b[0;34m\u001b[0m\u001b[0m\n\u001b[0m\u001b[1;32m    563\u001b[0m         \u001b[0;32mexcept\u001b[0m \u001b[0mLokyTimeoutError\u001b[0m\u001b[0;34m:\u001b[0m\u001b[0;34m\u001b[0m\u001b[0;34m\u001b[0m\u001b[0m\n\u001b[1;32m    564\u001b[0m             \u001b[0;32mraise\u001b[0m \u001b[0mTimeoutError\u001b[0m\u001b[0;34m(\u001b[0m\u001b[0;34m)\u001b[0m\u001b[0;34m\u001b[0m\u001b[0;34m\u001b[0m\u001b[0m\n",
            "\u001b[0;32m~/opt/miniconda3/envs/posgrado/lib/python3.7/concurrent/futures/_base.py\u001b[0m in \u001b[0;36mresult\u001b[0;34m(self, timeout)\u001b[0m\n\u001b[1;32m    428\u001b[0m                 \u001b[0;32mreturn\u001b[0m \u001b[0mself\u001b[0m\u001b[0;34m.\u001b[0m\u001b[0m__get_result\u001b[0m\u001b[0;34m(\u001b[0m\u001b[0;34m)\u001b[0m\u001b[0;34m\u001b[0m\u001b[0;34m\u001b[0m\u001b[0m\n\u001b[1;32m    429\u001b[0m \u001b[0;34m\u001b[0m\u001b[0m\n\u001b[0;32m--> 430\u001b[0;31m             \u001b[0mself\u001b[0m\u001b[0;34m.\u001b[0m\u001b[0m_condition\u001b[0m\u001b[0;34m.\u001b[0m\u001b[0mwait\u001b[0m\u001b[0;34m(\u001b[0m\u001b[0mtimeout\u001b[0m\u001b[0;34m)\u001b[0m\u001b[0;34m\u001b[0m\u001b[0;34m\u001b[0m\u001b[0m\n\u001b[0m\u001b[1;32m    431\u001b[0m \u001b[0;34m\u001b[0m\u001b[0m\n\u001b[1;32m    432\u001b[0m             \u001b[0;32mif\u001b[0m \u001b[0mself\u001b[0m\u001b[0;34m.\u001b[0m\u001b[0m_state\u001b[0m \u001b[0;32min\u001b[0m \u001b[0;34m[\u001b[0m\u001b[0mCANCELLED\u001b[0m\u001b[0;34m,\u001b[0m \u001b[0mCANCELLED_AND_NOTIFIED\u001b[0m\u001b[0;34m]\u001b[0m\u001b[0;34m:\u001b[0m\u001b[0;34m\u001b[0m\u001b[0;34m\u001b[0m\u001b[0m\n",
            "\u001b[0;32m~/opt/miniconda3/envs/posgrado/lib/python3.7/threading.py\u001b[0m in \u001b[0;36mwait\u001b[0;34m(self, timeout)\u001b[0m\n\u001b[1;32m    294\u001b[0m         \u001b[0;32mtry\u001b[0m\u001b[0;34m:\u001b[0m    \u001b[0;31m# restore state no matter what (e.g., KeyboardInterrupt)\u001b[0m\u001b[0;34m\u001b[0m\u001b[0;34m\u001b[0m\u001b[0m\n\u001b[1;32m    295\u001b[0m             \u001b[0;32mif\u001b[0m \u001b[0mtimeout\u001b[0m \u001b[0;32mis\u001b[0m \u001b[0;32mNone\u001b[0m\u001b[0;34m:\u001b[0m\u001b[0;34m\u001b[0m\u001b[0;34m\u001b[0m\u001b[0m\n\u001b[0;32m--> 296\u001b[0;31m                 \u001b[0mwaiter\u001b[0m\u001b[0;34m.\u001b[0m\u001b[0macquire\u001b[0m\u001b[0;34m(\u001b[0m\u001b[0;34m)\u001b[0m\u001b[0;34m\u001b[0m\u001b[0;34m\u001b[0m\u001b[0m\n\u001b[0m\u001b[1;32m    297\u001b[0m                 \u001b[0mgotit\u001b[0m \u001b[0;34m=\u001b[0m \u001b[0;32mTrue\u001b[0m\u001b[0;34m\u001b[0m\u001b[0;34m\u001b[0m\u001b[0m\n\u001b[1;32m    298\u001b[0m             \u001b[0;32melse\u001b[0m\u001b[0;34m:\u001b[0m\u001b[0;34m\u001b[0m\u001b[0;34m\u001b[0m\u001b[0m\n",
            "\u001b[0;31mKeyboardInterrupt\u001b[0m: "
          ]
        }
      ],
      "source": [
        "# Entrenar modelo RandomForestRegressor con búsqueda de hiperparámetros\n",
        "tuned_parameters = {'model__regressor__n_estimators': [100, 200, 400], \n",
        "                    'model__regressor__max_depth': [30, 60, 100, 300],\n",
        "                    'model__regressor__max_features': [2, 3],\n",
        "                    'model__regressor__min_samples_leaf': [3, 4, 5],\n",
        "                    'model__regressor__min_samples_split': [8, 10, 12]\n",
        "                    }\n",
        "model_rgr = create_train_rgr_model(df_train)\n",
        "\n",
        "model = GridSearchCV(model_rgr, tuned_parameters, n_jobs=2, scoring='neg_root_mean_squared_error', refit='neg_root_mean_squared_error', verbose=5)\n",
        "model.fit(X_train_sample, y_train_sample)"
      ]
    },
    {
      "cell_type": "code",
      "execution_count": null,
      "metadata": {},
      "outputs": [],
      "source": []
    },
    {
      "cell_type": "code",
      "execution_count": null,
      "metadata": {},
      "outputs": [],
      "source": []
    },
    {
      "cell_type": "code",
      "metadata": {
        "id": "dvqysss0j8fW",
        "colab_type": "code",
        "colab": {
          "base_uri": "https://localhost:8080/",
          "height": 530
        },
        "outputId": "d9a59c6c-45ea-42b2-aa80-bc714c381d92"
      },
      "source": [
        "df_test = pd.read_excel('https://github.com/arielfaur/prediccion-precio-propiedades-fmap-2020/raw/master/propiedades_prueba.xlsx')\n",
        "df_test.head()"
      ],
      "execution_count": 27,
      "outputs": [
        {
          "output_type": "execute_result",
          "data": {
            "text/plain": "    id  pub_inicio     pub_fin  pub_creada        lat        lon  \\\n0    2  2019-10-23  9999-12-31  2019-10-23 -34.586330 -58.508957   \n1   34  2019-05-07  2019-06-23  2019-05-07 -34.581699 -58.433547   \n2   54  2019-10-13  2019-12-23  2019-10-13 -34.628187 -58.429586   \n3  101  2019-08-25  2019-09-14  2019-08-25 -34.593716 -58.440695   \n4  103  2019-10-23  2019-11-09  2019-10-23 -34.591336 -58.447218   \n\n         barrio          subbarrio  habitaciones  dormitorios  banios  \\\n0  Villa Devoto                NaN           1.0          NaN     NaN   \n1       Palermo  Palermo Hollywood           1.0          1.0     1.0   \n2     Caballito                NaN           2.0          1.0     1.0   \n3       Palermo                NaN           2.0          1.0     1.0   \n4  Villa Crespo                NaN           2.0          1.0     1.0   \n\n   sup_total  sup_cubierta                                             titulo  \\\n0         45            37  Ladines  3200 pb - U$D 124.000 - Departamento ...   \n1         53            40      VENTA MONOAMBIENTE ESPECTACULAR EN COLEGIALES   \n2         42            38  2 ambientes divisibles a estrenar en Palmera C...   \n3         62            38  Depto 2 amb c/terraza prpia Palermo Queens out...   \n4         44            40  Departamento de dos ambientes con cochera en v...   \n\n                                         descripcion  precio  \n0  Impecable 2 ambientes con patio cubierto con t...     NaN  \n1  Monoambiente impecable divisible a dos ambient...     NaN  \n2  Palmera Caballito: Torre con amenities de gran...     NaN  \n3  Corredor Responsable: Ariel Champanier - CUCIC...     NaN  \n4  Departamento de 2 ambientes con cochera ubicad...     NaN  ",
            "text/html": "<div>\n<style scoped>\n    .dataframe tbody tr th:only-of-type {\n        vertical-align: middle;\n    }\n\n    .dataframe tbody tr th {\n        vertical-align: top;\n    }\n\n    .dataframe thead th {\n        text-align: right;\n    }\n</style>\n<table border=\"1\" class=\"dataframe\">\n  <thead>\n    <tr style=\"text-align: right;\">\n      <th></th>\n      <th>id</th>\n      <th>pub_inicio</th>\n      <th>pub_fin</th>\n      <th>pub_creada</th>\n      <th>lat</th>\n      <th>lon</th>\n      <th>barrio</th>\n      <th>subbarrio</th>\n      <th>habitaciones</th>\n      <th>dormitorios</th>\n      <th>banios</th>\n      <th>sup_total</th>\n      <th>sup_cubierta</th>\n      <th>titulo</th>\n      <th>descripcion</th>\n      <th>precio</th>\n    </tr>\n  </thead>\n  <tbody>\n    <tr>\n      <th>0</th>\n      <td>2</td>\n      <td>2019-10-23</td>\n      <td>9999-12-31</td>\n      <td>2019-10-23</td>\n      <td>-34.586330</td>\n      <td>-58.508957</td>\n      <td>Villa Devoto</td>\n      <td>NaN</td>\n      <td>1.0</td>\n      <td>NaN</td>\n      <td>NaN</td>\n      <td>45</td>\n      <td>37</td>\n      <td>Ladines  3200 pb - U$D 124.000 - Departamento ...</td>\n      <td>Impecable 2 ambientes con patio cubierto con t...</td>\n      <td>NaN</td>\n    </tr>\n    <tr>\n      <th>1</th>\n      <td>34</td>\n      <td>2019-05-07</td>\n      <td>2019-06-23</td>\n      <td>2019-05-07</td>\n      <td>-34.581699</td>\n      <td>-58.433547</td>\n      <td>Palermo</td>\n      <td>Palermo Hollywood</td>\n      <td>1.0</td>\n      <td>1.0</td>\n      <td>1.0</td>\n      <td>53</td>\n      <td>40</td>\n      <td>VENTA MONOAMBIENTE ESPECTACULAR EN COLEGIALES</td>\n      <td>Monoambiente impecable divisible a dos ambient...</td>\n      <td>NaN</td>\n    </tr>\n    <tr>\n      <th>2</th>\n      <td>54</td>\n      <td>2019-10-13</td>\n      <td>2019-12-23</td>\n      <td>2019-10-13</td>\n      <td>-34.628187</td>\n      <td>-58.429586</td>\n      <td>Caballito</td>\n      <td>NaN</td>\n      <td>2.0</td>\n      <td>1.0</td>\n      <td>1.0</td>\n      <td>42</td>\n      <td>38</td>\n      <td>2 ambientes divisibles a estrenar en Palmera C...</td>\n      <td>Palmera Caballito: Torre con amenities de gran...</td>\n      <td>NaN</td>\n    </tr>\n    <tr>\n      <th>3</th>\n      <td>101</td>\n      <td>2019-08-25</td>\n      <td>2019-09-14</td>\n      <td>2019-08-25</td>\n      <td>-34.593716</td>\n      <td>-58.440695</td>\n      <td>Palermo</td>\n      <td>NaN</td>\n      <td>2.0</td>\n      <td>1.0</td>\n      <td>1.0</td>\n      <td>62</td>\n      <td>38</td>\n      <td>Depto 2 amb c/terraza prpia Palermo Queens out...</td>\n      <td>Corredor Responsable: Ariel Champanier - CUCIC...</td>\n      <td>NaN</td>\n    </tr>\n    <tr>\n      <th>4</th>\n      <td>103</td>\n      <td>2019-10-23</td>\n      <td>2019-11-09</td>\n      <td>2019-10-23</td>\n      <td>-34.591336</td>\n      <td>-58.447218</td>\n      <td>Villa Crespo</td>\n      <td>NaN</td>\n      <td>2.0</td>\n      <td>1.0</td>\n      <td>1.0</td>\n      <td>44</td>\n      <td>40</td>\n      <td>Departamento de dos ambientes con cochera en v...</td>\n      <td>Departamento de 2 ambientes con cochera ubicad...</td>\n      <td>NaN</td>\n    </tr>\n  </tbody>\n</table>\n</div>"
          },
          "metadata": {},
          "execution_count": 27
        }
      ]
    },
    {
      "cell_type": "code",
      "metadata": {
        "id": "xPER5ompNBVX",
        "colab_type": "code",
        "colab": {
          "base_uri": "https://localhost:8080/",
          "height": 85
        },
        "outputId": "196fda95-845d-4c1e-cf81-da777fe62ff2"
      },
      "source": [
        "ids, df_test = preprocessing(df_test)"
      ],
      "execution_count": 28,
      "outputs": []
    },
    {
      "cell_type": "code",
      "execution_count": 43,
      "metadata": {},
      "outputs": [
        {
          "output_type": "execute_result",
          "data": {
            "text/plain": "Pipeline(memory=None,\n         steps=[('preprocessing',\n                 ColumnTransformer(n_jobs=None, remainder='drop',\n                                   sparse_threshold=0.3,\n                                   transformer_weights=None,\n                                   transformers=[('pipeline-1',\n                                                  Pipeline(memory=None,\n                                                           steps=[('simpleimputer',\n                                                                   SimpleImputer(add_indicator=False,\n                                                                                 copy=True,\n                                                                                 fill_value=None,\n                                                                                 missing_values=nan,\n                                                                                 strategy='mean',\n                                                                                 verbose=0)),\n                                                                  ('standardscaler',\n                                                                   StandardScaler...\n                                                           verbose=False),\n                                                  ['barrio'])],\n                                   verbose=False)),\n                ('model',\n                 TransformedTargetRegressor(check_inverse=True, func=None,\n                                            inverse_func=None,\n                                            regressor=SVR(C=1000,\n                                                          cache_size=1000,\n                                                          coef0=0.0, degree=3,\n                                                          epsilon=0.1,\n                                                          gamma=0.001,\n                                                          kernel='rbf',\n                                                          max_iter=-1,\n                                                          shrinking=True,\n                                                          tol=0.001,\n                                                          verbose=False),\n                                            transformer=StandardScaler(copy=True,\n                                                                       with_mean=True,\n                                                                       with_std=True)))],\n         verbose=False)"
          },
          "metadata": {},
          "execution_count": 43
        }
      ],
      "source": [
        "model_svr.set_params(model__regressor__C=1000, model__regressor__gamma=0.001)"
      ]
    },
    {
      "cell_type": "code",
      "metadata": {
        "id": "x_78SmGRj8fY",
        "colab_type": "code",
        "colab": {
          "base_uri": "https://localhost:8080/",
          "height": 544
        },
        "outputId": "30418410-4a97-4df5-ec85-d7e727158e5f"
      },
      "source": [
        "model_svr.fit(X_train, y_train)\n"
      ],
      "execution_count": 49,
      "outputs": [
        {
          "output_type": "execute_result",
          "data": {
            "text/plain": "Pipeline(memory=None,\n         steps=[('preprocessing',\n                 ColumnTransformer(n_jobs=None, remainder='drop',\n                                   sparse_threshold=0.3,\n                                   transformer_weights=None,\n                                   transformers=[('pipeline-1',\n                                                  Pipeline(memory=None,\n                                                           steps=[('simpleimputer',\n                                                                   SimpleImputer(add_indicator=False,\n                                                                                 copy=True,\n                                                                                 fill_value=None,\n                                                                                 missing_values=nan,\n                                                                                 strategy='mean',\n                                                                                 verbose=0)),\n                                                                  ('standardscaler',\n                                                                   StandardScaler...\n                                                           verbose=False),\n                                                  ['barrio'])],\n                                   verbose=False)),\n                ('model',\n                 TransformedTargetRegressor(check_inverse=True, func=None,\n                                            inverse_func=None,\n                                            regressor=SVR(C=1000,\n                                                          cache_size=1000,\n                                                          coef0=0.0, degree=3,\n                                                          epsilon=0.1,\n                                                          gamma=0.001,\n                                                          kernel='rbf',\n                                                          max_iter=-1,\n                                                          shrinking=True,\n                                                          tol=0.001,\n                                                          verbose=False),\n                                            transformer=StandardScaler(copy=True,\n                                                                       with_mean=True,\n                                                                       with_std=True)))],\n         verbose=False)"
          },
          "metadata": {},
          "execution_count": 49
        }
      ]
    },
    {
      "cell_type": "code",
      "metadata": {
        "id": "hs1dIzoIj8fa",
        "colab_type": "code",
        "colab": {
          "base_uri": "https://localhost:8080/",
          "height": 71
        },
        "outputId": "8c6ca147-ab22-4ef1-aece-a535a8f8cd9a"
      },
      "source": [
        "predicted = model_svr.predict(df_test)\n",
        "data = pd.DataFrame(data={'id' : ids.values, 'precio': np.round(predicted).astype(int) })"
      ],
      "execution_count": 50,
      "outputs": []
    },
    {
      "cell_type": "code",
      "metadata": {
        "id": "y3jb4Xb4j8fe",
        "colab_type": "code",
        "colab": {
          "base_uri": "https://localhost:8080/",
          "height": 419
        },
        "outputId": "90d2b86c-c710-437c-d062-eb82dfa43568"
      },
      "source": [
        "data\n"
      ],
      "execution_count": 51,
      "outputs": [
        {
          "output_type": "execute_result",
          "data": {
            "text/plain": "         id  precio\n0         2  129019\n1        34  145342\n2        54  122122\n3       101  116858\n4       103  133762\n...     ...     ...\n2495  53190  118715\n2496  53221  223096\n2497  53233  114175\n2498  53243  144380\n2499  53244  119738\n\n[2500 rows x 2 columns]",
            "text/html": "<div>\n<style scoped>\n    .dataframe tbody tr th:only-of-type {\n        vertical-align: middle;\n    }\n\n    .dataframe tbody tr th {\n        vertical-align: top;\n    }\n\n    .dataframe thead th {\n        text-align: right;\n    }\n</style>\n<table border=\"1\" class=\"dataframe\">\n  <thead>\n    <tr style=\"text-align: right;\">\n      <th></th>\n      <th>id</th>\n      <th>precio</th>\n    </tr>\n  </thead>\n  <tbody>\n    <tr>\n      <th>0</th>\n      <td>2</td>\n      <td>129019</td>\n    </tr>\n    <tr>\n      <th>1</th>\n      <td>34</td>\n      <td>145342</td>\n    </tr>\n    <tr>\n      <th>2</th>\n      <td>54</td>\n      <td>122122</td>\n    </tr>\n    <tr>\n      <th>3</th>\n      <td>101</td>\n      <td>116858</td>\n    </tr>\n    <tr>\n      <th>4</th>\n      <td>103</td>\n      <td>133762</td>\n    </tr>\n    <tr>\n      <th>...</th>\n      <td>...</td>\n      <td>...</td>\n    </tr>\n    <tr>\n      <th>2495</th>\n      <td>53190</td>\n      <td>118715</td>\n    </tr>\n    <tr>\n      <th>2496</th>\n      <td>53221</td>\n      <td>223096</td>\n    </tr>\n    <tr>\n      <th>2497</th>\n      <td>53233</td>\n      <td>114175</td>\n    </tr>\n    <tr>\n      <th>2498</th>\n      <td>53243</td>\n      <td>144380</td>\n    </tr>\n    <tr>\n      <th>2499</th>\n      <td>53244</td>\n      <td>119738</td>\n    </tr>\n  </tbody>\n</table>\n<p>2500 rows × 2 columns</p>\n</div>"
          },
          "metadata": {},
          "execution_count": 51
        }
      ]
    },
    {
      "cell_type": "code",
      "metadata": {
        "id": "JjGeJ_eHj8fg",
        "colab_type": "code",
        "colab": {
          "base_uri": "https://localhost:8080/",
          "height": 17
        },
        "outputId": "3184ae91-a194-47df-fd67-0ef5b3880a61"
      },
      "source": [
        "#from google.colab import files\n",
        "data.to_csv('propiedades_prediccion.csv', index=False)\n",
        "#files.download('propiedades_prediccion.csv')"
      ],
      "execution_count": 52,
      "outputs": []
    },
    {
      "cell_type": "code",
      "metadata": {
        "id": "P7YGp2jhj8fi",
        "colab_type": "code",
        "colab": {}
      },
      "source": [
        ""
      ],
      "execution_count": null,
      "outputs": []
    }
  ]
}