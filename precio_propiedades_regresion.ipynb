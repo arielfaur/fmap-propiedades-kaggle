{
  "nbformat": 4,
  "nbformat_minor": 0,
  "metadata": {
    "orig_nbformat": 2,
    "kernelspec": {
      "name": "python3",
      "display_name": "Python 3"
    },
    "colab": {
      "name": "precio_propiedades_regresion.ipynb",
      "provenance": []
    },
    "accelerator": "TPU"
  },
  "cells": [
    {
      "cell_type": "code",
      "metadata": {
        "id": "RRt0_GO3J38z",
        "colab_type": "code",
        "colab": {
          "base_uri": "https://localhost:8080/",
          "height": 34
        },
        "outputId": "2d0c4d75-d1d8-4d92-d300-0f2741174e57"
      },
      "source": [
        "!pip install -q git+https://github.com/tensorflow/docs"
      ],
      "execution_count": 17,
      "outputs": [
        {
          "output_type": "stream",
          "text": [
            "  Building wheel for tensorflow-docs (setup.py) ... \u001b[?25l\u001b[?25hdone\n"
          ],
          "name": "stdout"
        }
      ]
    },
    {
      "cell_type": "code",
      "metadata": {
        "id": "_alVaAe-c4fo",
        "colab_type": "code",
        "colab": {
          "base_uri": "https://localhost:8080/",
          "height": 34
        },
        "outputId": "8e842d86-767d-424c-ceef-316b74b07a81"
      },
      "source": [
        "import tensorflow as tf\n",
        "print(tf.__version__)"
      ],
      "execution_count": 2,
      "outputs": [
        {
          "output_type": "stream",
          "text": [
            "2.4.0-dev20200725\n"
          ],
          "name": "stdout"
        }
      ]
    },
    {
      "cell_type": "code",
      "metadata": {
        "id": "R72C2qvtj8fJ",
        "colab_type": "code",
        "tags": [],
        "colab": {}
      },
      "source": [
        "import sys\n",
        "import pandas as pd \n",
        "import numpy as np\n",
        "import matplotlib.pyplot as plt \n",
        "import seaborn as sns \n",
        "import tensorflow_docs as tfdocs\n",
        "import tensorflow_docs.plots\n",
        "import tensorflow_docs.modeling\n",
        "# %matplotlib inline\n",
        "\n",
        "from urllib.parse import urljoin\n",
        "from sklearn.feature_extraction.text import CountVectorizer\n",
        "from sklearn.pipeline import make_pipeline, Pipeline\n",
        "from sklearn.preprocessing import StandardScaler, OneHotEncoder\n",
        "from sklearn.compose import ColumnTransformer, make_column_transformer, TransformedTargetRegressor\n",
        "from sklearn.impute import SimpleImputer, KNNImputer\n",
        "\n",
        "from sklearn.ensemble import RandomForestRegressor, GradientBoostingRegressor, VotingRegressor\n",
        "from sklearn.linear_model import LinearRegression\n",
        "from sklearn.svm import SVR\n",
        "from sklearn.model_selection import GridSearchCV, cross_validate, cross_val_score, cross_val_predict, KFold, train_test_split\n",
        "# from sklearn.decomposition import PCA\n",
        "\n",
        "from tensorflow import keras\n",
        "from tensorflow.keras import layers\n",
        "\n",
        "IS_COLAB = 'google.colab' in sys.modules\n",
        "\n",
        "# palabras a buscar en columna descripción\n",
        "text_mining_keywords = ['cochera', 'sum', 'parrilla', 'pileta']\n",
        "\n",
        "# url repositorio\n",
        "github_repo_url = 'https://github.com/arielfaur/prediccion-precio-propiedades-fmap-2020/raw/master/'\n",
        "base_url = github_repo_url if IS_COLAB else ''\n",
        "\n",
        "## Buscar palabras clave en texto descripción y vectorizar resultados en columnas binarias\n",
        "def vectorize_descripcion(df: pd.DataFrame):\n",
        "    descripcion = df['descripcion']\n",
        "    descripcion[descripcion.isna()] = ''\n",
        "\n",
        "    \n",
        "    # entrenamos el modelo para buscar las keywords\n",
        "    vectorizer = CountVectorizer(binary=True)  \n",
        "    vectorizer.fit(text_mining_keywords)\n",
        "\n",
        "    # hot encoding de los resultados\n",
        "    df_countvectorizer = vectorizer.transform(descripcion)\n",
        "\n",
        "    desc = pd.DataFrame(df_countvectorizer.toarray())\n",
        "    desc.columns = text_mining_keywords\n",
        "    \n",
        "    df.drop(['descripcion'], axis=1, inplace=True)\n",
        "    return(pd.concat([df, desc], axis=1))\n",
        "    \n",
        "\n",
        "## Preprocesamiento - Eliminar algunas variables del modelo\n",
        "def preprocessing(df: pd.DataFrame):\n",
        "    # guardar los id\n",
        "    ids = df['id']\n",
        "\n",
        "    # eliminar columnas innecesarias del modelo\n",
        "    df.drop(['id', 'pub_inicio', 'pub_fin', 'pub_creada', 'subbarrio', 'titulo'],axis=1, inplace=True)\n",
        "\n",
        "    df = vectorize_descripcion(df)\n",
        "\n",
        "    return ids, df\n",
        "\n",
        "\n",
        "## Partir el set de datos y la variable target\n",
        "def split_data(df: pd.DataFrame, test_size = 0.05):\n",
        "    y = df['precio']\n",
        "    X = df.drop(['precio'], axis=1)\n",
        "\n",
        "    X_train, X_test, y_train, y_test = train_test_split(X, y, test_size = test_size, random_state=5)\n",
        "    return X_train, X_test, y_train, y_test\n",
        "\n",
        "## Obtener un subconjunto de los datos de entrenamiento para Grid Search\n",
        "def get_sample(X: pd.DataFrame, y: pd.DataFrame, sample_size = 0.1):\n",
        "    size = round(len(X)*sample_size)\n",
        "    \n",
        "    idx = np.arange(0, len(X))\n",
        "    rand_idx = np.random.choice(idx, size, replace=False)\n",
        "    \n",
        "    X_sample = X.iloc[rand_idx]\n",
        "    y_sample = y.iloc[rand_idx]\n",
        "    return X_sample, y_sample\n",
        "\n",
        "## Crear pipeline preprocesamiento de los features: imputación, estandarización, one-hot encoding\n",
        "def make_transformer_pipeline():\n",
        "    numeric_features = ['lat', 'lon', 'habitaciones', 'dormitorios', 'banios',\n",
        "       'sup_total', 'sup_cubierta', 'cochera', 'sum', 'parrilla',\n",
        "       'pileta']\n",
        "    numeric_transformer = make_pipeline( \n",
        "        SimpleImputer(missing_values = np.nan, strategy='mean'),\n",
        "        StandardScaler(),\n",
        "    )\n",
        "\n",
        "    categorical_features = ['barrio']\n",
        "    categorical_transformer = make_pipeline(\n",
        "        SimpleImputer(strategy='constant', fill_value='missing'),\n",
        "        #SimpleImputer(strategy=\"most_frequent\"),\n",
        "        #KNNImputer(n_neighbors=3, weights=\"uniform\"),     # KNNImputer tarda una eternidad...\n",
        "        OneHotEncoder(handle_unknown='ignore')\n",
        "    )\n",
        "\n",
        "    return make_column_transformer(\n",
        "        (numeric_transformer, numeric_features),\n",
        "        (categorical_transformer, categorical_features)\n",
        "    )    \n",
        "\n",
        "## Crear modelo RandomForestRegressor\n",
        "def create_train_rfr_model():\n",
        "    transformer = make_transformer_pipeline()\n",
        "\n",
        "    pipeline = Pipeline([\n",
        "        ('preprocessing', transformer),\n",
        "        ('model', TransformedTargetRegressor(RandomForestRegressor(random_state=5), transformer=StandardScaler()))\n",
        "    ])\n",
        "    return pipeline\n",
        "\n",
        "## Crear modelo SVR\n",
        "def create_train_svr_model():\n",
        "    transformer = make_transformer_pipeline()\n",
        "    \n",
        "    pipeline = Pipeline([\n",
        "        ('preprocessing', transformer),\n",
        "        ('model', TransformedTargetRegressor(SVR(cache_size=1000), transformer=StandardScaler()))\n",
        "    ])\n",
        "    return pipeline\n",
        "\n",
        "## Crear modelo LinearRegression\n",
        "def create_train_lr_model():\n",
        "    transformer = make_transformer_pipeline()\n",
        "    lr = LinearRegression()\n",
        "\n",
        "    pipeline = make_pipeline(transformer, lr)\n",
        "    model = TransformedTargetRegressor(regressor=pipeline, transformer=StandardScaler())\n",
        "\n",
        "    return model    \n",
        "\n",
        "## Crear modelo red neuronal Keras\n",
        "def build_keras_model(input_dim):\n",
        "    # crear modelo\n",
        "    # model = Sequential()\n",
        "    # model.add(Dense(64, kernel_initializer='normal', activation='relu'))\n",
        "    # model.add(Dense(1, kernel_initializer='normal'))\n",
        "\n",
        "    model = keras.Sequential()\n",
        "    model.add(layers.Dense(64, activation='relu', input_dim=input_dim))\n",
        "    # model.add(layers.Dense(64, activation='relu'))\n",
        "    model.add(layers.Dense(1))\n",
        "\n",
        "    # optimizer = tf.keras.optimizers.RMSprop(0.001)\n",
        "    optimizer = tf.keras.optimizers.Adam(learning_rate=0.0001)\n",
        "\n",
        "    # compilar modelo\n",
        "    model.compile(loss='mean_squared_error', optimizer=optimizer, metrics=['mae', 'mse'])\n",
        "    return model\n",
        "\n",
        "## Pipeline preprocesamiento para red neuronal\n",
        "def create_keras_pipeline():\n",
        "    transformer = make_transformer_pipeline()\n",
        "    pipeline = Pipeline([\n",
        "        ('preprocessing', transformer)\n",
        "    ])\n",
        "    return pipeline\n",
        "    \n",
        "## Graficar predicción vs real\n",
        "def plot_test_predictions(y_test, y_pred):\n",
        "    # graficar predicciones contra datos actuales\n",
        "    plt.figure(figsize = (18,10))\n",
        "    plot_k = sns.scatterplot(y_test, y_pred)\n",
        "    plot_k.set(xlabel='Precio test', ylabel='Precio predicción')\n",
        "    # graficar la identidad\n",
        "    x_plot = np.linspace(0,np.max(y_test),1000)\n",
        "    y_plot = x_plot\n",
        "    plt.plot(x_plot, y_plot, color='r')\n",
        "\n"
      ],
      "execution_count": 151,
      "outputs": []
    },
    {
      "cell_type": "code",
      "metadata": {
        "id": "MVytEtsH5bKF",
        "colab_type": "code",
        "colab": {
          "base_uri": "https://localhost:8080/",
          "height": 547
        },
        "outputId": "3c9eebe2-e6a3-416d-dd43-210cdcf4e0fd"
      },
      "source": [
        "df_train = pd.read_excel(urljoin(base_url, 'propiedades_entrenamiento.xlsx'))\n",
        "df_train.head()"
      ],
      "execution_count": 63,
      "outputs": [
        {
          "output_type": "execute_result",
          "data": {
            "text/html": [
              "<div>\n",
              "<style scoped>\n",
              "    .dataframe tbody tr th:only-of-type {\n",
              "        vertical-align: middle;\n",
              "    }\n",
              "\n",
              "    .dataframe tbody tr th {\n",
              "        vertical-align: top;\n",
              "    }\n",
              "\n",
              "    .dataframe thead th {\n",
              "        text-align: right;\n",
              "    }\n",
              "</style>\n",
              "<table border=\"1\" class=\"dataframe\">\n",
              "  <thead>\n",
              "    <tr style=\"text-align: right;\">\n",
              "      <th></th>\n",
              "      <th>id</th>\n",
              "      <th>pub_inicio</th>\n",
              "      <th>pub_fin</th>\n",
              "      <th>pub_creada</th>\n",
              "      <th>lat</th>\n",
              "      <th>lon</th>\n",
              "      <th>barrio</th>\n",
              "      <th>subbarrio</th>\n",
              "      <th>habitaciones</th>\n",
              "      <th>dormitorios</th>\n",
              "      <th>banios</th>\n",
              "      <th>sup_total</th>\n",
              "      <th>sup_cubierta</th>\n",
              "      <th>titulo</th>\n",
              "      <th>descripcion</th>\n",
              "      <th>precio</th>\n",
              "    </tr>\n",
              "  </thead>\n",
              "  <tbody>\n",
              "    <tr>\n",
              "      <th>0</th>\n",
              "      <td>1</td>\n",
              "      <td>2019-11-20</td>\n",
              "      <td>9999-12-31</td>\n",
              "      <td>2019-11-20</td>\n",
              "      <td>-34.606891</td>\n",
              "      <td>-58.409890</td>\n",
              "      <td>Almagro</td>\n",
              "      <td>NaN</td>\n",
              "      <td>3.0</td>\n",
              "      <td>NaN</td>\n",
              "      <td>2.0</td>\n",
              "      <td>108.0</td>\n",
              "      <td>108.0</td>\n",
              "      <td>PISO EN VENTA 3 AMB C/ ESC. Y DEP. EN ALMAGRO</td>\n",
              "      <td>Piso en Venta 3 ambientes c/ Escritorio y Depe...</td>\n",
              "      <td>150000</td>\n",
              "    </tr>\n",
              "    <tr>\n",
              "      <th>1</th>\n",
              "      <td>3</td>\n",
              "      <td>2019-11-19</td>\n",
              "      <td>2020-02-22</td>\n",
              "      <td>2019-11-19</td>\n",
              "      <td>-34.604912</td>\n",
              "      <td>-58.417065</td>\n",
              "      <td>Almagro</td>\n",
              "      <td>NaN</td>\n",
              "      <td>3.0</td>\n",
              "      <td>1.0</td>\n",
              "      <td>2.0</td>\n",
              "      <td>72.0</td>\n",
              "      <td>63.0</td>\n",
              "      <td>Venta Departamento en Almagro Capital Federal ...</td>\n",
              "      <td>Departamento en Venta, 3 AMBIENTES + COCHERA E...</td>\n",
              "      <td>144000</td>\n",
              "    </tr>\n",
              "    <tr>\n",
              "      <th>2</th>\n",
              "      <td>4</td>\n",
              "      <td>2019-05-21</td>\n",
              "      <td>2019-07-03</td>\n",
              "      <td>2019-05-21</td>\n",
              "      <td>-34.600886</td>\n",
              "      <td>-58.431204</td>\n",
              "      <td>Villa Crespo</td>\n",
              "      <td>NaN</td>\n",
              "      <td>3.0</td>\n",
              "      <td>2.0</td>\n",
              "      <td>1.0</td>\n",
              "      <td>57.0</td>\n",
              "      <td>57.0</td>\n",
              "      <td>DEPARTAMENTO EN VENTA</td>\n",
              "      <td>Xintel (GOP-GOP-8943) Venta de Departamento 3 ...</td>\n",
              "      <td>145000</td>\n",
              "    </tr>\n",
              "    <tr>\n",
              "      <th>3</th>\n",
              "      <td>5</td>\n",
              "      <td>2019-05-21</td>\n",
              "      <td>2020-05-22</td>\n",
              "      <td>2019-05-21</td>\n",
              "      <td>-34.628760</td>\n",
              "      <td>-58.453224</td>\n",
              "      <td>Flores</td>\n",
              "      <td>NaN</td>\n",
              "      <td>4.0</td>\n",
              "      <td>3.0</td>\n",
              "      <td>3.0</td>\n",
              "      <td>128.0</td>\n",
              "      <td>117.0</td>\n",
              "      <td>DEPARTAMENTO EN VENTA</td>\n",
              "      <td>Xintel (AGU-AGU-3167)  Hermoso 3 ambientes al ...</td>\n",
              "      <td>585000</td>\n",
              "    </tr>\n",
              "    <tr>\n",
              "      <th>4</th>\n",
              "      <td>6</td>\n",
              "      <td>2019-07-15</td>\n",
              "      <td>2020-02-13</td>\n",
              "      <td>2019-07-15</td>\n",
              "      <td>-34.572144</td>\n",
              "      <td>-58.480173</td>\n",
              "      <td>Villa Urquiza</td>\n",
              "      <td>NaN</td>\n",
              "      <td>3.0</td>\n",
              "      <td>NaN</td>\n",
              "      <td>2.0</td>\n",
              "      <td>NaN</td>\n",
              "      <td>60.0</td>\n",
              "      <td>Departamento en Venta ubicado en Villa Urquiza R</td>\n",
              "      <td>Venta - Departamento - Argentina, Buenos Aires...</td>\n",
              "      <td>237000</td>\n",
              "    </tr>\n",
              "  </tbody>\n",
              "</table>\n",
              "</div>"
            ],
            "text/plain": [
              "   id  pub_inicio  ...                                        descripcion  precio\n",
              "0   1  2019-11-20  ...  Piso en Venta 3 ambientes c/ Escritorio y Depe...  150000\n",
              "1   3  2019-11-19  ...  Departamento en Venta, 3 AMBIENTES + COCHERA E...  144000\n",
              "2   4  2019-05-21  ...  Xintel (GOP-GOP-8943) Venta de Departamento 3 ...  145000\n",
              "3   5  2019-05-21  ...  Xintel (AGU-AGU-3167)  Hermoso 3 ambientes al ...  585000\n",
              "4   6  2019-07-15  ...  Venta - Departamento - Argentina, Buenos Aires...  237000\n",
              "\n",
              "[5 rows x 16 columns]"
            ]
          },
          "metadata": {
            "tags": []
          },
          "execution_count": 63
        }
      ]
    },
    {
      "cell_type": "code",
      "metadata": {
        "id": "PeqQY-K87TXI",
        "colab_type": "code",
        "colab": {
          "base_uri": "https://localhost:8080/",
          "height": 85
        },
        "outputId": "887eac8f-7d5b-48ab-ee83-71dfa6266857"
      },
      "source": [
        "ids, df_train = preprocessing(df_train)"
      ],
      "execution_count": 64,
      "outputs": [
        {
          "output_type": "stream",
          "text": [
            "/usr/local/lib/python3.6/dist-packages/ipykernel_launcher.py:39: SettingWithCopyWarning: \n",
            "A value is trying to be set on a copy of a slice from a DataFrame\n",
            "\n",
            "See the caveats in the documentation: https://pandas.pydata.org/pandas-docs/stable/user_guide/indexing.html#returning-a-view-versus-a-copy\n"
          ],
          "name": "stderr"
        }
      ]
    },
    {
      "cell_type": "code",
      "metadata": {
        "id": "Qoqn6DWhNdxc",
        "colab_type": "code",
        "colab": {}
      },
      "source": [
        "X_train, X_test, y_train, y_test = split_data(df_train)"
      ],
      "execution_count": 65,
      "outputs": []
    },
    {
      "cell_type": "code",
      "metadata": {
        "id": "4bXRrq6ob-pB",
        "colab_type": "code",
        "colab": {
          "base_uri": "https://localhost:8080/",
          "height": 34
        },
        "outputId": "77042dc8-9871-4112-f2ab-c99c4b1b20f2"
      },
      "source": [
        "X_train.shape"
      ],
      "execution_count": 66,
      "outputs": [
        {
          "output_type": "execute_result",
          "data": {
            "text/plain": [
              "(48211, 12)"
            ]
          },
          "metadata": {
            "tags": []
          },
          "execution_count": 66
        }
      ]
    },
    {
      "cell_type": "code",
      "metadata": {
        "id": "Pb6Vp5_ocBwm",
        "colab_type": "code",
        "colab": {
          "base_uri": "https://localhost:8080/",
          "height": 34
        },
        "outputId": "732bdbe8-ba19-4c3c-f4c6-7703054239ad"
      },
      "source": [
        "X_test.shape"
      ],
      "execution_count": 67,
      "outputs": [
        {
          "output_type": "execute_result",
          "data": {
            "text/plain": [
              "(2538, 12)"
            ]
          },
          "metadata": {
            "tags": []
          },
          "execution_count": 67
        }
      ]
    },
    {
      "cell_type": "markdown",
      "metadata": {
        "id": "rdVAnt5eMAUW",
        "colab_type": "text"
      },
      "source": [
        "# Prueba con modelo deep learning de Keras"
      ]
    },
    {
      "cell_type": "code",
      "metadata": {
        "id": "sabHL1ZKfa7O",
        "colab_type": "code",
        "colab": {}
      },
      "source": [
        "# Preprocesamiento de conjunto entrenamiento\n",
        "pipe = create_keras_pipeline()\n",
        "X_train_transformed = pipe.fit_transform(X_train)\n",
        "X_train_transformed = X_train_transformed.toarray()"
      ],
      "execution_count": 68,
      "outputs": []
    },
    {
      "cell_type": "code",
      "metadata": {
        "id": "1s0ldd7Hg6g5",
        "colab_type": "code",
        "colab": {
          "base_uri": "https://localhost:8080/",
          "height": 34
        },
        "outputId": "163739fe-5791-4ca7-e5c1-a38b7424171e"
      },
      "source": [
        "# El input shape (= nro de features)\n",
        "X_train_transformed.shape[1]"
      ],
      "execution_count": 93,
      "outputs": [
        {
          "output_type": "execute_result",
          "data": {
            "text/plain": [
              "69"
            ]
          },
          "metadata": {
            "tags": []
          },
          "execution_count": 93
        }
      ]
    },
    {
      "cell_type": "markdown",
      "metadata": {
        "id": "LM8MfQHA6O_z",
        "colab_type": "text"
      },
      "source": [
        "## Crear modelo y entrenar con early stop"
      ]
    },
    {
      "cell_type": "code",
      "metadata": {
        "id": "FrkW83RLGDKQ",
        "colab_type": "code",
        "colab": {
          "base_uri": "https://localhost:8080/",
          "height": 1000
        },
        "outputId": "c32637ca-ebee-4a6f-f80e-0fad95e5c028"
      },
      "source": [
        "model = build_keras_model(X_train_transformed.shape[1]) # El input shape es opcional\n",
        "\n",
        "EPOCHS = 5000\n",
        "\n",
        "# The patience parameter is the amount of epochs to check for improvement\n",
        "early_stop = keras.callbacks.EarlyStopping(monitor='val_loss', patience=10)\n",
        "checkpoint = keras.callbacks.ModelCheckpoint('modelo_prediccion_propiedades.hdf5', monitor='loss', verbose=1,\n",
        "    save_best_only=True, mode='auto', period=1)\n",
        "\n",
        "history = model.fit(X_train_transformed, y_train, \n",
        "                    epochs=EPOCHS, validation_split = 0.05, verbose=0, \n",
        "                    callbacks=[checkpoint, early_stop, tfdocs.modeling.EpochDots()])"
      ],
      "execution_count": 152,
      "outputs": [
        {
          "output_type": "stream",
          "text": [
            "\n",
            "Epoch: 0, loss:137169649664.0000,  mae:236177.5312,  mse:137169649664.0000,  val_loss:134397288448.0000,  val_mae:234371.1094,  val_mse:134397288448.0000,  \n",
            "....................................................................................................\n",
            "Epoch: 100, loss:122793615360.0000,  mae:218445.0000,  mse:122793615360.0000,  val_loss:120488804352.0000,  val_mae:216473.2031,  val_mse:120488804352.0000,  \n",
            "....................................................................................................\n",
            "Epoch: 200, loss:91102208000.0000,  mae:170767.4531,  mse:91102208000.0000,  val_loss:90967130112.0000,  val_mae:168881.5312,  val_mse:90967130112.0000,  \n",
            "....................................................................................................\n",
            "Epoch: 300, loss:63120863232.0000,  mae:119414.8359,  mse:63120863232.0000,  val_loss:66215153664.0000,  val_mae:116404.3750,  val_mse:66215153664.0000,  \n",
            "....................................................................................................\n",
            "Epoch: 400, loss:51209814016.0000,  mae:103687.5938,  mse:51209814016.0000,  val_loss:56605810688.0000,  val_mae:100979.0078,  val_mse:56605810688.0000,  \n",
            "....................................................................................................\n",
            "Epoch: 500, loss:47959568384.0000,  mae:101148.7422,  mse:47959568384.0000,  val_loss:54065250304.0000,  val_mae:98841.1719,  val_mse:54065250304.0000,  \n",
            "....................................................................................................\n",
            "Epoch: 600, loss:46564511744.0000,  mae:99367.3828,  mse:46564511744.0000,  val_loss:52776239104.0000,  val_mae:97191.9062,  val_mse:52776239104.0000,  \n",
            "....................................................................................................\n",
            "Epoch: 700, loss:45696233472.0000,  mae:98105.0938,  mse:45696233472.0000,  val_loss:51890626560.0000,  val_mae:95852.0234,  val_mse:51890626560.0000,  \n",
            "....................................................................................................\n",
            "Epoch: 800, loss:45058916352.0000,  mae:97233.5625,  mse:45058916352.0000,  val_loss:51216158720.0000,  val_mae:94872.7422,  val_mse:51216158720.0000,  \n",
            "....................................................................................................\n",
            "Epoch: 900, loss:44555055104.0000,  mae:96650.4609,  mse:44555055104.0000,  val_loss:50673774592.0000,  val_mae:94165.1016,  val_mse:50673774592.0000,  \n",
            "....................................................................................................\n",
            "Epoch: 1000, loss:44133105664.0000,  mae:96216.4141,  mse:44133105664.0000,  val_loss:50215018496.0000,  val_mae:93642.7734,  val_mse:50215018496.0000,  \n",
            "....................................................................................................\n",
            "Epoch: 1100, loss:43766075392.0000,  mae:95813.7344,  mse:43766075392.0000,  val_loss:49812004864.0000,  val_mae:93176.7188,  val_mse:49812004864.0000,  \n",
            "....................................................................................................\n",
            "Epoch: 1200, loss:43431788544.0000,  mae:95395.8047,  mse:43431788544.0000,  val_loss:49438494720.0000,  val_mae:92696.8984,  val_mse:49438494720.0000,  \n",
            "....................................................................................................\n",
            "Epoch: 1300, loss:43113947136.0000,  mae:94913.5000,  mse:43113947136.0000,  val_loss:49087082496.0000,  val_mae:92197.8828,  val_mse:49087082496.0000,  \n",
            "....................................................................................................\n",
            "Epoch: 1400, loss:42804719616.0000,  mae:94335.2500,  mse:42804719616.0000,  val_loss:48748847104.0000,  val_mae:91631.3281,  val_mse:48748847104.0000,  \n",
            "....................................................................................................\n",
            "Epoch: 1500, loss:42504335360.0000,  mae:93668.0859,  mse:42504335360.0000,  val_loss:48422416384.0000,  val_mae:91017.9062,  val_mse:48422416384.0000,  \n",
            "....................................................................................................\n",
            "Epoch: 1600, loss:42210983936.0000,  mae:92926.2422,  mse:42210983936.0000,  val_loss:48103968768.0000,  val_mae:90340.7656,  val_mse:48103968768.0000,  \n",
            "....................................................................................................\n",
            "Epoch: 1700, loss:41923592192.0000,  mae:92126.3750,  mse:41923592192.0000,  val_loss:47795867648.0000,  val_mae:89630.8672,  val_mse:47795867648.0000,  \n",
            "....................................................................................................\n",
            "Epoch: 1800, loss:41640787968.0000,  mae:91278.8047,  mse:41640787968.0000,  val_loss:47496773632.0000,  val_mae:88895.7734,  val_mse:47496773632.0000,  \n",
            "....................................................................................................\n",
            "Epoch: 1900, loss:41363169280.0000,  mae:90429.2031,  mse:41363169280.0000,  val_loss:47207075840.0000,  val_mae:88156.2578,  val_mse:47207075840.0000,  \n",
            "....................................................................................................\n",
            "Epoch: 2000, loss:41092567040.0000,  mae:89599.5000,  mse:41092567040.0000,  val_loss:46925897728.0000,  val_mae:87407.4375,  val_mse:46925897728.0000,  \n",
            "....................................................................................................\n",
            "Epoch: 2100, loss:40828059648.0000,  mae:88805.9062,  mse:40828059648.0000,  val_loss:46656401408.0000,  val_mae:86671.8359,  val_mse:46656401408.0000,  \n",
            "....................................................................................................\n",
            "Epoch: 2200, loss:40571531264.0000,  mae:88054.5312,  mse:40571531264.0000,  val_loss:46395957248.0000,  val_mae:85954.0156,  val_mse:46395957248.0000,  \n",
            "....................................................................................................\n",
            "Epoch: 2300, loss:40324431872.0000,  mae:87356.9062,  mse:40324431872.0000,  val_loss:46147895296.0000,  val_mae:85271.3047,  val_mse:46147895296.0000,  \n",
            "....................................................................................................\n",
            "Epoch: 2400, loss:40088805376.0000,  mae:86696.3281,  mse:40088805376.0000,  val_loss:45911142400.0000,  val_mae:84636.1797,  val_mse:45911142400.0000,  \n",
            "....................................................................................................\n",
            "Epoch: 2500, loss:39865409536.0000,  mae:86095.2734,  mse:39865409536.0000,  val_loss:45689692160.0000,  val_mae:84040.7656,  val_mse:45689692160.0000,  \n",
            "....................................................................................................\n",
            "Epoch: 2600, loss:39653433344.0000,  mae:85534.9219,  mse:39653433344.0000,  val_loss:45475467264.0000,  val_mae:83497.3281,  val_mse:45475467264.0000,  \n",
            "...................................................................................................\n",
            "Epoch: 2700, loss:39450542080.0000,  mae:85011.8125,  mse:39450542080.0000,  val_loss:45268410368.0000,  val_mae:82986.2891,  val_mse:45268410368.0000,  \n",
            "....................................................................................................\n",
            "Epoch: 2800, loss:39254745088.0000,  mae:84501.8750,  mse:39254745088.0000,  val_loss:45067321344.0000,  val_mae:82495.8047,  val_mse:45067321344.0000,  \n",
            "....................................................................................................\n",
            "Epoch: 2900, loss:39064371200.0000,  mae:83982.9297,  mse:39064371200.0000,  val_loss:44874133504.0000,  val_mae:82016.0078,  val_mse:44874133504.0000,  \n",
            "....................................................................................................\n",
            "Epoch: 3000, loss:38878953472.0000,  mae:83479.6641,  mse:38878953472.0000,  val_loss:44684308480.0000,  val_mae:81540.2109,  val_mse:44684308480.0000,  \n",
            "....................................................................................................\n",
            "Epoch: 3100, loss:38699204608.0000,  mae:82988.1328,  mse:38699204608.0000,  val_loss:44501835776.0000,  val_mae:81082.5938,  val_mse:44501835776.0000,  \n",
            "....................................................................................................\n",
            "Epoch: 3200, loss:38525280256.0000,  mae:82501.0391,  mse:38525280256.0000,  val_loss:44323700736.0000,  val_mae:80630.0859,  val_mse:44323700736.0000,  \n",
            "....................................................................................................\n",
            "Epoch: 3300, loss:38356512768.0000,  mae:82027.6406,  mse:38356512768.0000,  val_loss:44156305408.0000,  val_mae:80189.3828,  val_mse:44156305408.0000,  \n",
            "....................................................................................................\n",
            "Epoch: 3400, loss:38192189440.0000,  mae:81559.9531,  mse:38192189440.0000,  val_loss:43992948736.0000,  val_mae:79754.5547,  val_mse:43992948736.0000,  \n",
            "....................................................................................................\n",
            "Epoch: 3500, loss:38031646720.0000,  mae:81105.1797,  mse:38031646720.0000,  val_loss:43833372672.0000,  val_mae:79317.0391,  val_mse:43833372672.0000,  \n",
            "....................................................................................................\n",
            "Epoch: 3600, loss:37874991104.0000,  mae:80663.9141,  mse:37874991104.0000,  val_loss:43681308672.0000,  val_mae:78890.4062,  val_mse:43681308672.0000,  \n",
            "....................................................................................................\n",
            "Epoch: 3700, loss:37721677824.0000,  mae:80234.9531,  mse:37721677824.0000,  val_loss:43533828096.0000,  val_mae:78469.6094,  val_mse:43533828096.0000,  \n",
            "....................................................................................................\n",
            "Epoch: 3800, loss:37571215360.0000,  mae:79819.4766,  mse:37571215360.0000,  val_loss:43389534208.0000,  val_mae:78053.1094,  val_mse:43389534208.0000,  \n",
            "....................................................................................................\n",
            "Epoch: 3900, loss:37424070656.0000,  mae:79425.2422,  mse:37424070656.0000,  val_loss:43252105216.0000,  val_mae:77647.6719,  val_mse:43252105216.0000,  \n",
            "....................................................................................................\n",
            "Epoch: 4000, loss:37281361920.0000,  mae:79050.8203,  mse:37281361920.0000,  val_loss:43121246208.0000,  val_mae:77248.0078,  val_mse:43121246208.0000,  \n",
            "....................................................................................................\n",
            "Epoch: 4100, loss:37142392832.0000,  mae:78688.0703,  mse:37142392832.0000,  val_loss:42995974144.0000,  val_mae:76851.8203,  val_mse:42995974144.0000,  \n",
            "....................................................................................................\n",
            "Epoch: 4200, loss:37008117760.0000,  mae:78353.4766,  mse:37008117760.0000,  val_loss:42876755968.0000,  val_mae:76480.2422,  val_mse:42876755968.0000,  \n",
            "....................................................................................................\n",
            "Epoch: 4300, loss:36878348288.0000,  mae:78029.6719,  mse:36878348288.0000,  val_loss:42760482816.0000,  val_mae:76123.3906,  val_mse:42760482816.0000,  \n",
            "....................................................................................................\n",
            "Epoch: 4400, loss:36752654336.0000,  mae:77737.6172,  mse:36752654336.0000,  val_loss:42655563776.0000,  val_mae:75788.9219,  val_mse:42655563776.0000,  \n",
            "....................................................................................................\n",
            "Epoch: 4500, loss:36631363584.0000,  mae:77450.5859,  mse:36631363584.0000,  val_loss:42551238656.0000,  val_mae:75465.5859,  val_mse:42551238656.0000,  \n",
            "....................................................................................................\n",
            "Epoch: 4600, loss:36512862208.0000,  mae:77177.1094,  mse:36512862208.0000,  val_loss:42453643264.0000,  val_mae:75166.2109,  val_mse:42453643264.0000,  \n",
            "....................................................................................................\n",
            "Epoch: 4700, loss:36398567424.0000,  mae:76926.0703,  mse:36398567424.0000,  val_loss:42361384960.0000,  val_mae:74890.8984,  val_mse:42361384960.0000,  \n",
            "....................................................................................................\n",
            "Epoch: 4800, loss:36288385024.0000,  mae:76688.9062,  mse:36288385024.0000,  val_loss:42273222656.0000,  val_mae:74630.0547,  val_mse:42273222656.0000,  \n",
            "....................................................................................................\n",
            "Epoch: 4900, loss:36182933504.0000,  mae:76462.8359,  mse:36182933504.0000,  val_loss:42191687680.0000,  val_mae:74384.0625,  val_mse:42191687680.0000,  \n",
            "...................................................................................................."
          ],
          "name": "stdout"
        }
      ]
    },
    {
      "cell_type": "code",
      "metadata": {
        "id": "jPgo1JIeEIyP",
        "colab_type": "code",
        "colab": {
          "base_uri": "https://localhost:8080/",
          "height": 204
        },
        "outputId": "075f0f26-113b-4d8a-e88f-8f5ba408a161"
      },
      "source": [
        "hist = pd.DataFrame(history.history)\n",
        "hist['epoch'] = history.epoch\n",
        "hist.tail()"
      ],
      "execution_count": 153,
      "outputs": [
        {
          "output_type": "execute_result",
          "data": {
            "text/html": [
              "<div>\n",
              "<style scoped>\n",
              "    .dataframe tbody tr th:only-of-type {\n",
              "        vertical-align: middle;\n",
              "    }\n",
              "\n",
              "    .dataframe tbody tr th {\n",
              "        vertical-align: top;\n",
              "    }\n",
              "\n",
              "    .dataframe thead th {\n",
              "        text-align: right;\n",
              "    }\n",
              "</style>\n",
              "<table border=\"1\" class=\"dataframe\">\n",
              "  <thead>\n",
              "    <tr style=\"text-align: right;\">\n",
              "      <th></th>\n",
              "      <th>loss</th>\n",
              "      <th>mae</th>\n",
              "      <th>mse</th>\n",
              "      <th>val_loss</th>\n",
              "      <th>val_mae</th>\n",
              "      <th>val_mse</th>\n",
              "      <th>epoch</th>\n",
              "    </tr>\n",
              "  </thead>\n",
              "  <tbody>\n",
              "    <tr>\n",
              "      <th>4995</th>\n",
              "      <td>3.608625e+10</td>\n",
              "      <td>76269.445312</td>\n",
              "      <td>3.608625e+10</td>\n",
              "      <td>4.211631e+10</td>\n",
              "      <td>74164.609375</td>\n",
              "      <td>4.211631e+10</td>\n",
              "      <td>4995</td>\n",
              "    </tr>\n",
              "    <tr>\n",
              "      <th>4996</th>\n",
              "      <td>3.608524e+10</td>\n",
              "      <td>76264.929688</td>\n",
              "      <td>3.608524e+10</td>\n",
              "      <td>4.211528e+10</td>\n",
              "      <td>74161.609375</td>\n",
              "      <td>4.211528e+10</td>\n",
              "      <td>4996</td>\n",
              "    </tr>\n",
              "    <tr>\n",
              "      <th>4997</th>\n",
              "      <td>3.608431e+10</td>\n",
              "      <td>76268.742188</td>\n",
              "      <td>3.608431e+10</td>\n",
              "      <td>4.211476e+10</td>\n",
              "      <td>74160.578125</td>\n",
              "      <td>4.211476e+10</td>\n",
              "      <td>4997</td>\n",
              "    </tr>\n",
              "    <tr>\n",
              "      <th>4998</th>\n",
              "      <td>3.608329e+10</td>\n",
              "      <td>76264.484375</td>\n",
              "      <td>3.608329e+10</td>\n",
              "      <td>4.211376e+10</td>\n",
              "      <td>74158.132812</td>\n",
              "      <td>4.211376e+10</td>\n",
              "      <td>4998</td>\n",
              "    </tr>\n",
              "    <tr>\n",
              "      <th>4999</th>\n",
              "      <td>3.608229e+10</td>\n",
              "      <td>76260.023438</td>\n",
              "      <td>3.608229e+10</td>\n",
              "      <td>4.211291e+10</td>\n",
              "      <td>74155.796875</td>\n",
              "      <td>4.211291e+10</td>\n",
              "      <td>4999</td>\n",
              "    </tr>\n",
              "  </tbody>\n",
              "</table>\n",
              "</div>"
            ],
            "text/plain": [
              "              loss           mae  ...       val_mse  epoch\n",
              "4995  3.608625e+10  76269.445312  ...  4.211631e+10   4995\n",
              "4996  3.608524e+10  76264.929688  ...  4.211528e+10   4996\n",
              "4997  3.608431e+10  76268.742188  ...  4.211476e+10   4997\n",
              "4998  3.608329e+10  76264.484375  ...  4.211376e+10   4998\n",
              "4999  3.608229e+10  76260.023438  ...  4.211291e+10   4999\n",
              "\n",
              "[5 rows x 7 columns]"
            ]
          },
          "metadata": {
            "tags": []
          },
          "execution_count": 153
        }
      ]
    },
    {
      "cell_type": "code",
      "metadata": {
        "id": "89uLKFzHwBnA",
        "colab_type": "code",
        "colab": {
          "base_uri": "https://localhost:8080/",
          "height": 34
        },
        "outputId": "46e2827b-c974-4929-f512-d109f1848eb7"
      },
      "source": [
        "len(history.history['loss'])"
      ],
      "execution_count": 154,
      "outputs": [
        {
          "output_type": "execute_result",
          "data": {
            "text/plain": [
              "5000"
            ]
          },
          "metadata": {
            "tags": []
          },
          "execution_count": 154
        }
      ]
    },
    {
      "cell_type": "code",
      "metadata": {
        "id": "FOQdon3yK-HH",
        "colab_type": "code",
        "colab": {}
      },
      "source": [
        "plotter = tfdocs.plots.HistoryPlotter(smoothing_std=2)"
      ],
      "execution_count": 155,
      "outputs": []
    },
    {
      "cell_type": "code",
      "metadata": {
        "id": "K-zan_g-3wkb",
        "colab_type": "code",
        "colab": {
          "base_uri": "https://localhost:8080/",
          "height": 296
        },
        "outputId": "e0b6af20-2f9d-4339-b0a5-cb4e5c034cfe"
      },
      "source": [
        "plotter.plot({'Early Stopping': history}, metric = \"mae\")\n",
        "plt.ylabel('MAE [Precio]')"
      ],
      "execution_count": 156,
      "outputs": [
        {
          "output_type": "execute_result",
          "data": {
            "text/plain": [
              "Text(0, 0.5, 'MAE [Precio]')"
            ]
          },
          "metadata": {
            "tags": []
          },
          "execution_count": 156
        },
        {
          "output_type": "display_data",
          "data": {
            "image/png": "[encoded data removed]",
            "text/plain": [
              "<Figure size 432x288 with 1 Axes>"
            ]
          },
          "metadata": {
            "tags": [],
            "needs_background": "light"
          }
        }
      ]
    },
    {
      "cell_type": "code",
      "metadata": {
        "id": "EJNs1CYSLREo",
        "colab_type": "code",
        "colab": {
          "base_uri": "https://localhost:8080/",
          "height": 307
        },
        "outputId": "5207ecad-f5d8-4915-bbfd-4c1e4ffd3e3c"
      },
      "source": [
        "plotter.plot({'Early Stopping': history}, metric = \"mse\")\n",
        "plt.ylabel('MSE [Precio^2]')"
      ],
      "execution_count": 157,
      "outputs": [
        {
          "output_type": "execute_result",
          "data": {
            "text/plain": [
              "Text(0, 0.5, 'MSE [Precio^2]')"
            ]
          },
          "metadata": {
            "tags": []
          },
          "execution_count": 157
        },
        {
          "output_type": "display_data",
          "data": {
            "image/png": "[encoded data removed]",
            "text/plain": [
              "<Figure size 432x288 with 1 Axes>"
            ]
          },
          "metadata": {
            "tags": [],
            "needs_background": "light"
          }
        }
      ]
    },
    {
      "cell_type": "markdown",
      "metadata": {
        "id": "6M1PA-iwLuAy",
        "colab_type": "text"
      },
      "source": [
        "# Ver como generaliza el modelo en el test set"
      ]
    },
    {
      "cell_type": "code",
      "metadata": {
        "id": "CFn5zt0RjIKa",
        "colab_type": "code",
        "colab": {}
      },
      "source": [
        ""
      ],
      "execution_count": null,
      "outputs": []
    },
    {
      "cell_type": "code",
      "metadata": {
        "id": "XHvn-3LgLsr0",
        "colab_type": "code",
        "colab": {
          "base_uri": "https://localhost:8080/",
          "height": 34
        },
        "outputId": "7532f4d4-d9fd-4b17-d778-def52105d684"
      },
      "source": [
        "X_test_transformed = pipe.transform(X_test)\n",
        "X_test_transformed = X_test_transformed.toarray()\n",
        "X_test_transformed.shape"
      ],
      "execution_count": 158,
      "outputs": [
        {
          "output_type": "execute_result",
          "data": {
            "text/plain": [
              "(2538, 69)"
            ]
          },
          "metadata": {
            "tags": []
          },
          "execution_count": 158
        }
      ]
    },
    {
      "cell_type": "code",
      "metadata": {
        "id": "Ie5vLJPhL5P6",
        "colab_type": "code",
        "colab": {
          "base_uri": "https://localhost:8080/",
          "height": 68
        },
        "outputId": "300d26ae-7d51-414f-c92f-a7b500ac7397"
      },
      "source": [
        "loss, mae, mse = model.evaluate(X_test_transformed, y_test, verbose=2)\n",
        "\n",
        "print(\"Testing set Mean Abs Error: {:5.2f} Precio\".format(mae))\n",
        "print(\"Testing set MSE: {:5.2f} Precio\".format(mse))"
      ],
      "execution_count": 159,
      "outputs": [
        {
          "output_type": "stream",
          "text": [
            "80/80 - 0s - loss: 28421836800.0000 - mae: 74000.0469 - mse: 28421836800.0000\n",
            "Testing set Mean Abs Error: 74000.05 Precio\n",
            "Testing set MSE: 28421836800.00 Precio\n"
          ],
          "name": "stdout"
        }
      ]
    },
    {
      "cell_type": "code",
      "metadata": {
        "id": "Gu_hzyNbMFnE",
        "colab_type": "code",
        "colab": {
          "base_uri": "https://localhost:8080/",
          "height": 290
        },
        "outputId": "46adb910-ed31-498c-cd08-d87b1a061df9"
      },
      "source": [
        "y_test_predictions = model.predict(X_test_transformed).flatten()\n",
        "\n",
        "a = plt.axes(aspect='equal')\n",
        "plt.scatter(y_test, y_test_predictions)\n",
        "plt.xlabel('True Values [Precio]')\n",
        "plt.ylabel('Predictions [Precio]')\n",
        "lims = [0, 4.e+06]\n",
        "plt.xlim(lims)\n",
        "plt.ylim(lims)\n",
        "_ = plt.plot(lims, lims)\n"
      ],
      "execution_count": 160,
      "outputs": [
        {
          "output_type": "display_data",
          "data": {
            "image/png": "[encoded data removed]",
            "text/plain": [
              "<Figure size 432x288 with 1 Axes>"
            ]
          },
          "metadata": {
            "tags": [],
            "needs_background": "light"
          }
        }
      ]
    },
    {
      "cell_type": "code",
      "metadata": {
        "id": "1Q0o15Yj2IPt",
        "colab_type": "code",
        "colab": {
          "base_uri": "https://localhost:8080/",
          "height": 279
        },
        "outputId": "77f5d4b0-82e4-4e90-b1e8-1ec9ea91b150"
      },
      "source": [
        "error = test_predictions - y_test\n",
        "plt.hist(error, bins = 25)\n",
        "plt.xlabel(\"Prediction Error [Precio]\")\n",
        "_ = plt.ylabel(\"Count\")\n"
      ],
      "execution_count": 161,
      "outputs": [
        {
          "output_type": "display_data",
          "data": {
            "image/png": "[encoded data removed]",
            "text/plain": [
              "<Figure size 432x288 with 1 Axes>"
            ]
          },
          "metadata": {
            "tags": [],
            "needs_background": "light"
          }
        }
      ]
    },
    {
      "cell_type": "markdown",
      "metadata": {
        "id": "AOKKYcUnAW0C",
        "colab_type": "text"
      },
      "source": [
        "# Predecir precios utilizando el modelo entrenado en set de prueba"
      ]
    },
    {
      "cell_type": "code",
      "metadata": {
        "id": "e5HknutCAWQi",
        "colab_type": "code",
        "colab": {}
      },
      "source": [
        ""
      ],
      "execution_count": null,
      "outputs": []
    },
    {
      "cell_type": "code",
      "metadata": {
        "id": "dvqysss0j8fW",
        "colab_type": "code",
        "colab": {
          "base_uri": "https://localhost:8080/",
          "height": 493
        },
        "outputId": "612b99c9-0483-45e2-aff5-851aa86f5b46"
      },
      "source": [
        "df_test = pd.read_excel(urljoin(base_url,'propiedades_prueba.xlsx'))\n",
        "df_test.drop(['precio'], axis=1, inplace=True)\n",
        "df_test.head()"
      ],
      "execution_count": 162,
      "outputs": [
        {
          "output_type": "execute_result",
          "data": {
            "text/html": [
              "<div>\n",
              "<style scoped>\n",
              "    .dataframe tbody tr th:only-of-type {\n",
              "        vertical-align: middle;\n",
              "    }\n",
              "\n",
              "    .dataframe tbody tr th {\n",
              "        vertical-align: top;\n",
              "    }\n",
              "\n",
              "    .dataframe thead th {\n",
              "        text-align: right;\n",
              "    }\n",
              "</style>\n",
              "<table border=\"1\" class=\"dataframe\">\n",
              "  <thead>\n",
              "    <tr style=\"text-align: right;\">\n",
              "      <th></th>\n",
              "      <th>id</th>\n",
              "      <th>pub_inicio</th>\n",
              "      <th>pub_fin</th>\n",
              "      <th>pub_creada</th>\n",
              "      <th>lat</th>\n",
              "      <th>lon</th>\n",
              "      <th>barrio</th>\n",
              "      <th>subbarrio</th>\n",
              "      <th>habitaciones</th>\n",
              "      <th>dormitorios</th>\n",
              "      <th>banios</th>\n",
              "      <th>sup_total</th>\n",
              "      <th>sup_cubierta</th>\n",
              "      <th>titulo</th>\n",
              "      <th>descripcion</th>\n",
              "    </tr>\n",
              "  </thead>\n",
              "  <tbody>\n",
              "    <tr>\n",
              "      <th>0</th>\n",
              "      <td>2</td>\n",
              "      <td>2019-10-23</td>\n",
              "      <td>9999-12-31</td>\n",
              "      <td>2019-10-23</td>\n",
              "      <td>-34.586330</td>\n",
              "      <td>-58.508957</td>\n",
              "      <td>Villa Devoto</td>\n",
              "      <td>NaN</td>\n",
              "      <td>1.0</td>\n",
              "      <td>NaN</td>\n",
              "      <td>NaN</td>\n",
              "      <td>45</td>\n",
              "      <td>37</td>\n",
              "      <td>Ladines  3200 pb - U$D 124.000 - Departamento ...</td>\n",
              "      <td>Impecable 2 ambientes con patio cubierto con t...</td>\n",
              "    </tr>\n",
              "    <tr>\n",
              "      <th>1</th>\n",
              "      <td>34</td>\n",
              "      <td>2019-05-07</td>\n",
              "      <td>2019-06-23</td>\n",
              "      <td>2019-05-07</td>\n",
              "      <td>-34.581699</td>\n",
              "      <td>-58.433547</td>\n",
              "      <td>Palermo</td>\n",
              "      <td>Palermo Hollywood</td>\n",
              "      <td>1.0</td>\n",
              "      <td>1.0</td>\n",
              "      <td>1.0</td>\n",
              "      <td>53</td>\n",
              "      <td>40</td>\n",
              "      <td>VENTA MONOAMBIENTE ESPECTACULAR EN COLEGIALES</td>\n",
              "      <td>Monoambiente impecable divisible a dos ambient...</td>\n",
              "    </tr>\n",
              "    <tr>\n",
              "      <th>2</th>\n",
              "      <td>54</td>\n",
              "      <td>2019-10-13</td>\n",
              "      <td>2019-12-23</td>\n",
              "      <td>2019-10-13</td>\n",
              "      <td>-34.628187</td>\n",
              "      <td>-58.429586</td>\n",
              "      <td>Caballito</td>\n",
              "      <td>NaN</td>\n",
              "      <td>2.0</td>\n",
              "      <td>1.0</td>\n",
              "      <td>1.0</td>\n",
              "      <td>42</td>\n",
              "      <td>38</td>\n",
              "      <td>2 ambientes divisibles a estrenar en Palmera C...</td>\n",
              "      <td>Palmera Caballito: Torre con amenities de gran...</td>\n",
              "    </tr>\n",
              "    <tr>\n",
              "      <th>3</th>\n",
              "      <td>101</td>\n",
              "      <td>2019-08-25</td>\n",
              "      <td>2019-09-14</td>\n",
              "      <td>2019-08-25</td>\n",
              "      <td>-34.593716</td>\n",
              "      <td>-58.440695</td>\n",
              "      <td>Palermo</td>\n",
              "      <td>NaN</td>\n",
              "      <td>2.0</td>\n",
              "      <td>1.0</td>\n",
              "      <td>1.0</td>\n",
              "      <td>62</td>\n",
              "      <td>38</td>\n",
              "      <td>Depto 2 amb c/terraza prpia Palermo Queens out...</td>\n",
              "      <td>Corredor Responsable: Ariel Champanier - CUCIC...</td>\n",
              "    </tr>\n",
              "    <tr>\n",
              "      <th>4</th>\n",
              "      <td>103</td>\n",
              "      <td>2019-10-23</td>\n",
              "      <td>2019-11-09</td>\n",
              "      <td>2019-10-23</td>\n",
              "      <td>-34.591336</td>\n",
              "      <td>-58.447218</td>\n",
              "      <td>Villa Crespo</td>\n",
              "      <td>NaN</td>\n",
              "      <td>2.0</td>\n",
              "      <td>1.0</td>\n",
              "      <td>1.0</td>\n",
              "      <td>44</td>\n",
              "      <td>40</td>\n",
              "      <td>Departamento de dos ambientes con cochera en v...</td>\n",
              "      <td>Departamento de 2 ambientes con cochera ubicad...</td>\n",
              "    </tr>\n",
              "  </tbody>\n",
              "</table>\n",
              "</div>"
            ],
            "text/plain": [
              "    id  ...                                        descripcion\n",
              "0    2  ...  Impecable 2 ambientes con patio cubierto con t...\n",
              "1   34  ...  Monoambiente impecable divisible a dos ambient...\n",
              "2   54  ...  Palmera Caballito: Torre con amenities de gran...\n",
              "3  101  ...  Corredor Responsable: Ariel Champanier - CUCIC...\n",
              "4  103  ...  Departamento de 2 ambientes con cochera ubicad...\n",
              "\n",
              "[5 rows x 15 columns]"
            ]
          },
          "metadata": {
            "tags": []
          },
          "execution_count": 162
        }
      ]
    },
    {
      "cell_type": "code",
      "metadata": {
        "id": "xPER5ompNBVX",
        "colab_type": "code",
        "colab": {
          "base_uri": "https://localhost:8080/",
          "height": 85
        },
        "outputId": "4db22be0-bc9a-47e5-d21f-5851e1565b6f"
      },
      "source": [
        "ids, df_test = preprocessing(df_test)"
      ],
      "execution_count": 163,
      "outputs": [
        {
          "output_type": "stream",
          "text": [
            "/usr/local/lib/python3.6/dist-packages/ipykernel_launcher.py:39: SettingWithCopyWarning: \n",
            "A value is trying to be set on a copy of a slice from a DataFrame\n",
            "\n",
            "See the caveats in the documentation: https://pandas.pydata.org/pandas-docs/stable/user_guide/indexing.html#returning-a-view-versus-a-copy\n"
          ],
          "name": "stderr"
        }
      ]
    },
    {
      "cell_type": "code",
      "metadata": {
        "id": "HW0_OgX4BIMV",
        "colab_type": "code",
        "colab": {
          "base_uri": "https://localhost:8080/",
          "height": 204
        },
        "outputId": "0ef5f134-c3cc-4a36-9b71-d6c8e74ba070"
      },
      "source": [
        "df_test.head()"
      ],
      "execution_count": 164,
      "outputs": [
        {
          "output_type": "execute_result",
          "data": {
            "text/html": [
              "<div>\n",
              "<style scoped>\n",
              "    .dataframe tbody tr th:only-of-type {\n",
              "        vertical-align: middle;\n",
              "    }\n",
              "\n",
              "    .dataframe tbody tr th {\n",
              "        vertical-align: top;\n",
              "    }\n",
              "\n",
              "    .dataframe thead th {\n",
              "        text-align: right;\n",
              "    }\n",
              "</style>\n",
              "<table border=\"1\" class=\"dataframe\">\n",
              "  <thead>\n",
              "    <tr style=\"text-align: right;\">\n",
              "      <th></th>\n",
              "      <th>lat</th>\n",
              "      <th>lon</th>\n",
              "      <th>barrio</th>\n",
              "      <th>habitaciones</th>\n",
              "      <th>dormitorios</th>\n",
              "      <th>banios</th>\n",
              "      <th>sup_total</th>\n",
              "      <th>sup_cubierta</th>\n",
              "      <th>cochera</th>\n",
              "      <th>sum</th>\n",
              "      <th>parrilla</th>\n",
              "      <th>pileta</th>\n",
              "    </tr>\n",
              "  </thead>\n",
              "  <tbody>\n",
              "    <tr>\n",
              "      <th>0</th>\n",
              "      <td>-34.586330</td>\n",
              "      <td>-58.508957</td>\n",
              "      <td>Villa Devoto</td>\n",
              "      <td>1.0</td>\n",
              "      <td>NaN</td>\n",
              "      <td>NaN</td>\n",
              "      <td>45</td>\n",
              "      <td>37</td>\n",
              "      <td>0</td>\n",
              "      <td>0</td>\n",
              "      <td>0</td>\n",
              "      <td>0</td>\n",
              "    </tr>\n",
              "    <tr>\n",
              "      <th>1</th>\n",
              "      <td>-34.581699</td>\n",
              "      <td>-58.433547</td>\n",
              "      <td>Palermo</td>\n",
              "      <td>1.0</td>\n",
              "      <td>1.0</td>\n",
              "      <td>1.0</td>\n",
              "      <td>53</td>\n",
              "      <td>40</td>\n",
              "      <td>1</td>\n",
              "      <td>0</td>\n",
              "      <td>0</td>\n",
              "      <td>0</td>\n",
              "    </tr>\n",
              "    <tr>\n",
              "      <th>2</th>\n",
              "      <td>-34.628187</td>\n",
              "      <td>-58.429586</td>\n",
              "      <td>Caballito</td>\n",
              "      <td>2.0</td>\n",
              "      <td>1.0</td>\n",
              "      <td>1.0</td>\n",
              "      <td>42</td>\n",
              "      <td>38</td>\n",
              "      <td>0</td>\n",
              "      <td>1</td>\n",
              "      <td>0</td>\n",
              "      <td>0</td>\n",
              "    </tr>\n",
              "    <tr>\n",
              "      <th>3</th>\n",
              "      <td>-34.593716</td>\n",
              "      <td>-58.440695</td>\n",
              "      <td>Palermo</td>\n",
              "      <td>2.0</td>\n",
              "      <td>1.0</td>\n",
              "      <td>1.0</td>\n",
              "      <td>62</td>\n",
              "      <td>38</td>\n",
              "      <td>0</td>\n",
              "      <td>0</td>\n",
              "      <td>0</td>\n",
              "      <td>0</td>\n",
              "    </tr>\n",
              "    <tr>\n",
              "      <th>4</th>\n",
              "      <td>-34.591336</td>\n",
              "      <td>-58.447218</td>\n",
              "      <td>Villa Crespo</td>\n",
              "      <td>2.0</td>\n",
              "      <td>1.0</td>\n",
              "      <td>1.0</td>\n",
              "      <td>44</td>\n",
              "      <td>40</td>\n",
              "      <td>1</td>\n",
              "      <td>0</td>\n",
              "      <td>0</td>\n",
              "      <td>0</td>\n",
              "    </tr>\n",
              "  </tbody>\n",
              "</table>\n",
              "</div>"
            ],
            "text/plain": [
              "         lat        lon        barrio  ...  sum  parrilla  pileta\n",
              "0 -34.586330 -58.508957  Villa Devoto  ...    0         0       0\n",
              "1 -34.581699 -58.433547       Palermo  ...    0         0       0\n",
              "2 -34.628187 -58.429586     Caballito  ...    1         0       0\n",
              "3 -34.593716 -58.440695       Palermo  ...    0         0       0\n",
              "4 -34.591336 -58.447218  Villa Crespo  ...    0         0       0\n",
              "\n",
              "[5 rows x 12 columns]"
            ]
          },
          "metadata": {
            "tags": []
          },
          "execution_count": 164
        }
      ]
    },
    {
      "cell_type": "code",
      "metadata": {
        "id": "R7MW0Ks7rksq",
        "colab_type": "code",
        "colab": {
          "base_uri": "https://localhost:8080/",
          "height": 34
        },
        "outputId": "7b20fba4-dad5-46a7-90fb-f4a66b5598b6"
      },
      "source": [
        "X = pipe.transform(df_test)\n",
        "X = X.toarray()\n",
        "X.shape"
      ],
      "execution_count": 165,
      "outputs": [
        {
          "output_type": "execute_result",
          "data": {
            "text/plain": [
              "(2500, 69)"
            ]
          },
          "metadata": {
            "tags": []
          },
          "execution_count": 165
        }
      ]
    },
    {
      "cell_type": "code",
      "metadata": {
        "id": "yg2xDHQhB_e0",
        "colab_type": "code",
        "colab": {
          "base_uri": "https://localhost:8080/",
          "height": 51
        },
        "outputId": "bee639ea-a358-4989-a4dd-8ca2e6cdb0e2"
      },
      "source": [
        "y_pred = model.predict(X).flatten()\n",
        "y_pred"
      ],
      "execution_count": 166,
      "outputs": [
        {
          "output_type": "execute_result",
          "data": {
            "text/plain": [
              "array([109205.1 , 151295.77, 135892.39, ..., 156004.75, 153439.39,\n",
              "       109929.77], dtype=float32)"
            ]
          },
          "metadata": {
            "tags": []
          },
          "execution_count": 166
        }
      ]
    },
    {
      "cell_type": "code",
      "metadata": {
        "id": "hs1dIzoIj8fa",
        "colab_type": "code",
        "colab": {}
      },
      "source": [
        "data = pd.DataFrame(data={'id' : ids.values, 'precio': np.round(y_pred).astype(int) })"
      ],
      "execution_count": 167,
      "outputs": []
    },
    {
      "cell_type": "code",
      "metadata": {
        "id": "y3jb4Xb4j8fe",
        "colab_type": "code",
        "colab": {
          "base_uri": "https://localhost:8080/",
          "height": 419
        },
        "outputId": "15cfde84-d8dd-480c-e4ed-53caf6c78c7c"
      },
      "source": [
        "data"
      ],
      "execution_count": 168,
      "outputs": [
        {
          "output_type": "execute_result",
          "data": {
            "text/html": [
              "<div>\n",
              "<style scoped>\n",
              "    .dataframe tbody tr th:only-of-type {\n",
              "        vertical-align: middle;\n",
              "    }\n",
              "\n",
              "    .dataframe tbody tr th {\n",
              "        vertical-align: top;\n",
              "    }\n",
              "\n",
              "    .dataframe thead th {\n",
              "        text-align: right;\n",
              "    }\n",
              "</style>\n",
              "<table border=\"1\" class=\"dataframe\">\n",
              "  <thead>\n",
              "    <tr style=\"text-align: right;\">\n",
              "      <th></th>\n",
              "      <th>id</th>\n",
              "      <th>precio</th>\n",
              "    </tr>\n",
              "  </thead>\n",
              "  <tbody>\n",
              "    <tr>\n",
              "      <th>0</th>\n",
              "      <td>2</td>\n",
              "      <td>109205</td>\n",
              "    </tr>\n",
              "    <tr>\n",
              "      <th>1</th>\n",
              "      <td>34</td>\n",
              "      <td>151296</td>\n",
              "    </tr>\n",
              "    <tr>\n",
              "      <th>2</th>\n",
              "      <td>54</td>\n",
              "      <td>135892</td>\n",
              "    </tr>\n",
              "    <tr>\n",
              "      <th>3</th>\n",
              "      <td>101</td>\n",
              "      <td>162244</td>\n",
              "    </tr>\n",
              "    <tr>\n",
              "      <th>4</th>\n",
              "      <td>103</td>\n",
              "      <td>133843</td>\n",
              "    </tr>\n",
              "    <tr>\n",
              "      <th>...</th>\n",
              "      <td>...</td>\n",
              "      <td>...</td>\n",
              "    </tr>\n",
              "    <tr>\n",
              "      <th>2495</th>\n",
              "      <td>53190</td>\n",
              "      <td>111371</td>\n",
              "    </tr>\n",
              "    <tr>\n",
              "      <th>2496</th>\n",
              "      <td>53221</td>\n",
              "      <td>186871</td>\n",
              "    </tr>\n",
              "    <tr>\n",
              "      <th>2497</th>\n",
              "      <td>53233</td>\n",
              "      <td>156005</td>\n",
              "    </tr>\n",
              "    <tr>\n",
              "      <th>2498</th>\n",
              "      <td>53243</td>\n",
              "      <td>153439</td>\n",
              "    </tr>\n",
              "    <tr>\n",
              "      <th>2499</th>\n",
              "      <td>53244</td>\n",
              "      <td>109930</td>\n",
              "    </tr>\n",
              "  </tbody>\n",
              "</table>\n",
              "<p>2500 rows × 2 columns</p>\n",
              "</div>"
            ],
            "text/plain": [
              "         id  precio\n",
              "0         2  109205\n",
              "1        34  151296\n",
              "2        54  135892\n",
              "3       101  162244\n",
              "4       103  133843\n",
              "...     ...     ...\n",
              "2495  53190  111371\n",
              "2496  53221  186871\n",
              "2497  53233  156005\n",
              "2498  53243  153439\n",
              "2499  53244  109930\n",
              "\n",
              "[2500 rows x 2 columns]"
            ]
          },
          "metadata": {
            "tags": []
          },
          "execution_count": 168
        }
      ]
    },
    {
      "cell_type": "code",
      "metadata": {
        "id": "JjGeJ_eHj8fg",
        "colab_type": "code",
        "colab": {
          "base_uri": "https://localhost:8080/",
          "height": 17
        },
        "outputId": "ec316078-3bd3-4f03-fb57-32b7632d7cea"
      },
      "source": [
        "data.to_csv('propiedades_prediccion.csv', index=False)\n",
        "if IS_COLAB:\n",
        "  from google.colab import files\n",
        "  files.download(filename)"
      ],
      "execution_count": 169,
      "outputs": [
        {
          "output_type": "display_data",
          "data": {
            "application/javascript": [
              "\n",
              "    async function download(id, filename, size) {\n",
              "      if (!google.colab.kernel.accessAllowed) {\n",
              "        return;\n",
              "      }\n",
              "      const div = document.createElement('div');\n",
              "      const label = document.createElement('label');\n",
              "      label.textContent = `Downloading \"${filename}\": `;\n",
              "      div.appendChild(label);\n",
              "      const progress = document.createElement('progress');\n",
              "      progress.max = size;\n",
              "      div.appendChild(progress);\n",
              "      document.body.appendChild(div);\n",
              "\n",
              "      const buffers = [];\n",
              "      let downloaded = 0;\n",
              "\n",
              "      const channel = await google.colab.kernel.comms.open(id);\n",
              "      // Send a message to notify the kernel that we're ready.\n",
              "      channel.send({})\n",
              "\n",
              "      for await (const message of channel.messages) {\n",
              "        // Send a message to notify the kernel that we're ready.\n",
              "        channel.send({})\n",
              "        if (message.buffers) {\n",
              "          for (const buffer of message.buffers) {\n",
              "            buffers.push(buffer);\n",
              "            downloaded += buffer.byteLength;\n",
              "            progress.value = downloaded;\n",
              "          }\n",
              "        }\n",
              "      }\n",
              "      const blob = new Blob(buffers, {type: 'application/binary'});\n",
              "      const a = document.createElement('a');\n",
              "      a.href = window.URL.createObjectURL(blob);\n",
              "      a.download = filename;\n",
              "      div.appendChild(a);\n",
              "      a.click();\n",
              "      div.remove();\n",
              "    }\n",
              "  "
            ],
            "text/plain": [
              "<IPython.core.display.Javascript object>"
            ]
          },
          "metadata": {
            "tags": []
          }
        },
        {
          "output_type": "display_data",
          "data": {
            "application/javascript": [
              "download(\"download_147f7212-e29f-45af-acd2-7a301ef23a55\", \"propiedades_prediccion.csv\", 31638)"
            ],
            "text/plain": [
              "<IPython.core.display.Javascript object>"
            ]
          },
          "metadata": {
            "tags": []
          }
        }
      ]
    },
    {
      "cell_type": "code",
      "metadata": {
        "id": "P7YGp2jhj8fi",
        "colab_type": "code",
        "colab": {
          "base_uri": "https://localhost:8080/",
          "height": 17
        },
        "outputId": "3f56f2a8-f6dd-4bcb-fc96-52da9778181e"
      },
      "source": [
        "#model.save_weights('model.h5')\n",
        "if IS_COLAB:\n",
        "  files.download('modelo_prediccion_propiedades.hdf5')"
      ],
      "execution_count": 170,
      "outputs": [
        {
          "output_type": "display_data",
          "data": {
            "application/javascript": [
              "\n",
              "    async function download(id, filename, size) {\n",
              "      if (!google.colab.kernel.accessAllowed) {\n",
              "        return;\n",
              "      }\n",
              "      const div = document.createElement('div');\n",
              "      const label = document.createElement('label');\n",
              "      label.textContent = `Downloading \"${filename}\": `;\n",
              "      div.appendChild(label);\n",
              "      const progress = document.createElement('progress');\n",
              "      progress.max = size;\n",
              "      div.appendChild(progress);\n",
              "      document.body.appendChild(div);\n",
              "\n",
              "      const buffers = [];\n",
              "      let downloaded = 0;\n",
              "\n",
              "      const channel = await google.colab.kernel.comms.open(id);\n",
              "      // Send a message to notify the kernel that we're ready.\n",
              "      channel.send({})\n",
              "\n",
              "      for await (const message of channel.messages) {\n",
              "        // Send a message to notify the kernel that we're ready.\n",
              "        channel.send({})\n",
              "        if (message.buffers) {\n",
              "          for (const buffer of message.buffers) {\n",
              "            buffers.push(buffer);\n",
              "            downloaded += buffer.byteLength;\n",
              "            progress.value = downloaded;\n",
              "          }\n",
              "        }\n",
              "      }\n",
              "      const blob = new Blob(buffers, {type: 'application/binary'});\n",
              "      const a = document.createElement('a');\n",
              "      a.href = window.URL.createObjectURL(blob);\n",
              "      a.download = filename;\n",
              "      div.appendChild(a);\n",
              "      a.click();\n",
              "      div.remove();\n",
              "    }\n",
              "  "
            ],
            "text/plain": [
              "<IPython.core.display.Javascript object>"
            ]
          },
          "metadata": {
            "tags": []
          }
        },
        {
          "output_type": "display_data",
          "data": {
            "application/javascript": [
              "download(\"download_52bab63f-c63c-4743-bdc5-84bdf723af73\", \"model.h5\", 30880)"
            ],
            "text/plain": [
              "<IPython.core.display.Javascript object>"
            ]
          },
          "metadata": {
            "tags": []
          }
        }
      ]
    },
    {
      "cell_type": "code",
      "metadata": {
        "id": "VPfvBfdb1AgD",
        "colab_type": "code",
        "colab": {}
      },
      "source": [
        ""
      ],
      "execution_count": null,
      "outputs": []
    }
  ]
}