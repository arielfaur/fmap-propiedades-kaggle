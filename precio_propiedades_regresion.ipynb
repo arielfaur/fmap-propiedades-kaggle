{
  "nbformat": 4,
  "nbformat_minor": 0,
  "metadata": {
    "language_info": {
      "codemirror_mode": {
        "name": "ipython",
        "version": 3
      },
      "file_extension": ".py",
      "mimetype": "text/x-python",
      "name": "python",
      "nbconvert_exporter": "python",
      "pygments_lexer": "ipython3",
      "version": "3.7.7-final"
    },
    "orig_nbformat": 2,
    "kernelspec": {
      "name": "python37764bitposgradoconda3fc346c30d4442f5aafcbd2979f1dc82",
      "display_name": "Python 3.7.7 64-bit ('posgrado': conda)"
    },
    "colab": {
      "name": "precio_propiedades_regresion.ipynb",
      "provenance": []
    }
  },
  "cells": [
    {
      "cell_type": "code",
      "metadata": {
        "id": "R72C2qvtj8fJ",
        "colab_type": "code",
        "colab": {}
      },
      "source": [
        "# import libraries \n",
        "import pandas as pd \n",
        "import numpy as np\n",
        "import matplotlib.pyplot as plt \n",
        "import seaborn as sns \n",
        "# %matplotlib inline\n",
        "\n",
        "from sklearn.feature_extraction.text import CountVectorizer\n",
        "from sklearn.pipeline import make_pipeline, Pipeline\n",
        "from sklearn.preprocessing import StandardScaler, OneHotEncoder\n",
        "from sklearn.compose import ColumnTransformer, make_column_transformer, TransformedTargetRegressor\n",
        "from sklearn.impute import SimpleImputer, KNNImputer\n",
        "\n",
        "from sklearn.ensemble import RandomForestRegressor, GradientBoostingRegressor, VotingRegressor\n",
        "from sklearn.linear_model import LinearRegression\n",
        "from sklearn.svm import SVR\n",
        "from sklearn.model_selection import GridSearchCV, cross_validate, cross_val_predict, train_test_split\n",
        "\n",
        "text_mining_keywords = ['cochera', 'sum', 'parrilla', 'pileta']\n",
        "\n",
        "\n",
        "def vectorize_descripcion(df: pd.DataFrame):\n",
        "    descripcion = df['descripcion']\n",
        "    descripcion[descripcion.isna()] = ''\n",
        "\n",
        "    \n",
        "    # entrenamos el modelo para buscar las keywords\n",
        "    vectorizer = CountVectorizer(binary=True)  \n",
        "    vectorizer.fit(text_mining_keywords)\n",
        "\n",
        "    # hot encoding de los resultados\n",
        "    df_countvectorizer = vectorizer.transform(descripcion)\n",
        "\n",
        "    desc = pd.DataFrame(df_countvectorizer.toarray())\n",
        "    desc.columns = text_mining_keywords\n",
        "    \n",
        "    df.drop(['descripcion'], axis=1, inplace=True)\n",
        "    return(pd.concat([df, desc], axis=1))\n",
        "    \n",
        "\n",
        "def preprocessing(df: pd.DataFrame):\n",
        "    # guardar los id\n",
        "    ids = df['id']\n",
        "\n",
        "    # eliminar columnas innecesarias del modelo\n",
        "    df.drop(['id', 'pub_inicio', 'pub_fin', 'pub_creada', 'subbarrio', 'titulo'],axis=1, inplace=True)\n",
        "\n",
        "    df = vectorize_descripcion(df)\n",
        "\n",
        "    return ids, df\n",
        "\n",
        "\n",
        "def split_data(df: pd.DataFrame, test_size = 0.05):\n",
        "    y = df['precio']\n",
        "    X = df.drop(['precio'], axis=1)\n",
        "\n",
        "    X_train, X_test, y_train, y_test = train_test_split(X, y, test_size = test_size, random_state=5)\n",
        "    return X_train, X_test, y_train, y_test\n",
        "\n",
        "\n",
        "## Preprocesamiento de los features: imputación, estandarización, one-hot encoding\n",
        "def make_transformer_pipeline():\n",
        "    numeric_features = ['lat', 'lon', 'habitaciones', 'dormitorios', 'banios',\n",
        "       'sup_total', 'sup_cubierta', 'cochera', 'sum', 'parrilla',\n",
        "       'pileta']\n",
        "    numeric_transformer = make_pipeline( \n",
        "        SimpleImputer(missing_values = np.nan, strategy='mean'),\n",
        "        StandardScaler(),\n",
        "    )\n",
        "\n",
        "    categorical_features = ['barrio']\n",
        "    categorical_transformer = make_pipeline(\n",
        "        SimpleImputer(strategy='constant', fill_value='missing'),\n",
        "        #SimpleImputer(strategy=\"most_frequent\"),\n",
        "        #KNNImputer(n_neighbors=3, weights=\"uniform\"),     # KNNImputer tarda una eternidad...\n",
        "        OneHotEncoder(handle_unknown='ignore')\n",
        "    )\n",
        "\n",
        "    return make_column_transformer(\n",
        "        (numeric_transformer, numeric_features),\n",
        "        (categorical_transformer, categorical_features)\n",
        "    )    \n",
        "\n",
        "# def make_model_pipeline():\n",
        "#     transformer = make_transformer_pipeline()\n",
        "#     rfr = RandomForestRegressor(n_estimators=50, max_depth=22, min_samples_split=3, random_state = 5)\n",
        "    \n",
        "#     return make_pipeline(transformer, rfr)\n",
        "\n",
        "def create_train_rgr_model(df: pd.DataFrame):\n",
        "    transformer = make_transformer_pipeline()\n",
        "    rfr = RandomForestRegressor(n_estimators=100, random_state = 5)\n",
        "\n",
        "    pipeline = make_pipeline(transformer, rfr)\n",
        "    model = TransformedTargetRegressor(regressor=pipeline, transformer=StandardScaler())\n",
        "\n",
        "    return model\n",
        "\n",
        "def create_train_svr_model(df: pd.DataFrame):\n",
        "    transformer = make_transformer_pipeline()\n",
        "    svr = SVR(C=1)\n",
        "\n",
        "    pipeline = make_pipeline(transformer, svr)\n",
        "    model = TransformedTargetRegressor(regressor=pipeline, transformer=StandardScaler())\n",
        "\n",
        "    return model    \n",
        "\n",
        "def create_train_lr_model(df: pd.DataFrame):\n",
        "    transformer = make_transformer_pipeline()\n",
        "    lr = LinearRegression()\n",
        "\n",
        "    pipeline = make_pipeline(transformer, lr)\n",
        "    model = TransformedTargetRegressor(regressor=pipeline, transformer=StandardScaler())\n",
        "\n",
        "    return model    \n",
        "\n",
        "def plot_test_predictions(y_test, y_pred):\n",
        "    # graficar predicciones contra datos actuales\n",
        "    plt.figure(figsize = (18,10))\n",
        "    plot_k = sns.scatterplot(y_test, y_pred)\n",
        "    plot_k.set(xlabel='Precio test', ylabel='Precio predicción')\n",
        "    # graficar la identidad\n",
        "    x_plot = np.linspace(0,np.max(y_test),1000)\n",
        "    y_plot = x_plot\n",
        "    plt.plot(x_plot, y_plot, color='r')\n",
        "\n"
      ],
      "execution_count": 62,
      "outputs": []
    },
    {
      "cell_type": "code",
      "metadata": {
        "id": "MVytEtsH5bKF",
        "colab_type": "code",
        "colab": {
          "base_uri": "https://localhost:8080/",
          "height": 547
        },
        "outputId": "dc8b4381-22f5-44f9-9491-9a51832b814b"
      },
      "source": [
        "df_train = pd.read_excel('https://github.com/arielfaur/prediccion-precio-propiedades-fmap-2020/raw/master/propiedades_entrenamiento.xlsx')\n",
        "df_train.head()"
      ],
      "execution_count": 57,
      "outputs": [
        {
          "output_type": "execute_result",
          "data": {
            "text/html": [
              "<div>\n",
              "<style scoped>\n",
              "    .dataframe tbody tr th:only-of-type {\n",
              "        vertical-align: middle;\n",
              "    }\n",
              "\n",
              "    .dataframe tbody tr th {\n",
              "        vertical-align: top;\n",
              "    }\n",
              "\n",
              "    .dataframe thead th {\n",
              "        text-align: right;\n",
              "    }\n",
              "</style>\n",
              "<table border=\"1\" class=\"dataframe\">\n",
              "  <thead>\n",
              "    <tr style=\"text-align: right;\">\n",
              "      <th></th>\n",
              "      <th>id</th>\n",
              "      <th>pub_inicio</th>\n",
              "      <th>pub_fin</th>\n",
              "      <th>pub_creada</th>\n",
              "      <th>lat</th>\n",
              "      <th>lon</th>\n",
              "      <th>barrio</th>\n",
              "      <th>subbarrio</th>\n",
              "      <th>habitaciones</th>\n",
              "      <th>dormitorios</th>\n",
              "      <th>banios</th>\n",
              "      <th>sup_total</th>\n",
              "      <th>sup_cubierta</th>\n",
              "      <th>titulo</th>\n",
              "      <th>descripcion</th>\n",
              "      <th>precio</th>\n",
              "    </tr>\n",
              "  </thead>\n",
              "  <tbody>\n",
              "    <tr>\n",
              "      <th>0</th>\n",
              "      <td>1</td>\n",
              "      <td>2019-11-20</td>\n",
              "      <td>9999-12-31</td>\n",
              "      <td>2019-11-20</td>\n",
              "      <td>-34.606891</td>\n",
              "      <td>-58.409890</td>\n",
              "      <td>Almagro</td>\n",
              "      <td>NaN</td>\n",
              "      <td>3.0</td>\n",
              "      <td>NaN</td>\n",
              "      <td>2.0</td>\n",
              "      <td>108.0</td>\n",
              "      <td>108.0</td>\n",
              "      <td>PISO EN VENTA 3 AMB C/ ESC. Y DEP. EN ALMAGRO</td>\n",
              "      <td>Piso en Venta 3 ambientes c/ Escritorio y Depe...</td>\n",
              "      <td>150000</td>\n",
              "    </tr>\n",
              "    <tr>\n",
              "      <th>1</th>\n",
              "      <td>3</td>\n",
              "      <td>2019-11-19</td>\n",
              "      <td>2020-02-22</td>\n",
              "      <td>2019-11-19</td>\n",
              "      <td>-34.604912</td>\n",
              "      <td>-58.417065</td>\n",
              "      <td>Almagro</td>\n",
              "      <td>NaN</td>\n",
              "      <td>3.0</td>\n",
              "      <td>1.0</td>\n",
              "      <td>2.0</td>\n",
              "      <td>72.0</td>\n",
              "      <td>63.0</td>\n",
              "      <td>Venta Departamento en Almagro Capital Federal ...</td>\n",
              "      <td>Departamento en Venta, 3 AMBIENTES + COCHERA E...</td>\n",
              "      <td>144000</td>\n",
              "    </tr>\n",
              "    <tr>\n",
              "      <th>2</th>\n",
              "      <td>4</td>\n",
              "      <td>2019-05-21</td>\n",
              "      <td>2019-07-03</td>\n",
              "      <td>2019-05-21</td>\n",
              "      <td>-34.600886</td>\n",
              "      <td>-58.431204</td>\n",
              "      <td>Villa Crespo</td>\n",
              "      <td>NaN</td>\n",
              "      <td>3.0</td>\n",
              "      <td>2.0</td>\n",
              "      <td>1.0</td>\n",
              "      <td>57.0</td>\n",
              "      <td>57.0</td>\n",
              "      <td>DEPARTAMENTO EN VENTA</td>\n",
              "      <td>Xintel (GOP-GOP-8943) Venta de Departamento 3 ...</td>\n",
              "      <td>145000</td>\n",
              "    </tr>\n",
              "    <tr>\n",
              "      <th>3</th>\n",
              "      <td>5</td>\n",
              "      <td>2019-05-21</td>\n",
              "      <td>2020-05-22</td>\n",
              "      <td>2019-05-21</td>\n",
              "      <td>-34.628760</td>\n",
              "      <td>-58.453224</td>\n",
              "      <td>Flores</td>\n",
              "      <td>NaN</td>\n",
              "      <td>4.0</td>\n",
              "      <td>3.0</td>\n",
              "      <td>3.0</td>\n",
              "      <td>128.0</td>\n",
              "      <td>117.0</td>\n",
              "      <td>DEPARTAMENTO EN VENTA</td>\n",
              "      <td>Xintel (AGU-AGU-3167)  Hermoso 3 ambientes al ...</td>\n",
              "      <td>585000</td>\n",
              "    </tr>\n",
              "    <tr>\n",
              "      <th>4</th>\n",
              "      <td>6</td>\n",
              "      <td>2019-07-15</td>\n",
              "      <td>2020-02-13</td>\n",
              "      <td>2019-07-15</td>\n",
              "      <td>-34.572144</td>\n",
              "      <td>-58.480173</td>\n",
              "      <td>Villa Urquiza</td>\n",
              "      <td>NaN</td>\n",
              "      <td>3.0</td>\n",
              "      <td>NaN</td>\n",
              "      <td>2.0</td>\n",
              "      <td>NaN</td>\n",
              "      <td>60.0</td>\n",
              "      <td>Departamento en Venta ubicado en Villa Urquiza R</td>\n",
              "      <td>Venta - Departamento - Argentina, Buenos Aires...</td>\n",
              "      <td>237000</td>\n",
              "    </tr>\n",
              "  </tbody>\n",
              "</table>\n",
              "</div>"
            ],
            "text/plain": [
              "   id  pub_inicio  ...                                        descripcion  precio\n",
              "0   1  2019-11-20  ...  Piso en Venta 3 ambientes c/ Escritorio y Depe...  150000\n",
              "1   3  2019-11-19  ...  Departamento en Venta, 3 AMBIENTES + COCHERA E...  144000\n",
              "2   4  2019-05-21  ...  Xintel (GOP-GOP-8943) Venta de Departamento 3 ...  145000\n",
              "3   5  2019-05-21  ...  Xintel (AGU-AGU-3167)  Hermoso 3 ambientes al ...  585000\n",
              "4   6  2019-07-15  ...  Venta - Departamento - Argentina, Buenos Aires...  237000\n",
              "\n",
              "[5 rows x 16 columns]"
            ]
          },
          "metadata": {
            "tags": []
          },
          "execution_count": 57
        }
      ]
    },
    {
      "cell_type": "code",
      "metadata": {
        "id": "PeqQY-K87TXI",
        "colab_type": "code",
        "colab": {
          "base_uri": "https://localhost:8080/",
          "height": 85
        },
        "outputId": "f2a928e6-190d-49fb-e83a-62b93deefcb4"
      },
      "source": [
        "ids, df_train = preprocessing(df_train)"
      ],
      "execution_count": 58,
      "outputs": [
        {
          "output_type": "stream",
          "text": [
            "/usr/local/lib/python3.6/dist-packages/ipykernel_launcher.py:24: SettingWithCopyWarning: \n",
            "A value is trying to be set on a copy of a slice from a DataFrame\n",
            "\n",
            "See the caveats in the documentation: https://pandas.pydata.org/pandas-docs/stable/user_guide/indexing.html#returning-a-view-versus-a-copy\n"
          ],
          "name": "stderr"
        }
      ]
    },
    {
      "cell_type": "code",
      "metadata": {
        "tags": [],
        "id": "h1KtQVF6j8fM",
        "colab_type": "code",
        "colab": {}
      },
      "source": [
        "model = create_train_rgr_model(df_train)"
      ],
      "execution_count": 59,
      "outputs": []
    },
    {
      "cell_type": "code",
      "metadata": {
        "tags": [],
        "id": "n0vyj5urj8fQ",
        "colab_type": "code",
        "colab": {
          "base_uri": "https://localhost:8080/",
          "height": 68
        },
        "outputId": "268b10ef-ed43-45e8-bdb1-83ec08c38304"
      },
      "source": [
        "X_train, X_test, y_train, y_test = split_data(df_train)\n",
        "\n",
        "scores = cross_validate(model, X_train, y_train, cv=5, scoring=('r2', 'neg_root_mean_squared_error'))\n",
        "\n",
        "print(scores['test_neg_root_mean_squared_error'])\n",
        "print(scores['test_r2'])\n",
        "\n"
      ],
      "execution_count": 60,
      "outputs": [
        {
          "output_type": "stream",
          "text": [
            "[-101849.97517102 -101586.23252035 -126161.02848328 -130073.85777698\n",
            " -144675.90241489]\n",
            "[0.85364592 0.87617876 0.81735818 0.80018301 0.73972298]\n"
          ],
          "name": "stdout"
        }
      ]
    },
    {
      "cell_type": "code",
      "metadata": {
        "id": "ikQSy1OYj8fT",
        "colab_type": "code",
        "colab": {
          "base_uri": "https://localhost:8080/",
          "height": 616
        },
        "outputId": "adc1eae5-5cf4-4c5e-b4f2-1065333bda62"
      },
      "source": [
        "y_pred = cross_val_predict(model, X_test, y_test, cv=5)\n",
        "plot_test_predictions(y_test, y_pred)"
      ],
      "execution_count": 63,
      "outputs": [
        {
          "output_type": "display_data",
          "data": {
            "image/png": "[encoded data removed]",
            "text/plain": [
              "<Figure size 1296x720 with 1 Axes>"
            ]
          },
          "metadata": {
            "tags": [],
            "needs_background": "light"
          }
        }
      ]
    },
    {
      "cell_type": "code",
      "metadata": {
        "id": "dvqysss0j8fW",
        "colab_type": "code",
        "colab": {
          "base_uri": "https://localhost:8080/",
          "height": 530
        },
        "outputId": "d9a59c6c-45ea-42b2-aa80-bc714c381d92"
      },
      "source": [
        "df_test = pd.read_excel('https://github.com/arielfaur/prediccion-precio-propiedades-fmap-2020/raw/master/propiedades_prueba.xlsx')\n",
        "df_test.head()"
      ],
      "execution_count": 64,
      "outputs": [
        {
          "output_type": "execute_result",
          "data": {
            "text/html": [
              "<div>\n",
              "<style scoped>\n",
              "    .dataframe tbody tr th:only-of-type {\n",
              "        vertical-align: middle;\n",
              "    }\n",
              "\n",
              "    .dataframe tbody tr th {\n",
              "        vertical-align: top;\n",
              "    }\n",
              "\n",
              "    .dataframe thead th {\n",
              "        text-align: right;\n",
              "    }\n",
              "</style>\n",
              "<table border=\"1\" class=\"dataframe\">\n",
              "  <thead>\n",
              "    <tr style=\"text-align: right;\">\n",
              "      <th></th>\n",
              "      <th>id</th>\n",
              "      <th>pub_inicio</th>\n",
              "      <th>pub_fin</th>\n",
              "      <th>pub_creada</th>\n",
              "      <th>lat</th>\n",
              "      <th>lon</th>\n",
              "      <th>barrio</th>\n",
              "      <th>subbarrio</th>\n",
              "      <th>habitaciones</th>\n",
              "      <th>dormitorios</th>\n",
              "      <th>banios</th>\n",
              "      <th>sup_total</th>\n",
              "      <th>sup_cubierta</th>\n",
              "      <th>titulo</th>\n",
              "      <th>descripcion</th>\n",
              "      <th>precio</th>\n",
              "    </tr>\n",
              "  </thead>\n",
              "  <tbody>\n",
              "    <tr>\n",
              "      <th>0</th>\n",
              "      <td>2</td>\n",
              "      <td>2019-10-23</td>\n",
              "      <td>9999-12-31</td>\n",
              "      <td>2019-10-23</td>\n",
              "      <td>-34.586330</td>\n",
              "      <td>-58.508957</td>\n",
              "      <td>Villa Devoto</td>\n",
              "      <td>NaN</td>\n",
              "      <td>1.0</td>\n",
              "      <td>NaN</td>\n",
              "      <td>NaN</td>\n",
              "      <td>45</td>\n",
              "      <td>37</td>\n",
              "      <td>Ladines  3200 pb - U$D 124.000 - Departamento ...</td>\n",
              "      <td>Impecable 2 ambientes con patio cubierto con t...</td>\n",
              "      <td>NaN</td>\n",
              "    </tr>\n",
              "    <tr>\n",
              "      <th>1</th>\n",
              "      <td>34</td>\n",
              "      <td>2019-05-07</td>\n",
              "      <td>2019-06-23</td>\n",
              "      <td>2019-05-07</td>\n",
              "      <td>-34.581699</td>\n",
              "      <td>-58.433547</td>\n",
              "      <td>Palermo</td>\n",
              "      <td>Palermo Hollywood</td>\n",
              "      <td>1.0</td>\n",
              "      <td>1.0</td>\n",
              "      <td>1.0</td>\n",
              "      <td>53</td>\n",
              "      <td>40</td>\n",
              "      <td>VENTA MONOAMBIENTE ESPECTACULAR EN COLEGIALES</td>\n",
              "      <td>Monoambiente impecable divisible a dos ambient...</td>\n",
              "      <td>NaN</td>\n",
              "    </tr>\n",
              "    <tr>\n",
              "      <th>2</th>\n",
              "      <td>54</td>\n",
              "      <td>2019-10-13</td>\n",
              "      <td>2019-12-23</td>\n",
              "      <td>2019-10-13</td>\n",
              "      <td>-34.628187</td>\n",
              "      <td>-58.429586</td>\n",
              "      <td>Caballito</td>\n",
              "      <td>NaN</td>\n",
              "      <td>2.0</td>\n",
              "      <td>1.0</td>\n",
              "      <td>1.0</td>\n",
              "      <td>42</td>\n",
              "      <td>38</td>\n",
              "      <td>2 ambientes divisibles a estrenar en Palmera C...</td>\n",
              "      <td>Palmera Caballito: Torre con amenities de gran...</td>\n",
              "      <td>NaN</td>\n",
              "    </tr>\n",
              "    <tr>\n",
              "      <th>3</th>\n",
              "      <td>101</td>\n",
              "      <td>2019-08-25</td>\n",
              "      <td>2019-09-14</td>\n",
              "      <td>2019-08-25</td>\n",
              "      <td>-34.593716</td>\n",
              "      <td>-58.440695</td>\n",
              "      <td>Palermo</td>\n",
              "      <td>NaN</td>\n",
              "      <td>2.0</td>\n",
              "      <td>1.0</td>\n",
              "      <td>1.0</td>\n",
              "      <td>62</td>\n",
              "      <td>38</td>\n",
              "      <td>Depto 2 amb c/terraza prpia Palermo Queens out...</td>\n",
              "      <td>Corredor Responsable: Ariel Champanier - CUCIC...</td>\n",
              "      <td>NaN</td>\n",
              "    </tr>\n",
              "    <tr>\n",
              "      <th>4</th>\n",
              "      <td>103</td>\n",
              "      <td>2019-10-23</td>\n",
              "      <td>2019-11-09</td>\n",
              "      <td>2019-10-23</td>\n",
              "      <td>-34.591336</td>\n",
              "      <td>-58.447218</td>\n",
              "      <td>Villa Crespo</td>\n",
              "      <td>NaN</td>\n",
              "      <td>2.0</td>\n",
              "      <td>1.0</td>\n",
              "      <td>1.0</td>\n",
              "      <td>44</td>\n",
              "      <td>40</td>\n",
              "      <td>Departamento de dos ambientes con cochera en v...</td>\n",
              "      <td>Departamento de 2 ambientes con cochera ubicad...</td>\n",
              "      <td>NaN</td>\n",
              "    </tr>\n",
              "  </tbody>\n",
              "</table>\n",
              "</div>"
            ],
            "text/plain": [
              "    id  pub_inicio  ...                                        descripcion precio\n",
              "0    2  2019-10-23  ...  Impecable 2 ambientes con patio cubierto con t...    NaN\n",
              "1   34  2019-05-07  ...  Monoambiente impecable divisible a dos ambient...    NaN\n",
              "2   54  2019-10-13  ...  Palmera Caballito: Torre con amenities de gran...    NaN\n",
              "3  101  2019-08-25  ...  Corredor Responsable: Ariel Champanier - CUCIC...    NaN\n",
              "4  103  2019-10-23  ...  Departamento de 2 ambientes con cochera ubicad...    NaN\n",
              "\n",
              "[5 rows x 16 columns]"
            ]
          },
          "metadata": {
            "tags": []
          },
          "execution_count": 64
        }
      ]
    },
    {
      "cell_type": "code",
      "metadata": {
        "id": "xPER5ompNBVX",
        "colab_type": "code",
        "colab": {
          "base_uri": "https://localhost:8080/",
          "height": 85
        },
        "outputId": "196fda95-845d-4c1e-cf81-da777fe62ff2"
      },
      "source": [
        "ids, df_test = preprocessing(df_test)"
      ],
      "execution_count": 65,
      "outputs": [
        {
          "output_type": "stream",
          "text": [
            "/usr/local/lib/python3.6/dist-packages/ipykernel_launcher.py:24: SettingWithCopyWarning: \n",
            "A value is trying to be set on a copy of a slice from a DataFrame\n",
            "\n",
            "See the caveats in the documentation: https://pandas.pydata.org/pandas-docs/stable/user_guide/indexing.html#returning-a-view-versus-a-copy\n"
          ],
          "name": "stderr"
        }
      ]
    },
    {
      "cell_type": "code",
      "metadata": {
        "id": "x_78SmGRj8fY",
        "colab_type": "code",
        "colab": {
          "base_uri": "https://localhost:8080/",
          "height": 544
        },
        "outputId": "30418410-4a97-4df5-ec85-d7e727158e5f"
      },
      "source": [
        "model.fit(X_train, y_train)\n"
      ],
      "execution_count": 66,
      "outputs": [
        {
          "output_type": "execute_result",
          "data": {
            "text/plain": [
              "TransformedTargetRegressor(check_inverse=True, func=None, inverse_func=None,\n",
              "                           regressor=Pipeline(memory=None,\n",
              "                                              steps=[('columntransformer',\n",
              "                                                      ColumnTransformer(n_jobs=None,\n",
              "                                                                        remainder='drop',\n",
              "                                                                        sparse_threshold=0.3,\n",
              "                                                                        transformer_weights=None,\n",
              "                                                                        transformers=[('pipeline-1',\n",
              "                                                                                       Pipeline(memory=None,\n",
              "                                                                                                steps=[('simpleimputer',\n",
              "                                                                                                        SimpleImputer(add_indicator=False,\n",
              "                                                                                                                      copy=True,\n",
              "                                                                                                                      fill_va...\n",
              "                                                                            max_depth=None,\n",
              "                                                                            max_features='auto',\n",
              "                                                                            max_leaf_nodes=None,\n",
              "                                                                            max_samples=None,\n",
              "                                                                            min_impurity_decrease=0.0,\n",
              "                                                                            min_impurity_split=None,\n",
              "                                                                            min_samples_leaf=1,\n",
              "                                                                            min_samples_split=2,\n",
              "                                                                            min_weight_fraction_leaf=0.0,\n",
              "                                                                            n_estimators=100,\n",
              "                                                                            n_jobs=None,\n",
              "                                                                            oob_score=False,\n",
              "                                                                            random_state=5,\n",
              "                                                                            verbose=0,\n",
              "                                                                            warm_start=False))],\n",
              "                                              verbose=False),\n",
              "                           transformer=StandardScaler(copy=True, with_mean=True,\n",
              "                                                      with_std=True))"
            ]
          },
          "metadata": {
            "tags": []
          },
          "execution_count": 66
        }
      ]
    },
    {
      "cell_type": "code",
      "metadata": {
        "id": "hs1dIzoIj8fa",
        "colab_type": "code",
        "colab": {
          "base_uri": "https://localhost:8080/",
          "height": 71
        },
        "outputId": "8c6ca147-ab22-4ef1-aece-a535a8f8cd9a"
      },
      "source": [
        "predicted = model.predict(df_test)\n",
        "data = pd.DataFrame(data={'id' : ids.values, 'precio': np.round(predicted).astype(int) })"
      ],
      "execution_count": 67,
      "outputs": [
        {
          "output_type": "stream",
          "text": [
            "/usr/local/lib/python3.6/dist-packages/sklearn/compose/_column_transformer.py:430: FutureWarning: Given feature/column names or counts do not match the ones for the data given during fit. This will fail from v0.24.\n",
            "  FutureWarning)\n"
          ],
          "name": "stderr"
        }
      ]
    },
    {
      "cell_type": "code",
      "metadata": {
        "id": "y3jb4Xb4j8fe",
        "colab_type": "code",
        "colab": {
          "base_uri": "https://localhost:8080/",
          "height": 419
        },
        "outputId": "90d2b86c-c710-437c-d062-eb82dfa43568"
      },
      "source": [
        "data\n"
      ],
      "execution_count": 68,
      "outputs": [
        {
          "output_type": "execute_result",
          "data": {
            "text/html": [
              "<div>\n",
              "<style scoped>\n",
              "    .dataframe tbody tr th:only-of-type {\n",
              "        vertical-align: middle;\n",
              "    }\n",
              "\n",
              "    .dataframe tbody tr th {\n",
              "        vertical-align: top;\n",
              "    }\n",
              "\n",
              "    .dataframe thead th {\n",
              "        text-align: right;\n",
              "    }\n",
              "</style>\n",
              "<table border=\"1\" class=\"dataframe\">\n",
              "  <thead>\n",
              "    <tr style=\"text-align: right;\">\n",
              "      <th></th>\n",
              "      <th>id</th>\n",
              "      <th>precio</th>\n",
              "    </tr>\n",
              "  </thead>\n",
              "  <tbody>\n",
              "    <tr>\n",
              "      <th>0</th>\n",
              "      <td>2</td>\n",
              "      <td>106921</td>\n",
              "    </tr>\n",
              "    <tr>\n",
              "      <th>1</th>\n",
              "      <td>34</td>\n",
              "      <td>222652</td>\n",
              "    </tr>\n",
              "    <tr>\n",
              "      <th>2</th>\n",
              "      <td>54</td>\n",
              "      <td>130563</td>\n",
              "    </tr>\n",
              "    <tr>\n",
              "      <th>3</th>\n",
              "      <td>101</td>\n",
              "      <td>133604</td>\n",
              "    </tr>\n",
              "    <tr>\n",
              "      <th>4</th>\n",
              "      <td>103</td>\n",
              "      <td>119023</td>\n",
              "    </tr>\n",
              "    <tr>\n",
              "      <th>...</th>\n",
              "      <td>...</td>\n",
              "      <td>...</td>\n",
              "    </tr>\n",
              "    <tr>\n",
              "      <th>2495</th>\n",
              "      <td>53190</td>\n",
              "      <td>126725</td>\n",
              "    </tr>\n",
              "    <tr>\n",
              "      <th>2496</th>\n",
              "      <td>53221</td>\n",
              "      <td>281880</td>\n",
              "    </tr>\n",
              "    <tr>\n",
              "      <th>2497</th>\n",
              "      <td>53233</td>\n",
              "      <td>100948</td>\n",
              "    </tr>\n",
              "    <tr>\n",
              "      <th>2498</th>\n",
              "      <td>53243</td>\n",
              "      <td>130963</td>\n",
              "    </tr>\n",
              "    <tr>\n",
              "      <th>2499</th>\n",
              "      <td>53244</td>\n",
              "      <td>143235</td>\n",
              "    </tr>\n",
              "  </tbody>\n",
              "</table>\n",
              "<p>2500 rows × 2 columns</p>\n",
              "</div>"
            ],
            "text/plain": [
              "         id  precio\n",
              "0         2  106921\n",
              "1        34  222652\n",
              "2        54  130563\n",
              "3       101  133604\n",
              "4       103  119023\n",
              "...     ...     ...\n",
              "2495  53190  126725\n",
              "2496  53221  281880\n",
              "2497  53233  100948\n",
              "2498  53243  130963\n",
              "2499  53244  143235\n",
              "\n",
              "[2500 rows x 2 columns]"
            ]
          },
          "metadata": {
            "tags": []
          },
          "execution_count": 68
        }
      ]
    },
    {
      "cell_type": "code",
      "metadata": {
        "id": "JjGeJ_eHj8fg",
        "colab_type": "code",
        "colab": {
          "base_uri": "https://localhost:8080/",
          "height": 17
        },
        "outputId": "3184ae91-a194-47df-fd67-0ef5b3880a61"
      },
      "source": [
        "from google.colab import files\n",
        "data.to_csv('propiedades_prediccion.csv', index=False)\n",
        "files.download('propiedades_prediccion.csv')"
      ],
      "execution_count": 69,
      "outputs": [
        {
          "output_type": "display_data",
          "data": {
            "application/javascript": [
              "\n",
              "    async function download(id, filename, size) {\n",
              "      if (!google.colab.kernel.accessAllowed) {\n",
              "        return;\n",
              "      }\n",
              "      const div = document.createElement('div');\n",
              "      const label = document.createElement('label');\n",
              "      label.textContent = `Downloading \"${filename}\": `;\n",
              "      div.appendChild(label);\n",
              "      const progress = document.createElement('progress');\n",
              "      progress.max = size;\n",
              "      div.appendChild(progress);\n",
              "      document.body.appendChild(div);\n",
              "\n",
              "      const buffers = [];\n",
              "      let downloaded = 0;\n",
              "\n",
              "      const channel = await google.colab.kernel.comms.open(id);\n",
              "      // Send a message to notify the kernel that we're ready.\n",
              "      channel.send({})\n",
              "\n",
              "      for await (const message of channel.messages) {\n",
              "        // Send a message to notify the kernel that we're ready.\n",
              "        channel.send({})\n",
              "        if (message.buffers) {\n",
              "          for (const buffer of message.buffers) {\n",
              "            buffers.push(buffer);\n",
              "            downloaded += buffer.byteLength;\n",
              "            progress.value = downloaded;\n",
              "          }\n",
              "        }\n",
              "      }\n",
              "      const blob = new Blob(buffers, {type: 'application/binary'});\n",
              "      const a = document.createElement('a');\n",
              "      a.href = window.URL.createObjectURL(blob);\n",
              "      a.download = filename;\n",
              "      div.appendChild(a);\n",
              "      a.click();\n",
              "      div.remove();\n",
              "    }\n",
              "  "
            ],
            "text/plain": [
              "<IPython.core.display.Javascript object>"
            ]
          },
          "metadata": {
            "tags": []
          }
        },
        {
          "output_type": "display_data",
          "data": {
            "application/javascript": [
              "download(\"download_b225d218-dd59-4a95-8037-06afe14a9c37\", \"propiedades_prediccion.csv\", 31754)"
            ],
            "text/plain": [
              "<IPython.core.display.Javascript object>"
            ]
          },
          "metadata": {
            "tags": []
          }
        }
      ]
    },
    {
      "cell_type": "code",
      "metadata": {
        "id": "P7YGp2jhj8fi",
        "colab_type": "code",
        "colab": {}
      },
      "source": [
        ""
      ],
      "execution_count": null,
      "outputs": []
    }
  ]
}