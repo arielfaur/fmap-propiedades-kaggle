{
  "nbformat": 4,
  "nbformat_minor": 0,
  "metadata": {
    "kernelspec": {
      "name": "python3",
      "display_name": "Python 3",
      "language": "python"
    },
    "language_info": {
      "name": "python",
      "version": "3.7.6",
      "mimetype": "text/x-python",
      "codemirror_mode": {
        "name": "ipython",
        "version": 3
      },
      "pygments_lexer": "ipython3",
      "nbconvert_exporter": "python",
      "file_extension": ".py"
    },
    "colab": {
      "name": "keras.ipynb",
      "provenance": [],
      "include_colab_link": true
    },
    "accelerator": "TPU"
  },
  "cells": [
    {
      "cell_type": "markdown",
      "metadata": {
        "id": "view-in-github",
        "colab_type": "text"
      },
      "source": [
        "<a href=\"https://colab.research.google.com/github/arielfaur/prediccion-precio-propiedades-fmap-2020/blob/feature%2Fneural-network-keras-regressor/keras.ipynb\" target=\"_parent\"><img src=\"https://colab.research.google.com/assets/colab-badge.svg\" alt=\"Open In Colab\"/></a>"
      ]
    },
    {
      "cell_type": "code",
      "metadata": {
        "trusted": true,
        "id": "pwzNdwRE1joK",
        "colab_type": "code",
        "colab": {
          "base_uri": "https://localhost:8080/",
          "height": 34
        },
        "outputId": "df1fa397-d2f9-497b-a792-d2d50b8c02cb"
      },
      "source": [
        "!pip install -q git+https://github.com/tensorflow/docs"
      ],
      "execution_count": 3,
      "outputs": [
        {
          "output_type": "stream",
          "text": [
            "  Building wheel for tensorflow-docs (setup.py) ... \u001b[?25l\u001b[?25hdone\n"
          ],
          "name": "stdout"
        }
      ]
    },
    {
      "cell_type": "code",
      "metadata": {
        "trusted": true,
        "id": "j71oBJNC1joQ",
        "colab_type": "code",
        "colab": {
          "base_uri": "https://localhost:8080/",
          "height": 187
        },
        "outputId": "e5060a66-ba40-4bd0-da28-2b3205c1356c"
      },
      "source": [
        "!pip install pyreadr"
      ],
      "execution_count": 4,
      "outputs": [
        {
          "output_type": "stream",
          "text": [
            "Collecting pyreadr\n",
            "\u001b[?25l  Downloading https://files.pythonhosted.org/packages/c8/09/52ca21f4888ca56731dbe15ca59cda5ccbea72ec2e4a3b97c286de533bde/pyreadr-0.2.9-cp36-cp36m-manylinux1_x86_64.whl (261kB)\n",
            "\r\u001b[K     |█▎                              | 10kB 25.4MB/s eta 0:00:01\r\u001b[K     |██▌                             | 20kB 2.2MB/s eta 0:00:01\r\u001b[K     |███▊                            | 30kB 2.8MB/s eta 0:00:01\r\u001b[K     |█████                           | 40kB 3.1MB/s eta 0:00:01\r\u001b[K     |██████▎                         | 51kB 2.5MB/s eta 0:00:01\r\u001b[K     |███████▌                        | 61kB 2.8MB/s eta 0:00:01\r\u001b[K     |████████▉                       | 71kB 3.0MB/s eta 0:00:01\r\u001b[K     |██████████                      | 81kB 3.4MB/s eta 0:00:01\r\u001b[K     |███████████▎                    | 92kB 3.6MB/s eta 0:00:01\r\u001b[K     |████████████▌                   | 102kB 3.4MB/s eta 0:00:01\r\u001b[K     |█████████████▉                  | 112kB 3.4MB/s eta 0:00:01\r\u001b[K     |███████████████                 | 122kB 3.4MB/s eta 0:00:01\r\u001b[K     |████████████████▎               | 133kB 3.4MB/s eta 0:00:01\r\u001b[K     |█████████████████▋              | 143kB 3.4MB/s eta 0:00:01\r\u001b[K     |██████████████████▉             | 153kB 3.4MB/s eta 0:00:01\r\u001b[K     |████████████████████            | 163kB 3.4MB/s eta 0:00:01\r\u001b[K     |█████████████████████▎          | 174kB 3.4MB/s eta 0:00:01\r\u001b[K     |██████████████████████▋         | 184kB 3.4MB/s eta 0:00:01\r\u001b[K     |███████████████████████▉        | 194kB 3.4MB/s eta 0:00:01\r\u001b[K     |█████████████████████████       | 204kB 3.4MB/s eta 0:00:01\r\u001b[K     |██████████████████████████▍     | 215kB 3.4MB/s eta 0:00:01\r\u001b[K     |███████████████████████████▋    | 225kB 3.4MB/s eta 0:00:01\r\u001b[K     |████████████████████████████▉   | 235kB 3.4MB/s eta 0:00:01\r\u001b[K     |██████████████████████████████  | 245kB 3.4MB/s eta 0:00:01\r\u001b[K     |███████████████████████████████▍| 256kB 3.4MB/s eta 0:00:01\r\u001b[K     |████████████████████████████████| 266kB 3.4MB/s \n",
            "\u001b[?25hRequirement already satisfied: pandas>0.24.0 in /usr/local/lib/python3.6/dist-packages (from pyreadr) (1.0.5)\n",
            "Requirement already satisfied: python-dateutil>=2.6.1 in /usr/local/lib/python3.6/dist-packages (from pandas>0.24.0->pyreadr) (2.8.1)\n",
            "Requirement already satisfied: numpy>=1.13.3 in /usr/local/lib/python3.6/dist-packages (from pandas>0.24.0->pyreadr) (1.18.5)\n",
            "Requirement already satisfied: pytz>=2017.2 in /usr/local/lib/python3.6/dist-packages (from pandas>0.24.0->pyreadr) (2018.9)\n",
            "Requirement already satisfied: six>=1.5 in /usr/local/lib/python3.6/dist-packages (from python-dateutil>=2.6.1->pandas>0.24.0->pyreadr) (1.15.0)\n",
            "Installing collected packages: pyreadr\n",
            "Successfully installed pyreadr-0.2.9\n"
          ],
          "name": "stdout"
        }
      ]
    },
    {
      "cell_type": "code",
      "metadata": {
        "id": "R72C2qvtj8fJ",
        "trusted": true,
        "tags": [],
        "colab_type": "code",
        "colab": {}
      },
      "source": [
        "# import libraries \n",
        "import pandas as pd \n",
        "import numpy as np\n",
        "import matplotlib.pyplot as plt \n",
        "import seaborn as sns \n",
        "# %matplotlib inline\n",
        "import sys\n",
        "import os\n",
        "\n",
        "from urllib.parse import urljoin\n",
        "from sklearn.feature_extraction.text import CountVectorizer\n",
        "from sklearn.pipeline import make_pipeline, Pipeline\n",
        "from sklearn.preprocessing import StandardScaler, OneHotEncoder, PowerTransformer, QuantileTransformer\n",
        "from sklearn.compose import ColumnTransformer, make_column_transformer, make_column_selector, TransformedTargetRegressor\n",
        "from sklearn.impute import SimpleImputer, KNNImputer\n",
        "\n",
        "# from sklearn.ensemble import RandomForestRegressor, AdaBoostRegressor\n",
        "# from sklearn.tree import DecisionTreeRegressor\n",
        "# from sklearn.ensemble importGradientBoostingRegressor, VotingRegressor\n",
        "# from sklearn.linear_model import LinearRegression\n",
        "# from sklearn.svm import SVR, LinearSVR\n",
        "from sklearn.model_selection import GridSearchCV, cross_validate, cross_val_score, cross_val_predict, train_test_split\n",
        "\n",
        "import tensorflow as tf\n",
        "import tensorflow_docs as tfdocs\n",
        "import tensorflow_docs.plots\n",
        "import tensorflow_docs.modeling\n",
        "from tensorflow import keras\n",
        "from tensorflow.keras import layers,regularizers\n",
        "\n",
        "import pyreadr\n",
        "\n",
        "IS_COLAB = 'google.colab' in sys.modules\n",
        "\n",
        "# palabras a buscar en columna descripción\n",
        "TEXT_MINING_KEYWORDS = ['balcon', 'cochera', 'sum', 'parrilla', 'pileta']\n",
        "\n",
        "# url repositorio\n",
        "GITHUB_REPOSITORY_URL = 'https://github.com/arielfaur/prediccion-precio-propiedades-fmap-2020/raw/master/'\n",
        "BASE_URL_DATA = GITHUB_REPOSITORY_URL if IS_COLAB else ''\n",
        "\n",
        "def vectorize_descripcion(df: pd.DataFrame):\n",
        "    \n",
        "    # entrenamos el modelo para buscar las keywords\n",
        "    vectorizer = CountVectorizer(binary=True, strip_accents='unicode')  \n",
        "    vectorizer.fit(TEXT_MINING_KEYWORDS)\n",
        "\n",
        "    # hot encoding de los resultados\n",
        "    desc = vectorizer.transform(df['descripcion'])\n",
        "\n",
        "    # crear dataframe con resultados\n",
        "    df_desc = pd.DataFrame(data=desc.toarray(), columns=vectorizer.get_feature_names())\n",
        "    return pd.concat([df.reset_index(drop=True), df_desc.reset_index(drop=True)], axis=1, sort=False)\n",
        "\n",
        "def get_outliers(df: pd.DataFrame):\n",
        "    return df[df_train['id'].isin(['7798', '31417', '10764', '12865', '22126', '49492'])]\n",
        "\n",
        "def remove_outliers(df: pd.DataFrame):\n",
        "    outliers = get_outliers(df)\n",
        "    df.drop(outliers.index, inplace=True)\n",
        "\n",
        "def preprocessing(df: pd.DataFrame, process_outliers = True):\n",
        "    # nombres features en minuscula\n",
        "    df.columns = map(str.lower, df.columns)\n",
        "\n",
        "    df['barrio'] = df['barrio'].astype('category')\n",
        "    df['cluster'] = df['cluster'].astype('category')\n",
        "    df['id'] = df['id'].astype('int')\n",
        "    \n",
        "    # guardar los id\n",
        "    ids = df['id']\n",
        "    \n",
        "    # eliminar outliers\n",
        "    if process_outliers:\n",
        "        remove_outliers(df)\n",
        "    \n",
        "    # text mining buscar keywords en descripcion\n",
        "    df['descripcion'].fillna('', inplace=True)\n",
        "    df = vectorize_descripcion(df)\n",
        "    \n",
        "    # eliminar columnas innecesarias del modelo\n",
        "    df.drop([\n",
        "        'banios',\n",
        "        # 'barrio', \n",
        "        'subbarrio',\n",
        "        'descripcion',\n",
        "        'p_mt2', \n",
        "        'n_bancos',\n",
        "        'n_barrios_p', \n",
        "        'n_bici', \n",
        "        'n_boliches', \n",
        "        'n_clinicas', \n",
        "        'n_comisarias',\n",
        "        'n_embajadas', \n",
        "        'n_gasolina', \n",
        "        'n_gastronomica', \n",
        "        'n_homicidios',\n",
        "        'n_hospitales', \n",
        "        'n_hurtos', \n",
        "        'n_hurtos_auto',\n",
        "        'n_robo', \n",
        "        'n_robo_vehi',\n",
        "        'n_subte_bocas', \n",
        "        'n_uni',\n",
        "        'cluster',\n",
        "        # 'terraza',\n",
        "        'lujo',\n",
        "        'sup_cubierta'\n",
        "    ],axis=1, inplace=True, errors='raise')\n",
        "\n",
        "\n",
        "    return ids, df.set_index('id')\n",
        "\n",
        "\n",
        "def split_data(df: pd.DataFrame, test_size = 0.05):\n",
        "    y = df[['precio']]\n",
        "    X = df.drop(['precio'], axis=1)\n",
        "\n",
        "    X_train, X_test, y_train, y_test = train_test_split(X, y, test_size = test_size, random_state=5)\n",
        "    return X_train, X_test, y_train, y_test\n",
        "\n",
        "\n",
        "## Preprocesamiento de los features: imputación, estandarización, one-hot encoding\n",
        "def make_transformer_pipeline():\n",
        "    numeric_transformer = make_pipeline( \n",
        "        SimpleImputer(missing_values = np.nan, strategy='mean'),\n",
        "        StandardScaler(),\n",
        "    )\n",
        "\n",
        "    categorical_transformer = make_pipeline(\n",
        "        #SimpleImputer(strategy='constant', fill_value='missing'),\n",
        "        #SimpleImputer(strategy=\"most_frequent\"),\n",
        "        #KNNImputer(n_neighbors=3, weights=\"uniform\"),     # KNNImputer tarda una eternidad...\n",
        "        OneHotEncoder(handle_unknown='ignore')\n",
        "    )\n",
        "\n",
        "    return make_column_transformer(\n",
        "        (numeric_transformer, make_column_selector(dtype_include=['int64', 'float64'])),\n",
        "        (categorical_transformer, make_column_selector(dtype_include=['category']))\n",
        "    )    \n",
        "\n",
        "def baseline_ada_model_pipeline():\n",
        "    transformer = make_transformer_pipeline()\n",
        "    ada = AdaBoostRegressor(random_state = 5)\n",
        "    \n",
        "    return make_pipeline(transformer, TransformedTargetRegressor(ada, func=np.log, inverse_func=np.exp))    \n",
        "\n",
        "def create_train_ada_model():\n",
        "    transformer = make_transformer_pipeline()\n",
        "\n",
        "    model = Pipeline([\n",
        "        ('preprocessing', transformer),\n",
        "        ('model', TransformedTargetRegressor(AdaBoostRegressor(base_estimator=DecisionTreeRegressor(), loss='square', random_state=5), func=np.log, inverse_func=np.exp))\n",
        "    ])\n",
        "    return model\n",
        "\n",
        "# # Crear modelo red neuronal Keras\n",
        "# def build_1layer_keras_model(input_dim, n_neurons = 8):    \n",
        "#     model = keras.Sequential()\n",
        "#     model.add(layers.Dense(n_neurons, activation='relu', input_dim=input_dim))\n",
        "#     model.add(layers.Dense(1))\n",
        "#     model.compile(loss='mean_squared_error', optimizer='adam', metrics=[tf.keras.metrics.RootMeanSquaredError()])\n",
        "\n",
        "#     return model\n",
        "\n",
        "# Crear modelo red neuronal Keras\n",
        "def build_dense_keras_model(input_dim, n_neurons = [8, 8], lr = 0.001, dropout = False):\n",
        "    optimizer = tf.keras.optimizers.Adam(learning_rate=lr)\n",
        "\n",
        "    model = keras.Sequential()\n",
        "    for idx, n in enumerate(n_neurons):\n",
        "        if idx==0:\n",
        "            model.add(layers.Dense(n, activation='relu', kernel_initializer='random_normal', input_dim=input_dim))\n",
        "            if dropout: model.add(layers.Dropout(.1))\n",
        "        else:\n",
        "            model.add(layers.Dense(n, activation='relu', kernel_initializer='random_normal'))\n",
        "            if dropout: model.add(layers.Dropout(.1))\n",
        "                \n",
        "    model.add(layers.Dense(1, kernel_initializer='random_normal'))\n",
        "    model.compile(loss='mean_squared_error', optimizer=optimizer, metrics=[tf.keras.metrics.RootMeanSquaredError()])\n",
        "\n",
        "    return model\n",
        "\n",
        "# # Pipeline preprocesamiento para red neuronal\n",
        "# def create_keras_pipeline():\n",
        "#     EPOCHS = 300\n",
        "#     BATCH_SIZE = 32\n",
        "\n",
        "#     transformer = make_transformer_pipeline()\n",
        "#     pipeline = Pipeline([\n",
        "#         ('preprocessing', transformer),\n",
        "#         ('model', TransformedTargetRegressor(KerasRegressor(build_fn=build_1layer_keras_model, epochs=EPOCHS, batch_size=BATCH_SIZE, verbose=1), \n",
        "#         transformer=QuantileTransformer(output_distribution='normal', random_state=5)\n",
        "#         ))\n",
        "#     ])\n",
        "#     return pipeline\n",
        "\n",
        "# Graficar predicciones\n",
        "def plot_test_predictions(y_test, y_pred):\n",
        "    # graficar predicciones contra datos actuales\n",
        "    fig, ax = plt.subplots(figsize = (18,10))\n",
        "    ax.scatter(y_test, y_pred, edgecolors=(0, 0, 0))\n",
        "    ax.plot([y_test.min(), y_test.max()], [y_test.min(), y_test.max()], 'k--', lw=4)\n",
        "    ax.set_xlabel('Precio test')\n",
        "    ax.set_ylabel('Precio predicción')\n",
        "    plt.show()\n",
        "\n",
        "def read_rds(filename):\n",
        "  from urllib.request import urlopen\n",
        "  \n",
        "  response = urlopen(filename)\n",
        "  content = response.read()\n",
        "  fhandle = open('data', 'wb')\n",
        "  fhandle.write(content)\n",
        "  fhandle.close()\n",
        "  result = pyreadr.read_r('data')\n",
        "  return result[None]"
      ],
      "execution_count": 89,
      "outputs": []
    },
    {
      "cell_type": "code",
      "metadata": {
        "id": "4ikA7rud7Jtz",
        "colab_type": "code",
        "colab": {
          "base_uri": "https://localhost:8080/",
          "height": 190
        },
        "outputId": "19177e37-fec0-47b6-c379-8647db5db37e"
      },
      "source": [
        "resolver = tf.distribute.cluster_resolver.TPUClusterResolver(tpu='grpc://' + os.environ['COLAB_TPU_ADDR'])\n",
        "tf.config.experimental_connect_to_cluster(resolver)\n",
        "# This is the TPU initialization code that has to be at the beginning.\n",
        "tf.tpu.experimental.initialize_tpu_system(resolver)\n",
        "print(\"All devices: \", tf.config.list_logical_devices('TPU'))"
      ],
      "execution_count": 90,
      "outputs": [
        {
          "output_type": "stream",
          "text": [
            "WARNING:tensorflow:TPU system grpc://10.121.160.178:8470 has already been initialized. Reinitializing the TPU can cause previously created variables on TPU to be lost.\n"
          ],
          "name": "stdout"
        },
        {
          "output_type": "stream",
          "text": [
            "WARNING:tensorflow:TPU system grpc://10.121.160.178:8470 has already been initialized. Reinitializing the TPU can cause previously created variables on TPU to be lost.\n"
          ],
          "name": "stderr"
        },
        {
          "output_type": "stream",
          "text": [
            "INFO:tensorflow:Initializing the TPU system: grpc://10.121.160.178:8470\n"
          ],
          "name": "stdout"
        },
        {
          "output_type": "stream",
          "text": [
            "INFO:tensorflow:Initializing the TPU system: grpc://10.121.160.178:8470\n"
          ],
          "name": "stderr"
        },
        {
          "output_type": "stream",
          "text": [
            "INFO:tensorflow:Clearing out eager caches\n"
          ],
          "name": "stdout"
        },
        {
          "output_type": "stream",
          "text": [
            "INFO:tensorflow:Clearing out eager caches\n"
          ],
          "name": "stderr"
        },
        {
          "output_type": "stream",
          "text": [
            "INFO:tensorflow:Finished initializing TPU system.\n"
          ],
          "name": "stdout"
        },
        {
          "output_type": "stream",
          "text": [
            "INFO:tensorflow:Finished initializing TPU system.\n"
          ],
          "name": "stderr"
        },
        {
          "output_type": "stream",
          "text": [
            "All devices:  [LogicalDevice(name='/job:worker/replica:0/task:0/device:TPU:7', device_type='TPU'), LogicalDevice(name='/job:worker/replica:0/task:0/device:TPU:6', device_type='TPU'), LogicalDevice(name='/job:worker/replica:0/task:0/device:TPU:5', device_type='TPU'), LogicalDevice(name='/job:worker/replica:0/task:0/device:TPU:4', device_type='TPU'), LogicalDevice(name='/job:worker/replica:0/task:0/device:TPU:3', device_type='TPU'), LogicalDevice(name='/job:worker/replica:0/task:0/device:TPU:2', device_type='TPU'), LogicalDevice(name='/job:worker/replica:0/task:0/device:TPU:1', device_type='TPU'), LogicalDevice(name='/job:worker/replica:0/task:0/device:TPU:0', device_type='TPU')]\n"
          ],
          "name": "stdout"
        }
      ]
    },
    {
      "cell_type": "markdown",
      "metadata": {
        "id": "7gwPjSvO1joW",
        "colab_type": "text"
      },
      "source": [
        "# Cargar datos entrenamiento"
      ]
    },
    {
      "cell_type": "code",
      "metadata": {
        "id": "MVytEtsH5bKF",
        "trusted": true,
        "colab_type": "code",
        "colab": {}
      },
      "source": [
        "df_train = read_rds(urljoin(BASE_URL_DATA,'data_train_def.rds'))"
      ],
      "execution_count": 91,
      "outputs": []
    },
    {
      "cell_type": "code",
      "metadata": {
        "tags": [],
        "trusted": true,
        "id": "cytVhvYj1joZ",
        "colab_type": "code",
        "colab": {
          "base_uri": "https://localhost:8080/",
          "height": 714
        },
        "outputId": "309c4898-bef5-4333-b62f-ac9de8829e33"
      },
      "source": [
        "df_train.info()"
      ],
      "execution_count": 8,
      "outputs": [
        {
          "output_type": "stream",
          "text": [
            "<class 'pandas.core.frame.DataFrame'>\n",
            "RangeIndex: 20371 entries, 0 to 20370\n",
            "Data columns (total 34 columns):\n",
            " #   Column          Non-Null Count  Dtype  \n",
            "---  ------          --------------  -----  \n",
            " 0   id              20371 non-null  object \n",
            " 1   lat             20371 non-null  float64\n",
            " 2   lon             20371 non-null  float64\n",
            " 3   precio          20371 non-null  float64\n",
            " 4   BARRIO          20371 non-null  object \n",
            " 5   n_uni           20371 non-null  int32  \n",
            " 6   n_boliches      20371 non-null  int32  \n",
            " 7   n_clinicas      20371 non-null  int32  \n",
            " 8   n_hospitales    20371 non-null  int32  \n",
            " 9   sup_cubierta    20371 non-null  float64\n",
            " 10  n_comisarias    20371 non-null  int32  \n",
            " 11  n_embajadas     20371 non-null  int32  \n",
            " 12  n_subte_bocas   20371 non-null  int32  \n",
            " 13  n_barrios_p     20371 non-null  int32  \n",
            " 14  n_bici          20371 non-null  int32  \n",
            " 15  n_bancos        20371 non-null  int32  \n",
            " 16  A_Estrenar      20371 non-null  float64\n",
            " 17  banios          20371 non-null  float64\n",
            " 18  n_gasolina      20371 non-null  int32  \n",
            " 19  n_gastronomica  20371 non-null  int32  \n",
            " 20  n_homicidios    20371 non-null  int32  \n",
            " 21  n_hurtos        20371 non-null  int32  \n",
            " 22  n_hurtos_auto   20371 non-null  int32  \n",
            " 23  n_robo          20371 non-null  int32  \n",
            " 24  dormitorios     20371 non-null  float64\n",
            " 25  n_robo_vehi     20371 non-null  int32  \n",
            " 26  p_mt2           20371 non-null  float64\n",
            " 27  lujo            20371 non-null  float64\n",
            " 28  sup_total       20371 non-null  float64\n",
            " 29  habitaciones    20371 non-null  float64\n",
            " 30  descripcion     20371 non-null  object \n",
            " 31  subbarrio       588 non-null    object \n",
            " 32  terraza         20371 non-null  float64\n",
            " 33  Cluster         20371 non-null  object \n",
            "dtypes: float64(12), int32(17), object(5)\n",
            "memory usage: 4.0+ MB\n"
          ],
          "name": "stdout"
        }
      ]
    },
    {
      "cell_type": "code",
      "metadata": {
        "trusted": true,
        "id": "o574c5eg1joc",
        "colab_type": "code",
        "colab": {}
      },
      "source": [
        "df_train.describe()"
      ],
      "execution_count": null,
      "outputs": []
    },
    {
      "cell_type": "markdown",
      "metadata": {
        "id": "D-_sbrLk1joe",
        "colab_type": "text"
      },
      "source": [
        "## Preprocesamiento"
      ]
    },
    {
      "cell_type": "code",
      "metadata": {
        "id": "PeqQY-K87TXI",
        "trusted": true,
        "colab_type": "code",
        "colab": {
          "base_uri": "https://localhost:8080/",
          "height": 235
        },
        "outputId": "d202c7c3-619c-4ece-e807-291ae61f9fde"
      },
      "source": [
        "ids, df_train = preprocessing(df_train)\n",
        "df_train.head()"
      ],
      "execution_count": 92,
      "outputs": [
        {
          "output_type": "execute_result",
          "data": {
            "text/html": [
              "<div>\n",
              "<style scoped>\n",
              "    .dataframe tbody tr th:only-of-type {\n",
              "        vertical-align: middle;\n",
              "    }\n",
              "\n",
              "    .dataframe tbody tr th {\n",
              "        vertical-align: top;\n",
              "    }\n",
              "\n",
              "    .dataframe thead th {\n",
              "        text-align: right;\n",
              "    }\n",
              "</style>\n",
              "<table border=\"1\" class=\"dataframe\">\n",
              "  <thead>\n",
              "    <tr style=\"text-align: right;\">\n",
              "      <th></th>\n",
              "      <th>lat</th>\n",
              "      <th>lon</th>\n",
              "      <th>precio</th>\n",
              "      <th>barrio</th>\n",
              "      <th>a_estrenar</th>\n",
              "      <th>dormitorios</th>\n",
              "      <th>sup_total</th>\n",
              "      <th>habitaciones</th>\n",
              "      <th>terraza</th>\n",
              "      <th>balcon</th>\n",
              "      <th>cochera</th>\n",
              "      <th>parrilla</th>\n",
              "      <th>pileta</th>\n",
              "      <th>sum</th>\n",
              "    </tr>\n",
              "    <tr>\n",
              "      <th>id</th>\n",
              "      <th></th>\n",
              "      <th></th>\n",
              "      <th></th>\n",
              "      <th></th>\n",
              "      <th></th>\n",
              "      <th></th>\n",
              "      <th></th>\n",
              "      <th></th>\n",
              "      <th></th>\n",
              "      <th></th>\n",
              "      <th></th>\n",
              "      <th></th>\n",
              "      <th></th>\n",
              "      <th></th>\n",
              "    </tr>\n",
              "  </thead>\n",
              "  <tbody>\n",
              "    <tr>\n",
              "      <th>4</th>\n",
              "      <td>-34.600886</td>\n",
              "      <td>-58.431204</td>\n",
              "      <td>145000.0</td>\n",
              "      <td>villa crespo</td>\n",
              "      <td>0.0</td>\n",
              "      <td>2.0</td>\n",
              "      <td>57.0</td>\n",
              "      <td>3.0</td>\n",
              "      <td>0.0</td>\n",
              "      <td>0</td>\n",
              "      <td>0</td>\n",
              "      <td>0</td>\n",
              "      <td>0</td>\n",
              "      <td>0</td>\n",
              "    </tr>\n",
              "    <tr>\n",
              "      <th>6</th>\n",
              "      <td>-34.572144</td>\n",
              "      <td>-58.480173</td>\n",
              "      <td>237000.0</td>\n",
              "      <td>villa urquiza</td>\n",
              "      <td>0.0</td>\n",
              "      <td>2.0</td>\n",
              "      <td>60.0</td>\n",
              "      <td>3.0</td>\n",
              "      <td>1.0</td>\n",
              "      <td>1</td>\n",
              "      <td>0</td>\n",
              "      <td>0</td>\n",
              "      <td>0</td>\n",
              "      <td>0</td>\n",
              "    </tr>\n",
              "    <tr>\n",
              "      <th>8</th>\n",
              "      <td>-34.563209</td>\n",
              "      <td>-58.468897</td>\n",
              "      <td>130000.0</td>\n",
              "      <td>coghlan</td>\n",
              "      <td>0.0</td>\n",
              "      <td>1.0</td>\n",
              "      <td>49.0</td>\n",
              "      <td>2.0</td>\n",
              "      <td>1.0</td>\n",
              "      <td>1</td>\n",
              "      <td>0</td>\n",
              "      <td>0</td>\n",
              "      <td>0</td>\n",
              "      <td>0</td>\n",
              "    </tr>\n",
              "    <tr>\n",
              "      <th>11</th>\n",
              "      <td>-34.555333</td>\n",
              "      <td>-58.466432</td>\n",
              "      <td>230000.0</td>\n",
              "      <td>nuñez</td>\n",
              "      <td>0.0</td>\n",
              "      <td>2.0</td>\n",
              "      <td>55.0</td>\n",
              "      <td>3.0</td>\n",
              "      <td>1.0</td>\n",
              "      <td>1</td>\n",
              "      <td>1</td>\n",
              "      <td>0</td>\n",
              "      <td>0</td>\n",
              "      <td>0</td>\n",
              "    </tr>\n",
              "    <tr>\n",
              "      <th>12</th>\n",
              "      <td>-34.629200</td>\n",
              "      <td>-58.452566</td>\n",
              "      <td>144900.0</td>\n",
              "      <td>flores</td>\n",
              "      <td>1.0</td>\n",
              "      <td>1.0</td>\n",
              "      <td>48.0</td>\n",
              "      <td>2.0</td>\n",
              "      <td>1.0</td>\n",
              "      <td>1</td>\n",
              "      <td>0</td>\n",
              "      <td>1</td>\n",
              "      <td>0</td>\n",
              "      <td>0</td>\n",
              "    </tr>\n",
              "  </tbody>\n",
              "</table>\n",
              "</div>"
            ],
            "text/plain": [
              "          lat        lon    precio  ... parrilla  pileta  sum\n",
              "id                                  ...                      \n",
              "4  -34.600886 -58.431204  145000.0  ...        0       0    0\n",
              "6  -34.572144 -58.480173  237000.0  ...        0       0    0\n",
              "8  -34.563209 -58.468897  130000.0  ...        0       0    0\n",
              "11 -34.555333 -58.466432  230000.0  ...        0       0    0\n",
              "12 -34.629200 -58.452566  144900.0  ...        1       0    0\n",
              "\n",
              "[5 rows x 14 columns]"
            ]
          },
          "metadata": {
            "tags": []
          },
          "execution_count": 92
        }
      ]
    },
    {
      "cell_type": "code",
      "metadata": {
        "trusted": true,
        "id": "9q4b6UgN1joi",
        "colab_type": "code",
        "colab": {
          "base_uri": "https://localhost:8080/",
          "height": 34
        },
        "outputId": "24fbd68e-6f74-4de2-f069-b0db7632fefd"
      },
      "source": [
        "test_size = round(2500 / len(df_train), 2)\n",
        "test_size"
      ],
      "execution_count": 93,
      "outputs": [
        {
          "output_type": "execute_result",
          "data": {
            "text/plain": [
              "0.12"
            ]
          },
          "metadata": {
            "tags": []
          },
          "execution_count": 93
        }
      ]
    },
    {
      "cell_type": "code",
      "metadata": {
        "trusted": true,
        "id": "ndbxGNfX1jol",
        "colab_type": "code",
        "colab": {}
      },
      "source": [
        "X_train, X_test, y_train, y_test = split_data(df_train, test_size=test_size)"
      ],
      "execution_count": 94,
      "outputs": []
    },
    {
      "cell_type": "code",
      "metadata": {
        "trusted": true,
        "id": "FhSKcUcZ1joo",
        "colab_type": "code",
        "colab": {
          "base_uri": "https://localhost:8080/",
          "height": 34
        },
        "outputId": "354228b5-561e-4170-d796-17d724ba178c"
      },
      "source": [
        "X_train.shape, X_test.shape, y_train.shape, y_test.shape"
      ],
      "execution_count": 95,
      "outputs": [
        {
          "output_type": "execute_result",
          "data": {
            "text/plain": [
              "((17921, 13), (2444, 13), (17921, 1), (2444, 1))"
            ]
          },
          "metadata": {
            "tags": []
          },
          "execution_count": 95
        }
      ]
    },
    {
      "cell_type": "code",
      "metadata": {
        "tags": [],
        "trusted": false,
        "id": "L1YyFeMI1joq",
        "colab_type": "code",
        "colab": {}
      },
      "source": [
        "sns.pairplot(df_train, vars=['sup_total','habitaciones','precio'], hue='cluster', height=3)"
      ],
      "execution_count": null,
      "outputs": []
    },
    {
      "cell_type": "markdown",
      "metadata": {
        "id": "5XMtaMfw1jos",
        "colab_type": "text"
      },
      "source": [
        "# Pipeline preprocesamiento"
      ]
    },
    {
      "cell_type": "code",
      "metadata": {
        "trusted": true,
        "id": "VciPHkhL1jot",
        "colab_type": "code",
        "colab": {}
      },
      "source": [
        "pipe = make_transformer_pipeline()\n",
        "X_train = pipe.fit_transform(X_train).toarray()\n",
        "y_train = y_train.values"
      ],
      "execution_count": 96,
      "outputs": []
    },
    {
      "cell_type": "code",
      "metadata": {
        "trusted": true,
        "id": "WIGg1MD11jow",
        "colab_type": "code",
        "colab": {
          "base_uri": "https://localhost:8080/",
          "height": 340
        },
        "outputId": "74fa96e1-16a3-4abd-e218-540c9ace0524"
      },
      "source": [
        "X_train, y_train"
      ],
      "execution_count": 97,
      "outputs": [
        {
          "output_type": "execute_result",
          "data": {
            "text/plain": [
              "(array([[ 0.84540209,  0.95209473, -0.39275613, ...,  0.        ,\n",
              "          0.        ,  0.        ],\n",
              "        [ 0.49640854,  0.63657231, -0.39275613, ...,  0.        ,\n",
              "          0.        ,  0.        ],\n",
              "        [-1.45550193, -0.73194261, -0.39275613, ...,  0.        ,\n",
              "          0.        ,  0.        ],\n",
              "        ...,\n",
              "        [ 1.13721597,  0.19559168, -0.39275613, ...,  0.        ,\n",
              "          0.        ,  0.        ],\n",
              "        [ 0.66476808,  0.33972116, -0.39275613, ...,  0.        ,\n",
              "          0.        ,  0.        ],\n",
              "        [ 0.53212571, -1.03902861, -0.39275613, ...,  0.        ,\n",
              "          0.        ,  0.        ]]), array([[210000.],\n",
              "        [205500.],\n",
              "        [111000.],\n",
              "        ...,\n",
              "        [330000.],\n",
              "        [196531.],\n",
              "        [120000.]]))"
            ]
          },
          "metadata": {
            "tags": []
          },
          "execution_count": 97
        }
      ]
    },
    {
      "cell_type": "code",
      "metadata": {
        "trusted": true,
        "id": "9aPEODap1joz",
        "colab_type": "code",
        "colab": {},
        "outputId": "00590878-7601-43ef-f172-f387865a4f10"
      },
      "source": [
        "plt.hist(y_train)"
      ],
      "execution_count": null,
      "outputs": [
        {
          "output_type": "execute_result",
          "data": {
            "text/plain": [
              "(array([1.061e+03, 8.709e+03, 5.972e+03, 1.634e+03, 4.190e+02, 9.700e+01,\n",
              "        2.100e+01, 4.000e+00, 3.000e+00, 1.000e+00]),\n",
              " array([ 20000.,  75798., 131596., 187394., 243192., 298990., 354788.,\n",
              "        410586., 466384., 522182., 577980.]),\n",
              " <a list of 10 Patch objects>)"
            ]
          },
          "metadata": {
            "tags": []
          },
          "execution_count": 12
        },
        {
          "output_type": "display_data",
          "data": {
            "text/plain": [
              "<Figure size 432x288 with 1 Axes>"
            ],
            "image/png": "[encoded data removed]"
          },
          "metadata": {
            "tags": [],
            "needs_background": "light"
          }
        }
      ]
    },
    {
      "cell_type": "markdown",
      "metadata": {
        "id": "C0MrenHH1jo1",
        "colab_type": "text"
      },
      "source": [
        "# Modelo red densa Keras"
      ]
    },
    {
      "cell_type": "code",
      "metadata": {
        "id": "sn7kr-az8CBa",
        "colab_type": "code",
        "colab": {
          "base_uri": "https://localhost:8080/",
          "height": 595
        },
        "outputId": "c6cae1c9-743b-4de4-9a62-5c5914fa3b3b"
      },
      "source": [
        "strategy = tf.distribute.TPUStrategy(resolver)"
      ],
      "execution_count": 98,
      "outputs": [
        {
          "output_type": "stream",
          "text": [
            "INFO:tensorflow:Found TPU system:\n"
          ],
          "name": "stdout"
        },
        {
          "output_type": "stream",
          "text": [
            "INFO:tensorflow:Found TPU system:\n"
          ],
          "name": "stderr"
        },
        {
          "output_type": "stream",
          "text": [
            "INFO:tensorflow:*** Num TPU Cores: 8\n"
          ],
          "name": "stdout"
        },
        {
          "output_type": "stream",
          "text": [
            "INFO:tensorflow:*** Num TPU Cores: 8\n"
          ],
          "name": "stderr"
        },
        {
          "output_type": "stream",
          "text": [
            "INFO:tensorflow:*** Num TPU Workers: 1\n"
          ],
          "name": "stdout"
        },
        {
          "output_type": "stream",
          "text": [
            "INFO:tensorflow:*** Num TPU Workers: 1\n"
          ],
          "name": "stderr"
        },
        {
          "output_type": "stream",
          "text": [
            "INFO:tensorflow:*** Num TPU Cores Per Worker: 8\n"
          ],
          "name": "stdout"
        },
        {
          "output_type": "stream",
          "text": [
            "INFO:tensorflow:*** Num TPU Cores Per Worker: 8\n"
          ],
          "name": "stderr"
        },
        {
          "output_type": "stream",
          "text": [
            "INFO:tensorflow:*** Available Device: _DeviceAttributes(/job:localhost/replica:0/task:0/device:CPU:0, CPU, 0, 0)\n"
          ],
          "name": "stdout"
        },
        {
          "output_type": "stream",
          "text": [
            "INFO:tensorflow:*** Available Device: _DeviceAttributes(/job:localhost/replica:0/task:0/device:CPU:0, CPU, 0, 0)\n"
          ],
          "name": "stderr"
        },
        {
          "output_type": "stream",
          "text": [
            "INFO:tensorflow:*** Available Device: _DeviceAttributes(/job:localhost/replica:0/task:0/device:XLA_CPU:0, XLA_CPU, 0, 0)\n"
          ],
          "name": "stdout"
        },
        {
          "output_type": "stream",
          "text": [
            "INFO:tensorflow:*** Available Device: _DeviceAttributes(/job:localhost/replica:0/task:0/device:XLA_CPU:0, XLA_CPU, 0, 0)\n"
          ],
          "name": "stderr"
        },
        {
          "output_type": "stream",
          "text": [
            "INFO:tensorflow:*** Available Device: _DeviceAttributes(/job:worker/replica:0/task:0/device:CPU:0, CPU, 0, 0)\n"
          ],
          "name": "stdout"
        },
        {
          "output_type": "stream",
          "text": [
            "INFO:tensorflow:*** Available Device: _DeviceAttributes(/job:worker/replica:0/task:0/device:CPU:0, CPU, 0, 0)\n"
          ],
          "name": "stderr"
        },
        {
          "output_type": "stream",
          "text": [
            "INFO:tensorflow:*** Available Device: _DeviceAttributes(/job:worker/replica:0/task:0/device:TPU:0, TPU, 0, 0)\n"
          ],
          "name": "stdout"
        },
        {
          "output_type": "stream",
          "text": [
            "INFO:tensorflow:*** Available Device: _DeviceAttributes(/job:worker/replica:0/task:0/device:TPU:0, TPU, 0, 0)\n"
          ],
          "name": "stderr"
        },
        {
          "output_type": "stream",
          "text": [
            "INFO:tensorflow:*** Available Device: _DeviceAttributes(/job:worker/replica:0/task:0/device:TPU:1, TPU, 0, 0)\n"
          ],
          "name": "stdout"
        },
        {
          "output_type": "stream",
          "text": [
            "INFO:tensorflow:*** Available Device: _DeviceAttributes(/job:worker/replica:0/task:0/device:TPU:1, TPU, 0, 0)\n"
          ],
          "name": "stderr"
        },
        {
          "output_type": "stream",
          "text": [
            "INFO:tensorflow:*** Available Device: _DeviceAttributes(/job:worker/replica:0/task:0/device:TPU:2, TPU, 0, 0)\n"
          ],
          "name": "stdout"
        },
        {
          "output_type": "stream",
          "text": [
            "INFO:tensorflow:*** Available Device: _DeviceAttributes(/job:worker/replica:0/task:0/device:TPU:2, TPU, 0, 0)\n"
          ],
          "name": "stderr"
        },
        {
          "output_type": "stream",
          "text": [
            "INFO:tensorflow:*** Available Device: _DeviceAttributes(/job:worker/replica:0/task:0/device:TPU:3, TPU, 0, 0)\n"
          ],
          "name": "stdout"
        },
        {
          "output_type": "stream",
          "text": [
            "INFO:tensorflow:*** Available Device: _DeviceAttributes(/job:worker/replica:0/task:0/device:TPU:3, TPU, 0, 0)\n"
          ],
          "name": "stderr"
        },
        {
          "output_type": "stream",
          "text": [
            "INFO:tensorflow:*** Available Device: _DeviceAttributes(/job:worker/replica:0/task:0/device:TPU:4, TPU, 0, 0)\n"
          ],
          "name": "stdout"
        },
        {
          "output_type": "stream",
          "text": [
            "INFO:tensorflow:*** Available Device: _DeviceAttributes(/job:worker/replica:0/task:0/device:TPU:4, TPU, 0, 0)\n"
          ],
          "name": "stderr"
        },
        {
          "output_type": "stream",
          "text": [
            "INFO:tensorflow:*** Available Device: _DeviceAttributes(/job:worker/replica:0/task:0/device:TPU:5, TPU, 0, 0)\n"
          ],
          "name": "stdout"
        },
        {
          "output_type": "stream",
          "text": [
            "INFO:tensorflow:*** Available Device: _DeviceAttributes(/job:worker/replica:0/task:0/device:TPU:5, TPU, 0, 0)\n"
          ],
          "name": "stderr"
        },
        {
          "output_type": "stream",
          "text": [
            "INFO:tensorflow:*** Available Device: _DeviceAttributes(/job:worker/replica:0/task:0/device:TPU:6, TPU, 0, 0)\n"
          ],
          "name": "stdout"
        },
        {
          "output_type": "stream",
          "text": [
            "INFO:tensorflow:*** Available Device: _DeviceAttributes(/job:worker/replica:0/task:0/device:TPU:6, TPU, 0, 0)\n"
          ],
          "name": "stderr"
        },
        {
          "output_type": "stream",
          "text": [
            "INFO:tensorflow:*** Available Device: _DeviceAttributes(/job:worker/replica:0/task:0/device:TPU:7, TPU, 0, 0)\n"
          ],
          "name": "stdout"
        },
        {
          "output_type": "stream",
          "text": [
            "INFO:tensorflow:*** Available Device: _DeviceAttributes(/job:worker/replica:0/task:0/device:TPU:7, TPU, 0, 0)\n"
          ],
          "name": "stderr"
        },
        {
          "output_type": "stream",
          "text": [
            "INFO:tensorflow:*** Available Device: _DeviceAttributes(/job:worker/replica:0/task:0/device:TPU_SYSTEM:0, TPU_SYSTEM, 0, 0)\n"
          ],
          "name": "stdout"
        },
        {
          "output_type": "stream",
          "text": [
            "INFO:tensorflow:*** Available Device: _DeviceAttributes(/job:worker/replica:0/task:0/device:TPU_SYSTEM:0, TPU_SYSTEM, 0, 0)\n"
          ],
          "name": "stderr"
        },
        {
          "output_type": "stream",
          "text": [
            "INFO:tensorflow:*** Available Device: _DeviceAttributes(/job:worker/replica:0/task:0/device:XLA_CPU:0, XLA_CPU, 0, 0)\n"
          ],
          "name": "stdout"
        },
        {
          "output_type": "stream",
          "text": [
            "INFO:tensorflow:*** Available Device: _DeviceAttributes(/job:worker/replica:0/task:0/device:XLA_CPU:0, XLA_CPU, 0, 0)\n"
          ],
          "name": "stderr"
        }
      ]
    },
    {
      "cell_type": "code",
      "metadata": {
        "trusted": true,
        "id": "hpnFt-K81jo1",
        "colab_type": "code",
        "colab": {
          "base_uri": "https://localhost:8080/",
          "height": 34
        },
        "outputId": "aef40707-892f-4125-c868-4fc604fc3035"
      },
      "source": [
        "EPOCHS = 2000\n",
        "BATCH_SIZE = 32\n",
        "STEPS_PER_EPOCH = X_train.shape[0]//BATCH_SIZE\n",
        "\n",
        "initial_learning_rate = 0.01\n",
        "\n",
        "# lr_schedule = tf.keras.optimizers.schedules.InverseTimeDecay(\n",
        "#   initial_learning_rate,\n",
        "#   decay_steps=STEPS_PER_EPOCH*100,\n",
        "#   decay_rate=1,\n",
        "#   staircase=False)\n",
        "\n",
        "\n",
        "# lr_schedule = tf.keras.optimizers.schedules.ExponentialDecay(\n",
        "#     initial_learning_rate,\n",
        "#     decay_steps=1400,\n",
        "#     decay_rate=0.95,\n",
        "#     staircase=False)\n",
        "\n",
        "# tfa.optimizers.AdamW(learning_rate=0.01, weight_decay=1e-4)\n",
        "optimizer = tf.keras.optimizers.Adam(learning_rate=initial_learning_rate)\n",
        "initializer = tf.keras.initializers.he_uniform()    \n",
        "\n",
        "print(STEPS_PER_EPOCH)"
      ],
      "execution_count": 99,
      "outputs": [
        {
          "output_type": "stream",
          "text": [
            "560\n"
          ],
          "name": "stdout"
        }
      ]
    },
    {
      "cell_type": "code",
      "metadata": {
        "trusted": true,
        "id": "AXatXcpJ1jo3",
        "colab_type": "code",
        "colab": {
          "base_uri": "https://localhost:8080/",
          "height": 388
        },
        "outputId": "6f1bf7aa-c3ce-4e98-c5be-9d795bea1b5e"
      },
      "source": [
        "step = np.linspace(0,300000)\n",
        "lr = lr_schedule(step)\n",
        "plt.figure(figsize = (8,6))\n",
        "plt.plot(step/STEPS_PER_EPOCH, lr)\n",
        "plt.ylim([0,max(plt.ylim())])\n",
        "plt.xlabel('Epoch')\n",
        "_ = plt.ylabel('Learning Rate')"
      ],
      "execution_count": 77,
      "outputs": [
        {
          "output_type": "display_data",
          "data": {
            "image/png": "[encoded data removed]",
            "text/plain": [
              "<Figure size 576x432 with 1 Axes>"
            ]
          },
          "metadata": {
            "tags": [],
            "needs_background": "light"
          }
        }
      ]
    },
    {
      "cell_type": "code",
      "metadata": {
        "trusted": true,
        "id": "dNaG5uF71jo5",
        "colab_type": "code",
        "colab": {
          "base_uri": "https://localhost:8080/",
          "height": 255
        },
        "outputId": "6481c9cc-a40e-4ec8-f531-a05cb1e624a0"
      },
      "source": [
        "with strategy.scope():\n",
        "  model = keras.Sequential()\n",
        "  model.add(layers.Dense(128, activation='relu', kernel_initializer=initializer, kernel_regularizer=tf.keras.regularizers.l2(0.001), input_dim=X_train.shape[1]))\n",
        "  # model.add(layers.Dropout(rate=.1))\n",
        "  model.add(layers.Dense(64, activation='relu', kernel_initializer=initializer, kernel_regularizer=tf.keras.regularizers.l2(0.001)))\n",
        "  # model.add(layers.Dropout(rate=.1))\n",
        "  # model.add(layers.Dense(64, activation='relu', kernel_initializer=initializer, kernel_regularizer=tf.keras.regularizers.l2(0.001)))\n",
        "  # model.add(layers.Dropout(rate=.1))\n",
        "  model.add(layers.Dense(1))\n",
        "  model.compile(loss='mean_squared_error', \n",
        "                optimizer=optimizer, \n",
        "                experimental_steps_per_execution = 50,  # Anything between 2 and `steps_per_epoch` could help here.\n",
        "                metrics=[tf.keras.metrics.RootMeanSquaredError()])\n",
        "\n",
        "model.summary()"
      ],
      "execution_count": 100,
      "outputs": [
        {
          "output_type": "stream",
          "text": [
            "Model: \"sequential_15\"\n",
            "_________________________________________________________________\n",
            "Layer (type)                 Output Shape              Param #   \n",
            "=================================================================\n",
            "dense_51 (Dense)             (None, 128)               7296      \n",
            "_________________________________________________________________\n",
            "dense_52 (Dense)             (None, 64)                8256      \n",
            "_________________________________________________________________\n",
            "dense_53 (Dense)             (None, 1)                 65        \n",
            "=================================================================\n",
            "Total params: 15,617\n",
            "Trainable params: 15,617\n",
            "Non-trainable params: 0\n",
            "_________________________________________________________________\n"
          ],
          "name": "stdout"
        }
      ]
    },
    {
      "cell_type": "code",
      "metadata": {
        "tags": [],
        "trusted": true,
        "id": "L4VqEMdJ1jo8",
        "colab_type": "code",
        "colab": {
          "base_uri": "https://localhost:8080/",
          "height": 1000
        },
        "outputId": "9a5d0ff2-b93d-4947-af3e-72ed2f1aa6e4"
      },
      "source": [
        "# Callbacks #\n",
        "\n",
        "# Parar entrenamiento cuando no mejora MSE\n",
        "early_stop = tf.keras.callbacks.EarlyStopping(monitor='val_loss', patience=300)\n",
        "\n",
        "# Guardar modelo entrenado\n",
        "# checkpoint = keras.callbacks.ModelCheckpoint('modelo_prediccion_propiedades.hdf5', monitor='val_loss', verbose=0, save_best_only=True, mode='auto')\n",
        "\n",
        "# Reducir learning rate cuando no mejora MSE\n",
        "# reduce_lr = keras.callbacks.ReduceLROnPlateau(monitor='val_loss', factor=0.2, patience=50, min_lr=0.0001)\n",
        "\n",
        "\n",
        "history = model.fit(X_train, y_train, \n",
        "                    batch_size=BATCH_SIZE,\n",
        "                    epochs=EPOCHS, \n",
        "                    # steps_per_epoch = STEPS_PER_EPOCH,\n",
        "                    validation_split = 0.05, \n",
        "                    callbacks=[tfdocs.modeling.EpochDots(), early_stop],\n",
        "                    verbose=1)"
      ],
      "execution_count": 101,
      "outputs": [
        {
          "output_type": "stream",
          "text": [
            "Epoch 1/2000\n",
            "532/532 [==============================] - ETA: 0s - loss: 4798057472.0000 - root_mean_squared_error: 69268.0078\n",
            "Epoch: 0, loss:4798057472.0000,  root_mean_squared_error:69268.0078,  val_loss:1183988992.0000,  val_root_mean_squared_error:34409.1406,  \n",
            "532/532 [==============================] - 4s 7ms/step - loss: 4798057472.0000 - root_mean_squared_error: 69268.0078 - val_loss: 1183988992.0000 - val_root_mean_squared_error: 34409.1406\n",
            "Epoch 2/2000\n",
            "532/532 [==============================] - 1s 3ms/step - loss: 931897856.0000 - root_mean_squared_error: 30527.0039 - val_loss: 1099326208.0000 - val_root_mean_squared_error: 33156.0859\n",
            "Epoch 3/2000\n",
            "532/532 [==============================] - 1s 3ms/step - loss: 891835648.0000 - root_mean_squared_error: 29863.6152 - val_loss: 1063211328.0000 - val_root_mean_squared_error: 32606.9219\n",
            "Epoch 4/2000\n",
            "532/532 [==============================] - 1s 3ms/step - loss: 872943296.0000 - root_mean_squared_error: 29545.6133 - val_loss: 1057929728.0000 - val_root_mean_squared_error: 32525.8320\n",
            "Epoch 5/2000\n",
            "532/532 [==============================] - 2s 3ms/step - loss: 857220672.0000 - root_mean_squared_error: 29278.3320 - val_loss: 1034618304.0000 - val_root_mean_squared_error: 32165.4824\n",
            "Epoch 6/2000\n",
            "532/532 [==============================] - 1s 3ms/step - loss: 846178496.0000 - root_mean_squared_error: 29089.1465 - val_loss: 1028773568.0000 - val_root_mean_squared_error: 32074.4961\n",
            "Epoch 7/2000\n",
            "532/532 [==============================] - 2s 3ms/step - loss: 836632832.0000 - root_mean_squared_error: 28924.6035 - val_loss: 1032443008.0000 - val_root_mean_squared_error: 32131.6484\n",
            "Epoch 8/2000\n",
            "532/532 [==============================] - 2s 3ms/step - loss: 825358464.0000 - root_mean_squared_error: 28729.0527 - val_loss: 999784576.0000 - val_root_mean_squared_error: 31619.3711\n",
            "Epoch 9/2000\n",
            "532/532 [==============================] - 2s 3ms/step - loss: 818602880.0000 - root_mean_squared_error: 28611.2363 - val_loss: 1010707520.0000 - val_root_mean_squared_error: 31791.6270\n",
            "Epoch 10/2000\n",
            "532/532 [==============================] - 2s 3ms/step - loss: 809861504.0000 - root_mean_squared_error: 28458.0664 - val_loss: 998713920.0000 - val_root_mean_squared_error: 31602.4355\n",
            "Epoch 11/2000\n",
            "532/532 [==============================] - 1s 3ms/step - loss: 803608000.0000 - root_mean_squared_error: 28347.9824 - val_loss: 995888448.0000 - val_root_mean_squared_error: 31557.6992\n",
            "Epoch 12/2000\n",
            "532/532 [==============================] - 2s 3ms/step - loss: 799037824.0000 - root_mean_squared_error: 28267.2559 - val_loss: 983816832.0000 - val_root_mean_squared_error: 31365.8535\n",
            "Epoch 13/2000\n",
            "532/532 [==============================] - 2s 3ms/step - loss: 793047680.0000 - root_mean_squared_error: 28161.1016 - val_loss: 963908352.0000 - val_root_mean_squared_error: 31046.8711\n",
            "Epoch 14/2000\n",
            "532/532 [==============================] - 2s 3ms/step - loss: 786081088.0000 - root_mean_squared_error: 28037.1367 - val_loss: 971407552.0000 - val_root_mean_squared_error: 31167.4082\n",
            "Epoch 15/2000\n",
            "532/532 [==============================] - 2s 3ms/step - loss: 782380160.0000 - root_mean_squared_error: 27971.0566 - val_loss: 1002659712.0000 - val_root_mean_squared_error: 31664.8008\n",
            "Epoch 16/2000\n",
            "532/532 [==============================] - 2s 3ms/step - loss: 780884928.0000 - root_mean_squared_error: 27944.3184 - val_loss: 974553216.0000 - val_root_mean_squared_error: 31217.8320\n",
            "Epoch 17/2000\n",
            "532/532 [==============================] - 2s 3ms/step - loss: 779789248.0000 - root_mean_squared_error: 27924.7070 - val_loss: 970937152.0000 - val_root_mean_squared_error: 31159.8633\n",
            "Epoch 18/2000\n",
            "532/532 [==============================] - 2s 4ms/step - loss: 774570496.0000 - root_mean_squared_error: 27831.1055 - val_loss: 966802368.0000 - val_root_mean_squared_error: 31093.4453\n",
            "Epoch 19/2000\n",
            "532/532 [==============================] - 2s 3ms/step - loss: 773277120.0000 - root_mean_squared_error: 27807.8633 - val_loss: 946797760.0000 - val_root_mean_squared_error: 30770.0781\n",
            "Epoch 20/2000\n",
            "532/532 [==============================] - 1s 3ms/step - loss: 768929024.0000 - root_mean_squared_error: 27729.5723 - val_loss: 952812608.0000 - val_root_mean_squared_error: 30867.6582\n",
            "Epoch 21/2000\n",
            "532/532 [==============================] - 2s 3ms/step - loss: 763601600.0000 - root_mean_squared_error: 27633.3379 - val_loss: 952142336.0000 - val_root_mean_squared_error: 30856.8066\n",
            "Epoch 22/2000\n",
            "532/532 [==============================] - 2s 3ms/step - loss: 763825024.0000 - root_mean_squared_error: 27637.3828 - val_loss: 955711296.0000 - val_root_mean_squared_error: 30914.5781\n",
            "Epoch 23/2000\n",
            "532/532 [==============================] - 2s 3ms/step - loss: 759829440.0000 - root_mean_squared_error: 27565.0020 - val_loss: 977938240.0000 - val_root_mean_squared_error: 31272.0000\n",
            "Epoch 24/2000\n",
            "532/532 [==============================] - 2s 3ms/step - loss: 758697152.0000 - root_mean_squared_error: 27544.4551 - val_loss: 957495744.0000 - val_root_mean_squared_error: 30943.4277\n",
            "Epoch 25/2000\n",
            "532/532 [==============================] - 2s 3ms/step - loss: 755840064.0000 - root_mean_squared_error: 27492.5449 - val_loss: 957369728.0000 - val_root_mean_squared_error: 30941.3867\n",
            "Epoch 26/2000\n",
            "532/532 [==============================] - 2s 3ms/step - loss: 754972160.0000 - root_mean_squared_error: 27476.7578 - val_loss: 932544064.0000 - val_root_mean_squared_error: 30537.5820\n",
            "Epoch 27/2000\n",
            "532/532 [==============================] - 2s 3ms/step - loss: 752555840.0000 - root_mean_squared_error: 27432.7520 - val_loss: 963170496.0000 - val_root_mean_squared_error: 31034.9883\n",
            "Epoch 28/2000\n",
            "532/532 [==============================] - 2s 3ms/step - loss: 749776704.0000 - root_mean_squared_error: 27382.0449 - val_loss: 941391424.0000 - val_root_mean_squared_error: 30682.1016\n",
            "Epoch 29/2000\n",
            "532/532 [==============================] - 2s 3ms/step - loss: 747006208.0000 - root_mean_squared_error: 27331.4121 - val_loss: 953478336.0000 - val_root_mean_squared_error: 30878.4414\n",
            "Epoch 30/2000\n",
            "532/532 [==============================] - 2s 3ms/step - loss: 746935616.0000 - root_mean_squared_error: 27330.1211 - val_loss: 942330944.0000 - val_root_mean_squared_error: 30697.4062\n",
            "Epoch 31/2000\n",
            "532/532 [==============================] - 2s 3ms/step - loss: 745321984.0000 - root_mean_squared_error: 27300.5840 - val_loss: 943085632.0000 - val_root_mean_squared_error: 30709.6973\n",
            "Epoch 32/2000\n",
            "532/532 [==============================] - 2s 3ms/step - loss: 742930944.0000 - root_mean_squared_error: 27256.7598 - val_loss: 954235072.0000 - val_root_mean_squared_error: 30890.6953\n",
            "Epoch 33/2000\n",
            "532/532 [==============================] - 2s 3ms/step - loss: 743983424.0000 - root_mean_squared_error: 27276.0566 - val_loss: 951225472.0000 - val_root_mean_squared_error: 30841.9434\n",
            "Epoch 34/2000\n",
            "532/532 [==============================] - 2s 3ms/step - loss: 742124672.0000 - root_mean_squared_error: 27241.9609 - val_loss: 955674560.0000 - val_root_mean_squared_error: 30913.9824\n",
            "Epoch 35/2000\n",
            "532/532 [==============================] - 2s 3ms/step - loss: 741360192.0000 - root_mean_squared_error: 27227.9277 - val_loss: 938808256.0000 - val_root_mean_squared_error: 30639.9805\n",
            "Epoch 36/2000\n",
            "532/532 [==============================] - 2s 3ms/step - loss: 737688512.0000 - root_mean_squared_error: 27160.4199 - val_loss: 952145536.0000 - val_root_mean_squared_error: 30856.8555\n",
            "Epoch 37/2000\n",
            "532/532 [==============================] - 2s 3ms/step - loss: 737763008.0000 - root_mean_squared_error: 27161.7910 - val_loss: 953836032.0000 - val_root_mean_squared_error: 30884.2344\n",
            "Epoch 38/2000\n",
            "532/532 [==============================] - 2s 3ms/step - loss: 736870272.0000 - root_mean_squared_error: 27145.3516 - val_loss: 929592256.0000 - val_root_mean_squared_error: 30489.2109\n",
            "Epoch 39/2000\n",
            "532/532 [==============================] - 2s 3ms/step - loss: 732834752.0000 - root_mean_squared_error: 27070.9199 - val_loss: 942538112.0000 - val_root_mean_squared_error: 30700.7832\n",
            "Epoch 40/2000\n",
            "532/532 [==============================] - 2s 3ms/step - loss: 733976960.0000 - root_mean_squared_error: 27092.0098 - val_loss: 929213184.0000 - val_root_mean_squared_error: 30482.9980\n",
            "Epoch 41/2000\n",
            "532/532 [==============================] - 2s 3ms/step - loss: 732282624.0000 - root_mean_squared_error: 27060.7188 - val_loss: 947232448.0000 - val_root_mean_squared_error: 30777.1387\n",
            "Epoch 42/2000\n",
            "532/532 [==============================] - ETA: 0s - loss: 730202304.0000 - root_mean_squared_error: 27022.2559"
          ],
          "name": "stdout"
        },
        {
          "output_type": "stream",
          "text": [
            "Exception ignored in: <bound method IteratorResourceDeleter.__del__ of <tensorflow.python.data.ops.iterator_ops.IteratorResourceDeleter object at 0x7fd686e17550>>\n",
            "Traceback (most recent call last):\n",
            "  File \"/usr/local/lib/python3.6/dist-packages/tensorflow/python/data/ops/iterator_ops.py\", line 537, in __del__\n",
            "    handle=self._handle, deleter=self._deleter)\n",
            "  File \"/usr/local/lib/python3.6/dist-packages/tensorflow/python/ops/gen_dataset_ops.py\", line 1282, in delete_iterator\n",
            "    _ops.raise_from_not_ok_status(e, name)\n",
            "  File \"/usr/local/lib/python3.6/dist-packages/tensorflow/python/framework/ops.py\", line 6843, in raise_from_not_ok_status\n",
            "    six.raise_from(core._status_to_exception(e.code, message), None)\n",
            "  File \"<string>\", line 3, in raise_from\n",
            "tensorflow.python.framework.errors_impl.InvalidArgumentError: Resource input tensor contains an invalid device. This might happen when the client has connected to a different cluster, or some remote workers have been restarted. [Op:DeleteIterator]\n",
            "Exception ignored in: <bound method IteratorResourceDeleter.__del__ of <tensorflow.python.data.ops.iterator_ops.IteratorResourceDeleter object at 0x7fd686e17ba8>>\n",
            "Traceback (most recent call last):\n",
            "  File \"/usr/local/lib/python3.6/dist-packages/tensorflow/python/data/ops/iterator_ops.py\", line 537, in __del__\n",
            "    handle=self._handle, deleter=self._deleter)\n",
            "  File \"/usr/local/lib/python3.6/dist-packages/tensorflow/python/ops/gen_dataset_ops.py\", line 1282, in delete_iterator\n",
            "    _ops.raise_from_not_ok_status(e, name)\n",
            "  File \"/usr/local/lib/python3.6/dist-packages/tensorflow/python/framework/ops.py\", line 6843, in raise_from_not_ok_status\n",
            "    six.raise_from(core._status_to_exception(e.code, message), None)\n",
            "  File \"<string>\", line 3, in raise_from\n",
            "tensorflow.python.framework.errors_impl.InvalidArgumentError: Resource input tensor contains an invalid device. This might happen when the client has connected to a different cluster, or some remote workers have been restarted. [Op:DeleteIterator]\n",
            "Exception ignored in: <bound method IteratorResourceDeleter.__del__ of <tensorflow.python.data.ops.iterator_ops.IteratorResourceDeleter object at 0x7fd686a89cc0>>\n",
            "Traceback (most recent call last):\n",
            "  File \"/usr/local/lib/python3.6/dist-packages/tensorflow/python/data/ops/iterator_ops.py\", line 537, in __del__\n",
            "    handle=self._handle, deleter=self._deleter)\n",
            "  File \"/usr/local/lib/python3.6/dist-packages/tensorflow/python/ops/gen_dataset_ops.py\", line 1282, in delete_iterator\n",
            "    _ops.raise_from_not_ok_status(e, name)\n",
            "  File \"/usr/local/lib/python3.6/dist-packages/tensorflow/python/framework/ops.py\", line 6843, in raise_from_not_ok_status\n",
            "    six.raise_from(core._status_to_exception(e.code, message), None)\n",
            "  File \"<string>\", line 3, in raise_from\n",
            "tensorflow.python.framework.errors_impl.InvalidArgumentError: Resource input tensor contains an invalid device. This might happen when the client has connected to a different cluster, or some remote workers have been restarted. [Op:DeleteIterator]\n",
            "Exception ignored in: <bound method IteratorResourceDeleter.__del__ of <tensorflow.python.data.ops.iterator_ops.IteratorResourceDeleter object at 0x7fd686a89780>>\n",
            "Traceback (most recent call last):\n",
            "  File \"/usr/local/lib/python3.6/dist-packages/tensorflow/python/data/ops/iterator_ops.py\", line 537, in __del__\n",
            "    handle=self._handle, deleter=self._deleter)\n",
            "  File \"/usr/local/lib/python3.6/dist-packages/tensorflow/python/ops/gen_dataset_ops.py\", line 1282, in delete_iterator\n",
            "    _ops.raise_from_not_ok_status(e, name)\n",
            "  File \"/usr/local/lib/python3.6/dist-packages/tensorflow/python/framework/ops.py\", line 6843, in raise_from_not_ok_status\n",
            "    six.raise_from(core._status_to_exception(e.code, message), None)\n",
            "  File \"<string>\", line 3, in raise_from\n",
            "tensorflow.python.framework.errors_impl.InvalidArgumentError: Resource input tensor contains an invalid device. This might happen when the client has connected to a different cluster, or some remote workers have been restarted. [Op:DeleteIterator]\n",
            "Exception ignored in: <bound method IteratorResourceDeleter.__del__ of <tensorflow.python.data.ops.iterator_ops.IteratorResourceDeleter object at 0x7fd686a89a58>>\n",
            "Traceback (most recent call last):\n",
            "  File \"/usr/local/lib/python3.6/dist-packages/tensorflow/python/data/ops/iterator_ops.py\", line 537, in __del__\n",
            "    handle=self._handle, deleter=self._deleter)\n",
            "  File \"/usr/local/lib/python3.6/dist-packages/tensorflow/python/ops/gen_dataset_ops.py\", line 1282, in delete_iterator\n",
            "    _ops.raise_from_not_ok_status(e, name)\n",
            "  File \"/usr/local/lib/python3.6/dist-packages/tensorflow/python/framework/ops.py\", line 6843, in raise_from_not_ok_status\n",
            "    six.raise_from(core._status_to_exception(e.code, message), None)\n",
            "  File \"<string>\", line 3, in raise_from\n",
            "tensorflow.python.framework.errors_impl.InvalidArgumentError: Resource input tensor contains an invalid device. This might happen when the client has connected to a different cluster, or some remote workers have been restarted. [Op:DeleteIterator]\n",
            "Exception ignored in: <bound method IteratorResourceDeleter.__del__ of <tensorflow.python.data.ops.iterator_ops.IteratorResourceDeleter object at 0x7fd6858fd908>>\n",
            "Traceback (most recent call last):\n",
            "  File \"/usr/local/lib/python3.6/dist-packages/tensorflow/python/data/ops/iterator_ops.py\", line 537, in __del__\n",
            "    handle=self._handle, deleter=self._deleter)\n",
            "  File \"/usr/local/lib/python3.6/dist-packages/tensorflow/python/ops/gen_dataset_ops.py\", line 1282, in delete_iterator\n",
            "    _ops.raise_from_not_ok_status(e, name)\n",
            "  File \"/usr/local/lib/python3.6/dist-packages/tensorflow/python/framework/ops.py\", line 6843, in raise_from_not_ok_status\n",
            "    six.raise_from(core._status_to_exception(e.code, message), None)\n",
            "  File \"<string>\", line 3, in raise_from\n",
            "tensorflow.python.framework.errors_impl.InvalidArgumentError: Resource input tensor contains an invalid device. This might happen when the client has connected to a different cluster, or some remote workers have been restarted. [Op:DeleteIterator]\n",
            "Exception ignored in: <bound method IteratorResourceDeleter.__del__ of <tensorflow.python.data.ops.iterator_ops.IteratorResourceDeleter object at 0x7fd682615ba8>>\n",
            "Traceback (most recent call last):\n",
            "  File \"/usr/local/lib/python3.6/dist-packages/tensorflow/python/data/ops/iterator_ops.py\", line 537, in __del__\n",
            "    handle=self._handle, deleter=self._deleter)\n",
            "  File \"/usr/local/lib/python3.6/dist-packages/tensorflow/python/ops/gen_dataset_ops.py\", line 1282, in delete_iterator\n",
            "    _ops.raise_from_not_ok_status(e, name)\n",
            "  File \"/usr/local/lib/python3.6/dist-packages/tensorflow/python/framework/ops.py\", line 6843, in raise_from_not_ok_status\n",
            "    six.raise_from(core._status_to_exception(e.code, message), None)\n",
            "  File \"<string>\", line 3, in raise_from\n",
            "tensorflow.python.framework.errors_impl.InvalidArgumentError: Resource input tensor contains an invalid device. This might happen when the client has connected to a different cluster, or some remote workers have been restarted. [Op:DeleteIterator]\n",
            "Exception ignored in: <bound method IteratorResourceDeleter.__del__ of <tensorflow.python.data.ops.iterator_ops.IteratorResourceDeleter object at 0x7fd6856a1cc0>>\n",
            "Traceback (most recent call last):\n",
            "  File \"/usr/local/lib/python3.6/dist-packages/tensorflow/python/data/ops/iterator_ops.py\", line 537, in __del__\n",
            "    handle=self._handle, deleter=self._deleter)\n",
            "  File \"/usr/local/lib/python3.6/dist-packages/tensorflow/python/ops/gen_dataset_ops.py\", line 1282, in delete_iterator\n",
            "    _ops.raise_from_not_ok_status(e, name)\n",
            "  File \"/usr/local/lib/python3.6/dist-packages/tensorflow/python/framework/ops.py\", line 6843, in raise_from_not_ok_status\n",
            "    six.raise_from(core._status_to_exception(e.code, message), None)\n",
            "  File \"<string>\", line 3, in raise_from\n",
            "tensorflow.python.framework.errors_impl.InvalidArgumentError: Resource input tensor contains an invalid device. This might happen when the client has connected to a different cluster, or some remote workers have been restarted. [Op:DeleteIterator]\n",
            "Exception ignored in: <bound method IteratorResourceDeleter.__del__ of <tensorflow.python.data.ops.iterator_ops.IteratorResourceDeleter object at 0x7fd680fed748>>\n",
            "Traceback (most recent call last):\n",
            "  File \"/usr/local/lib/python3.6/dist-packages/tensorflow/python/data/ops/iterator_ops.py\", line 537, in __del__\n",
            "    handle=self._handle, deleter=self._deleter)\n",
            "  File \"/usr/local/lib/python3.6/dist-packages/tensorflow/python/ops/gen_dataset_ops.py\", line 1282, in delete_iterator\n",
            "    _ops.raise_from_not_ok_status(e, name)\n",
            "  File \"/usr/local/lib/python3.6/dist-packages/tensorflow/python/framework/ops.py\", line 6843, in raise_from_not_ok_status\n",
            "    six.raise_from(core._status_to_exception(e.code, message), None)\n",
            "  File \"<string>\", line 3, in raise_from\n",
            "tensorflow.python.framework.errors_impl.InvalidArgumentError: Resource input tensor contains an invalid device. This might happen when the client has connected to a different cluster, or some remote workers have been restarted. [Op:DeleteIterator]\n",
            "Exception ignored in: <bound method IteratorResourceDeleter.__del__ of <tensorflow.python.data.ops.iterator_ops.IteratorResourceDeleter object at 0x7fd680fed358>>\n",
            "Traceback (most recent call last):\n",
            "  File \"/usr/local/lib/python3.6/dist-packages/tensorflow/python/data/ops/iterator_ops.py\", line 537, in __del__\n",
            "    handle=self._handle, deleter=self._deleter)\n",
            "  File \"/usr/local/lib/python3.6/dist-packages/tensorflow/python/ops/gen_dataset_ops.py\", line 1282, in delete_iterator\n",
            "    _ops.raise_from_not_ok_status(e, name)\n",
            "  File \"/usr/local/lib/python3.6/dist-packages/tensorflow/python/framework/ops.py\", line 6843, in raise_from_not_ok_status\n",
            "    six.raise_from(core._status_to_exception(e.code, message), None)\n",
            "  File \"<string>\", line 3, in raise_from\n",
            "tensorflow.python.framework.errors_impl.InvalidArgumentError: Resource input tensor contains an invalid device. This might happen when the client has connected to a different cluster, or some remote workers have been restarted. [Op:DeleteIterator]\n",
            "Exception ignored in: <bound method IteratorResourceDeleter.__del__ of <tensorflow.python.data.ops.iterator_ops.IteratorResourceDeleter object at 0x7fd6810235c0>>\n",
            "Traceback (most recent call last):\n",
            "  File \"/usr/local/lib/python3.6/dist-packages/tensorflow/python/data/ops/iterator_ops.py\", line 537, in __del__\n",
            "    handle=self._handle, deleter=self._deleter)\n",
            "  File \"/usr/local/lib/python3.6/dist-packages/tensorflow/python/ops/gen_dataset_ops.py\", line 1282, in delete_iterator\n",
            "    _ops.raise_from_not_ok_status(e, name)\n",
            "  File \"/usr/local/lib/python3.6/dist-packages/tensorflow/python/framework/ops.py\", line 6843, in raise_from_not_ok_status\n",
            "    six.raise_from(core._status_to_exception(e.code, message), None)\n",
            "  File \"<string>\", line 3, in raise_from\n",
            "tensorflow.python.framework.errors_impl.InvalidArgumentError: Resource input tensor contains an invalid device. This might happen when the client has connected to a different cluster, or some remote workers have been restarted. [Op:DeleteIterator]\n",
            "Exception ignored in: <bound method IteratorResourceDeleter.__del__ of <tensorflow.python.data.ops.iterator_ops.IteratorResourceDeleter object at 0x7fd681023c50>>\n",
            "Traceback (most recent call last):\n",
            "  File \"/usr/local/lib/python3.6/dist-packages/tensorflow/python/data/ops/iterator_ops.py\", line 537, in __del__\n",
            "    handle=self._handle, deleter=self._deleter)\n",
            "  File \"/usr/local/lib/python3.6/dist-packages/tensorflow/python/ops/gen_dataset_ops.py\", line 1282, in delete_iterator\n",
            "    _ops.raise_from_not_ok_status(e, name)\n",
            "  File \"/usr/local/lib/python3.6/dist-packages/tensorflow/python/framework/ops.py\", line 6843, in raise_from_not_ok_status\n",
            "    six.raise_from(core._status_to_exception(e.code, message), None)\n",
            "  File \"<string>\", line 3, in raise_from\n",
            "tensorflow.python.framework.errors_impl.InvalidArgumentError: Resource input tensor contains an invalid device. This might happen when the client has connected to a different cluster, or some remote workers have been restarted. [Op:DeleteIterator]\n",
            "Exception ignored in: <bound method IteratorResourceDeleter.__del__ of <tensorflow.python.data.ops.iterator_ops.IteratorResourceDeleter object at 0x7fd6810235f8>>\n",
            "Traceback (most recent call last):\n",
            "  File \"/usr/local/lib/python3.6/dist-packages/tensorflow/python/data/ops/iterator_ops.py\", line 537, in __del__\n",
            "    handle=self._handle, deleter=self._deleter)\n",
            "  File \"/usr/local/lib/python3.6/dist-packages/tensorflow/python/ops/gen_dataset_ops.py\", line 1282, in delete_iterator\n",
            "    _ops.raise_from_not_ok_status(e, name)\n",
            "  File \"/usr/local/lib/python3.6/dist-packages/tensorflow/python/framework/ops.py\", line 6843, in raise_from_not_ok_status\n",
            "    six.raise_from(core._status_to_exception(e.code, message), None)\n",
            "  File \"<string>\", line 3, in raise_from\n",
            "tensorflow.python.framework.errors_impl.InvalidArgumentError: Resource input tensor contains an invalid device. This might happen when the client has connected to a different cluster, or some remote workers have been restarted. [Op:DeleteIterator]\n",
            "Exception ignored in: <bound method IteratorResourceDeleter.__del__ of <tensorflow.python.data.ops.iterator_ops.IteratorResourceDeleter object at 0x7fd680e90550>>\n",
            "Traceback (most recent call last):\n",
            "  File \"/usr/local/lib/python3.6/dist-packages/tensorflow/python/data/ops/iterator_ops.py\", line 537, in __del__\n",
            "    handle=self._handle, deleter=self._deleter)\n",
            "  File \"/usr/local/lib/python3.6/dist-packages/tensorflow/python/ops/gen_dataset_ops.py\", line 1282, in delete_iterator\n",
            "    _ops.raise_from_not_ok_status(e, name)\n",
            "  File \"/usr/local/lib/python3.6/dist-packages/tensorflow/python/framework/ops.py\", line 6843, in raise_from_not_ok_status\n",
            "    six.raise_from(core._status_to_exception(e.code, message), None)\n",
            "  File \"<string>\", line 3, in raise_from\n",
            "tensorflow.python.framework.errors_impl.InvalidArgumentError: Resource input tensor contains an invalid device. This might happen when the client has connected to a different cluster, or some remote workers have been restarted. [Op:DeleteIterator]\n",
            "Exception ignored in: <bound method IteratorResourceDeleter.__del__ of <tensorflow.python.data.ops.iterator_ops.IteratorResourceDeleter object at 0x7fd680e818d0>>\n",
            "Traceback (most recent call last):\n",
            "  File \"/usr/local/lib/python3.6/dist-packages/tensorflow/python/data/ops/iterator_ops.py\", line 537, in __del__\n",
            "    handle=self._handle, deleter=self._deleter)\n",
            "  File \"/usr/local/lib/python3.6/dist-packages/tensorflow/python/ops/gen_dataset_ops.py\", line 1282, in delete_iterator\n",
            "    _ops.raise_from_not_ok_status(e, name)\n",
            "  File \"/usr/local/lib/python3.6/dist-packages/tensorflow/python/framework/ops.py\", line 6843, in raise_from_not_ok_status\n",
            "    six.raise_from(core._status_to_exception(e.code, message), None)\n",
            "  File \"<string>\", line 3, in raise_from\n",
            "tensorflow.python.framework.errors_impl.InvalidArgumentError: Resource input tensor contains an invalid device. This might happen when the client has connected to a different cluster, or some remote workers have been restarted. [Op:DeleteIterator]\n",
            "Exception ignored in: <bound method IteratorResourceDeleter.__del__ of <tensorflow.python.data.ops.iterator_ops.IteratorResourceDeleter object at 0x7fd680ea44a8>>\n",
            "Traceback (most recent call last):\n",
            "  File \"/usr/local/lib/python3.6/dist-packages/tensorflow/python/data/ops/iterator_ops.py\", line 537, in __del__\n",
            "    handle=self._handle, deleter=self._deleter)\n",
            "  File \"/usr/local/lib/python3.6/dist-packages/tensorflow/python/ops/gen_dataset_ops.py\", line 1282, in delete_iterator\n",
            "    _ops.raise_from_not_ok_status(e, name)\n",
            "  File \"/usr/local/lib/python3.6/dist-packages/tensorflow/python/framework/ops.py\", line 6843, in raise_from_not_ok_status\n",
            "    six.raise_from(core._status_to_exception(e.code, message), None)\n",
            "  File \"<string>\", line 3, in raise_from\n",
            "tensorflow.python.framework.errors_impl.InvalidArgumentError: Resource input tensor contains an invalid device. This might happen when the client has connected to a different cluster, or some remote workers have been restarted. [Op:DeleteIterator]\n",
            "Exception ignored in: <bound method IteratorResourceDeleter.__del__ of <tensorflow.python.data.ops.iterator_ops.IteratorResourceDeleter object at 0x7fd67f617b70>>\n",
            "Traceback (most recent call last):\n",
            "  File \"/usr/local/lib/python3.6/dist-packages/tensorflow/python/data/ops/iterator_ops.py\", line 537, in __del__\n",
            "    handle=self._handle, deleter=self._deleter)\n",
            "  File \"/usr/local/lib/python3.6/dist-packages/tensorflow/python/ops/gen_dataset_ops.py\", line 1282, in delete_iterator\n",
            "    _ops.raise_from_not_ok_status(e, name)\n",
            "  File \"/usr/local/lib/python3.6/dist-packages/tensorflow/python/framework/ops.py\", line 6843, in raise_from_not_ok_status\n",
            "    six.raise_from(core._status_to_exception(e.code, message), None)\n",
            "  File \"<string>\", line 3, in raise_from\n",
            "tensorflow.python.framework.errors_impl.InvalidArgumentError: Resource input tensor contains an invalid device. This might happen when the client has connected to a different cluster, or some remote workers have been restarted. [Op:DeleteIterator]\n",
            "Exception ignored in: <bound method IteratorResourceDeleter.__del__ of <tensorflow.python.data.ops.iterator_ops.IteratorResourceDeleter object at 0x7fd681e834a8>>\n",
            "Traceback (most recent call last):\n",
            "  File \"/usr/local/lib/python3.6/dist-packages/tensorflow/python/data/ops/iterator_ops.py\", line 537, in __del__\n",
            "    handle=self._handle, deleter=self._deleter)\n",
            "  File \"/usr/local/lib/python3.6/dist-packages/tensorflow/python/ops/gen_dataset_ops.py\", line 1282, in delete_iterator\n",
            "    _ops.raise_from_not_ok_status(e, name)\n",
            "  File \"/usr/local/lib/python3.6/dist-packages/tensorflow/python/framework/ops.py\", line 6843, in raise_from_not_ok_status\n",
            "    six.raise_from(core._status_to_exception(e.code, message), None)\n",
            "  File \"<string>\", line 3, in raise_from\n",
            "tensorflow.python.framework.errors_impl.InvalidArgumentError: Resource input tensor contains an invalid device. This might happen when the client has connected to a different cluster, or some remote workers have been restarted. [Op:DeleteIterator]\n",
            "Exception ignored in: <bound method IteratorResourceDeleter.__del__ of <tensorflow.python.data.ops.iterator_ops.IteratorResourceDeleter object at 0x7fd68263e860>>\n",
            "Traceback (most recent call last):\n",
            "  File \"/usr/local/lib/python3.6/dist-packages/tensorflow/python/data/ops/iterator_ops.py\", line 537, in __del__\n",
            "    handle=self._handle, deleter=self._deleter)\n",
            "  File \"/usr/local/lib/python3.6/dist-packages/tensorflow/python/ops/gen_dataset_ops.py\", line 1282, in delete_iterator\n",
            "    _ops.raise_from_not_ok_status(e, name)\n",
            "  File \"/usr/local/lib/python3.6/dist-packages/tensorflow/python/framework/ops.py\", line 6843, in raise_from_not_ok_status\n",
            "    six.raise_from(core._status_to_exception(e.code, message), None)\n",
            "  File \"<string>\", line 3, in raise_from\n",
            "tensorflow.python.framework.errors_impl.InvalidArgumentError: Resource input tensor contains an invalid device. This might happen when the client has connected to a different cluster, or some remote workers have been restarted. [Op:DeleteIterator]\n",
            "Exception ignored in: <bound method IteratorResourceDeleter.__del__ of <tensorflow.python.data.ops.iterator_ops.IteratorResourceDeleter object at 0x7fd67f601e80>>\n",
            "Traceback (most recent call last):\n",
            "  File \"/usr/local/lib/python3.6/dist-packages/tensorflow/python/data/ops/iterator_ops.py\", line 537, in __del__\n",
            "    handle=self._handle, deleter=self._deleter)\n",
            "  File \"/usr/local/lib/python3.6/dist-packages/tensorflow/python/ops/gen_dataset_ops.py\", line 1282, in delete_iterator\n",
            "    _ops.raise_from_not_ok_status(e, name)\n",
            "  File \"/usr/local/lib/python3.6/dist-packages/tensorflow/python/framework/ops.py\", line 6843, in raise_from_not_ok_status\n",
            "    six.raise_from(core._status_to_exception(e.code, message), None)\n",
            "  File \"<string>\", line 3, in raise_from\n",
            "tensorflow.python.framework.errors_impl.InvalidArgumentError: Resource input tensor contains an invalid device. This might happen when the client has connected to a different cluster, or some remote workers have been restarted. [Op:DeleteIterator]\n",
            "Exception ignored in: <bound method IteratorResourceDeleter.__del__ of <tensorflow.python.data.ops.iterator_ops.IteratorResourceDeleter object at 0x7fd680bdb2b0>>\n",
            "Traceback (most recent call last):\n",
            "  File \"/usr/local/lib/python3.6/dist-packages/tensorflow/python/data/ops/iterator_ops.py\", line 537, in __del__\n",
            "    handle=self._handle, deleter=self._deleter)\n",
            "  File \"/usr/local/lib/python3.6/dist-packages/tensorflow/python/ops/gen_dataset_ops.py\", line 1282, in delete_iterator\n",
            "    _ops.raise_from_not_ok_status(e, name)\n",
            "  File \"/usr/local/lib/python3.6/dist-packages/tensorflow/python/framework/ops.py\", line 6843, in raise_from_not_ok_status\n",
            "    six.raise_from(core._status_to_exception(e.code, message), None)\n",
            "  File \"<string>\", line 3, in raise_from\n",
            "tensorflow.python.framework.errors_impl.InvalidArgumentError: Resource input tensor contains an invalid device. This might happen when the client has connected to a different cluster, or some remote workers have been restarted. [Op:DeleteIterator]\n",
            "Exception ignored in: <bound method IteratorResourceDeleter.__del__ of <tensorflow.python.data.ops.iterator_ops.IteratorResourceDeleter object at 0x7fd680bdb6a0>>\n",
            "Traceback (most recent call last):\n",
            "  File \"/usr/local/lib/python3.6/dist-packages/tensorflow/python/data/ops/iterator_ops.py\", line 537, in __del__\n",
            "    handle=self._handle, deleter=self._deleter)\n",
            "  File \"/usr/local/lib/python3.6/dist-packages/tensorflow/python/ops/gen_dataset_ops.py\", line 1282, in delete_iterator\n",
            "    _ops.raise_from_not_ok_status(e, name)\n",
            "  File \"/usr/local/lib/python3.6/dist-packages/tensorflow/python/framework/ops.py\", line 6843, in raise_from_not_ok_status\n",
            "    six.raise_from(core._status_to_exception(e.code, message), None)\n",
            "  File \"<string>\", line 3, in raise_from\n",
            "tensorflow.python.framework.errors_impl.InvalidArgumentError: Resource input tensor contains an invalid device. This might happen when the client has connected to a different cluster, or some remote workers have been restarted. [Op:DeleteIterator]\n",
            "Exception ignored in: <bound method IteratorResourceDeleter.__del__ of <tensorflow.python.data.ops.iterator_ops.IteratorResourceDeleter object at 0x7fd680bdba90>>\n",
            "Traceback (most recent call last):\n",
            "  File \"/usr/local/lib/python3.6/dist-packages/tensorflow/python/data/ops/iterator_ops.py\", line 537, in __del__\n",
            "    handle=self._handle, deleter=self._deleter)\n",
            "  File \"/usr/local/lib/python3.6/dist-packages/tensorflow/python/ops/gen_dataset_ops.py\", line 1282, in delete_iterator\n",
            "    _ops.raise_from_not_ok_status(e, name)\n",
            "  File \"/usr/local/lib/python3.6/dist-packages/tensorflow/python/framework/ops.py\", line 6843, in raise_from_not_ok_status\n",
            "    six.raise_from(core._status_to_exception(e.code, message), None)\n",
            "  File \"<string>\", line 3, in raise_from\n",
            "tensorflow.python.framework.errors_impl.InvalidArgumentError: Resource input tensor contains an invalid device. This might happen when the client has connected to a different cluster, or some remote workers have been restarted. [Op:DeleteIterator]\n",
            "Exception ignored in: <bound method IteratorResourceDeleter.__del__ of <tensorflow.python.data.ops.iterator_ops.IteratorResourceDeleter object at 0x7fd680bdbe80>>\n",
            "Traceback (most recent call last):\n",
            "  File \"/usr/local/lib/python3.6/dist-packages/tensorflow/python/data/ops/iterator_ops.py\", line 537, in __del__\n",
            "    handle=self._handle, deleter=self._deleter)\n",
            "  File \"/usr/local/lib/python3.6/dist-packages/tensorflow/python/ops/gen_dataset_ops.py\", line 1282, in delete_iterator\n",
            "    _ops.raise_from_not_ok_status(e, name)\n",
            "  File \"/usr/local/lib/python3.6/dist-packages/tensorflow/python/framework/ops.py\", line 6843, in raise_from_not_ok_status\n",
            "    six.raise_from(core._status_to_exception(e.code, message), None)\n",
            "  File \"<string>\", line 3, in raise_from\n",
            "tensorflow.python.framework.errors_impl.InvalidArgumentError: Resource input tensor contains an invalid device. This might happen when the client has connected to a different cluster, or some remote workers have been restarted. [Op:DeleteIterator]\n"
          ],
          "name": "stderr"
        },
        {
          "output_type": "stream",
          "text": [
            "532/532 [==============================] - 2s 5ms/step - loss: 730202304.0000 - root_mean_squared_error: 27022.2559 - val_loss: 934335552.0000 - val_root_mean_squared_error: 30566.8984\n",
            "Epoch 43/2000\n",
            "532/532 [==============================] - 2s 3ms/step - loss: 728004224.0000 - root_mean_squared_error: 26981.5527 - val_loss: 938211648.0000 - val_root_mean_squared_error: 30630.2383\n",
            "Epoch 44/2000\n",
            "532/532 [==============================] - 2s 3ms/step - loss: 727376768.0000 - root_mean_squared_error: 26969.9199 - val_loss: 949159104.0000 - val_root_mean_squared_error: 30808.4219\n",
            "Epoch 45/2000\n",
            "532/532 [==============================] - 2s 3ms/step - loss: 724962496.0000 - root_mean_squared_error: 26925.1270 - val_loss: 940958080.0000 - val_root_mean_squared_error: 30675.0410\n",
            "Epoch 46/2000\n",
            "532/532 [==============================] - 2s 3ms/step - loss: 724493952.0000 - root_mean_squared_error: 26916.4219 - val_loss: 932783104.0000 - val_root_mean_squared_error: 30541.4961\n",
            "Epoch 47/2000\n",
            "532/532 [==============================] - 2s 3ms/step - loss: 722389696.0000 - root_mean_squared_error: 26877.3066 - val_loss: 926092800.0000 - val_root_mean_squared_error: 30431.7695\n",
            "Epoch 48/2000\n",
            "532/532 [==============================] - 2s 3ms/step - loss: 722469568.0000 - root_mean_squared_error: 26878.7930 - val_loss: 929024960.0000 - val_root_mean_squared_error: 30479.9082\n",
            "Epoch 49/2000\n",
            "532/532 [==============================] - 2s 3ms/step - loss: 720343488.0000 - root_mean_squared_error: 26839.2129 - val_loss: 927665536.0000 - val_root_mean_squared_error: 30457.6016\n",
            "Epoch 50/2000\n",
            "532/532 [==============================] - 2s 3ms/step - loss: 714700736.0000 - root_mean_squared_error: 26733.8887 - val_loss: 945539328.0000 - val_root_mean_squared_error: 30749.6230\n",
            "Epoch 51/2000\n",
            "532/532 [==============================] - 2s 3ms/step - loss: 716330304.0000 - root_mean_squared_error: 26764.3477 - val_loss: 943027712.0000 - val_root_mean_squared_error: 30708.7578\n",
            "Epoch 52/2000\n",
            "532/532 [==============================] - 2s 3ms/step - loss: 712727040.0000 - root_mean_squared_error: 26696.9453 - val_loss: 924260352.0000 - val_root_mean_squared_error: 30401.6504\n",
            "Epoch 53/2000\n",
            "532/532 [==============================] - 2s 3ms/step - loss: 712610368.0000 - root_mean_squared_error: 26694.7598 - val_loss: 934619392.0000 - val_root_mean_squared_error: 30571.5449\n",
            "Epoch 54/2000\n",
            "532/532 [==============================] - 2s 3ms/step - loss: 708938496.0000 - root_mean_squared_error: 26625.8965 - val_loss: 933022592.0000 - val_root_mean_squared_error: 30545.4160\n",
            "Epoch 55/2000\n",
            "532/532 [==============================] - 2s 3ms/step - loss: 706624768.0000 - root_mean_squared_error: 26582.4102 - val_loss: 931396032.0000 - val_root_mean_squared_error: 30518.7773\n",
            "Epoch 56/2000\n",
            "532/532 [==============================] - 2s 3ms/step - loss: 706520384.0000 - root_mean_squared_error: 26580.4492 - val_loss: 931760640.0000 - val_root_mean_squared_error: 30524.7480\n",
            "Epoch 57/2000\n",
            "532/532 [==============================] - 2s 3ms/step - loss: 706746880.0000 - root_mean_squared_error: 26584.7129 - val_loss: 934123712.0000 - val_root_mean_squared_error: 30563.4375\n",
            "Epoch 58/2000\n",
            "532/532 [==============================] - 2s 3ms/step - loss: 701704640.0000 - root_mean_squared_error: 26489.7031 - val_loss: 940631488.0000 - val_root_mean_squared_error: 30669.7148\n",
            "Epoch 59/2000\n",
            "532/532 [==============================] - 2s 3ms/step - loss: 700948288.0000 - root_mean_squared_error: 26475.4277 - val_loss: 924333632.0000 - val_root_mean_squared_error: 30402.8535\n",
            "Epoch 60/2000\n",
            "532/532 [==============================] - 2s 3ms/step - loss: 699517632.0000 - root_mean_squared_error: 26448.3945 - val_loss: 946964224.0000 - val_root_mean_squared_error: 30772.7832\n",
            "Epoch 61/2000\n",
            "532/532 [==============================] - 2s 3ms/step - loss: 698358720.0000 - root_mean_squared_error: 26426.4746 - val_loss: 928512640.0000 - val_root_mean_squared_error: 30471.5039\n",
            "Epoch 62/2000\n",
            "532/532 [==============================] - 2s 3ms/step - loss: 695928384.0000 - root_mean_squared_error: 26380.4512 - val_loss: 926675264.0000 - val_root_mean_squared_error: 30441.3418\n",
            "Epoch 63/2000\n",
            "532/532 [==============================] - 2s 3ms/step - loss: 696496256.0000 - root_mean_squared_error: 26391.2148 - val_loss: 915990016.0000 - val_root_mean_squared_error: 30265.3242\n",
            "Epoch 64/2000\n",
            "532/532 [==============================] - 2s 3ms/step - loss: 692452992.0000 - root_mean_squared_error: 26314.5000 - val_loss: 929159040.0000 - val_root_mean_squared_error: 30482.1094\n",
            "Epoch 65/2000\n",
            "532/532 [==============================] - 2s 3ms/step - loss: 690670272.0000 - root_mean_squared_error: 26280.6016 - val_loss: 924104320.0000 - val_root_mean_squared_error: 30399.0820\n",
            "Epoch 66/2000\n",
            "532/532 [==============================] - 2s 3ms/step - loss: 688703872.0000 - root_mean_squared_error: 26243.1621 - val_loss: 909667904.0000 - val_root_mean_squared_error: 30160.7012\n",
            "Epoch 67/2000\n",
            "532/532 [==============================] - 2s 3ms/step - loss: 686397696.0000 - root_mean_squared_error: 26199.1914 - val_loss: 931313344.0000 - val_root_mean_squared_error: 30517.4277\n",
            "Epoch 68/2000\n",
            "532/532 [==============================] - 2s 3ms/step - loss: 684850880.0000 - root_mean_squared_error: 26169.6523 - val_loss: 920901312.0000 - val_root_mean_squared_error: 30346.3555\n",
            "Epoch 69/2000\n",
            "532/532 [==============================] - 2s 3ms/step - loss: 683347072.0000 - root_mean_squared_error: 26140.9043 - val_loss: 907283328.0000 - val_root_mean_squared_error: 30121.1406\n",
            "Epoch 70/2000\n",
            "532/532 [==============================] - 2s 3ms/step - loss: 682018752.0000 - root_mean_squared_error: 26115.4883 - val_loss: 915123584.0000 - val_root_mean_squared_error: 30251.0059\n",
            "Epoch 71/2000\n",
            "532/532 [==============================] - 2s 3ms/step - loss: 678461632.0000 - root_mean_squared_error: 26047.2930 - val_loss: 914235776.0000 - val_root_mean_squared_error: 30236.3301\n",
            "Epoch 72/2000\n",
            "532/532 [==============================] - 2s 3ms/step - loss: 675187392.0000 - root_mean_squared_error: 25984.3633 - val_loss: 917093056.0000 - val_root_mean_squared_error: 30283.5430\n",
            "Epoch 73/2000\n",
            "532/532 [==============================] - 2s 3ms/step - loss: 676926656.0000 - root_mean_squared_error: 26017.8105 - val_loss: 926052224.0000 - val_root_mean_squared_error: 30431.1055\n",
            "Epoch 74/2000\n",
            "532/532 [==============================] - 2s 3ms/step - loss: 674026304.0000 - root_mean_squared_error: 25962.0117 - val_loss: 921066944.0000 - val_root_mean_squared_error: 30349.0840\n",
            "Epoch 75/2000\n",
            "532/532 [==============================] - 2s 3ms/step - loss: 673922112.0000 - root_mean_squared_error: 25960.0078 - val_loss: 914715584.0000 - val_root_mean_squared_error: 30244.2637\n",
            "Epoch 76/2000\n",
            "532/532 [==============================] - 2s 3ms/step - loss: 669428992.0000 - root_mean_squared_error: 25873.3262 - val_loss: 926573952.0000 - val_root_mean_squared_error: 30439.6738\n",
            "Epoch 77/2000\n",
            "532/532 [==============================] - 2s 3ms/step - loss: 670823552.0000 - root_mean_squared_error: 25900.2598 - val_loss: 914323520.0000 - val_root_mean_squared_error: 30237.7832\n",
            "Epoch 78/2000\n",
            "532/532 [==============================] - 2s 3ms/step - loss: 668370176.0000 - root_mean_squared_error: 25852.8555 - val_loss: 913052224.0000 - val_root_mean_squared_error: 30216.7520\n",
            "Epoch 79/2000\n",
            "532/532 [==============================] - 2s 3ms/step - loss: 668493312.0000 - root_mean_squared_error: 25855.2344 - val_loss: 919916992.0000 - val_root_mean_squared_error: 30330.1328\n",
            "Epoch 80/2000\n",
            "532/532 [==============================] - 2s 3ms/step - loss: 664424128.0000 - root_mean_squared_error: 25776.4199 - val_loss: 912142336.0000 - val_root_mean_squared_error: 30201.6914\n",
            "Epoch 81/2000\n",
            "532/532 [==============================] - 2s 3ms/step - loss: 664367552.0000 - root_mean_squared_error: 25775.3223 - val_loss: 914385984.0000 - val_root_mean_squared_error: 30238.8086\n",
            "Epoch 82/2000\n",
            "532/532 [==============================] - 2s 3ms/step - loss: 660597568.0000 - root_mean_squared_error: 25702.0918 - val_loss: 922337856.0000 - val_root_mean_squared_error: 30370.0137\n",
            "Epoch 83/2000\n",
            "532/532 [==============================] - 2s 3ms/step - loss: 661029568.0000 - root_mean_squared_error: 25710.4883 - val_loss: 910522240.0000 - val_root_mean_squared_error: 30174.8555\n",
            "Epoch 84/2000\n",
            "532/532 [==============================] - 2s 3ms/step - loss: 658691200.0000 - root_mean_squared_error: 25664.9766 - val_loss: 913909888.0000 - val_root_mean_squared_error: 30230.9395\n",
            "Epoch 85/2000\n",
            "532/532 [==============================] - 2s 3ms/step - loss: 658438784.0000 - root_mean_squared_error: 25660.0586 - val_loss: 955702016.0000 - val_root_mean_squared_error: 30914.4277\n",
            "Epoch 86/2000\n",
            "532/532 [==============================] - 2s 3ms/step - loss: 658314752.0000 - root_mean_squared_error: 25657.6445 - val_loss: 906820288.0000 - val_root_mean_squared_error: 30113.4512\n",
            "Epoch 87/2000\n",
            "532/532 [==============================] - 1s 3ms/step - loss: 654309696.0000 - root_mean_squared_error: 25579.4746 - val_loss: 915444544.0000 - val_root_mean_squared_error: 30256.3125\n",
            "Epoch 88/2000\n",
            "532/532 [==============================] - 2s 3ms/step - loss: 650281664.0000 - root_mean_squared_error: 25500.6172 - val_loss: 925856512.0000 - val_root_mean_squared_error: 30427.8887\n",
            "Epoch 89/2000\n",
            "532/532 [==============================] - 2s 3ms/step - loss: 652430912.0000 - root_mean_squared_error: 25542.7246 - val_loss: 928494656.0000 - val_root_mean_squared_error: 30471.2051\n",
            "Epoch 90/2000\n",
            "532/532 [==============================] - 2s 3ms/step - loss: 646836736.0000 - root_mean_squared_error: 25432.9785 - val_loss: 958306752.0000 - val_root_mean_squared_error: 30956.5273\n",
            "Epoch 91/2000\n",
            "532/532 [==============================] - 2s 3ms/step - loss: 648528768.0000 - root_mean_squared_error: 25466.2227 - val_loss: 908210112.0000 - val_root_mean_squared_error: 30136.5195\n",
            "Epoch 92/2000\n",
            "532/532 [==============================] - 2s 3ms/step - loss: 647631872.0000 - root_mean_squared_error: 25448.6055 - val_loss: 901779712.0000 - val_root_mean_squared_error: 30029.6426\n",
            "Epoch 93/2000\n",
            "532/532 [==============================] - 2s 3ms/step - loss: 647342144.0000 - root_mean_squared_error: 25442.9121 - val_loss: 921211840.0000 - val_root_mean_squared_error: 30351.4707\n",
            "Epoch 94/2000\n",
            "532/532 [==============================] - 2s 3ms/step - loss: 643383232.0000 - root_mean_squared_error: 25364.9980 - val_loss: 908065280.0000 - val_root_mean_squared_error: 30134.1172\n",
            "Epoch 95/2000\n",
            "532/532 [==============================] - 2s 3ms/step - loss: 643718848.0000 - root_mean_squared_error: 25371.6113 - val_loss: 915288064.0000 - val_root_mean_squared_error: 30253.7246\n",
            "Epoch 96/2000\n",
            "532/532 [==============================] - 2s 3ms/step - loss: 641866112.0000 - root_mean_squared_error: 25335.0742 - val_loss: 904305600.0000 - val_root_mean_squared_error: 30071.6680\n",
            "Epoch 97/2000\n",
            "532/532 [==============================] - 2s 3ms/step - loss: 641489856.0000 - root_mean_squared_error: 25327.6484 - val_loss: 906050944.0000 - val_root_mean_squared_error: 30100.6797\n",
            "Epoch 98/2000\n",
            "532/532 [==============================] - 2s 3ms/step - loss: 636897856.0000 - root_mean_squared_error: 25236.8340 - val_loss: 929232896.0000 - val_root_mean_squared_error: 30483.3203\n",
            "Epoch 99/2000\n",
            "532/532 [==============================] - 2s 3ms/step - loss: 638055552.0000 - root_mean_squared_error: 25259.7598 - val_loss: 921260224.0000 - val_root_mean_squared_error: 30352.2676\n",
            "Epoch 100/2000\n",
            "532/532 [==============================] - 2s 3ms/step - loss: 636295744.0000 - root_mean_squared_error: 25224.8984 - val_loss: 905847808.0000 - val_root_mean_squared_error: 30097.3047\n",
            "Epoch 101/2000\n",
            "532/532 [==============================] - ETA: 0s - loss: 636769600.0000 - root_mean_squared_error: 25234.2871\n",
            "Epoch: 100, loss:636769600.0000,  root_mean_squared_error:25234.2871,  val_loss:900714112.0000,  val_root_mean_squared_error:30011.8965,  \n",
            "532/532 [==============================] - 2s 3ms/step - loss: 636769600.0000 - root_mean_squared_error: 25234.2871 - val_loss: 900714112.0000 - val_root_mean_squared_error: 30011.8965\n",
            "Epoch 102/2000\n",
            "532/532 [==============================] - 2s 3ms/step - loss: 634338176.0000 - root_mean_squared_error: 25186.0645 - val_loss: 921709312.0000 - val_root_mean_squared_error: 30359.6621\n",
            "Epoch 103/2000\n",
            "532/532 [==============================] - 2s 3ms/step - loss: 633715264.0000 - root_mean_squared_error: 25173.6973 - val_loss: 902844224.0000 - val_root_mean_squared_error: 30047.3633\n",
            "Epoch 104/2000\n",
            "532/532 [==============================] - 2s 3ms/step - loss: 631627200.0000 - root_mean_squared_error: 25132.1875 - val_loss: 920982080.0000 - val_root_mean_squared_error: 30347.6855\n",
            "Epoch 105/2000\n",
            "532/532 [==============================] - 2s 3ms/step - loss: 631137088.0000 - root_mean_squared_error: 25122.4375 - val_loss: 902041984.0000 - val_root_mean_squared_error: 30034.0117\n",
            "Epoch 106/2000\n",
            "532/532 [==============================] - 2s 3ms/step - loss: 630105088.0000 - root_mean_squared_error: 25101.8926 - val_loss: 919892096.0000 - val_root_mean_squared_error: 30329.7188\n",
            "Epoch 107/2000\n",
            "532/532 [==============================] - 2s 3ms/step - loss: 628449664.0000 - root_mean_squared_error: 25068.8965 - val_loss: 914296320.0000 - val_root_mean_squared_error: 30237.3301\n",
            "Epoch 108/2000\n",
            "532/532 [==============================] - 2s 3ms/step - loss: 625376512.0000 - root_mean_squared_error: 25007.5254 - val_loss: 903489600.0000 - val_root_mean_squared_error: 30058.1016\n",
            "Epoch 109/2000\n",
            "532/532 [==============================] - 2s 3ms/step - loss: 627397056.0000 - root_mean_squared_error: 25047.8926 - val_loss: 920281792.0000 - val_root_mean_squared_error: 30336.1465\n",
            "Epoch 110/2000\n",
            "532/532 [==============================] - 2s 3ms/step - loss: 626222720.0000 - root_mean_squared_error: 25024.4395 - val_loss: 918356800.0000 - val_root_mean_squared_error: 30304.3965\n",
            "Epoch 111/2000\n",
            "532/532 [==============================] - 2s 3ms/step - loss: 624262656.0000 - root_mean_squared_error: 24985.2441 - val_loss: 902096832.0000 - val_root_mean_squared_error: 30034.9219\n",
            "Epoch 112/2000\n",
            "532/532 [==============================] - 2s 3ms/step - loss: 624076928.0000 - root_mean_squared_error: 24981.5273 - val_loss: 909958784.0000 - val_root_mean_squared_error: 30165.5176\n",
            "Epoch 113/2000\n",
            "532/532 [==============================] - 2s 3ms/step - loss: 622382528.0000 - root_mean_squared_error: 24947.5918 - val_loss: 933142208.0000 - val_root_mean_squared_error: 30547.3711\n",
            "Epoch 114/2000\n",
            "532/532 [==============================] - 2s 3ms/step - loss: 620472448.0000 - root_mean_squared_error: 24909.2812 - val_loss: 914627840.0000 - val_root_mean_squared_error: 30242.8125\n",
            "Epoch 115/2000\n",
            "532/532 [==============================] - 2s 3ms/step - loss: 619300608.0000 - root_mean_squared_error: 24885.7500 - val_loss: 915153600.0000 - val_root_mean_squared_error: 30251.4980\n",
            "Epoch 116/2000\n",
            "532/532 [==============================] - 1s 3ms/step - loss: 618465024.0000 - root_mean_squared_error: 24868.9531 - val_loss: 928535936.0000 - val_root_mean_squared_error: 30471.8848\n",
            "Epoch 117/2000\n",
            "532/532 [==============================] - 2s 3ms/step - loss: 619467008.0000 - root_mean_squared_error: 24889.0898 - val_loss: 908449856.0000 - val_root_mean_squared_error: 30140.4941\n",
            "Epoch 118/2000\n",
            "532/532 [==============================] - 2s 3ms/step - loss: 616982592.0000 - root_mean_squared_error: 24839.1309 - val_loss: 917422784.0000 - val_root_mean_squared_error: 30288.9824\n",
            "Epoch 119/2000\n",
            "532/532 [==============================] - 2s 3ms/step - loss: 618289280.0000 - root_mean_squared_error: 24865.4199 - val_loss: 912530304.0000 - val_root_mean_squared_error: 30208.1133\n",
            "Epoch 120/2000\n",
            "532/532 [==============================] - 2s 3ms/step - loss: 614116160.0000 - root_mean_squared_error: 24781.3594 - val_loss: 932649664.0000 - val_root_mean_squared_error: 30539.3086\n",
            "Epoch 121/2000\n",
            "532/532 [==============================] - 2s 3ms/step - loss: 614057856.0000 - root_mean_squared_error: 24780.1914 - val_loss: 913900736.0000 - val_root_mean_squared_error: 30230.7871\n",
            "Epoch 122/2000\n",
            "532/532 [==============================] - 2s 3ms/step - loss: 615025920.0000 - root_mean_squared_error: 24799.7090 - val_loss: 928480384.0000 - val_root_mean_squared_error: 30470.9727\n",
            "Epoch 123/2000\n",
            "532/532 [==============================] - 2s 3ms/step - loss: 612940416.0000 - root_mean_squared_error: 24757.6289 - val_loss: 909451136.0000 - val_root_mean_squared_error: 30157.1035\n",
            "Epoch 124/2000\n",
            "532/532 [==============================] - 2s 3ms/step - loss: 611170944.0000 - root_mean_squared_error: 24721.8672 - val_loss: 909477056.0000 - val_root_mean_squared_error: 30157.5352\n",
            "Epoch 125/2000\n",
            "532/532 [==============================] - 2s 3ms/step - loss: 610055680.0000 - root_mean_squared_error: 24699.3008 - val_loss: 906480000.0000 - val_root_mean_squared_error: 30107.7988\n",
            "Epoch 126/2000\n",
            "532/532 [==============================] - 2s 3ms/step - loss: 609444608.0000 - root_mean_squared_error: 24686.9258 - val_loss: 914852480.0000 - val_root_mean_squared_error: 30246.5254\n",
            "Epoch 127/2000\n",
            "532/532 [==============================] - 2s 3ms/step - loss: 610057600.0000 - root_mean_squared_error: 24699.3398 - val_loss: 946659456.0000 - val_root_mean_squared_error: 30767.8262\n",
            "Epoch 128/2000\n",
            "532/532 [==============================] - 2s 3ms/step - loss: 606423104.0000 - root_mean_squared_error: 24625.6543 - val_loss: 900000256.0000 - val_root_mean_squared_error: 30000.0000\n",
            "Epoch 129/2000\n",
            "532/532 [==============================] - 2s 3ms/step - loss: 605780480.0000 - root_mean_squared_error: 24612.6035 - val_loss: 910262848.0000 - val_root_mean_squared_error: 30170.5547\n",
            "Epoch 130/2000\n",
            "532/532 [==============================] - 2s 3ms/step - loss: 606474880.0000 - root_mean_squared_error: 24626.7051 - val_loss: 905583872.0000 - val_root_mean_squared_error: 30092.9180\n",
            "Epoch 131/2000\n",
            "532/532 [==============================] - 2s 3ms/step - loss: 605755520.0000 - root_mean_squared_error: 24612.0977 - val_loss: 924194112.0000 - val_root_mean_squared_error: 30400.5527\n",
            "Epoch 132/2000\n",
            "532/532 [==============================] - 2s 3ms/step - loss: 605945472.0000 - root_mean_squared_error: 24615.9551 - val_loss: 919020736.0000 - val_root_mean_squared_error: 30315.3477\n",
            "Epoch 133/2000\n",
            "532/532 [==============================] - 2s 3ms/step - loss: 602925568.0000 - root_mean_squared_error: 24554.5371 - val_loss: 915959424.0000 - val_root_mean_squared_error: 30264.8164\n",
            "Epoch 134/2000\n",
            "532/532 [==============================] - 2s 3ms/step - loss: 605163968.0000 - root_mean_squared_error: 24600.0801 - val_loss: 915359936.0000 - val_root_mean_squared_error: 30254.9141\n",
            "Epoch 135/2000\n",
            "532/532 [==============================] - 2s 3ms/step - loss: 601714816.0000 - root_mean_squared_error: 24529.8711 - val_loss: 919684480.0000 - val_root_mean_squared_error: 30326.2949\n",
            "Epoch 136/2000\n",
            "532/532 [==============================] - 2s 3ms/step - loss: 601015616.0000 - root_mean_squared_error: 24515.6133 - val_loss: 912665984.0000 - val_root_mean_squared_error: 30210.3574\n",
            "Epoch 137/2000\n",
            "532/532 [==============================] - 2s 3ms/step - loss: 601348160.0000 - root_mean_squared_error: 24522.4004 - val_loss: 939872320.0000 - val_root_mean_squared_error: 30657.3340\n",
            "Epoch 138/2000\n",
            "532/532 [==============================] - 2s 5ms/step - loss: 600022656.0000 - root_mean_squared_error: 24495.3574 - val_loss: 903307712.0000 - val_root_mean_squared_error: 30055.0742\n",
            "Epoch 139/2000\n",
            "532/532 [==============================] - 2s 3ms/step - loss: 600230656.0000 - root_mean_squared_error: 24499.6016 - val_loss: 903628160.0000 - val_root_mean_squared_error: 30060.4043\n",
            "Epoch 140/2000\n",
            "532/532 [==============================] - 2s 3ms/step - loss: 596311616.0000 - root_mean_squared_error: 24419.4824 - val_loss: 921444224.0000 - val_root_mean_squared_error: 30355.2949\n",
            "Epoch 141/2000\n",
            "532/532 [==============================] - 2s 3ms/step - loss: 596872640.0000 - root_mean_squared_error: 24430.9727 - val_loss: 915672000.0000 - val_root_mean_squared_error: 30260.0703\n",
            "Epoch 142/2000\n",
            "532/532 [==============================] - 2s 3ms/step - loss: 596717248.0000 - root_mean_squared_error: 24427.7891 - val_loss: 920904896.0000 - val_root_mean_squared_error: 30346.4121\n",
            "Epoch 143/2000\n",
            "532/532 [==============================] - 2s 3ms/step - loss: 594265664.0000 - root_mean_squared_error: 24377.5605 - val_loss: 926139008.0000 - val_root_mean_squared_error: 30432.5293\n",
            "Epoch 144/2000\n",
            "532/532 [==============================] - 2s 3ms/step - loss: 592686592.0000 - root_mean_squared_error: 24345.1523 - val_loss: 912987456.0000 - val_root_mean_squared_error: 30215.6738\n",
            "Epoch 145/2000\n",
            "532/532 [==============================] - 2s 3ms/step - loss: 592215488.0000 - root_mean_squared_error: 24335.4746 - val_loss: 933455680.0000 - val_root_mean_squared_error: 30552.5000\n",
            "Epoch 146/2000\n",
            "532/532 [==============================] - 2s 3ms/step - loss: 592860352.0000 - root_mean_squared_error: 24348.7188 - val_loss: 914971584.0000 - val_root_mean_squared_error: 30248.4941\n",
            "Epoch 147/2000\n",
            "532/532 [==============================] - 2s 3ms/step - loss: 592777600.0000 - root_mean_squared_error: 24347.0195 - val_loss: 911838144.0000 - val_root_mean_squared_error: 30196.6504\n",
            "Epoch 148/2000\n",
            "532/532 [==============================] - 2s 3ms/step - loss: 590964992.0000 - root_mean_squared_error: 24309.7695 - val_loss: 926872704.0000 - val_root_mean_squared_error: 30444.5820\n",
            "Epoch 149/2000\n",
            "532/532 [==============================] - 2s 3ms/step - loss: 591081280.0000 - root_mean_squared_error: 24312.1523 - val_loss: 926953472.0000 - val_root_mean_squared_error: 30445.9062\n",
            "Epoch 150/2000\n",
            "532/532 [==============================] - 2s 3ms/step - loss: 589167744.0000 - root_mean_squared_error: 24272.7695 - val_loss: 926214464.0000 - val_root_mean_squared_error: 30433.7676\n",
            "Epoch 151/2000\n",
            "532/532 [==============================] - 1s 3ms/step - loss: 587794048.0000 - root_mean_squared_error: 24244.4551 - val_loss: 914369920.0000 - val_root_mean_squared_error: 30238.5430\n",
            "Epoch 152/2000\n",
            "532/532 [==============================] - 2s 3ms/step - loss: 588654464.0000 - root_mean_squared_error: 24262.1973 - val_loss: 927738624.0000 - val_root_mean_squared_error: 30458.7969\n",
            "Epoch 153/2000\n",
            "532/532 [==============================] - 2s 3ms/step - loss: 587964736.0000 - root_mean_squared_error: 24247.9805 - val_loss: 913829824.0000 - val_root_mean_squared_error: 30229.6152\n",
            "Epoch 154/2000\n",
            "532/532 [==============================] - 2s 3ms/step - loss: 585375040.0000 - root_mean_squared_error: 24194.5215 - val_loss: 937465408.0000 - val_root_mean_squared_error: 30618.0547\n",
            "Epoch 155/2000\n",
            "532/532 [==============================] - 2s 3ms/step - loss: 586220160.0000 - root_mean_squared_error: 24211.9785 - val_loss: 931791040.0000 - val_root_mean_squared_error: 30525.2461\n",
            "Epoch 156/2000\n",
            "532/532 [==============================] - 2s 3ms/step - loss: 584430592.0000 - root_mean_squared_error: 24174.9941 - val_loss: 908686528.0000 - val_root_mean_squared_error: 30144.4219\n",
            "Epoch 157/2000\n",
            "532/532 [==============================] - 2s 3ms/step - loss: 582146816.0000 - root_mean_squared_error: 24127.7129 - val_loss: 920963328.0000 - val_root_mean_squared_error: 30347.3730\n",
            "Epoch 158/2000\n",
            "532/532 [==============================] - 2s 3ms/step - loss: 584306176.0000 - root_mean_squared_error: 24172.4180 - val_loss: 928586048.0000 - val_root_mean_squared_error: 30472.7070\n",
            "Epoch 159/2000\n",
            "532/532 [==============================] - 2s 3ms/step - loss: 583796544.0000 - root_mean_squared_error: 24161.8789 - val_loss: 910708544.0000 - val_root_mean_squared_error: 30177.9414\n",
            "Epoch 160/2000\n",
            "532/532 [==============================] - 2s 3ms/step - loss: 583411392.0000 - root_mean_squared_error: 24153.9023 - val_loss: 916442240.0000 - val_root_mean_squared_error: 30272.7910\n",
            "Epoch 161/2000\n",
            "532/532 [==============================] - 2s 3ms/step - loss: 582794176.0000 - root_mean_squared_error: 24141.1230 - val_loss: 940725056.0000 - val_root_mean_squared_error: 30671.2363\n",
            "Epoch 162/2000\n",
            "532/532 [==============================] - 2s 3ms/step - loss: 580788608.0000 - root_mean_squared_error: 24099.5508 - val_loss: 951946048.0000 - val_root_mean_squared_error: 30853.6191\n",
            "Epoch 163/2000\n",
            "532/532 [==============================] - 2s 3ms/step - loss: 580959360.0000 - root_mean_squared_error: 24103.0938 - val_loss: 909724352.0000 - val_root_mean_squared_error: 30161.6348\n",
            "Epoch 164/2000\n",
            "532/532 [==============================] - 2s 3ms/step - loss: 579546240.0000 - root_mean_squared_error: 24073.7578 - val_loss: 921898304.0000 - val_root_mean_squared_error: 30362.7695\n",
            "Epoch 165/2000\n",
            "532/532 [==============================] - 2s 3ms/step - loss: 575969152.0000 - root_mean_squared_error: 23999.3516 - val_loss: 919876736.0000 - val_root_mean_squared_error: 30329.4668\n",
            "Epoch 166/2000\n",
            "532/532 [==============================] - 2s 3ms/step - loss: 578054208.0000 - root_mean_squared_error: 24042.7520 - val_loss: 911893056.0000 - val_root_mean_squared_error: 30197.5645\n",
            "Epoch 167/2000\n",
            "532/532 [==============================] - 2s 3ms/step - loss: 577198976.0000 - root_mean_squared_error: 24024.9609 - val_loss: 913984384.0000 - val_root_mean_squared_error: 30232.1699\n",
            "Epoch 168/2000\n",
            "532/532 [==============================] - 2s 3ms/step - loss: 574533056.0000 - root_mean_squared_error: 23969.4141 - val_loss: 926727296.0000 - val_root_mean_squared_error: 30442.1895\n",
            "Epoch 169/2000\n",
            "532/532 [==============================] - 2s 3ms/step - loss: 574517888.0000 - root_mean_squared_error: 23969.0957 - val_loss: 929906176.0000 - val_root_mean_squared_error: 30494.3594\n",
            "Epoch 170/2000\n",
            "532/532 [==============================] - 2s 3ms/step - loss: 573046336.0000 - root_mean_squared_error: 23938.3789 - val_loss: 913205120.0000 - val_root_mean_squared_error: 30219.2793\n",
            "Epoch 171/2000\n",
            "532/532 [==============================] - 2s 3ms/step - loss: 574639360.0000 - root_mean_squared_error: 23971.6289 - val_loss: 921691456.0000 - val_root_mean_squared_error: 30359.3633\n",
            "Epoch 172/2000\n",
            "532/532 [==============================] - 2s 3ms/step - loss: 571928448.0000 - root_mean_squared_error: 23915.0215 - val_loss: 943444224.0000 - val_root_mean_squared_error: 30715.5352\n",
            "Epoch 173/2000\n",
            "532/532 [==============================] - 2s 3ms/step - loss: 572191872.0000 - root_mean_squared_error: 23920.5254 - val_loss: 919348544.0000 - val_root_mean_squared_error: 30320.7559\n",
            "Epoch 174/2000\n",
            "532/532 [==============================] - 2s 3ms/step - loss: 574744448.0000 - root_mean_squared_error: 23973.8242 - val_loss: 934824128.0000 - val_root_mean_squared_error: 30574.8867\n",
            "Epoch 175/2000\n",
            "532/532 [==============================] - 2s 3ms/step - loss: 570893952.0000 - root_mean_squared_error: 23893.3809 - val_loss: 929781312.0000 - val_root_mean_squared_error: 30492.3105\n",
            "Epoch 176/2000\n",
            "532/532 [==============================] - 2s 3ms/step - loss: 572592704.0000 - root_mean_squared_error: 23928.9043 - val_loss: 912973056.0000 - val_root_mean_squared_error: 30215.4395\n",
            "Epoch 177/2000\n",
            "532/532 [==============================] - 2s 3ms/step - loss: 571123584.0000 - root_mean_squared_error: 23898.1855 - val_loss: 906973120.0000 - val_root_mean_squared_error: 30115.9863\n",
            "Epoch 178/2000\n",
            "532/532 [==============================] - 2s 3ms/step - loss: 573105280.0000 - root_mean_squared_error: 23939.6113 - val_loss: 939487680.0000 - val_root_mean_squared_error: 30651.0547\n",
            "Epoch 179/2000\n",
            "532/532 [==============================] - 2s 3ms/step - loss: 570826176.0000 - root_mean_squared_error: 23891.9590 - val_loss: 913344960.0000 - val_root_mean_squared_error: 30221.5840\n",
            "Epoch 180/2000\n",
            "532/532 [==============================] - 2s 3ms/step - loss: 568076864.0000 - root_mean_squared_error: 23834.3496 - val_loss: 941881536.0000 - val_root_mean_squared_error: 30690.0820\n",
            "Epoch 181/2000\n",
            "532/532 [==============================] - 1s 3ms/step - loss: 567276480.0000 - root_mean_squared_error: 23817.5605 - val_loss: 919096000.0000 - val_root_mean_squared_error: 30316.5918\n",
            "Epoch 182/2000\n",
            "532/532 [==============================] - 2s 3ms/step - loss: 565814016.0000 - root_mean_squared_error: 23786.8359 - val_loss: 929910272.0000 - val_root_mean_squared_error: 30494.4238\n",
            "Epoch 183/2000\n",
            "532/532 [==============================] - 2s 3ms/step - loss: 564561792.0000 - root_mean_squared_error: 23760.5059 - val_loss: 944200256.0000 - val_root_mean_squared_error: 30727.8320\n",
            "Epoch 184/2000\n",
            "532/532 [==============================] - 2s 3ms/step - loss: 563883840.0000 - root_mean_squared_error: 23746.2266 - val_loss: 937615296.0000 - val_root_mean_squared_error: 30620.5000\n",
            "Epoch 185/2000\n",
            "532/532 [==============================] - 2s 3ms/step - loss: 564224128.0000 - root_mean_squared_error: 23753.3945 - val_loss: 914302784.0000 - val_root_mean_squared_error: 30237.4297\n",
            "Epoch 186/2000\n",
            "532/532 [==============================] - 2s 3ms/step - loss: 563849216.0000 - root_mean_squared_error: 23745.5020 - val_loss: 945571264.0000 - val_root_mean_squared_error: 30750.1367\n",
            "Epoch 187/2000\n",
            "532/532 [==============================] - 2s 3ms/step - loss: 563773312.0000 - root_mean_squared_error: 23743.9043 - val_loss: 930083840.0000 - val_root_mean_squared_error: 30497.2695\n",
            "Epoch 188/2000\n",
            "532/532 [==============================] - 2s 3ms/step - loss: 562409792.0000 - root_mean_squared_error: 23715.1719 - val_loss: 929232384.0000 - val_root_mean_squared_error: 30483.3086\n",
            "Epoch 189/2000\n",
            "532/532 [==============================] - 2s 3ms/step - loss: 565486080.0000 - root_mean_squared_error: 23779.9453 - val_loss: 933669760.0000 - val_root_mean_squared_error: 30556.0098\n",
            "Epoch 190/2000\n",
            "532/532 [==============================] - 2s 3ms/step - loss: 562471488.0000 - root_mean_squared_error: 23716.4766 - val_loss: 915167104.0000 - val_root_mean_squared_error: 30251.7227\n",
            "Epoch 191/2000\n",
            "532/532 [==============================] - 2s 3ms/step - loss: 562022272.0000 - root_mean_squared_error: 23707.0039 - val_loss: 927186304.0000 - val_root_mean_squared_error: 30449.7305\n",
            "Epoch 192/2000\n",
            "532/532 [==============================] - 2s 3ms/step - loss: 559001984.0000 - root_mean_squared_error: 23643.2148 - val_loss: 932065216.0000 - val_root_mean_squared_error: 30529.7344\n",
            "Epoch 193/2000\n",
            "532/532 [==============================] - 2s 3ms/step - loss: 560940544.0000 - root_mean_squared_error: 23684.1777 - val_loss: 939790784.0000 - val_root_mean_squared_error: 30656.0000\n",
            "Epoch 194/2000\n",
            "532/532 [==============================] - 2s 3ms/step - loss: 559004864.0000 - root_mean_squared_error: 23643.2754 - val_loss: 934864704.0000 - val_root_mean_squared_error: 30575.5508\n",
            "Epoch 195/2000\n",
            "532/532 [==============================] - 2s 3ms/step - loss: 557976256.0000 - root_mean_squared_error: 23621.5137 - val_loss: 953479936.0000 - val_root_mean_squared_error: 30878.4629\n",
            "Epoch 196/2000\n",
            "532/532 [==============================] - 2s 3ms/step - loss: 562539392.0000 - root_mean_squared_error: 23717.9102 - val_loss: 925562112.0000 - val_root_mean_squared_error: 30423.0430\n",
            "Epoch 197/2000\n",
            "532/532 [==============================] - 2s 3ms/step - loss: 556506624.0000 - root_mean_squared_error: 23590.3809 - val_loss: 913127808.0000 - val_root_mean_squared_error: 30218.0000\n",
            "Epoch 198/2000\n",
            "532/532 [==============================] - 2s 3ms/step - loss: 559178496.0000 - root_mean_squared_error: 23646.9473 - val_loss: 950711104.0000 - val_root_mean_squared_error: 30833.6016\n",
            "Epoch 199/2000\n",
            "532/532 [==============================] - 2s 3ms/step - loss: 556014592.0000 - root_mean_squared_error: 23579.9551 - val_loss: 930263040.0000 - val_root_mean_squared_error: 30500.2090\n",
            "Epoch 200/2000\n",
            "532/532 [==============================] - 2s 3ms/step - loss: 555378944.0000 - root_mean_squared_error: 23566.4688 - val_loss: 923913472.0000 - val_root_mean_squared_error: 30395.9434\n",
            "Epoch 201/2000\n",
            "532/532 [==============================] - ETA: 0s - loss: 556223168.0000 - root_mean_squared_error: 23584.3750\n",
            "Epoch: 200, loss:556223168.0000,  root_mean_squared_error:23584.3750,  val_loss:933354752.0000,  val_root_mean_squared_error:30550.8477,  \n",
            "532/532 [==============================] - 2s 3ms/step - loss: 556223168.0000 - root_mean_squared_error: 23584.3750 - val_loss: 933354752.0000 - val_root_mean_squared_error: 30550.8477\n",
            "Epoch 202/2000\n",
            "532/532 [==============================] - 2s 3ms/step - loss: 553916416.0000 - root_mean_squared_error: 23535.4219 - val_loss: 929429440.0000 - val_root_mean_squared_error: 30486.5410\n",
            "Epoch 203/2000\n",
            "532/532 [==============================] - 2s 3ms/step - loss: 554432064.0000 - root_mean_squared_error: 23546.3730 - val_loss: 928162240.0000 - val_root_mean_squared_error: 30465.7500\n",
            "Epoch 204/2000\n",
            "532/532 [==============================] - 2s 3ms/step - loss: 554275840.0000 - root_mean_squared_error: 23543.0566 - val_loss: 931548736.0000 - val_root_mean_squared_error: 30521.2793\n",
            "Epoch 205/2000\n",
            "532/532 [==============================] - 2s 3ms/step - loss: 554749632.0000 - root_mean_squared_error: 23553.1191 - val_loss: 918274752.0000 - val_root_mean_squared_error: 30303.0430\n",
            "Epoch 206/2000\n",
            "532/532 [==============================] - 2s 3ms/step - loss: 553164672.0000 - root_mean_squared_error: 23519.4453 - val_loss: 931280128.0000 - val_root_mean_squared_error: 30516.8750\n",
            "Epoch 207/2000\n",
            "532/532 [==============================] - 2s 3ms/step - loss: 554830592.0000 - root_mean_squared_error: 23554.8301 - val_loss: 936219968.0000 - val_root_mean_squared_error: 30597.7051\n",
            "Epoch 208/2000\n",
            "532/532 [==============================] - 2s 3ms/step - loss: 549686016.0000 - root_mean_squared_error: 23445.3770 - val_loss: 931600832.0000 - val_root_mean_squared_error: 30522.1309\n",
            "Epoch 209/2000\n",
            "532/532 [==============================] - 2s 3ms/step - loss: 553029568.0000 - root_mean_squared_error: 23516.5742 - val_loss: 942104576.0000 - val_root_mean_squared_error: 30693.7148\n",
            "Epoch 210/2000\n",
            "532/532 [==============================] - 2s 3ms/step - loss: 550668608.0000 - root_mean_squared_error: 23466.3184 - val_loss: 923001280.0000 - val_root_mean_squared_error: 30380.9316\n",
            "Epoch 211/2000\n",
            "532/532 [==============================] - 2s 3ms/step - loss: 552907648.0000 - root_mean_squared_error: 23513.9785 - val_loss: 912934400.0000 - val_root_mean_squared_error: 30214.8008\n",
            "Epoch 212/2000\n",
            "532/532 [==============================] - 2s 3ms/step - loss: 550713920.0000 - root_mean_squared_error: 23467.2871 - val_loss: 947487296.0000 - val_root_mean_squared_error: 30781.2734\n",
            "Epoch 213/2000\n",
            "532/532 [==============================] - 2s 3ms/step - loss: 550912128.0000 - root_mean_squared_error: 23471.5098 - val_loss: 938282688.0000 - val_root_mean_squared_error: 30631.3906\n",
            "Epoch 214/2000\n",
            "532/532 [==============================] - 2s 3ms/step - loss: 548594176.0000 - root_mean_squared_error: 23422.0762 - val_loss: 943361856.0000 - val_root_mean_squared_error: 30714.1895\n",
            "Epoch 215/2000\n",
            "532/532 [==============================] - 2s 3ms/step - loss: 548161664.0000 - root_mean_squared_error: 23412.8457 - val_loss: 947840064.0000 - val_root_mean_squared_error: 30787.0020\n",
            "Epoch 216/2000\n",
            "532/532 [==============================] - 2s 3ms/step - loss: 549569728.0000 - root_mean_squared_error: 23442.8965 - val_loss: 939272576.0000 - val_root_mean_squared_error: 30647.5469\n",
            "Epoch 217/2000\n",
            "532/532 [==============================] - 2s 3ms/step - loss: 549081600.0000 - root_mean_squared_error: 23432.4844 - val_loss: 924585792.0000 - val_root_mean_squared_error: 30406.9941\n",
            "Epoch 218/2000\n",
            "532/532 [==============================] - 2s 3ms/step - loss: 549746880.0000 - root_mean_squared_error: 23446.6738 - val_loss: 962628736.0000 - val_root_mean_squared_error: 31026.2520\n",
            "Epoch 219/2000\n",
            "532/532 [==============================] - 2s 3ms/step - loss: 547825984.0000 - root_mean_squared_error: 23405.6738 - val_loss: 933746752.0000 - val_root_mean_squared_error: 30557.2617\n",
            "Epoch 220/2000\n",
            "532/532 [==============================] - 2s 3ms/step - loss: 544894400.0000 - root_mean_squared_error: 23342.9648 - val_loss: 924823872.0000 - val_root_mean_squared_error: 30410.9102\n",
            "Epoch 221/2000\n",
            "532/532 [==============================] - 2s 3ms/step - loss: 546399744.0000 - root_mean_squared_error: 23375.1875 - val_loss: 928868032.0000 - val_root_mean_squared_error: 30477.3320\n",
            "Epoch 222/2000\n",
            "532/532 [==============================] - 2s 3ms/step - loss: 546811520.0000 - root_mean_squared_error: 23383.9902 - val_loss: 917800384.0000 - val_root_mean_squared_error: 30295.2129\n",
            "Epoch 223/2000\n",
            "532/532 [==============================] - 2s 3ms/step - loss: 547058752.0000 - root_mean_squared_error: 23389.2812 - val_loss: 935039808.0000 - val_root_mean_squared_error: 30578.4160\n",
            "Epoch 224/2000\n",
            "532/532 [==============================] - 2s 3ms/step - loss: 546595648.0000 - root_mean_squared_error: 23379.3789 - val_loss: 947308352.0000 - val_root_mean_squared_error: 30778.3711\n",
            "Epoch 225/2000\n",
            "532/532 [==============================] - 2s 3ms/step - loss: 548402112.0000 - root_mean_squared_error: 23417.9805 - val_loss: 932288192.0000 - val_root_mean_squared_error: 30533.3867\n",
            "Epoch 226/2000\n",
            "532/532 [==============================] - 2s 3ms/step - loss: 542144000.0000 - root_mean_squared_error: 23283.9766 - val_loss: 921106560.0000 - val_root_mean_squared_error: 30349.7285\n",
            "Epoch 227/2000\n",
            "532/532 [==============================] - 2s 3ms/step - loss: 542136640.0000 - root_mean_squared_error: 23283.8184 - val_loss: 939729792.0000 - val_root_mean_squared_error: 30655.0078\n",
            "Epoch 228/2000\n",
            "532/532 [==============================] - 2s 3ms/step - loss: 542132544.0000 - root_mean_squared_error: 23283.7285 - val_loss: 951585152.0000 - val_root_mean_squared_error: 30847.7695\n",
            "Epoch 229/2000\n",
            "532/532 [==============================] - 2s 3ms/step - loss: 541820864.0000 - root_mean_squared_error: 23277.0371 - val_loss: 949988160.0000 - val_root_mean_squared_error: 30821.8750\n",
            "Epoch 230/2000\n",
            "532/532 [==============================] - 2s 3ms/step - loss: 544215936.0000 - root_mean_squared_error: 23328.4297 - val_loss: 959678912.0000 - val_root_mean_squared_error: 30978.6777\n",
            "Epoch 231/2000\n",
            "532/532 [==============================] - 2s 3ms/step - loss: 543415232.0000 - root_mean_squared_error: 23311.2578 - val_loss: 951175424.0000 - val_root_mean_squared_error: 30841.1270\n",
            "Epoch 232/2000\n",
            "532/532 [==============================] - 2s 3ms/step - loss: 541794496.0000 - root_mean_squared_error: 23276.4727 - val_loss: 930741440.0000 - val_root_mean_squared_error: 30508.0469\n",
            "Epoch 233/2000\n",
            "532/532 [==============================] - 2s 3ms/step - loss: 541819008.0000 - root_mean_squared_error: 23277.0020 - val_loss: 949873472.0000 - val_root_mean_squared_error: 30820.0078\n",
            "Epoch 234/2000\n",
            "532/532 [==============================] - 2s 5ms/step - loss: 539039680.0000 - root_mean_squared_error: 23217.2227 - val_loss: 950001472.0000 - val_root_mean_squared_error: 30822.0898\n",
            "Epoch 235/2000\n",
            "532/532 [==============================] - 2s 3ms/step - loss: 539999104.0000 - root_mean_squared_error: 23237.8730 - val_loss: 965361728.0000 - val_root_mean_squared_error: 31070.2637\n",
            "Epoch 236/2000\n",
            "532/532 [==============================] - 2s 3ms/step - loss: 538728000.0000 - root_mean_squared_error: 23210.5059 - val_loss: 919391680.0000 - val_root_mean_squared_error: 30321.4668\n",
            "Epoch 237/2000\n",
            "532/532 [==============================] - 2s 3ms/step - loss: 540508416.0000 - root_mean_squared_error: 23248.8281 - val_loss: 949450944.0000 - val_root_mean_squared_error: 30813.1523\n",
            "Epoch 238/2000\n",
            "532/532 [==============================] - 2s 3ms/step - loss: 539594944.0000 - root_mean_squared_error: 23229.1738 - val_loss: 941605568.0000 - val_root_mean_squared_error: 30685.5879\n",
            "Epoch 239/2000\n",
            "532/532 [==============================] - 2s 3ms/step - loss: 539321728.0000 - root_mean_squared_error: 23223.2910 - val_loss: 954884992.0000 - val_root_mean_squared_error: 30901.2070\n",
            "Epoch 240/2000\n",
            "532/532 [==============================] - 2s 3ms/step - loss: 538648832.0000 - root_mean_squared_error: 23208.8027 - val_loss: 949356288.0000 - val_root_mean_squared_error: 30811.6191\n",
            "Epoch 241/2000\n",
            "532/532 [==============================] - 2s 3ms/step - loss: 536349792.0000 - root_mean_squared_error: 23159.2129 - val_loss: 929644928.0000 - val_root_mean_squared_error: 30490.0723\n",
            "Epoch 242/2000\n",
            "532/532 [==============================] - 2s 3ms/step - loss: 535741408.0000 - root_mean_squared_error: 23146.0820 - val_loss: 928040128.0000 - val_root_mean_squared_error: 30463.7461\n",
            "Epoch 243/2000\n",
            "532/532 [==============================] - 2s 3ms/step - loss: 536683200.0000 - root_mean_squared_error: 23166.4141 - val_loss: 925224640.0000 - val_root_mean_squared_error: 30417.4980\n",
            "Epoch 244/2000\n",
            "532/532 [==============================] - 2s 3ms/step - loss: 535306496.0000 - root_mean_squared_error: 23136.6836 - val_loss: 937911744.0000 - val_root_mean_squared_error: 30625.3340\n",
            "Epoch 245/2000\n",
            "532/532 [==============================] - 2s 3ms/step - loss: 536555456.0000 - root_mean_squared_error: 23163.6562 - val_loss: 951577344.0000 - val_root_mean_squared_error: 30847.6426\n",
            "Epoch 246/2000\n",
            "532/532 [==============================] - 2s 3ms/step - loss: 537670400.0000 - root_mean_squared_error: 23187.7109 - val_loss: 935855360.0000 - val_root_mean_squared_error: 30591.7441\n",
            "Epoch 247/2000\n",
            "532/532 [==============================] - 2s 3ms/step - loss: 537767040.0000 - root_mean_squared_error: 23189.7969 - val_loss: 943856448.0000 - val_root_mean_squared_error: 30722.2363\n",
            "Epoch 248/2000\n",
            "532/532 [==============================] - 2s 3ms/step - loss: 537917888.0000 - root_mean_squared_error: 23193.0488 - val_loss: 945422272.0000 - val_root_mean_squared_error: 30747.7168\n",
            "Epoch 249/2000\n",
            "532/532 [==============================] - 2s 3ms/step - loss: 535824064.0000 - root_mean_squared_error: 23147.8652 - val_loss: 963497536.0000 - val_root_mean_squared_error: 31040.2520\n",
            "Epoch 250/2000\n",
            "532/532 [==============================] - 2s 3ms/step - loss: 537055104.0000 - root_mean_squared_error: 23174.4395 - val_loss: 946047296.0000 - val_root_mean_squared_error: 30757.8750\n",
            "Epoch 251/2000\n",
            "532/532 [==============================] - 2s 3ms/step - loss: 532302432.0000 - root_mean_squared_error: 23071.6738 - val_loss: 947288064.0000 - val_root_mean_squared_error: 30778.0371\n",
            "Epoch 252/2000\n",
            "532/532 [==============================] - 2s 3ms/step - loss: 532765120.0000 - root_mean_squared_error: 23081.6992 - val_loss: 944497344.0000 - val_root_mean_squared_error: 30732.6660\n",
            "Epoch 253/2000\n",
            "532/532 [==============================] - 2s 3ms/step - loss: 534401440.0000 - root_mean_squared_error: 23117.1152 - val_loss: 933259840.0000 - val_root_mean_squared_error: 30549.2949\n",
            "Epoch 254/2000\n",
            "532/532 [==============================] - 2s 3ms/step - loss: 530193472.0000 - root_mean_squared_error: 23025.9219 - val_loss: 942299712.0000 - val_root_mean_squared_error: 30696.8945\n",
            "Epoch 255/2000\n",
            "532/532 [==============================] - 2s 3ms/step - loss: 533455040.0000 - root_mean_squared_error: 23096.6348 - val_loss: 942262272.0000 - val_root_mean_squared_error: 30696.2852\n",
            "Epoch 256/2000\n",
            "532/532 [==============================] - 2s 3ms/step - loss: 532649408.0000 - root_mean_squared_error: 23079.1816 - val_loss: 934284992.0000 - val_root_mean_squared_error: 30566.0703\n",
            "Epoch 257/2000\n",
            "532/532 [==============================] - 2s 3ms/step - loss: 531393248.0000 - root_mean_squared_error: 23051.9609 - val_loss: 970504000.0000 - val_root_mean_squared_error: 31152.9102\n",
            "Epoch 258/2000\n",
            "532/532 [==============================] - 2s 3ms/step - loss: 531512064.0000 - root_mean_squared_error: 23054.5352 - val_loss: 952446784.0000 - val_root_mean_squared_error: 30861.7344\n",
            "Epoch 259/2000\n",
            "532/532 [==============================] - 2s 3ms/step - loss: 532321344.0000 - root_mean_squared_error: 23072.0801 - val_loss: 937715136.0000 - val_root_mean_squared_error: 30622.1250\n",
            "Epoch 260/2000\n",
            "532/532 [==============================] - 2s 3ms/step - loss: 530842368.0000 - root_mean_squared_error: 23040.0078 - val_loss: 946725120.0000 - val_root_mean_squared_error: 30768.8906\n",
            "Epoch 261/2000\n",
            "532/532 [==============================] - 2s 3ms/step - loss: 531978464.0000 - root_mean_squared_error: 23064.6504 - val_loss: 938550656.0000 - val_root_mean_squared_error: 30635.7656\n",
            "Epoch 262/2000\n",
            "532/532 [==============================] - 2s 3ms/step - loss: 532043488.0000 - root_mean_squared_error: 23066.0566 - val_loss: 960755456.0000 - val_root_mean_squared_error: 30996.0488\n",
            "Epoch 263/2000\n",
            "532/532 [==============================] - 2s 3ms/step - loss: 531709888.0000 - root_mean_squared_error: 23058.8301 - val_loss: 930127168.0000 - val_root_mean_squared_error: 30497.9785\n",
            "Epoch 264/2000\n",
            "532/532 [==============================] - 2s 3ms/step - loss: 527558976.0000 - root_mean_squared_error: 22968.6445 - val_loss: 960859584.0000 - val_root_mean_squared_error: 30997.7246\n",
            "Epoch 265/2000\n",
            "532/532 [==============================] - 2s 3ms/step - loss: 532856672.0000 - root_mean_squared_error: 23083.6816 - val_loss: 952355200.0000 - val_root_mean_squared_error: 30860.2441\n",
            "Epoch 266/2000\n",
            "532/532 [==============================] - 2s 3ms/step - loss: 529902976.0000 - root_mean_squared_error: 23019.6113 - val_loss: 958727488.0000 - val_root_mean_squared_error: 30963.3164\n",
            "Epoch 267/2000\n",
            "532/532 [==============================] - 2s 3ms/step - loss: 531572192.0000 - root_mean_squared_error: 23055.8379 - val_loss: 946328512.0000 - val_root_mean_squared_error: 30762.4453\n",
            "Epoch 268/2000\n",
            "532/532 [==============================] - 2s 3ms/step - loss: 527690592.0000 - root_mean_squared_error: 22971.5078 - val_loss: 946650176.0000 - val_root_mean_squared_error: 30767.6738\n",
            "Epoch 269/2000\n",
            "532/532 [==============================] - 2s 3ms/step - loss: 528023808.0000 - root_mean_squared_error: 22978.7598 - val_loss: 967605696.0000 - val_root_mean_squared_error: 31106.3555\n",
            "Epoch 270/2000\n",
            "532/532 [==============================] - 2s 3ms/step - loss: 527783360.0000 - root_mean_squared_error: 22973.5293 - val_loss: 943730816.0000 - val_root_mean_squared_error: 30720.1934\n",
            "Epoch 271/2000\n",
            "532/532 [==============================] - 2s 3ms/step - loss: 531021408.0000 - root_mean_squared_error: 23043.8926 - val_loss: 937172416.0000 - val_root_mean_squared_error: 30613.2676\n",
            "Epoch 272/2000\n",
            "532/532 [==============================] - 2s 3ms/step - loss: 525960288.0000 - root_mean_squared_error: 22933.8125 - val_loss: 944877824.0000 - val_root_mean_squared_error: 30738.8594\n",
            "Epoch 273/2000\n",
            "532/532 [==============================] - 2s 3ms/step - loss: 528980544.0000 - root_mean_squared_error: 22999.5684 - val_loss: 953990784.0000 - val_root_mean_squared_error: 30886.7344\n",
            "Epoch 274/2000\n",
            "532/532 [==============================] - 2s 3ms/step - loss: 527303904.0000 - root_mean_squared_error: 22963.0898 - val_loss: 964764672.0000 - val_root_mean_squared_error: 31060.6523\n",
            "Epoch 275/2000\n",
            "532/532 [==============================] - 2s 3ms/step - loss: 528241792.0000 - root_mean_squared_error: 22983.5020 - val_loss: 954044416.0000 - val_root_mean_squared_error: 30887.6035\n",
            "Epoch 276/2000\n",
            "532/532 [==============================] - 1s 3ms/step - loss: 528042528.0000 - root_mean_squared_error: 22979.1680 - val_loss: 942901440.0000 - val_root_mean_squared_error: 30706.6934\n",
            "Epoch 277/2000\n",
            "532/532 [==============================] - 2s 3ms/step - loss: 526025280.0000 - root_mean_squared_error: 22935.2305 - val_loss: 972634560.0000 - val_root_mean_squared_error: 31187.0801\n",
            "Epoch 278/2000\n",
            "532/532 [==============================] - 2s 3ms/step - loss: 525982592.0000 - root_mean_squared_error: 22934.2949 - val_loss: 959229632.0000 - val_root_mean_squared_error: 30971.4258\n",
            "Epoch 279/2000\n",
            "532/532 [==============================] - 2s 3ms/step - loss: 523088480.0000 - root_mean_squared_error: 22871.1172 - val_loss: 944287296.0000 - val_root_mean_squared_error: 30729.2539\n",
            "Epoch 280/2000\n",
            "532/532 [==============================] - 2s 3ms/step - loss: 524828128.0000 - root_mean_squared_error: 22909.1230 - val_loss: 972338240.0000 - val_root_mean_squared_error: 31182.3301\n",
            "Epoch 281/2000\n",
            "532/532 [==============================] - 2s 3ms/step - loss: 524735200.0000 - root_mean_squared_error: 22907.0938 - val_loss: 937876800.0000 - val_root_mean_squared_error: 30624.7656\n",
            "Epoch 282/2000\n",
            "532/532 [==============================] - 2s 3ms/step - loss: 525913856.0000 - root_mean_squared_error: 22932.8027 - val_loss: 956319872.0000 - val_root_mean_squared_error: 30924.4121\n",
            "Epoch 283/2000\n",
            "532/532 [==============================] - 2s 3ms/step - loss: 525942720.0000 - root_mean_squared_error: 22933.4297 - val_loss: 987166848.0000 - val_root_mean_squared_error: 31419.2031\n",
            "Epoch 284/2000\n",
            "532/532 [==============================] - 2s 3ms/step - loss: 524401408.0000 - root_mean_squared_error: 22899.8047 - val_loss: 936535744.0000 - val_root_mean_squared_error: 30602.8613\n",
            "Epoch 285/2000\n",
            "532/532 [==============================] - 2s 3ms/step - loss: 524277600.0000 - root_mean_squared_error: 22897.1016 - val_loss: 929765632.0000 - val_root_mean_squared_error: 30492.0508\n",
            "Epoch 286/2000\n",
            "532/532 [==============================] - 2s 3ms/step - loss: 523565568.0000 - root_mean_squared_error: 22881.5449 - val_loss: 968122240.0000 - val_root_mean_squared_error: 31114.6562\n",
            "Epoch 287/2000\n",
            "532/532 [==============================] - 2s 3ms/step - loss: 522482688.0000 - root_mean_squared_error: 22857.8691 - val_loss: 939461440.0000 - val_root_mean_squared_error: 30650.6289\n",
            "Epoch 288/2000\n",
            "532/532 [==============================] - 2s 3ms/step - loss: 523006496.0000 - root_mean_squared_error: 22869.3223 - val_loss: 987765952.0000 - val_root_mean_squared_error: 31428.7344\n",
            "Epoch 289/2000\n",
            "532/532 [==============================] - 2s 3ms/step - loss: 522619616.0000 - root_mean_squared_error: 22860.8652 - val_loss: 940720704.0000 - val_root_mean_squared_error: 30671.1621\n",
            "Epoch 290/2000\n",
            "532/532 [==============================] - 2s 3ms/step - loss: 521667008.0000 - root_mean_squared_error: 22840.0215 - val_loss: 997720896.0000 - val_root_mean_squared_error: 31586.7109\n",
            "Epoch 291/2000\n",
            "532/532 [==============================] - 2s 3ms/step - loss: 523848544.0000 - root_mean_squared_error: 22887.7266 - val_loss: 941198912.0000 - val_root_mean_squared_error: 30678.9590\n",
            "Epoch 292/2000\n",
            "532/532 [==============================] - 2s 3ms/step - loss: 523179456.0000 - root_mean_squared_error: 22873.1035 - val_loss: 966794688.0000 - val_root_mean_squared_error: 31093.3145\n",
            "Epoch 293/2000\n",
            "532/532 [==============================] - 2s 3ms/step - loss: 519432992.0000 - root_mean_squared_error: 22791.0625 - val_loss: 952841280.0000 - val_root_mean_squared_error: 30868.1230\n",
            "Epoch 294/2000\n",
            "532/532 [==============================] - 2s 3ms/step - loss: 520583616.0000 - root_mean_squared_error: 22816.2930 - val_loss: 950097408.0000 - val_root_mean_squared_error: 30823.6426\n",
            "Epoch 295/2000\n",
            "532/532 [==============================] - 2s 3ms/step - loss: 521908192.0000 - root_mean_squared_error: 22845.3027 - val_loss: 976622656.0000 - val_root_mean_squared_error: 31250.9531\n",
            "Epoch 296/2000\n",
            "532/532 [==============================] - 2s 3ms/step - loss: 522153792.0000 - root_mean_squared_error: 22850.6738 - val_loss: 939345920.0000 - val_root_mean_squared_error: 30648.7441\n",
            "Epoch 297/2000\n",
            "532/532 [==============================] - 2s 3ms/step - loss: 519697600.0000 - root_mean_squared_error: 22796.8652 - val_loss: 978222464.0000 - val_root_mean_squared_error: 31276.5352\n",
            "Epoch 298/2000\n",
            "532/532 [==============================] - 2s 3ms/step - loss: 518911488.0000 - root_mean_squared_error: 22779.6191 - val_loss: 960258048.0000 - val_root_mean_squared_error: 30988.0215\n",
            "Epoch 299/2000\n",
            "532/532 [==============================] - 2s 3ms/step - loss: 518510976.0000 - root_mean_squared_error: 22770.8262 - val_loss: 966820096.0000 - val_root_mean_squared_error: 31093.7246\n",
            "Epoch 300/2000\n",
            "532/532 [==============================] - 2s 3ms/step - loss: 520877312.0000 - root_mean_squared_error: 22822.7266 - val_loss: 971804800.0000 - val_root_mean_squared_error: 31173.7773\n",
            "Epoch 301/2000\n",
            "532/532 [==============================] - ETA: 0s - loss: 519849056.0000 - root_mean_squared_error: 22800.1914\n",
            "Epoch: 300, loss:519849056.0000,  root_mean_squared_error:22800.1914,  val_loss:972340800.0000,  val_root_mean_squared_error:31182.3711,  \n",
            "532/532 [==============================] - 2s 3ms/step - loss: 519849056.0000 - root_mean_squared_error: 22800.1914 - val_loss: 972340800.0000 - val_root_mean_squared_error: 31182.3711\n",
            "Epoch 302/2000\n",
            "532/532 [==============================] - 2s 3ms/step - loss: 519920000.0000 - root_mean_squared_error: 22801.7422 - val_loss: 985577088.0000 - val_root_mean_squared_error: 31393.8926\n",
            "Epoch 303/2000\n",
            "532/532 [==============================] - 2s 3ms/step - loss: 521533152.0000 - root_mean_squared_error: 22837.0840 - val_loss: 987691648.0000 - val_root_mean_squared_error: 31427.5547\n",
            "Epoch 304/2000\n",
            "532/532 [==============================] - 2s 3ms/step - loss: 519165472.0000 - root_mean_squared_error: 22785.1914 - val_loss: 945926720.0000 - val_root_mean_squared_error: 30755.9141\n",
            "Epoch 305/2000\n",
            "532/532 [==============================] - 2s 3ms/step - loss: 518338656.0000 - root_mean_squared_error: 22767.0391 - val_loss: 980542144.0000 - val_root_mean_squared_error: 31313.5996\n",
            "Epoch 306/2000\n",
            "532/532 [==============================] - 2s 3ms/step - loss: 514636000.0000 - root_mean_squared_error: 22685.5820 - val_loss: 976938816.0000 - val_root_mean_squared_error: 31256.0117\n",
            "Epoch 307/2000\n",
            "532/532 [==============================] - 2s 3ms/step - loss: 519132224.0000 - root_mean_squared_error: 22784.4609 - val_loss: 963982720.0000 - val_root_mean_squared_error: 31048.0625\n",
            "Epoch 308/2000\n",
            "532/532 [==============================] - 1s 3ms/step - loss: 517792320.0000 - root_mean_squared_error: 22755.0391 - val_loss: 952767744.0000 - val_root_mean_squared_error: 30866.9297\n",
            "Epoch 309/2000\n",
            "532/532 [==============================] - 2s 3ms/step - loss: 515737536.0000 - root_mean_squared_error: 22709.8457 - val_loss: 964694080.0000 - val_root_mean_squared_error: 31059.5156\n",
            "Epoch 310/2000\n",
            "532/532 [==============================] - 2s 3ms/step - loss: 519246560.0000 - root_mean_squared_error: 22786.9727 - val_loss: 960152960.0000 - val_root_mean_squared_error: 30986.3242\n",
            "Epoch 311/2000\n",
            "532/532 [==============================] - 2s 3ms/step - loss: 515548192.0000 - root_mean_squared_error: 22705.6738 - val_loss: 975193472.0000 - val_root_mean_squared_error: 31228.0742\n",
            "Epoch 312/2000\n",
            "532/532 [==============================] - 2s 3ms/step - loss: 517676192.0000 - root_mean_squared_error: 22752.4922 - val_loss: 944728640.0000 - val_root_mean_squared_error: 30736.4316\n",
            "Epoch 313/2000\n",
            "532/532 [==============================] - 2s 3ms/step - loss: 514429888.0000 - root_mean_squared_error: 22681.0352 - val_loss: 965917440.0000 - val_root_mean_squared_error: 31079.2031\n",
            "Epoch 314/2000\n",
            "532/532 [==============================] - 2s 3ms/step - loss: 514111264.0000 - root_mean_squared_error: 22674.0137 - val_loss: 955305536.0000 - val_root_mean_squared_error: 30908.0078\n",
            "Epoch 315/2000\n",
            "532/532 [==============================] - 2s 3ms/step - loss: 516462688.0000 - root_mean_squared_error: 22725.8047 - val_loss: 948418432.0000 - val_root_mean_squared_error: 30796.3926\n",
            "Epoch 316/2000\n",
            "532/532 [==============================] - 2s 3ms/step - loss: 515078944.0000 - root_mean_squared_error: 22695.3340 - val_loss: 1003335488.0000 - val_root_mean_squared_error: 31675.4668\n",
            "Epoch 317/2000\n",
            "532/532 [==============================] - 2s 3ms/step - loss: 516211808.0000 - root_mean_squared_error: 22720.2812 - val_loss: 966126144.0000 - val_root_mean_squared_error: 31082.5586\n",
            "Epoch 318/2000\n",
            "532/532 [==============================] - 1s 3ms/step - loss: 517848608.0000 - root_mean_squared_error: 22756.2695 - val_loss: 976003008.0000 - val_root_mean_squared_error: 31241.0391\n",
            "Epoch 319/2000\n",
            "532/532 [==============================] - 2s 3ms/step - loss: 517547488.0000 - root_mean_squared_error: 22749.6602 - val_loss: 963836800.0000 - val_root_mean_squared_error: 31045.7109\n",
            "Epoch 320/2000\n",
            "532/532 [==============================] - 2s 3ms/step - loss: 513858688.0000 - root_mean_squared_error: 22668.4395 - val_loss: 979542144.0000 - val_root_mean_squared_error: 31297.6309\n",
            "Epoch 321/2000\n",
            "532/532 [==============================] - 2s 3ms/step - loss: 514734912.0000 - root_mean_squared_error: 22687.7578 - val_loss: 997126272.0000 - val_root_mean_squared_error: 31577.2988\n",
            "Epoch 322/2000\n",
            "532/532 [==============================] - 2s 3ms/step - loss: 513881632.0000 - root_mean_squared_error: 22668.9473 - val_loss: 956678400.0000 - val_root_mean_squared_error: 30930.2070\n",
            "Epoch 323/2000\n",
            "532/532 [==============================] - 1s 3ms/step - loss: 513281888.0000 - root_mean_squared_error: 22655.7148 - val_loss: 979087744.0000 - val_root_mean_squared_error: 31290.3672\n",
            "Epoch 324/2000\n",
            "532/532 [==============================] - 2s 3ms/step - loss: 513466688.0000 - root_mean_squared_error: 22659.7949 - val_loss: 960096896.0000 - val_root_mean_squared_error: 30985.4199\n",
            "Epoch 325/2000\n",
            "532/532 [==============================] - 2s 3ms/step - loss: 511154144.0000 - root_mean_squared_error: 22608.7090 - val_loss: 980358080.0000 - val_root_mean_squared_error: 31310.6621\n",
            "Epoch 326/2000\n",
            "532/532 [==============================] - 2s 3ms/step - loss: 511067520.0000 - root_mean_squared_error: 22606.7910 - val_loss: 939872320.0000 - val_root_mean_squared_error: 30657.3301\n",
            "Epoch 327/2000\n",
            "532/532 [==============================] - 2s 3ms/step - loss: 510266176.0000 - root_mean_squared_error: 22589.0605 - val_loss: 965406528.0000 - val_root_mean_squared_error: 31070.9805\n",
            "Epoch 328/2000\n",
            "532/532 [==============================] - 2s 3ms/step - loss: 512932416.0000 - root_mean_squared_error: 22647.9980 - val_loss: 961969728.0000 - val_root_mean_squared_error: 31015.6289\n",
            "Epoch 329/2000\n",
            "532/532 [==============================] - 2s 3ms/step - loss: 511984768.0000 - root_mean_squared_error: 22627.0684 - val_loss: 958415680.0000 - val_root_mean_squared_error: 30958.2832\n",
            "Epoch 330/2000\n",
            "532/532 [==============================] - 2s 3ms/step - loss: 509567072.0000 - root_mean_squared_error: 22573.5781 - val_loss: 967483136.0000 - val_root_mean_squared_error: 31104.3828\n",
            "Epoch 331/2000\n",
            "532/532 [==============================] - 3s 5ms/step - loss: 511068384.0000 - root_mean_squared_error: 22606.8125 - val_loss: 986523904.0000 - val_root_mean_squared_error: 31408.9668\n",
            "Epoch 332/2000\n",
            "532/532 [==============================] - 2s 3ms/step - loss: 512306144.0000 - root_mean_squared_error: 22634.1660 - val_loss: 955808000.0000 - val_root_mean_squared_error: 30916.1367\n",
            "Epoch 333/2000\n",
            "532/532 [==============================] - 2s 3ms/step - loss: 510498816.0000 - root_mean_squared_error: 22594.2109 - val_loss: 946163008.0000 - val_root_mean_squared_error: 30759.7578\n",
            "Epoch 334/2000\n",
            "532/532 [==============================] - 1s 3ms/step - loss: 510719232.0000 - root_mean_squared_error: 22599.0859 - val_loss: 983618944.0000 - val_root_mean_squared_error: 31362.6934\n",
            "Epoch 335/2000\n",
            "532/532 [==============================] - 1s 3ms/step - loss: 511939296.0000 - root_mean_squared_error: 22626.0684 - val_loss: 970299008.0000 - val_root_mean_squared_error: 31149.6152\n",
            "Epoch 336/2000\n",
            "532/532 [==============================] - 2s 3ms/step - loss: 514346720.0000 - root_mean_squared_error: 22679.2051 - val_loss: 974297728.0000 - val_root_mean_squared_error: 31213.7363\n",
            "Epoch 337/2000\n",
            "532/532 [==============================] - 2s 3ms/step - loss: 512381440.0000 - root_mean_squared_error: 22635.8301 - val_loss: 992096256.0000 - val_root_mean_squared_error: 31497.5508\n",
            "Epoch 338/2000\n",
            "532/532 [==============================] - 2s 3ms/step - loss: 510446592.0000 - root_mean_squared_error: 22593.0527 - val_loss: 984894528.0000 - val_root_mean_squared_error: 31383.0215\n",
            "Epoch 339/2000\n",
            "532/532 [==============================] - 2s 3ms/step - loss: 512260320.0000 - root_mean_squared_error: 22633.1582 - val_loss: 963719552.0000 - val_root_mean_squared_error: 31043.8262\n",
            "Epoch 340/2000\n",
            "532/532 [==============================] - 2s 3ms/step - loss: 511241888.0000 - root_mean_squared_error: 22610.6484 - val_loss: 949090112.0000 - val_root_mean_squared_error: 30807.2988\n",
            "Epoch 341/2000\n",
            "532/532 [==============================] - 2s 3ms/step - loss: 510069824.0000 - root_mean_squared_error: 22584.7168 - val_loss: 963348096.0000 - val_root_mean_squared_error: 31037.8438\n",
            "Epoch 342/2000\n",
            "532/532 [==============================] - 2s 3ms/step - loss: 511185952.0000 - root_mean_squared_error: 22609.4082 - val_loss: 977841024.0000 - val_root_mean_squared_error: 31270.4395\n",
            "Epoch 343/2000\n",
            "532/532 [==============================] - 2s 3ms/step - loss: 508140128.0000 - root_mean_squared_error: 22541.9512 - val_loss: 952567744.0000 - val_root_mean_squared_error: 30863.6855\n",
            "Epoch 344/2000\n",
            "532/532 [==============================] - 2s 3ms/step - loss: 509438560.0000 - root_mean_squared_error: 22570.7344 - val_loss: 979997184.0000 - val_root_mean_squared_error: 31304.8984\n",
            "Epoch 345/2000\n",
            "532/532 [==============================] - 2s 3ms/step - loss: 507578400.0000 - root_mean_squared_error: 22529.4922 - val_loss: 979008064.0000 - val_root_mean_squared_error: 31289.0938\n",
            "Epoch 346/2000\n",
            "532/532 [==============================] - 2s 3ms/step - loss: 507216320.0000 - root_mean_squared_error: 22521.4512 - val_loss: 984775040.0000 - val_root_mean_squared_error: 31381.1133\n",
            "Epoch 347/2000\n",
            "532/532 [==============================] - 1s 3ms/step - loss: 510377984.0000 - root_mean_squared_error: 22591.5312 - val_loss: 960377344.0000 - val_root_mean_squared_error: 30989.9453\n",
            "Epoch 348/2000\n",
            "532/532 [==============================] - 2s 3ms/step - loss: 509040064.0000 - root_mean_squared_error: 22561.9062 - val_loss: 984687296.0000 - val_root_mean_squared_error: 31379.7168\n",
            "Epoch 349/2000\n",
            "532/532 [==============================] - 2s 3ms/step - loss: 504713152.0000 - root_mean_squared_error: 22465.8066 - val_loss: 979353600.0000 - val_root_mean_squared_error: 31294.6172\n",
            "Epoch 350/2000\n",
            "532/532 [==============================] - 2s 3ms/step - loss: 507112608.0000 - root_mean_squared_error: 22519.1465 - val_loss: 956872064.0000 - val_root_mean_squared_error: 30933.3398\n",
            "Epoch 351/2000\n",
            "532/532 [==============================] - 2s 3ms/step - loss: 508017920.0000 - root_mean_squared_error: 22539.2402 - val_loss: 990617792.0000 - val_root_mean_squared_error: 31474.0723\n",
            "Epoch 352/2000\n",
            "532/532 [==============================] - 2s 3ms/step - loss: 509274464.0000 - root_mean_squared_error: 22567.1035 - val_loss: 964637120.0000 - val_root_mean_squared_error: 31058.5996\n",
            "Epoch 353/2000\n",
            "532/532 [==============================] - 2s 3ms/step - loss: 504989952.0000 - root_mean_squared_error: 22471.9668 - val_loss: 983858240.0000 - val_root_mean_squared_error: 31366.5078\n",
            "Epoch 354/2000\n",
            "532/532 [==============================] - 2s 3ms/step - loss: 512238080.0000 - root_mean_squared_error: 22632.6641 - val_loss: 967998016.0000 - val_root_mean_squared_error: 31112.6562\n",
            "Epoch 355/2000\n",
            "532/532 [==============================] - 2s 3ms/step - loss: 509826496.0000 - root_mean_squared_error: 22579.3281 - val_loss: 972587776.0000 - val_root_mean_squared_error: 31186.3262\n",
            "Epoch 356/2000\n",
            "532/532 [==============================] - 2s 3ms/step - loss: 505038592.0000 - root_mean_squared_error: 22473.0488 - val_loss: 968154432.0000 - val_root_mean_squared_error: 31115.1660\n",
            "Epoch 357/2000\n",
            "532/532 [==============================] - 2s 3ms/step - loss: 506669568.0000 - root_mean_squared_error: 22509.3105 - val_loss: 967553920.0000 - val_root_mean_squared_error: 31105.5215\n",
            "Epoch 358/2000\n",
            "532/532 [==============================] - 2s 3ms/step - loss: 507664832.0000 - root_mean_squared_error: 22531.4043 - val_loss: 991645312.0000 - val_root_mean_squared_error: 31490.3867\n",
            "Epoch 359/2000\n",
            "532/532 [==============================] - 2s 3ms/step - loss: 505515232.0000 - root_mean_squared_error: 22483.6543 - val_loss: 965979968.0000 - val_root_mean_squared_error: 31080.2070\n",
            "Epoch 360/2000\n",
            "532/532 [==============================] - 2s 3ms/step - loss: 506873312.0000 - root_mean_squared_error: 22513.8340 - val_loss: 968668992.0000 - val_root_mean_squared_error: 31123.4434\n",
            "Epoch 361/2000\n",
            "532/532 [==============================] - 2s 3ms/step - loss: 505650464.0000 - root_mean_squared_error: 22486.6602 - val_loss: 975429696.0000 - val_root_mean_squared_error: 31231.8633\n",
            "Epoch 362/2000\n",
            "532/532 [==============================] - 2s 3ms/step - loss: 506031424.0000 - root_mean_squared_error: 22495.1309 - val_loss: 1021047104.0000 - val_root_mean_squared_error: 31953.8223\n",
            "Epoch 363/2000\n",
            "532/532 [==============================] - 2s 3ms/step - loss: 506708768.0000 - root_mean_squared_error: 22510.1777 - val_loss: 967499520.0000 - val_root_mean_squared_error: 31104.6406\n",
            "Epoch 364/2000\n",
            "532/532 [==============================] - 2s 3ms/step - loss: 506571936.0000 - root_mean_squared_error: 22507.1387 - val_loss: 993575296.0000 - val_root_mean_squared_error: 31521.0195\n",
            "Epoch 365/2000\n",
            "532/532 [==============================] - 2s 3ms/step - loss: 503574272.0000 - root_mean_squared_error: 22440.4492 - val_loss: 1022289984.0000 - val_root_mean_squared_error: 31973.2598\n",
            "Epoch 366/2000\n",
            "532/532 [==============================] - 2s 3ms/step - loss: 503426816.0000 - root_mean_squared_error: 22437.1602 - val_loss: 965140416.0000 - val_root_mean_squared_error: 31066.6992\n",
            "Epoch 367/2000\n",
            "532/532 [==============================] - 2s 3ms/step - loss: 502573536.0000 - root_mean_squared_error: 22418.1348 - val_loss: 1014238336.0000 - val_root_mean_squared_error: 31847.0996\n",
            "Epoch 368/2000\n",
            "532/532 [==============================] - 2s 3ms/step - loss: 507808832.0000 - root_mean_squared_error: 22534.6016 - val_loss: 974969152.0000 - val_root_mean_squared_error: 31224.4863\n",
            "Epoch 369/2000\n",
            "532/532 [==============================] - 2s 3ms/step - loss: 503246592.0000 - root_mean_squared_error: 22433.1465 - val_loss: 956792320.0000 - val_root_mean_squared_error: 30932.0449\n",
            "Epoch 370/2000\n",
            "532/532 [==============================] - 2s 3ms/step - loss: 504325120.0000 - root_mean_squared_error: 22457.1660 - val_loss: 982419136.0000 - val_root_mean_squared_error: 31343.5566\n",
            "Epoch 371/2000\n",
            "532/532 [==============================] - 2s 3ms/step - loss: 501624608.0000 - root_mean_squared_error: 22396.9668 - val_loss: 1005981184.0000 - val_root_mean_squared_error: 31717.1973\n",
            "Epoch 372/2000\n",
            "532/532 [==============================] - 2s 3ms/step - loss: 504606688.0000 - root_mean_squared_error: 22463.4375 - val_loss: 967950144.0000 - val_root_mean_squared_error: 31111.8867\n",
            "Epoch 373/2000\n",
            "532/532 [==============================] - 2s 3ms/step - loss: 503542816.0000 - root_mean_squared_error: 22439.7520 - val_loss: 980302080.0000 - val_root_mean_squared_error: 31309.7715\n",
            "Epoch 374/2000\n",
            "532/532 [==============================] - 2s 3ms/step - loss: 501218496.0000 - root_mean_squared_error: 22387.8965 - val_loss: 983194048.0000 - val_root_mean_squared_error: 31355.9141\n",
            "Epoch 375/2000\n",
            "532/532 [==============================] - 2s 3ms/step - loss: 501834720.0000 - root_mean_squared_error: 22401.6582 - val_loss: 990929920.0000 - val_root_mean_squared_error: 31479.0293\n",
            "Epoch 376/2000\n",
            "532/532 [==============================] - 2s 3ms/step - loss: 501655872.0000 - root_mean_squared_error: 22397.6582 - val_loss: 993427712.0000 - val_root_mean_squared_error: 31518.6777\n",
            "Epoch 377/2000\n",
            "532/532 [==============================] - 2s 3ms/step - loss: 502979776.0000 - root_mean_squared_error: 22427.1973 - val_loss: 972797504.0000 - val_root_mean_squared_error: 31189.6934\n",
            "Epoch 378/2000\n",
            "532/532 [==============================] - 2s 3ms/step - loss: 501008448.0000 - root_mean_squared_error: 22383.2051 - val_loss: 990345984.0000 - val_root_mean_squared_error: 31469.7520\n",
            "Epoch 379/2000\n",
            "532/532 [==============================] - 2s 3ms/step - loss: 502876928.0000 - root_mean_squared_error: 22424.9043 - val_loss: 981420416.0000 - val_root_mean_squared_error: 31327.6211\n",
            "Epoch 380/2000\n",
            "532/532 [==============================] - 2s 3ms/step - loss: 502171552.0000 - root_mean_squared_error: 22409.1738 - val_loss: 1013272192.0000 - val_root_mean_squared_error: 31831.9238\n",
            "Epoch 381/2000\n",
            "532/532 [==============================] - 2s 3ms/step - loss: 502504192.0000 - root_mean_squared_error: 22416.5879 - val_loss: 978480192.0000 - val_root_mean_squared_error: 31280.6562\n",
            "Epoch 382/2000\n",
            "532/532 [==============================] - 2s 3ms/step - loss: 500583776.0000 - root_mean_squared_error: 22373.7129 - val_loss: 991707136.0000 - val_root_mean_squared_error: 31491.3730\n",
            "Epoch 383/2000\n",
            "532/532 [==============================] - 2s 3ms/step - loss: 498031200.0000 - root_mean_squared_error: 22316.5957 - val_loss: 991088448.0000 - val_root_mean_squared_error: 31481.5469\n",
            "Epoch 384/2000\n",
            "532/532 [==============================] - 2s 3ms/step - loss: 502638592.0000 - root_mean_squared_error: 22419.5859 - val_loss: 967523392.0000 - val_root_mean_squared_error: 31105.0293\n",
            "Epoch 385/2000\n",
            "532/532 [==============================] - 2s 3ms/step - loss: 501500256.0000 - root_mean_squared_error: 22394.1836 - val_loss: 1011866240.0000 - val_root_mean_squared_error: 31809.8340\n",
            "Epoch 386/2000\n",
            "532/532 [==============================] - 2s 3ms/step - loss: 497757152.0000 - root_mean_squared_error: 22310.4629 - val_loss: 976077312.0000 - val_root_mean_squared_error: 31242.2266\n",
            "Epoch 387/2000\n",
            "532/532 [==============================] - 2s 3ms/step - loss: 500494624.0000 - root_mean_squared_error: 22371.7246 - val_loss: 975125632.0000 - val_root_mean_squared_error: 31226.9922\n",
            "Epoch 388/2000\n",
            "532/532 [==============================] - 2s 3ms/step - loss: 499232704.0000 - root_mean_squared_error: 22343.5039 - val_loss: 984494400.0000 - val_root_mean_squared_error: 31376.6406\n",
            "Epoch 389/2000\n",
            "532/532 [==============================] - 2s 3ms/step - loss: 500954272.0000 - root_mean_squared_error: 22381.9941 - val_loss: 973744960.0000 - val_root_mean_squared_error: 31204.8730\n",
            "Epoch 390/2000\n",
            "532/532 [==============================] - 2s 3ms/step - loss: 501683904.0000 - root_mean_squared_error: 22398.2871 - val_loss: 970805632.0000 - val_root_mean_squared_error: 31157.7461\n",
            "Epoch 391/2000\n",
            "532/532 [==============================] - 2s 3ms/step - loss: 495999648.0000 - root_mean_squared_error: 22271.0410 - val_loss: 1000327808.0000 - val_root_mean_squared_error: 31627.9512\n",
            "Epoch 392/2000\n",
            "532/532 [==============================] - 2s 3ms/step - loss: 501010304.0000 - root_mean_squared_error: 22383.2441 - val_loss: 969268544.0000 - val_root_mean_squared_error: 31133.0684\n",
            "Epoch 393/2000\n",
            "532/532 [==============================] - 2s 3ms/step - loss: 497638464.0000 - root_mean_squared_error: 22307.7969 - val_loss: 1007056960.0000 - val_root_mean_squared_error: 31734.1543\n",
            "Epoch 394/2000\n",
            "532/532 [==============================] - 2s 3ms/step - loss: 500004032.0000 - root_mean_squared_error: 22360.7539 - val_loss: 1006107776.0000 - val_root_mean_squared_error: 31719.1914\n",
            "Epoch 395/2000\n",
            "532/532 [==============================] - 2s 3ms/step - loss: 498485632.0000 - root_mean_squared_error: 22326.7773 - val_loss: 972353856.0000 - val_root_mean_squared_error: 31182.5820\n",
            "Epoch 396/2000\n",
            "532/532 [==============================] - 2s 3ms/step - loss: 498524512.0000 - root_mean_squared_error: 22327.6523 - val_loss: 972753664.0000 - val_root_mean_squared_error: 31188.9883\n",
            "Epoch 397/2000\n",
            "532/532 [==============================] - 2s 3ms/step - loss: 498290816.0000 - root_mean_squared_error: 22322.4160 - val_loss: 963200064.0000 - val_root_mean_squared_error: 31035.4590\n",
            "Epoch 398/2000\n",
            "532/532 [==============================] - 2s 3ms/step - loss: 500921952.0000 - root_mean_squared_error: 22381.2734 - val_loss: 1028607872.0000 - val_root_mean_squared_error: 32071.9062\n",
            "Epoch 399/2000\n",
            "532/532 [==============================] - 2s 3ms/step - loss: 500096800.0000 - root_mean_squared_error: 22362.8340 - val_loss: 991154304.0000 - val_root_mean_squared_error: 31482.5938\n",
            "Epoch 400/2000\n",
            "532/532 [==============================] - 2s 3ms/step - loss: 500923552.0000 - root_mean_squared_error: 22381.3105 - val_loss: 992359168.0000 - val_root_mean_squared_error: 31501.7188\n",
            "Epoch 401/2000\n",
            "532/532 [==============================] - ETA: 0s - loss: 497574112.0000 - root_mean_squared_error: 22306.3535\n",
            "Epoch: 400, loss:497574112.0000,  root_mean_squared_error:22306.3535,  val_loss:979678720.0000,  val_root_mean_squared_error:31299.8105,  \n",
            "532/532 [==============================] - 2s 3ms/step - loss: 497574112.0000 - root_mean_squared_error: 22306.3535 - val_loss: 979678720.0000 - val_root_mean_squared_error: 31299.8105\n",
            "Epoch 402/2000\n",
            "532/532 [==============================] - 2s 3ms/step - loss: 498599648.0000 - root_mean_squared_error: 22329.3301 - val_loss: 989937024.0000 - val_root_mean_squared_error: 31463.2539\n",
            "Epoch 403/2000\n",
            "532/532 [==============================] - 1s 3ms/step - loss: 497346208.0000 - root_mean_squared_error: 22301.2461 - val_loss: 1001934912.0000 - val_root_mean_squared_error: 31653.3477\n",
            "Epoch 404/2000\n",
            "532/532 [==============================] - 2s 3ms/step - loss: 495964896.0000 - root_mean_squared_error: 22270.2500 - val_loss: 986402816.0000 - val_root_mean_squared_error: 31407.0371\n",
            "Epoch 405/2000\n",
            "532/532 [==============================] - 2s 3ms/step - loss: 497845952.0000 - root_mean_squared_error: 22312.4492 - val_loss: 967938816.0000 - val_root_mean_squared_error: 31111.7051\n",
            "Epoch 406/2000\n",
            "532/532 [==============================] - 2s 3ms/step - loss: 497893568.0000 - root_mean_squared_error: 22313.5137 - val_loss: 992374976.0000 - val_root_mean_squared_error: 31501.9746\n",
            "Epoch 407/2000\n",
            "532/532 [==============================] - 2s 3ms/step - loss: 498668256.0000 - root_mean_squared_error: 22330.8672 - val_loss: 1022483648.0000 - val_root_mean_squared_error: 31976.2871\n",
            "Epoch 408/2000\n",
            "532/532 [==============================] - 2s 3ms/step - loss: 497110144.0000 - root_mean_squared_error: 22295.9570 - val_loss: 1020606528.0000 - val_root_mean_squared_error: 31946.9258\n",
            "Epoch 409/2000\n",
            "532/532 [==============================] - 2s 3ms/step - loss: 497961824.0000 - root_mean_squared_error: 22315.0410 - val_loss: 974511360.0000 - val_root_mean_squared_error: 31217.1543\n",
            "Epoch 410/2000\n",
            "532/532 [==============================] - 2s 3ms/step - loss: 496113792.0000 - root_mean_squared_error: 22273.5957 - val_loss: 967316160.0000 - val_root_mean_squared_error: 31101.6934\n",
            "Epoch 411/2000\n",
            "532/532 [==============================] - 2s 3ms/step - loss: 494905600.0000 - root_mean_squared_error: 22246.4570 - val_loss: 971124992.0000 - val_root_mean_squared_error: 31162.8672\n",
            "Epoch 412/2000\n",
            "532/532 [==============================] - 1s 3ms/step - loss: 499149696.0000 - root_mean_squared_error: 22341.6465 - val_loss: 997757760.0000 - val_root_mean_squared_error: 31587.2930\n",
            "Epoch 413/2000\n",
            "532/532 [==============================] - 2s 3ms/step - loss: 494330336.0000 - root_mean_squared_error: 22233.5215 - val_loss: 979786368.0000 - val_root_mean_squared_error: 31301.5273\n",
            "Epoch 414/2000\n",
            "532/532 [==============================] - 2s 3ms/step - loss: 500662528.0000 - root_mean_squared_error: 22375.4785 - val_loss: 978940672.0000 - val_root_mean_squared_error: 31288.0156\n",
            "Epoch 415/2000\n",
            "532/532 [==============================] - 2s 3ms/step - loss: 494696192.0000 - root_mean_squared_error: 22241.7520 - val_loss: 997232384.0000 - val_root_mean_squared_error: 31578.9785\n",
            "Epoch 416/2000\n",
            "532/532 [==============================] - 2s 3ms/step - loss: 492872352.0000 - root_mean_squared_error: 22200.7129 - val_loss: 988102016.0000 - val_root_mean_squared_error: 31434.0762\n",
            "Epoch 417/2000\n",
            "532/532 [==============================] - 2s 3ms/step - loss: 496151296.0000 - root_mean_squared_error: 22274.4375 - val_loss: 988720192.0000 - val_root_mean_squared_error: 31443.9102\n",
            "Epoch 418/2000\n",
            "532/532 [==============================] - 2s 3ms/step - loss: 492344512.0000 - root_mean_squared_error: 22188.8242 - val_loss: 1007160448.0000 - val_root_mean_squared_error: 31735.7793\n",
            "Epoch 419/2000\n",
            "532/532 [==============================] - 2s 3ms/step - loss: 495287584.0000 - root_mean_squared_error: 22255.0430 - val_loss: 994813248.0000 - val_root_mean_squared_error: 31540.6465\n",
            "Epoch 420/2000\n",
            "532/532 [==============================] - 2s 3ms/step - loss: 495758400.0000 - root_mean_squared_error: 22265.6172 - val_loss: 992358272.0000 - val_root_mean_squared_error: 31501.7031\n",
            "Epoch 421/2000\n",
            "532/532 [==============================] - 2s 3ms/step - loss: 495990080.0000 - root_mean_squared_error: 22270.8223 - val_loss: 1005978304.0000 - val_root_mean_squared_error: 31717.1484\n",
            "Epoch 422/2000\n",
            "532/532 [==============================] - 2s 3ms/step - loss: 492238080.0000 - root_mean_squared_error: 22186.4258 - val_loss: 972265216.0000 - val_root_mean_squared_error: 31181.1582\n",
            "Epoch 423/2000\n",
            "532/532 [==============================] - 2s 3ms/step - loss: 495601312.0000 - root_mean_squared_error: 22262.0898 - val_loss: 994788928.0000 - val_root_mean_squared_error: 31540.2656\n",
            "Epoch 424/2000\n",
            "532/532 [==============================] - 2s 3ms/step - loss: 494548096.0000 - root_mean_squared_error: 22238.4219 - val_loss: 986186240.0000 - val_root_mean_squared_error: 31403.5898\n",
            "Epoch 425/2000\n",
            "532/532 [==============================] - 2s 3ms/step - loss: 490237344.0000 - root_mean_squared_error: 22141.2891 - val_loss: 992577088.0000 - val_root_mean_squared_error: 31505.1816\n",
            "Epoch 426/2000\n",
            "532/532 [==============================] - 2s 3ms/step - loss: 495317888.0000 - root_mean_squared_error: 22255.7266 - val_loss: 994430336.0000 - val_root_mean_squared_error: 31534.5801\n",
            "Epoch 427/2000\n",
            "532/532 [==============================] - 2s 5ms/step - loss: 493062816.0000 - root_mean_squared_error: 22205.0000 - val_loss: 989574528.0000 - val_root_mean_squared_error: 31457.4902\n",
            "Epoch 428/2000\n",
            "532/532 [==============================] - 2s 3ms/step - loss: 494635840.0000 - root_mean_squared_error: 22240.3945 - val_loss: 982844928.0000 - val_root_mean_squared_error: 31350.3457\n"
          ],
          "name": "stdout"
        }
      ]
    },
    {
      "cell_type": "markdown",
      "metadata": {
        "id": "ARzUv9hv1jo_",
        "colab_type": "text"
      },
      "source": [
        "# Graficar métricas entrenamiento"
      ]
    },
    {
      "cell_type": "code",
      "metadata": {
        "trusted": true,
        "id": "-CIs-U4N1jo_",
        "colab_type": "code",
        "colab": {
          "base_uri": "https://localhost:8080/",
          "height": 281
        },
        "outputId": "90076e10-4d23-4471-b5d7-8848c7d49fc0"
      },
      "source": [
        "train_rmse = history.history['root_mean_squared_error']\n",
        "\n",
        "val_rmse = history.history['val_root_mean_squared_error']\n",
        "\n",
        "\n",
        "plt.plot(np.linspace(0, len(train_rmse),  len(train_rmse)), train_rmse,\n",
        "             color='red', label='Train')\n",
        "\n",
        "plt.plot(np.linspace(0, len(val_rmse), len(val_rmse)), val_rmse,\n",
        "         color='blue', label='Val')\n",
        "\n",
        "plt.title('RMSE')\n",
        "plt.legend()\n",
        "plt.grid(True)\n",
        "plt.show()"
      ],
      "execution_count": 102,
      "outputs": [
        {
          "output_type": "display_data",
          "data": {
            "image/png": "[encoded data removed]",
            "text/plain": [
              "<Figure size 432x288 with 1 Axes>"
            ]
          },
          "metadata": {
            "tags": [],
            "needs_background": "light"
          }
        }
      ]
    },
    {
      "cell_type": "code",
      "metadata": {
        "trusted": true,
        "id": "vZ3ouMz_1jpC",
        "colab_type": "code",
        "colab": {
          "base_uri": "https://localhost:8080/",
          "height": 281
        },
        "outputId": "3abbc859-ecff-4c61-b7d0-87f4ec5a588a"
      },
      "source": [
        "train_loss = history.history['loss']\n",
        "val_loss = history.history['val_loss']\n",
        "\n",
        "plt.plot(np.linspace(0, len(train_loss),  len(train_loss)), train_loss, 'r:',\n",
        "             color='red', label='Train loss')\n",
        "plt.plot(np.linspace(0, len(val_loss),  len(val_loss)), val_loss, 'b:',\n",
        "             color='blue', label='Val loss')\n",
        "\n",
        "plt.title('Loss')\n",
        "plt.legend()\n",
        "plt.grid(True)\n",
        "plt.show()"
      ],
      "execution_count": 103,
      "outputs": [
        {
          "output_type": "display_data",
          "data": {
            "image/png": "[encoded data removed]",
            "text/plain": [
              "<Figure size 432x288 with 1 Axes>"
            ]
          },
          "metadata": {
            "tags": [],
            "needs_background": "light"
          }
        }
      ]
    },
    {
      "cell_type": "code",
      "metadata": {
        "trusted": true,
        "id": "maZ_FA7f1jpE",
        "colab_type": "code",
        "colab": {
          "base_uri": "https://localhost:8080/",
          "height": 333
        },
        "outputId": "b57bedd4-42eb-4b4f-f182-9b4b6b1991c5"
      },
      "source": [
        "X_test = pipe.fit_transform(X_test).toarray()\n",
        "y_test = y_test.values\n",
        "plt.hist(y_test)"
      ],
      "execution_count": 105,
      "outputs": [
        {
          "output_type": "execute_result",
          "data": {
            "text/plain": [
              "(array([174., 894., 857., 323., 140.,  35.,  12.,   5.,   2.,   2.]),\n",
              " array([ 35700. ,  78649.2, 121598.4, 164547.6, 207496.8, 250446. ,\n",
              "        293395.2, 336344.4, 379293.6, 422242.8, 465192. ]),\n",
              " <a list of 10 Patch objects>)"
            ]
          },
          "metadata": {
            "tags": []
          },
          "execution_count": 105
        },
        {
          "output_type": "display_data",
          "data": {
            "image/png": "[encoded data removed]",
            "text/plain": [
              "<Figure size 432x288 with 1 Axes>"
            ]
          },
          "metadata": {
            "tags": [],
            "needs_background": "light"
          }
        }
      ]
    },
    {
      "cell_type": "code",
      "metadata": {
        "tags": [],
        "trusted": true,
        "id": "i1sX-gEt1jpI",
        "colab_type": "code",
        "colab": {
          "base_uri": "https://localhost:8080/",
          "height": 51
        },
        "outputId": "5c9956ee-c84b-4c71-e346-7680df7195e7"
      },
      "source": [
        "loss, rmse = model.evaluate(X_test, y_test, verbose=2)\n",
        "print(\"Testing set RMSE: {:5.2f}\".format(rmse))"
      ],
      "execution_count": 106,
      "outputs": [
        {
          "output_type": "stream",
          "text": [
            "77/77 - 1s - loss: 883928832.0000 - root_mean_squared_error: 29730.9258\n",
            "Testing set RMSE: 29730.93\n"
          ],
          "name": "stdout"
        }
      ]
    },
    {
      "cell_type": "code",
      "metadata": {
        "trusted": true,
        "id": "shnftAPZ1jpK",
        "colab_type": "code",
        "colab": {
          "base_uri": "https://localhost:8080/",
          "height": 51
        },
        "outputId": "422002a9-327a-4e12-8221-3ec3ef2493fa"
      },
      "source": [
        "y_pred = model.predict(X_test).flatten()\n",
        "y_pred"
      ],
      "execution_count": 107,
      "outputs": [
        {
          "output_type": "execute_result",
          "data": {
            "text/plain": [
              "array([100503.23 , 167506.16 , 143263.08 , ..., 118271.43 , 105087.06 ,\n",
              "       128475.586], dtype=float32)"
            ]
          },
          "metadata": {
            "tags": []
          },
          "execution_count": 107
        }
      ]
    },
    {
      "cell_type": "code",
      "metadata": {
        "trusted": true,
        "id": "11spX0091jpN",
        "colab_type": "code",
        "colab": {
          "base_uri": "https://localhost:8080/",
          "height": 606
        },
        "outputId": "b6153418-25f8-4eb4-9028-f2fb37f15d06"
      },
      "source": [
        "plot_test_predictions(y_test, y_pred)"
      ],
      "execution_count": 108,
      "outputs": [
        {
          "output_type": "display_data",
          "data": {
            "image/png": "[encoded data removed]",
            "text/plain": [
              "<Figure size 1296x720 with 1 Axes>"
            ]
          },
          "metadata": {
            "tags": [],
            "needs_background": "light"
          }
        }
      ]
    },
    {
      "cell_type": "markdown",
      "metadata": {
        "id": "LDS6uRnn1jpP",
        "colab_type": "text"
      },
      "source": [
        "# Preprocesamiento set de test"
      ]
    },
    {
      "cell_type": "code",
      "metadata": {
        "id": "dvqysss0j8fW",
        "trusted": true,
        "colab_type": "code",
        "colab": {}
      },
      "source": [
        "df_test = read_rds(urljoin(BASE_URL_DATA,'data_test_def.rds'))\n",
        "df_test.head()"
      ],
      "execution_count": null,
      "outputs": []
    },
    {
      "cell_type": "code",
      "metadata": {
        "trusted": true,
        "tags": [],
        "id": "gTTaDJTN1jpS",
        "colab_type": "code",
        "colab": {}
      },
      "source": [
        "df_test.info()"
      ],
      "execution_count": null,
      "outputs": []
    },
    {
      "cell_type": "code",
      "metadata": {
        "id": "xPER5ompNBVX",
        "trusted": true,
        "colab_type": "code",
        "colab": {}
      },
      "source": [
        "ids, df_test = preprocessing(df_test, process_outliers=False)"
      ],
      "execution_count": null,
      "outputs": []
    },
    {
      "cell_type": "code",
      "metadata": {
        "trusted": true,
        "id": "nRxmwxR-1jpX",
        "colab_type": "code",
        "colab": {}
      },
      "source": [
        "df_test.head()"
      ],
      "execution_count": null,
      "outputs": []
    },
    {
      "cell_type": "code",
      "metadata": {
        "trusted": true,
        "id": "AwJtPg_M1jpY",
        "colab_type": "code",
        "colab": {}
      },
      "source": [
        "df_test.drop(['precio'], axis=1, inplace=True)\n",
        "df_test.head()"
      ],
      "execution_count": null,
      "outputs": []
    },
    {
      "cell_type": "markdown",
      "metadata": {
        "id": "GilVskTK1jpa",
        "colab_type": "text"
      },
      "source": [
        "# Predicción con red neuronal"
      ]
    },
    {
      "cell_type": "code",
      "metadata": {
        "id": "P7YGp2jhj8fi",
        "trusted": true,
        "colab_type": "code",
        "colab": {}
      },
      "source": [
        "X = pipe.transform(df_test)\n",
        "X.shape"
      ],
      "execution_count": null,
      "outputs": []
    },
    {
      "cell_type": "code",
      "metadata": {
        "trusted": true,
        "id": "urMrOhAa1jpe",
        "colab_type": "code",
        "colab": {}
      },
      "source": [
        "y_pred = model.predict(X).flatten()\n",
        "data = pd.DataFrame(data={'id' : ids.values, 'precio': np.round(y_pred).astype(int) })\n",
        "data"
      ],
      "execution_count": null,
      "outputs": []
    },
    {
      "cell_type": "code",
      "metadata": {
        "trusted": true,
        "id": "S4EAl5Nw1jpg",
        "colab_type": "code",
        "colab": {}
      },
      "source": [
        "data.to_csv('propiedades_prediccion.csv', index=False)"
      ],
      "execution_count": null,
      "outputs": []
    },
    {
      "cell_type": "code",
      "metadata": {
        "trusted": true,
        "id": "IcRWSq-01jpk",
        "colab_type": "code",
        "colab": {}
      },
      "source": [
        ""
      ],
      "execution_count": null,
      "outputs": []
    }
  ]
}